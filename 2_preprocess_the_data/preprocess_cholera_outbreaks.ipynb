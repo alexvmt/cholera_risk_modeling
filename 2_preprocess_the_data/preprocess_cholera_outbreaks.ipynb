{
 "cells": [
  {
   "cell_type": "markdown",
   "metadata": {},
   "source": [
    "# Preprocess cholera outbreaks"
   ]
  },
  {
   "cell_type": "markdown",
   "metadata": {},
   "source": [
    "This notebook cleans and transforms the previously extracted and cleaned cholera outbreaks data from the [Integrated Disease Surveillance Programme of India](https://idsp.nic.in/) (IDSP) and saves the preprocessed cholera outbreaks in shapefile format.\n",
    "\n",
    "Prior to running this notebook, execute\n",
    "- `1_download_the_data/download_outbreaks.py` to download the outbreaks PDF files\n",
    "- and `2_preprocess_the_data/extract_and_clean_cholera_outbreaks.py` to extract and clean cholera outbreaks from the downloaded outbreaks PDF files.\n",
    "\n",
    "Properly extracting data from PDF files is tricky. In the present case it works for 91%. The remaining 9% need to be cleaned manually. Districts and start dates also need some more cleaning."
   ]
  },
  {
   "cell_type": "markdown",
   "metadata": {},
   "source": [
    "## Setup"
   ]
  },
  {
   "cell_type": "code",
   "execution_count": 1,
   "metadata": {},
   "outputs": [],
   "source": [
    "# import packages\n",
    "import numpy as np\n",
    "import pandas as pd\n",
    "import re\n",
    "import geopandas as gpd\n",
    "import requests\n",
    "import zipfile\n",
    "import io"
   ]
  },
  {
   "cell_type": "code",
   "execution_count": 2,
   "metadata": {},
   "outputs": [],
   "source": [
    "pd.set_option('display.max_rows', None)"
   ]
  },
  {
   "cell_type": "markdown",
   "metadata": {},
   "source": [
    "## Load and inspect cholera outbreaks"
   ]
  },
  {
   "cell_type": "code",
   "execution_count": 3,
   "metadata": {},
   "outputs": [
    {
     "data": {
      "text/plain": [
       "(597, 6)"
      ]
     },
     "execution_count": 3,
     "metadata": {},
     "output_type": "execute_result"
    }
   ],
   "source": [
    "cholera_outbreaks = pd.read_csv('../../data/outbreaks/cholera_outbreaks.csv')\n",
    "cholera_outbreaks.shape"
   ]
  },
  {
   "cell_type": "code",
   "execution_count": 4,
   "metadata": {},
   "outputs": [
    {
     "name": "stdout",
     "output_type": "stream",
     "text": [
      "<class 'pandas.core.frame.DataFrame'>\n",
      "RangeIndex: 597 entries, 0 to 596\n",
      "Data columns (total 6 columns):\n",
      " #   Column      Non-Null Count  Dtype \n",
      "---  ------      --------------  ----- \n",
      " 0   file_name   597 non-null    object\n",
      " 1   district    597 non-null    object\n",
      " 2   disease     597 non-null    object\n",
      " 3   cases       596 non-null    object\n",
      " 4   deaths      595 non-null    object\n",
      " 5   start_date  577 non-null    object\n",
      "dtypes: object(6)\n",
      "memory usage: 28.1+ KB\n"
     ]
    }
   ],
   "source": [
    "cholera_outbreaks.info()"
   ]
  },
  {
   "cell_type": "code",
   "execution_count": 5,
   "metadata": {},
   "outputs": [
    {
     "data": {
      "text/html": [
       "<div>\n",
       "<style scoped>\n",
       "    .dataframe tbody tr th:only-of-type {\n",
       "        vertical-align: middle;\n",
       "    }\n",
       "\n",
       "    .dataframe tbody tr th {\n",
       "        vertical-align: top;\n",
       "    }\n",
       "\n",
       "    .dataframe thead th {\n",
       "        text-align: right;\n",
       "    }\n",
       "</style>\n",
       "<table border=\"1\" class=\"dataframe\">\n",
       "  <thead>\n",
       "    <tr style=\"text-align: right;\">\n",
       "      <th></th>\n",
       "      <th>file_name</th>\n",
       "      <th>district</th>\n",
       "      <th>disease</th>\n",
       "      <th>cases</th>\n",
       "      <th>deaths</th>\n",
       "      <th>start_date</th>\n",
       "    </tr>\n",
       "  </thead>\n",
       "  <tbody>\n",
       "    <tr>\n",
       "      <th>0</th>\n",
       "      <td>31st_2010.pdf</td>\n",
       "      <td>shimla</td>\n",
       "      <td>cholera</td>\n",
       "      <td>235</td>\n",
       "      <td>1*</td>\n",
       "      <td>13.07.10</td>\n",
       "    </tr>\n",
       "    <tr>\n",
       "      <th>1</th>\n",
       "      <td>31st_2010.pdf</td>\n",
       "      <td>alwar, sikar, jaipur</td>\n",
       "      <td>cholera</td>\n",
       "      <td>1095</td>\n",
       "      <td>0 #</td>\n",
       "      <td>20.07.10</td>\n",
       "    </tr>\n",
       "    <tr>\n",
       "      <th>2</th>\n",
       "      <td>39th_2010.pdf</td>\n",
       "      <td>dibrugarh</td>\n",
       "      <td>cholera</td>\n",
       "      <td>10</td>\n",
       "      <td>0</td>\n",
       "      <td>10.09.10</td>\n",
       "    </tr>\n",
       "    <tr>\n",
       "      <th>3</th>\n",
       "      <td>39th_2010.pdf</td>\n",
       "      <td>belgaum</td>\n",
       "      <td>cholera</td>\n",
       "      <td>19</td>\n",
       "      <td>0</td>\n",
       "      <td>06.09.10</td>\n",
       "    </tr>\n",
       "    <tr>\n",
       "      <th>4</th>\n",
       "      <td>41st_2010.pdf</td>\n",
       "      <td>bharuch</td>\n",
       "      <td>cholera</td>\n",
       "      <td>2</td>\n",
       "      <td>0</td>\n",
       "      <td>24.09.10</td>\n",
       "    </tr>\n",
       "  </tbody>\n",
       "</table>\n",
       "</div>"
      ],
      "text/plain": [
       "       file_name              district  disease cases deaths start_date\n",
       "0  31st_2010.pdf                shimla  cholera   235     1*   13.07.10\n",
       "1  31st_2010.pdf  alwar, sikar, jaipur  cholera  1095    0 #   20.07.10\n",
       "2  39th_2010.pdf             dibrugarh  cholera   10       0   10.09.10\n",
       "3  39th_2010.pdf               belgaum  cholera   19       0   06.09.10\n",
       "4  41st_2010.pdf               bharuch  cholera    2       0   24.09.10"
      ]
     },
     "execution_count": 5,
     "metadata": {},
     "output_type": "execute_result"
    }
   ],
   "source": [
    "cholera_outbreaks.head()"
   ]
  },
  {
   "cell_type": "code",
   "execution_count": 6,
   "metadata": {},
   "outputs": [
    {
     "data": {
      "text/plain": [
       "file_name      0\n",
       "district       0\n",
       "disease        0\n",
       "cases          1\n",
       "deaths         2\n",
       "start_date    20\n",
       "dtype: int64"
      ]
     },
     "execution_count": 6,
     "metadata": {},
     "output_type": "execute_result"
    }
   ],
   "source": [
    "cholera_outbreaks.isna().sum()"
   ]
  },
  {
   "cell_type": "code",
   "execution_count": 7,
   "metadata": {},
   "outputs": [
    {
     "data": {
      "text/plain": [
       "(0, 6)"
      ]
     },
     "execution_count": 7,
     "metadata": {},
     "output_type": "execute_result"
    }
   ],
   "source": [
    "cholera_outbreaks[cholera_outbreaks.duplicated()].shape"
   ]
  },
  {
   "cell_type": "markdown",
   "metadata": {},
   "source": [
    "## Check which columns need further cleaning"
   ]
  },
  {
   "cell_type": "code",
   "execution_count": 8,
   "metadata": {},
   "outputs": [
    {
     "name": "stdout",
     "output_type": "stream",
     "text": [
      "Number of cholera occurrences in column file_name: 0\n",
      "Number of cholera occurrences in column district: 16\n",
      "Number of cholera occurrences in column disease: 577\n",
      "Number of cholera occurrences in column cases: 4\n",
      "Number of cholera occurrences in column deaths: 0\n",
      "Number of cholera occurrences in column start_date: 1\n"
     ]
    }
   ],
   "source": [
    "# check cholera occurrences per column\n",
    "for column in cholera_outbreaks.columns:\n",
    "    cholera_occurrences = cholera_outbreaks[cholera_outbreaks[column].fillna('').str.contains('cholera')].shape[0]\n",
    "    print(f'Number of cholera occurrences in column {column}: {cholera_occurrences}')"
   ]
  },
  {
   "cell_type": "code",
   "execution_count": 9,
   "metadata": {
    "tags": []
   },
   "outputs": [
    {
     "data": {
      "text/plain": [
       "(16, 6)"
      ]
     },
     "execution_count": 9,
     "metadata": {},
     "output_type": "execute_result"
    }
   ],
   "source": [
    "cholera_outbreaks_column_district = cholera_outbreaks[cholera_outbreaks['district'].str.contains('cholera')]\n",
    "cholera_outbreaks_column_district.shape"
   ]
  },
  {
   "cell_type": "code",
   "execution_count": 10,
   "metadata": {
    "tags": []
   },
   "outputs": [
    {
     "data": {
      "text/plain": [
       "(4, 6)"
      ]
     },
     "execution_count": 10,
     "metadata": {},
     "output_type": "execute_result"
    }
   ],
   "source": [
    "cholera_outbreaks_column_cases = cholera_outbreaks[cholera_outbreaks['cases'].fillna('').str.contains('cholera')]\n",
    "cholera_outbreaks_column_cases.shape"
   ]
  },
  {
   "cell_type": "code",
   "execution_count": 11,
   "metadata": {
    "tags": []
   },
   "outputs": [
    {
     "data": {
      "text/plain": [
       "(1, 6)"
      ]
     },
     "execution_count": 11,
     "metadata": {},
     "output_type": "execute_result"
    }
   ],
   "source": [
    "cholera_outbreaks_column_start_date = cholera_outbreaks[cholera_outbreaks['start_date'].fillna('').str.contains('cholera')]\n",
    "cholera_outbreaks_column_start_date.shape"
   ]
  },
  {
   "cell_type": "code",
   "execution_count": 12,
   "metadata": {
    "tags": []
   },
   "outputs": [
    {
     "data": {
      "text/plain": [
       "(17, 6)"
      ]
     },
     "execution_count": 12,
     "metadata": {},
     "output_type": "execute_result"
    }
   ],
   "source": [
    "cholera_outbreaks_missing_district = cholera_outbreaks[cholera_outbreaks['district'] == 'district missing']\n",
    "cholera_outbreaks_missing_district.shape"
   ]
  },
  {
   "cell_type": "markdown",
   "metadata": {},
   "source": [
    "Cholera outbreaks with missing district and start dates need to be cleaned manually."
   ]
  },
  {
   "cell_type": "code",
   "execution_count": 13,
   "metadata": {
    "tags": []
   },
   "outputs": [
    {
     "data": {
      "text/plain": [
       "(559, 6)"
      ]
     },
     "execution_count": 13,
     "metadata": {},
     "output_type": "execute_result"
    }
   ],
   "source": [
    "cholera_outbreaks = cholera_outbreaks[~(cholera_outbreaks['district'].str.contains('cholera'))\n",
    "                                      & ~(cholera_outbreaks['cases'].fillna('').str.contains('cholera'))\n",
    "                                      & ~(cholera_outbreaks['start_date'].fillna('').str.contains('cholera'))\n",
    "                                      & (cholera_outbreaks['district'] != 'district missing')].reset_index(drop=True)\n",
    "cholera_outbreaks.shape"
   ]
  },
  {
   "cell_type": "markdown",
   "metadata": {},
   "source": [
    "## Clean start dates"
   ]
  },
  {
   "cell_type": "code",
   "execution_count": 14,
   "metadata": {},
   "outputs": [],
   "source": [
    "# copy start date column\n",
    "cholera_outbreaks['start_date_clean'] = cholera_outbreaks['start_date']"
   ]
  },
  {
   "cell_type": "code",
   "execution_count": 15,
   "metadata": {},
   "outputs": [],
   "source": [
    "# fill na\n",
    "cholera_outbreaks['start_date_clean'] = cholera_outbreaks['start_date_clean'].fillna('')"
   ]
  },
  {
   "cell_type": "code",
   "execution_count": 16,
   "metadata": {},
   "outputs": [],
   "source": [
    "# remove letters\n",
    "cholera_outbreaks['start_date_clean'] = cholera_outbreaks['start_date_clean'].apply(lambda x: re.sub(r'[^0-9\\s./-]+', '', x))"
   ]
  },
  {
   "cell_type": "code",
   "execution_count": 17,
   "metadata": {},
   "outputs": [],
   "source": [
    "# replace 0\n",
    "cholera_outbreaks['start_date_clean'] = cholera_outbreaks['start_date_clean'].apply(lambda x: '' if x == '0' else x)"
   ]
  },
  {
   "cell_type": "code",
   "execution_count": 18,
   "metadata": {},
   "outputs": [],
   "source": [
    "# separate two dates in a cell\n",
    "cholera_outbreaks['start_date_clean'] = cholera_outbreaks['start_date_clean'].apply(lambda x: x.split(' ')[0] if len(x.split(' ')) == 2 else x)"
   ]
  },
  {
   "cell_type": "code",
   "execution_count": 19,
   "metadata": {},
   "outputs": [],
   "source": [
    "# remove whitespace\n",
    "cholera_outbreaks['start_date_clean'] = cholera_outbreaks['start_date_clean'].str.strip()"
   ]
  },
  {
   "cell_type": "code",
   "execution_count": 20,
   "metadata": {},
   "outputs": [
    {
     "data": {
      "text/plain": [
       "(15, 7)"
      ]
     },
     "execution_count": 20,
     "metadata": {},
     "output_type": "execute_result"
    }
   ],
   "source": [
    "cholera_outbreaks_missing_dates = cholera_outbreaks[cholera_outbreaks['start_date_clean'] == '']\n",
    "cholera_outbreaks_missing_dates.shape"
   ]
  },
  {
   "cell_type": "markdown",
   "metadata": {},
   "source": [
    "Cholera outbreaks with missing start dates need to be cleaned manually before they can be further processed."
   ]
  },
  {
   "cell_type": "code",
   "execution_count": 21,
   "metadata": {},
   "outputs": [
    {
     "data": {
      "text/plain": [
       "(53, 6)"
      ]
     },
     "execution_count": 21,
     "metadata": {},
     "output_type": "execute_result"
    }
   ],
   "source": [
    "# load and transform manually cleaned cholera outbreaks\n",
    "cholera_outbreaks_manually_cleaned = pd.read_csv('../../data/outbreaks/cholera_outbreaks_cleaned_manually.csv')\n",
    "cholera_outbreaks_manually_cleaned['district'] = cholera_outbreaks_manually_cleaned['district'].str.lower()\n",
    "cholera_outbreaks_manually_cleaned = cholera_outbreaks_manually_cleaned.rename(columns={'start_date': 'start_date_clean'})\n",
    "cholera_outbreaks_manually_cleaned = cholera_outbreaks_manually_cleaned.drop_duplicates()\n",
    "cholera_outbreaks_manually_cleaned.shape"
   ]
  },
  {
   "cell_type": "code",
   "execution_count": 22,
   "metadata": {},
   "outputs": [
    {
     "data": {
      "text/plain": [
       "(544, 7)"
      ]
     },
     "execution_count": 22,
     "metadata": {},
     "output_type": "execute_result"
    }
   ],
   "source": [
    "# get cholera outbreaks without missing start dates\n",
    "cholera_outbreaks = cholera_outbreaks[cholera_outbreaks['start_date_clean'] != ''].reset_index(drop=True)\n",
    "cholera_outbreaks.shape"
   ]
  },
  {
   "cell_type": "code",
   "execution_count": 23,
   "metadata": {},
   "outputs": [
    {
     "data": {
      "text/plain": [
       "(597, 7)"
      ]
     },
     "execution_count": 23,
     "metadata": {},
     "output_type": "execute_result"
    }
   ],
   "source": [
    "# merge cholera outbreaks again\n",
    "cholera_outbreaks = pd.concat([cholera_outbreaks, cholera_outbreaks_manually_cleaned], ignore_index=True)\n",
    "cholera_outbreaks.shape"
   ]
  },
  {
   "cell_type": "code",
   "execution_count": 24,
   "metadata": {},
   "outputs": [],
   "source": [
    "# harmonise date formats to extract year\n",
    "cholera_outbreaks['year'] = cholera_outbreaks['start_date_clean'].apply(lambda x: x.split('.')[2] if '.' in x\n",
    "                                                                        else (x.split('/')[2] if '/' in x\n",
    "                                                                              else (x.split('-')[2] if '-' in x\n",
    "                                                                                    else x)))"
   ]
  },
  {
   "cell_type": "code",
   "execution_count": 25,
   "metadata": {},
   "outputs": [],
   "source": [
    "# further harmonise date formats and extract years\n",
    "cholera_outbreaks['year'] = cholera_outbreaks['year'].str.pad(width=3, side='left', fillchar='0')\n",
    "cholera_outbreaks['year'] = cholera_outbreaks['year'].str.pad(width=4, side='left', fillchar='2')\n",
    "cholera_outbreaks['year'] = cholera_outbreaks['year'].astype(np.int64)"
   ]
  },
  {
   "cell_type": "code",
   "execution_count": 26,
   "metadata": {},
   "outputs": [
    {
     "data": {
      "text/plain": [
       "[2009, 2010, 2011, 2012, 2013, 2014, 2015, 2016, 2017, 2018, 2019]"
      ]
     },
     "execution_count": 26,
     "metadata": {},
     "output_type": "execute_result"
    }
   ],
   "source": [
    "# check years\n",
    "sorted(cholera_outbreaks['year'].unique())"
   ]
  },
  {
   "cell_type": "code",
   "execution_count": 27,
   "metadata": {},
   "outputs": [
    {
     "data": {
      "text/html": [
       "<div>\n",
       "<style scoped>\n",
       "    .dataframe tbody tr th:only-of-type {\n",
       "        vertical-align: middle;\n",
       "    }\n",
       "\n",
       "    .dataframe tbody tr th {\n",
       "        vertical-align: top;\n",
       "    }\n",
       "\n",
       "    .dataframe thead th {\n",
       "        text-align: right;\n",
       "    }\n",
       "</style>\n",
       "<table border=\"1\" class=\"dataframe\">\n",
       "  <thead>\n",
       "    <tr style=\"text-align: right;\">\n",
       "      <th></th>\n",
       "      <th>file_name</th>\n",
       "      <th>district</th>\n",
       "      <th>disease</th>\n",
       "      <th>cases</th>\n",
       "      <th>deaths</th>\n",
       "      <th>start_date</th>\n",
       "      <th>start_date_clean</th>\n",
       "      <th>year</th>\n",
       "    </tr>\n",
       "  </thead>\n",
       "  <tbody>\n",
       "    <tr>\n",
       "      <th>356</th>\n",
       "      <td>39th_2015.pdf</td>\n",
       "      <td>bagalkot</td>\n",
       "      <td>cholera</td>\n",
       "      <td>66</td>\n",
       "      <td>00</td>\n",
       "      <td>20-09-19</td>\n",
       "      <td>20-09-19</td>\n",
       "      <td>2019</td>\n",
       "    </tr>\n",
       "  </tbody>\n",
       "</table>\n",
       "</div>"
      ],
      "text/plain": [
       "         file_name  district  disease cases deaths start_date  \\\n",
       "356  39th_2015.pdf  bagalkot  cholera    66     00   20-09-19   \n",
       "\n",
       "    start_date_clean  year  \n",
       "356         20-09-19  2019  "
      ]
     },
     "execution_count": 27,
     "metadata": {},
     "output_type": "execute_result"
    }
   ],
   "source": [
    "# check case where there seems to be a typo\n",
    "cholera_outbreaks.loc[cholera_outbreaks['year'] == 2019]"
   ]
  },
  {
   "cell_type": "code",
   "execution_count": 28,
   "metadata": {},
   "outputs": [],
   "source": [
    "# fix typo\n",
    "cholera_outbreaks.loc[(cholera_outbreaks['file_name'] == '39th_2015.pdf') & (cholera_outbreaks['year'] == 2019), 'year'] = 2015"
   ]
  },
  {
   "cell_type": "code",
   "execution_count": 29,
   "metadata": {},
   "outputs": [],
   "source": [
    "# harmonise date formats to extract month\n",
    "cholera_outbreaks['month'] = cholera_outbreaks['start_date_clean'].apply(lambda x: x.split('.')[1] if '.' in x\n",
    "                                                                         else (x.split('/')[1] if '/' in x\n",
    "                                                                               else (x.split('-')[1] if '-' in x\n",
    "                                                                                     else x)))"
   ]
  },
  {
   "cell_type": "code",
   "execution_count": 30,
   "metadata": {},
   "outputs": [],
   "source": [
    "# cast month to integer\n",
    "cholera_outbreaks['month'] = cholera_outbreaks['month'].astype(np.int64)"
   ]
  },
  {
   "cell_type": "code",
   "execution_count": 31,
   "metadata": {},
   "outputs": [
    {
     "data": {
      "text/plain": [
       "[1, 2, 3, 4, 5, 6, 7, 8, 9, 10, 11, 12]"
      ]
     },
     "execution_count": 31,
     "metadata": {},
     "output_type": "execute_result"
    }
   ],
   "source": [
    "# check months\n",
    "sorted(cholera_outbreaks['month'].unique())"
   ]
  },
  {
   "cell_type": "code",
   "execution_count": 32,
   "metadata": {},
   "outputs": [
    {
     "data": {
      "text/plain": [
       "(597, 9)"
      ]
     },
     "execution_count": 32,
     "metadata": {},
     "output_type": "execute_result"
    }
   ],
   "source": [
    "cholera_outbreaks.shape"
   ]
  },
  {
   "cell_type": "code",
   "execution_count": 33,
   "metadata": {},
   "outputs": [
    {
     "data": {
      "text/plain": [
       "(596, 6)"
      ]
     },
     "execution_count": 33,
     "metadata": {},
     "output_type": "execute_result"
    }
   ],
   "source": [
    "# drop rows, drop columns, add cholera outbreak column\n",
    "cholera_outbreaks = cholera_outbreaks.loc[cholera_outbreaks['year'].isin(np.arange(2010, 2019))].reset_index(drop=True)\n",
    "cholera_outbreaks = cholera_outbreaks.drop(['disease', 'cases', 'deaths', 'start_date'], axis=1)\n",
    "cholera_outbreaks = cholera_outbreaks.rename(columns={'start_date_clean': 'start_date'})\n",
    "cholera_outbreaks['outbreak'] = 1\n",
    "cholera_outbreaks.shape"
   ]
  },
  {
   "cell_type": "code",
   "execution_count": 34,
   "metadata": {},
   "outputs": [
    {
     "data": {
      "text/html": [
       "<div>\n",
       "<style scoped>\n",
       "    .dataframe tbody tr th:only-of-type {\n",
       "        vertical-align: middle;\n",
       "    }\n",
       "\n",
       "    .dataframe tbody tr th {\n",
       "        vertical-align: top;\n",
       "    }\n",
       "\n",
       "    .dataframe thead th {\n",
       "        text-align: right;\n",
       "    }\n",
       "</style>\n",
       "<table border=\"1\" class=\"dataframe\">\n",
       "  <thead>\n",
       "    <tr style=\"text-align: right;\">\n",
       "      <th></th>\n",
       "      <th>file_name</th>\n",
       "      <th>district</th>\n",
       "      <th>start_date</th>\n",
       "      <th>year</th>\n",
       "      <th>month</th>\n",
       "      <th>outbreak</th>\n",
       "    </tr>\n",
       "  </thead>\n",
       "  <tbody>\n",
       "    <tr>\n",
       "      <th>0</th>\n",
       "      <td>31st_2010.pdf</td>\n",
       "      <td>shimla</td>\n",
       "      <td>13.07.10</td>\n",
       "      <td>2010</td>\n",
       "      <td>7</td>\n",
       "      <td>1</td>\n",
       "    </tr>\n",
       "    <tr>\n",
       "      <th>1</th>\n",
       "      <td>31st_2010.pdf</td>\n",
       "      <td>alwar, sikar, jaipur</td>\n",
       "      <td>20.07.10</td>\n",
       "      <td>2010</td>\n",
       "      <td>7</td>\n",
       "      <td>1</td>\n",
       "    </tr>\n",
       "    <tr>\n",
       "      <th>2</th>\n",
       "      <td>39th_2010.pdf</td>\n",
       "      <td>dibrugarh</td>\n",
       "      <td>10.09.10</td>\n",
       "      <td>2010</td>\n",
       "      <td>9</td>\n",
       "      <td>1</td>\n",
       "    </tr>\n",
       "    <tr>\n",
       "      <th>3</th>\n",
       "      <td>39th_2010.pdf</td>\n",
       "      <td>belgaum</td>\n",
       "      <td>06.09.10</td>\n",
       "      <td>2010</td>\n",
       "      <td>9</td>\n",
       "      <td>1</td>\n",
       "    </tr>\n",
       "    <tr>\n",
       "      <th>4</th>\n",
       "      <td>41st_2010.pdf</td>\n",
       "      <td>bharuch</td>\n",
       "      <td>24.09.10</td>\n",
       "      <td>2010</td>\n",
       "      <td>9</td>\n",
       "      <td>1</td>\n",
       "    </tr>\n",
       "  </tbody>\n",
       "</table>\n",
       "</div>"
      ],
      "text/plain": [
       "       file_name              district start_date  year  month  outbreak\n",
       "0  31st_2010.pdf                shimla   13.07.10  2010      7         1\n",
       "1  31st_2010.pdf  alwar, sikar, jaipur   20.07.10  2010      7         1\n",
       "2  39th_2010.pdf             dibrugarh   10.09.10  2010      9         1\n",
       "3  39th_2010.pdf               belgaum   06.09.10  2010      9         1\n",
       "4  41st_2010.pdf               bharuch   24.09.10  2010      9         1"
      ]
     },
     "execution_count": 34,
     "metadata": {},
     "output_type": "execute_result"
    }
   ],
   "source": [
    "cholera_outbreaks.head()"
   ]
  },
  {
   "cell_type": "markdown",
   "metadata": {},
   "source": [
    "## Map states, districts and location"
   ]
  },
  {
   "cell_type": "markdown",
   "metadata": {},
   "source": [
    "Next, we need to map states and districts to their geographic location. We do this with the help of the [Database of Global Administrative Areas](https://www.gadm.org/index.html). We download the Level 2 administrative zones for India and explore them before we extract the relevant information and merge it with the outbreaks data."
   ]
  },
  {
   "cell_type": "code",
   "execution_count": 35,
   "metadata": {},
   "outputs": [
    {
     "name": "stdout",
     "output_type": "stream",
     "text": [
      "File ‘../../data/outbreaks/gadm36_IND_shp.zip’ already there; not retrieving.\n",
      "\n"
     ]
    }
   ],
   "source": [
    "!wget --recursive --no-directories --no-clobber --directory-prefix=../../data/outbreaks https://biogeo.ucdavis.edu/data/gadm3.6/shp/gadm36_IND_shp.zip"
   ]
  },
  {
   "cell_type": "code",
   "execution_count": 36,
   "metadata": {},
   "outputs": [
    {
     "name": "stdout",
     "output_type": "stream",
     "text": [
      "Archive:  ../../data/outbreaks/gadm36_IND_shp.zip\n"
     ]
    }
   ],
   "source": [
    "!unzip -u -d ../../data/outbreaks/gadm36_IND_shp ../../data/outbreaks/gadm36_IND_shp.zip"
   ]
  },
  {
   "cell_type": "code",
   "execution_count": 37,
   "metadata": {},
   "outputs": [
    {
     "data": {
      "text/plain": [
       "(666, 14)"
      ]
     },
     "execution_count": 37,
     "metadata": {},
     "output_type": "execute_result"
    }
   ],
   "source": [
    "india = gpd.read_file('../../data/outbreaks/gadm36_IND_shp/gadm36_IND_2.shp')\n",
    "india.shape"
   ]
  },
  {
   "cell_type": "code",
   "execution_count": 38,
   "metadata": {},
   "outputs": [
    {
     "data": {
      "text/plain": [
       "<Geographic 2D CRS: EPSG:4326>\n",
       "Name: WGS 84\n",
       "Axis Info [ellipsoidal]:\n",
       "- Lat[north]: Geodetic latitude (degree)\n",
       "- Lon[east]: Geodetic longitude (degree)\n",
       "Area of Use:\n",
       "- name: World.\n",
       "- bounds: (-180.0, -90.0, 180.0, 90.0)\n",
       "Datum: World Geodetic System 1984 ensemble\n",
       "- Ellipsoid: WGS 84\n",
       "- Prime Meridian: Greenwich"
      ]
     },
     "execution_count": 38,
     "metadata": {},
     "output_type": "execute_result"
    }
   ],
   "source": [
    "india.crs"
   ]
  },
  {
   "cell_type": "code",
   "execution_count": 39,
   "metadata": {},
   "outputs": [
    {
     "name": "stdout",
     "output_type": "stream",
     "text": [
      "<class 'geopandas.geodataframe.GeoDataFrame'>\n",
      "RangeIndex: 666 entries, 0 to 665\n",
      "Data columns (total 14 columns):\n",
      " #   Column     Non-Null Count  Dtype   \n",
      "---  ------     --------------  -----   \n",
      " 0   GID_0      666 non-null    object  \n",
      " 1   NAME_0     666 non-null    object  \n",
      " 2   GID_1      666 non-null    object  \n",
      " 3   NAME_1     666 non-null    object  \n",
      " 4   NL_NAME_1  0 non-null      float64 \n",
      " 5   GID_2      666 non-null    object  \n",
      " 6   NAME_2     666 non-null    object  \n",
      " 7   VARNAME_2  190 non-null    object  \n",
      " 8   NL_NAME_2  0 non-null      float64 \n",
      " 9   TYPE_2     666 non-null    object  \n",
      " 10  ENGTYPE_2  666 non-null    object  \n",
      " 11  CC_2       0 non-null      float64 \n",
      " 12  HASC_2     626 non-null    object  \n",
      " 13  geometry   666 non-null    geometry\n",
      "dtypes: float64(3), geometry(1), object(10)\n",
      "memory usage: 73.0+ KB\n"
     ]
    }
   ],
   "source": [
    "india.info()"
   ]
  },
  {
   "cell_type": "code",
   "execution_count": 40,
   "metadata": {},
   "outputs": [
    {
     "data": {
      "text/html": [
       "<div>\n",
       "<style scoped>\n",
       "    .dataframe tbody tr th:only-of-type {\n",
       "        vertical-align: middle;\n",
       "    }\n",
       "\n",
       "    .dataframe tbody tr th {\n",
       "        vertical-align: top;\n",
       "    }\n",
       "\n",
       "    .dataframe thead th {\n",
       "        text-align: right;\n",
       "    }\n",
       "</style>\n",
       "<table border=\"1\" class=\"dataframe\">\n",
       "  <thead>\n",
       "    <tr style=\"text-align: right;\">\n",
       "      <th></th>\n",
       "      <th>GID_0</th>\n",
       "      <th>NAME_0</th>\n",
       "      <th>GID_1</th>\n",
       "      <th>NAME_1</th>\n",
       "      <th>NL_NAME_1</th>\n",
       "      <th>GID_2</th>\n",
       "      <th>NAME_2</th>\n",
       "      <th>VARNAME_2</th>\n",
       "      <th>NL_NAME_2</th>\n",
       "      <th>TYPE_2</th>\n",
       "      <th>ENGTYPE_2</th>\n",
       "      <th>CC_2</th>\n",
       "      <th>HASC_2</th>\n",
       "      <th>geometry</th>\n",
       "    </tr>\n",
       "  </thead>\n",
       "  <tbody>\n",
       "    <tr>\n",
       "      <th>0</th>\n",
       "      <td>IND</td>\n",
       "      <td>India</td>\n",
       "      <td>IND.1_1</td>\n",
       "      <td>Andaman and Nicobar</td>\n",
       "      <td>NaN</td>\n",
       "      <td>IND.1.1_1</td>\n",
       "      <td>Nicobar Islands</td>\n",
       "      <td>NaN</td>\n",
       "      <td>NaN</td>\n",
       "      <td>District</td>\n",
       "      <td>District</td>\n",
       "      <td>NaN</td>\n",
       "      <td>IN.AN.NI</td>\n",
       "      <td>MULTIPOLYGON (((93.78773 6.85264, 93.78849 6.8...</td>\n",
       "    </tr>\n",
       "    <tr>\n",
       "      <th>1</th>\n",
       "      <td>IND</td>\n",
       "      <td>India</td>\n",
       "      <td>IND.1_1</td>\n",
       "      <td>Andaman and Nicobar</td>\n",
       "      <td>NaN</td>\n",
       "      <td>IND.1.2_1</td>\n",
       "      <td>North and Middle Andaman</td>\n",
       "      <td>NaN</td>\n",
       "      <td>NaN</td>\n",
       "      <td>District</td>\n",
       "      <td>District</td>\n",
       "      <td>NaN</td>\n",
       "      <td>IN.AN.NM</td>\n",
       "      <td>MULTIPOLYGON (((92.93898 12.22386, 92.93916 12...</td>\n",
       "    </tr>\n",
       "    <tr>\n",
       "      <th>2</th>\n",
       "      <td>IND</td>\n",
       "      <td>India</td>\n",
       "      <td>IND.1_1</td>\n",
       "      <td>Andaman and Nicobar</td>\n",
       "      <td>NaN</td>\n",
       "      <td>IND.1.3_1</td>\n",
       "      <td>South Andaman</td>\n",
       "      <td>NaN</td>\n",
       "      <td>NaN</td>\n",
       "      <td>District</td>\n",
       "      <td>District</td>\n",
       "      <td>NaN</td>\n",
       "      <td>IN.AN.SA</td>\n",
       "      <td>MULTIPOLYGON (((92.47972 10.52056, 92.47945 10...</td>\n",
       "    </tr>\n",
       "    <tr>\n",
       "      <th>3</th>\n",
       "      <td>IND</td>\n",
       "      <td>India</td>\n",
       "      <td>IND.2_1</td>\n",
       "      <td>Andhra Pradesh</td>\n",
       "      <td>NaN</td>\n",
       "      <td>IND.2.1_1</td>\n",
       "      <td>Anantapur</td>\n",
       "      <td>Anantpur, Ananthapur</td>\n",
       "      <td>NaN</td>\n",
       "      <td>District</td>\n",
       "      <td>District</td>\n",
       "      <td>NaN</td>\n",
       "      <td>IN.AD.AN</td>\n",
       "      <td>POLYGON ((77.71420 13.76079, 77.71314 13.75074...</td>\n",
       "    </tr>\n",
       "    <tr>\n",
       "      <th>4</th>\n",
       "      <td>IND</td>\n",
       "      <td>India</td>\n",
       "      <td>IND.2_1</td>\n",
       "      <td>Andhra Pradesh</td>\n",
       "      <td>NaN</td>\n",
       "      <td>IND.2.2_1</td>\n",
       "      <td>Chittoor</td>\n",
       "      <td>Chitoor|Chittor</td>\n",
       "      <td>NaN</td>\n",
       "      <td>District</td>\n",
       "      <td>District</td>\n",
       "      <td>NaN</td>\n",
       "      <td>IN.AD.CH</td>\n",
       "      <td>POLYGON ((78.46293 12.63537, 78.46190 12.63228...</td>\n",
       "    </tr>\n",
       "  </tbody>\n",
       "</table>\n",
       "</div>"
      ],
      "text/plain": [
       "  GID_0 NAME_0    GID_1               NAME_1  NL_NAME_1      GID_2  \\\n",
       "0   IND  India  IND.1_1  Andaman and Nicobar        NaN  IND.1.1_1   \n",
       "1   IND  India  IND.1_1  Andaman and Nicobar        NaN  IND.1.2_1   \n",
       "2   IND  India  IND.1_1  Andaman and Nicobar        NaN  IND.1.3_1   \n",
       "3   IND  India  IND.2_1       Andhra Pradesh        NaN  IND.2.1_1   \n",
       "4   IND  India  IND.2_1       Andhra Pradesh        NaN  IND.2.2_1   \n",
       "\n",
       "                     NAME_2             VARNAME_2  NL_NAME_2    TYPE_2  \\\n",
       "0           Nicobar Islands                   NaN        NaN  District   \n",
       "1  North and Middle Andaman                   NaN        NaN  District   \n",
       "2             South Andaman                   NaN        NaN  District   \n",
       "3                 Anantapur  Anantpur, Ananthapur        NaN  District   \n",
       "4                  Chittoor       Chitoor|Chittor        NaN  District   \n",
       "\n",
       "  ENGTYPE_2  CC_2    HASC_2                                           geometry  \n",
       "0  District   NaN  IN.AN.NI  MULTIPOLYGON (((93.78773 6.85264, 93.78849 6.8...  \n",
       "1  District   NaN  IN.AN.NM  MULTIPOLYGON (((92.93898 12.22386, 92.93916 12...  \n",
       "2  District   NaN  IN.AN.SA  MULTIPOLYGON (((92.47972 10.52056, 92.47945 10...  \n",
       "3  District   NaN  IN.AD.AN  POLYGON ((77.71420 13.76079, 77.71314 13.75074...  \n",
       "4  District   NaN  IN.AD.CH  POLYGON ((78.46293 12.63537, 78.46190 12.63228...  "
      ]
     },
     "execution_count": 40,
     "metadata": {},
     "output_type": "execute_result"
    }
   ],
   "source": [
    "india.head()"
   ]
  },
  {
   "cell_type": "code",
   "execution_count": 41,
   "metadata": {},
   "outputs": [
    {
     "data": {
      "text/plain": [
       "<AxesSubplot: >"
      ]
     },
     "execution_count": 41,
     "metadata": {},
     "output_type": "execute_result"
    },
    {
     "data": {
      "image/png": "[encoded data removed]",
      "text/plain": [
       "<Figure size 640x480 with 1 Axes>"
      ]
     },
     "metadata": {},
     "output_type": "display_data"
    }
   ],
   "source": [
    "india.plot()"
   ]
  },
  {
   "cell_type": "code",
   "execution_count": 42,
   "metadata": {},
   "outputs": [],
   "source": [
    "# select states, districts and geometry\n",
    "states_districts = india[['NAME_1', 'NAME_2', 'geometry']].copy()"
   ]
  },
  {
   "cell_type": "code",
   "execution_count": 43,
   "metadata": {},
   "outputs": [],
   "source": [
    "# rename columns\n",
    "states_districts.columns = ['state', 'district', 'geometry']"
   ]
  },
  {
   "cell_type": "code",
   "execution_count": 44,
   "metadata": {},
   "outputs": [],
   "source": [
    "# make states and districts lowercase to simplify the mapping\n",
    "states_districts['state'] = states_districts['state'].str.lower()\n",
    "states_districts['district'] = states_districts['district'].str.lower()"
   ]
  },
  {
   "cell_type": "code",
   "execution_count": 45,
   "metadata": {
    "scrolled": true
   },
   "outputs": [],
   "source": [
    "# create list with unique districts\n",
    "districts = states_districts['district'].unique().tolist()"
   ]
  },
  {
   "cell_type": "code",
   "execution_count": 46,
   "metadata": {
    "tags": []
   },
   "outputs": [],
   "source": [
    "# harmonise district names in district to simplify mapping\n",
    "cholera_outbreaks.loc[cholera_outbreaks['district'] == 'mahabubnagar', 'district'] = 'mahbubnagar'\n",
    "cholera_outbreaks.loc[cholera_outbreaks['district'] == 'ahmedabad', 'district'] = 'ahmadabad'\n",
    "cholera_outbreaks.loc[cholera_outbreaks['district'] == 'howrah', 'district'] = 'haora'\n",
    "cholera_outbreaks.loc[cholera_outbreaks['district'] == 'hooghly', 'district'] = 'hugli'\n",
    "cholera_outbreaks.loc[cholera_outbreaks['district'] == 'hoogly', 'district'] = 'hugli'\n",
    "cholera_outbreaks.loc[cholera_outbreaks['district'] == 'villupuram', 'district'] = 'viluppuram'\n",
    "cholera_outbreaks.loc[cholera_outbreaks['district'] == 'haridwar', 'district'] = 'hardwar'\n",
    "cholera_outbreaks.loc[cholera_outbreaks['district'] == 'davangere', 'district'] = 'davanagere'\n",
    "cholera_outbreaks.loc[cholera_outbreaks['district'] == 'davengere', 'district'] = 'davanagere'\n",
    "cholera_outbreaks.loc[cholera_outbreaks['district'] == 'davangare', 'district'] = 'davanagere'\n",
    "cholera_outbreaks.loc[cholera_outbreaks['district'] == 'tiruchirapalli', 'district'] = 'tiruchirappalli'\n",
    "cholera_outbreaks.loc[cholera_outbreaks['district'] == 'darang', 'district'] = 'darrang'\n",
    "cholera_outbreaks.loc[cholera_outbreaks['district'] == 'virudhunager', 'district'] = 'virudunagar'\n",
    "cholera_outbreaks.loc[cholera_outbreaks['district'] == 'chikkaballapur', 'district'] = 'chikballapura'\n",
    "cholera_outbreaks.loc[cholera_outbreaks['district'] == 'gondia', 'district'] = 'gondiya'\n",
    "cholera_outbreaks.loc[cholera_outbreaks['district'] == 'purulia', 'district'] = 'puruliya'\n",
    "cholera_outbreaks.loc[cholera_outbreaks['district'] == 'kalaburagi', 'district'] = 'gulbarga'\n",
    "cholera_outbreaks.loc[cholera_outbreaks['district'] == 'kalburgi', 'district'] = 'gulbarga'\n",
    "cholera_outbreaks.loc[cholera_outbreaks['district'] == 'gulburga', 'district'] = 'gulbarga'\n",
    "cholera_outbreaks.loc[cholera_outbreaks['district'] == 'berhampur', 'district'] = 'ganjam'\n",
    "cholera_outbreaks.loc[cholera_outbreaks['district'] == 'sholapur', 'district'] = 'solapur'\n",
    "cholera_outbreaks.loc[cholera_outbreaks['district'] == 'raigad', 'district'] = 'raigarh'\n",
    "cholera_outbreaks.loc[cholera_outbreaks['district'] == 'panchmahal', 'district'] = 'panch mahals'\n",
    "cholera_outbreaks.loc[cholera_outbreaks['district'] == 'sibsagar', 'district'] = 'sivasagar'\n",
    "cholera_outbreaks.loc[cholera_outbreaks['district'] == 'banaskantha', 'district'] = 'banas kantha'\n",
    "cholera_outbreaks.loc[cholera_outbreaks['district'] == 'chamarajnagar', 'district'] = 'chamrajnagar'\n",
    "cholera_outbreaks.loc[cholera_outbreaks['district'] == 'khargaon', 'district'] = 'west nimar'\n",
    "cholera_outbreaks.loc[cholera_outbreaks['district'] == 'mysuru', 'district'] = 'mysore'\n",
    "cholera_outbreaks.loc[cholera_outbreaks['district'] == 'mohali', 'district'] = 'sahibzada ajit singh nagar'\n",
    "cholera_outbreaks.loc[cholera_outbreaks['district'] == 'delhi', 'district'] = 'west'\n",
    "cholera_outbreaks.loc[cholera_outbreaks['district'] == 'kawardha', 'district'] = 'kabeerdham'\n",
    "cholera_outbreaks.loc[cholera_outbreaks['district'] == 'chirtadurga', 'district'] = 'chitradurga'\n",
    "cholera_outbreaks.loc[cholera_outbreaks['district'] == 'budgam', 'district'] = 'badgam'\n",
    "cholera_outbreaks.loc[cholera_outbreaks['district'] == 'jangir', 'district'] = 'janjgir-champa'\n",
    "cholera_outbreaks.loc[cholera_outbreaks['district'] == 'kancheepuramsaidapet', 'district'] = 'kancheepuram'\n",
    "cholera_outbreaks.loc[cholera_outbreaks['district'] == 'thiruvannamalai', 'district'] = 'tiruvannamalai'\n",
    "cholera_outbreaks.loc[cholera_outbreaks['district'] == 'sabarkantha', 'district'] = 'sabar kantha'\n",
    "cholera_outbreaks.loc[cholera_outbreaks['district'] == 'alwar, sikar, jaipur', 'district'] = 'alwar'\n",
    "cholera_outbreaks.loc[cholera_outbreaks['district'] == 'badwani', 'district'] = 'barwani'\n",
    "cholera_outbreaks.loc[cholera_outbreaks['district'] == 'balasore', 'district'] = 'baleshwar'\n",
    "cholera_outbreaks.loc[cholera_outbreaks['district'] == 'bangalore urban', 'district'] = 'bangalore'\n",
    "cholera_outbreaks.loc[cholera_outbreaks['district'] == 'bardhaman', 'district'] = 'barddhaman'\n",
    "cholera_outbreaks.loc[cholera_outbreaks['district'] == 'belagavi', 'district'] = 'belgaum'\n",
    "cholera_outbreaks.loc[cholera_outbreaks['district'] == 'chota udaipur', 'district'] = 'chhota udaipur'\n",
    "cholera_outbreaks.loc[cholera_outbreaks['district'] == 'd&n haveli', 'district'] = 'dadra and nagar haveli'\n",
    "cholera_outbreaks.loc[cholera_outbreaks['district'] == 'dadra & nagar haveli', 'district'] = 'dadra and nagar haveli'\n",
    "cholera_outbreaks.loc[cholera_outbreaks['district'] == 'east champaran', 'district'] = 'purba champaran'\n",
    "cholera_outbreaks.loc[cholera_outbreaks['district'] == 'gandhi nagar', 'district'] = 'gandhinagar'\n",
    "cholera_outbreaks.loc[cholera_outbreaks['district'] == 'janjgir', 'district'] = 'janjgir-champa'\n",
    "cholera_outbreaks.loc[cholera_outbreaks['district'] == 'kalaburgi (gulbarga)', 'district'] = 'gulbarga'\n",
    "cholera_outbreaks.loc[cholera_outbreaks['district'] == 'kamrup ( metro)', 'district'] = 'kamrup metropolitan'\n",
    "cholera_outbreaks.loc[cholera_outbreaks['district'] == 'kamrup metro', 'district'] = 'kamrup metropolitan'\n",
    "cholera_outbreaks.loc[cholera_outbreaks['district'] == 'kancheepuram(saidapet)', 'district'] = 'kancheepuram'\n",
    "cholera_outbreaks.loc[cholera_outbreaks['district'] == 'khandwa', 'district'] = 'east nimar'\n",
    "cholera_outbreaks.loc[cholera_outbreaks['district'] == 'malda', 'district'] = 'maldah'\n",
    "cholera_outbreaks.loc[cholera_outbreaks['district'] == 'medinipur west', 'district'] = 'pashchim medinipur'\n",
    "cholera_outbreaks.loc[cholera_outbreaks['district'] == 'name of district mathura', 'district'] = 'mathura'\n",
    "cholera_outbreaks.loc[cholera_outbreaks['district'] == 'new delhi', 'district'] = 'west'\n",
    "cholera_outbreaks.loc[cholera_outbreaks['district'] == 'north 24 paraganas', 'district'] = 'north 24 parganas'\n",
    "cholera_outbreaks.loc[cholera_outbreaks['district'] == 'north 24 pargans', 'district'] = 'north 24 parganas'\n",
    "cholera_outbreaks.loc[cholera_outbreaks['district'] == 'north 24 praganas', 'district'] = 'north 24 parganas'\n",
    "cholera_outbreaks.loc[cholera_outbreaks['district'] == 'north delhi', 'district'] = 'west'\n",
    "cholera_outbreaks.loc[cholera_outbreaks['district'] == 'north district', 'district'] = 'west'\n",
    "cholera_outbreaks.loc[cholera_outbreaks['district'] == 'purlia', 'district'] = 'puruliya'\n",
    "cholera_outbreaks.loc[cholera_outbreaks['district'] == 'rampurhat', 'district'] = 'birbhum'\n",
    "cholera_outbreaks.loc[cholera_outbreaks['district'] == 'ratlam sonepur', 'district'] = 'ratlam'\n",
    "cholera_outbreaks.loc[cholera_outbreaks['district'] == 'sas nagar', 'district'] = 'sahibzada ajit singh nagar'\n",
    "cholera_outbreaks.loc[cholera_outbreaks['district'] == 'south west district', 'district'] = 'west'\n",
    "cholera_outbreaks.loc[cholera_outbreaks['district'] == 'uttar kannada', 'district'] = 'uttara kannada'\n",
    "cholera_outbreaks.loc[cholera_outbreaks['district'] == 'west delhi', 'district'] = 'west'\n",
    "cholera_outbreaks.loc[cholera_outbreaks['district'] == 'yamuna nagar', 'district'] = 'yamunanagar'"
   ]
  },
  {
   "cell_type": "code",
   "execution_count": 47,
   "metadata": {
    "tags": []
   },
   "outputs": [
    {
     "data": {
      "text/plain": [
       "(605, 7)"
      ]
     },
     "execution_count": 47,
     "metadata": {},
     "output_type": "execute_result"
    }
   ],
   "source": [
    "# map states and geometry to districts\n",
    "cholera_outbreaks_mapped = pd.merge(states_districts, cholera_outbreaks, how='right', on='district')[['state', 'district', 'start_date', 'year', 'month', 'outbreak', 'geometry']].reset_index(drop=True)\n",
    "cholera_outbreaks_mapped.shape"
   ]
  },
  {
   "cell_type": "code",
   "execution_count": 48,
   "metadata": {
    "tags": []
   },
   "outputs": [
    {
     "data": {
      "text/html": [
       "<div>\n",
       "<style scoped>\n",
       "    .dataframe tbody tr th:only-of-type {\n",
       "        vertical-align: middle;\n",
       "    }\n",
       "\n",
       "    .dataframe tbody tr th {\n",
       "        vertical-align: top;\n",
       "    }\n",
       "\n",
       "    .dataframe thead th {\n",
       "        text-align: right;\n",
       "    }\n",
       "</style>\n",
       "<table border=\"1\" class=\"dataframe\">\n",
       "  <thead>\n",
       "    <tr style=\"text-align: right;\">\n",
       "      <th></th>\n",
       "      <th>state</th>\n",
       "      <th>district</th>\n",
       "      <th>start_date</th>\n",
       "      <th>year</th>\n",
       "      <th>month</th>\n",
       "      <th>outbreak</th>\n",
       "      <th>geometry</th>\n",
       "    </tr>\n",
       "  </thead>\n",
       "  <tbody>\n",
       "    <tr>\n",
       "      <th>495</th>\n",
       "      <td>maharashtra</td>\n",
       "      <td>aurangabad</td>\n",
       "      <td>10-11-17</td>\n",
       "      <td>2017</td>\n",
       "      <td>11</td>\n",
       "      <td>1</td>\n",
       "      <td>POLYGON ((75.21554 19.55770, 75.20956 19.56258...</td>\n",
       "    </tr>\n",
       "    <tr>\n",
       "      <th>494</th>\n",
       "      <td>bihar</td>\n",
       "      <td>aurangabad</td>\n",
       "      <td>10-11-17</td>\n",
       "      <td>2017</td>\n",
       "      <td>11</td>\n",
       "      <td>1</td>\n",
       "      <td>POLYGON ((84.73145 25.05792, 84.73087 25.05387...</td>\n",
       "    </tr>\n",
       "    <tr>\n",
       "      <th>413</th>\n",
       "      <td>maharashtra</td>\n",
       "      <td>aurangabad</td>\n",
       "      <td>08-07-16</td>\n",
       "      <td>2016</td>\n",
       "      <td>7</td>\n",
       "      <td>1</td>\n",
       "      <td>POLYGON ((75.21554 19.55770, 75.20956 19.56258...</td>\n",
       "    </tr>\n",
       "    <tr>\n",
       "      <th>412</th>\n",
       "      <td>bihar</td>\n",
       "      <td>aurangabad</td>\n",
       "      <td>08-07-16</td>\n",
       "      <td>2016</td>\n",
       "      <td>7</td>\n",
       "      <td>1</td>\n",
       "      <td>POLYGON ((84.73145 25.05792, 84.73087 25.05387...</td>\n",
       "    </tr>\n",
       "    <tr>\n",
       "      <th>410</th>\n",
       "      <td>chhattisgarh</td>\n",
       "      <td>bijapur</td>\n",
       "      <td>06-03-16</td>\n",
       "      <td>2016</td>\n",
       "      <td>3</td>\n",
       "      <td>1</td>\n",
       "      <td>POLYGON ((81.12064 19.25221, 81.12340 19.24678...</td>\n",
       "    </tr>\n",
       "    <tr>\n",
       "      <th>411</th>\n",
       "      <td>karnataka</td>\n",
       "      <td>bijapur</td>\n",
       "      <td>06-03-16</td>\n",
       "      <td>2016</td>\n",
       "      <td>3</td>\n",
       "      <td>1</td>\n",
       "      <td>POLYGON ((76.41283 16.58693, 76.42019 16.57418...</td>\n",
       "    </tr>\n",
       "    <tr>\n",
       "      <th>556</th>\n",
       "      <td>chhattisgarh</td>\n",
       "      <td>bijapur</td>\n",
       "      <td>08/07/12</td>\n",
       "      <td>2012</td>\n",
       "      <td>7</td>\n",
       "      <td>1</td>\n",
       "      <td>POLYGON ((81.12064 19.25221, 81.12340 19.24678...</td>\n",
       "    </tr>\n",
       "    <tr>\n",
       "      <th>557</th>\n",
       "      <td>karnataka</td>\n",
       "      <td>bijapur</td>\n",
       "      <td>08/07/12</td>\n",
       "      <td>2012</td>\n",
       "      <td>7</td>\n",
       "      <td>1</td>\n",
       "      <td>POLYGON ((76.41283 16.58693, 76.42019 16.57418...</td>\n",
       "    </tr>\n",
       "    <tr>\n",
       "      <th>165</th>\n",
       "      <td>karnataka</td>\n",
       "      <td>bijapur</td>\n",
       "      <td>20/08/12</td>\n",
       "      <td>2012</td>\n",
       "      <td>8</td>\n",
       "      <td>1</td>\n",
       "      <td>POLYGON ((76.41283 16.58693, 76.42019 16.57418...</td>\n",
       "    </tr>\n",
       "    <tr>\n",
       "      <th>164</th>\n",
       "      <td>chhattisgarh</td>\n",
       "      <td>bijapur</td>\n",
       "      <td>20/08/12</td>\n",
       "      <td>2012</td>\n",
       "      <td>8</td>\n",
       "      <td>1</td>\n",
       "      <td>POLYGON ((81.12064 19.25221, 81.12340 19.24678...</td>\n",
       "    </tr>\n",
       "    <tr>\n",
       "      <th>450</th>\n",
       "      <td>rajasthan</td>\n",
       "      <td>pratapgarh</td>\n",
       "      <td>29-07-16</td>\n",
       "      <td>2016</td>\n",
       "      <td>7</td>\n",
       "      <td>1</td>\n",
       "      <td>POLYGON ((74.93112 23.94491, 74.92985 23.94096...</td>\n",
       "    </tr>\n",
       "    <tr>\n",
       "      <th>451</th>\n",
       "      <td>uttar pradesh</td>\n",
       "      <td>pratapgarh</td>\n",
       "      <td>29-07-16</td>\n",
       "      <td>2016</td>\n",
       "      <td>7</td>\n",
       "      <td>1</td>\n",
       "      <td>POLYGON ((81.32791 25.81432, 81.33294 25.81743...</td>\n",
       "    </tr>\n",
       "    <tr>\n",
       "      <th>352</th>\n",
       "      <td>chhattisgarh</td>\n",
       "      <td>raigarh</td>\n",
       "      <td>30/03/15</td>\n",
       "      <td>2015</td>\n",
       "      <td>3</td>\n",
       "      <td>1</td>\n",
       "      <td>POLYGON ((83.48308 21.63960, 83.48334 21.63717...</td>\n",
       "    </tr>\n",
       "    <tr>\n",
       "      <th>100</th>\n",
       "      <td>maharashtra</td>\n",
       "      <td>raigarh</td>\n",
       "      <td>11.07.11</td>\n",
       "      <td>2011</td>\n",
       "      <td>7</td>\n",
       "      <td>1</td>\n",
       "      <td>MULTIPOLYGON (((73.03819 18.05208, 73.03819 18...</td>\n",
       "    </tr>\n",
       "    <tr>\n",
       "      <th>99</th>\n",
       "      <td>chhattisgarh</td>\n",
       "      <td>raigarh</td>\n",
       "      <td>11.07.11</td>\n",
       "      <td>2011</td>\n",
       "      <td>7</td>\n",
       "      <td>1</td>\n",
       "      <td>POLYGON ((83.48308 21.63960, 83.48334 21.63717...</td>\n",
       "    </tr>\n",
       "    <tr>\n",
       "      <th>75</th>\n",
       "      <td>maharashtra</td>\n",
       "      <td>raigarh</td>\n",
       "      <td>11.07.11</td>\n",
       "      <td>2011</td>\n",
       "      <td>7</td>\n",
       "      <td>1</td>\n",
       "      <td>MULTIPOLYGON (((73.03819 18.05208, 73.03819 18...</td>\n",
       "    </tr>\n",
       "    <tr>\n",
       "      <th>353</th>\n",
       "      <td>maharashtra</td>\n",
       "      <td>raigarh</td>\n",
       "      <td>30/03/15</td>\n",
       "      <td>2015</td>\n",
       "      <td>3</td>\n",
       "      <td>1</td>\n",
       "      <td>MULTIPOLYGON (((73.03819 18.05208, 73.03819 18...</td>\n",
       "    </tr>\n",
       "    <tr>\n",
       "      <th>74</th>\n",
       "      <td>chhattisgarh</td>\n",
       "      <td>raigarh</td>\n",
       "      <td>11.07.11</td>\n",
       "      <td>2011</td>\n",
       "      <td>7</td>\n",
       "      <td>1</td>\n",
       "      <td>POLYGON ((83.48308 21.63960, 83.48334 21.63717...</td>\n",
       "    </tr>\n",
       "  </tbody>\n",
       "</table>\n",
       "</div>"
      ],
      "text/plain": [
       "             state    district start_date  year  month  outbreak  \\\n",
       "495    maharashtra  aurangabad   10-11-17  2017     11         1   \n",
       "494          bihar  aurangabad   10-11-17  2017     11         1   \n",
       "413    maharashtra  aurangabad   08-07-16  2016      7         1   \n",
       "412          bihar  aurangabad   08-07-16  2016      7         1   \n",
       "410   chhattisgarh     bijapur   06-03-16  2016      3         1   \n",
       "411      karnataka     bijapur   06-03-16  2016      3         1   \n",
       "556   chhattisgarh     bijapur   08/07/12  2012      7         1   \n",
       "557      karnataka     bijapur   08/07/12  2012      7         1   \n",
       "165      karnataka     bijapur   20/08/12  2012      8         1   \n",
       "164   chhattisgarh     bijapur   20/08/12  2012      8         1   \n",
       "450      rajasthan  pratapgarh   29-07-16  2016      7         1   \n",
       "451  uttar pradesh  pratapgarh   29-07-16  2016      7         1   \n",
       "352   chhattisgarh     raigarh   30/03/15  2015      3         1   \n",
       "100    maharashtra     raigarh   11.07.11  2011      7         1   \n",
       "99    chhattisgarh     raigarh   11.07.11  2011      7         1   \n",
       "75     maharashtra     raigarh   11.07.11  2011      7         1   \n",
       "353    maharashtra     raigarh   30/03/15  2015      3         1   \n",
       "74    chhattisgarh     raigarh   11.07.11  2011      7         1   \n",
       "\n",
       "                                              geometry  \n",
       "495  POLYGON ((75.21554 19.55770, 75.20956 19.56258...  \n",
       "494  POLYGON ((84.73145 25.05792, 84.73087 25.05387...  \n",
       "413  POLYGON ((75.21554 19.55770, 75.20956 19.56258...  \n",
       "412  POLYGON ((84.73145 25.05792, 84.73087 25.05387...  \n",
       "410  POLYGON ((81.12064 19.25221, 81.12340 19.24678...  \n",
       "411  POLYGON ((76.41283 16.58693, 76.42019 16.57418...  \n",
       "556  POLYGON ((81.12064 19.25221, 81.12340 19.24678...  \n",
       "557  POLYGON ((76.41283 16.58693, 76.42019 16.57418...  \n",
       "165  POLYGON ((76.41283 16.58693, 76.42019 16.57418...  \n",
       "164  POLYGON ((81.12064 19.25221, 81.12340 19.24678...  \n",
       "450  POLYGON ((74.93112 23.94491, 74.92985 23.94096...  \n",
       "451  POLYGON ((81.32791 25.81432, 81.33294 25.81743...  \n",
       "352  POLYGON ((83.48308 21.63960, 83.48334 21.63717...  \n",
       "100  MULTIPOLYGON (((73.03819 18.05208, 73.03819 18...  \n",
       "99   POLYGON ((83.48308 21.63960, 83.48334 21.63717...  \n",
       "75   MULTIPOLYGON (((73.03819 18.05208, 73.03819 18...  \n",
       "353  MULTIPOLYGON (((73.03819 18.05208, 73.03819 18...  \n",
       "74   POLYGON ((83.48308 21.63960, 83.48334 21.63717...  "
      ]
     },
     "execution_count": 48,
     "metadata": {},
     "output_type": "execute_result"
    }
   ],
   "source": [
    "# find districts with identical names appearing in different states\n",
    "duplicate_districts = states_districts['district'].value_counts()[states_districts['district'].value_counts() > 1].index.tolist()\n",
    "cholera_outbreaks_mapped[cholera_outbreaks_mapped['district'].isin(duplicate_districts)].sort_values('district')"
   ]
  },
  {
   "cell_type": "markdown",
   "metadata": {},
   "source": [
    "We need to check to which state the duplicated districts actually belong."
   ]
  },
  {
   "cell_type": "code",
   "execution_count": 49,
   "metadata": {
    "tags": []
   },
   "outputs": [
    {
     "data": {
      "text/html": [
       "<div>\n",
       "<style scoped>\n",
       "    .dataframe tbody tr th:only-of-type {\n",
       "        vertical-align: middle;\n",
       "    }\n",
       "\n",
       "    .dataframe tbody tr th {\n",
       "        vertical-align: top;\n",
       "    }\n",
       "\n",
       "    .dataframe thead th {\n",
       "        text-align: right;\n",
       "    }\n",
       "</style>\n",
       "<table border=\"1\" class=\"dataframe\">\n",
       "  <thead>\n",
       "    <tr style=\"text-align: right;\">\n",
       "      <th></th>\n",
       "      <th>state</th>\n",
       "      <th>district</th>\n",
       "      <th>start_date</th>\n",
       "      <th>year</th>\n",
       "      <th>month</th>\n",
       "      <th>outbreak</th>\n",
       "      <th>geometry</th>\n",
       "    </tr>\n",
       "  </thead>\n",
       "  <tbody>\n",
       "    <tr>\n",
       "      <th>494</th>\n",
       "      <td>bihar</td>\n",
       "      <td>aurangabad</td>\n",
       "      <td>10-11-17</td>\n",
       "      <td>2017</td>\n",
       "      <td>11</td>\n",
       "      <td>1</td>\n",
       "      <td>POLYGON ((84.73145 25.05792, 84.73087 25.05387...</td>\n",
       "    </tr>\n",
       "    <tr>\n",
       "      <th>495</th>\n",
       "      <td>maharashtra</td>\n",
       "      <td>aurangabad</td>\n",
       "      <td>10-11-17</td>\n",
       "      <td>2017</td>\n",
       "      <td>11</td>\n",
       "      <td>1</td>\n",
       "      <td>POLYGON ((75.21554 19.55770, 75.20956 19.56258...</td>\n",
       "    </tr>\n",
       "  </tbody>\n",
       "</table>\n",
       "</div>"
      ],
      "text/plain": [
       "           state    district start_date  year  month  outbreak  \\\n",
       "494        bihar  aurangabad   10-11-17  2017     11         1   \n",
       "495  maharashtra  aurangabad   10-11-17  2017     11         1   \n",
       "\n",
       "                                              geometry  \n",
       "494  POLYGON ((84.73145 25.05792, 84.73087 25.05387...  \n",
       "495  POLYGON ((75.21554 19.55770, 75.20956 19.56258...  "
      ]
     },
     "execution_count": 49,
     "metadata": {},
     "output_type": "execute_result"
    }
   ],
   "source": [
    "cholera_outbreaks_mapped.loc[(cholera_outbreaks_mapped['district'] == 'aurangabad') & (cholera_outbreaks_mapped['month'] == 11)] # maharashtra"
   ]
  },
  {
   "cell_type": "code",
   "execution_count": 50,
   "metadata": {
    "tags": []
   },
   "outputs": [
    {
     "data": {
      "text/html": [
       "<div>\n",
       "<style scoped>\n",
       "    .dataframe tbody tr th:only-of-type {\n",
       "        vertical-align: middle;\n",
       "    }\n",
       "\n",
       "    .dataframe tbody tr th {\n",
       "        vertical-align: top;\n",
       "    }\n",
       "\n",
       "    .dataframe thead th {\n",
       "        text-align: right;\n",
       "    }\n",
       "</style>\n",
       "<table border=\"1\" class=\"dataframe\">\n",
       "  <thead>\n",
       "    <tr style=\"text-align: right;\">\n",
       "      <th></th>\n",
       "      <th>state</th>\n",
       "      <th>district</th>\n",
       "      <th>start_date</th>\n",
       "      <th>year</th>\n",
       "      <th>month</th>\n",
       "      <th>outbreak</th>\n",
       "      <th>geometry</th>\n",
       "    </tr>\n",
       "  </thead>\n",
       "  <tbody>\n",
       "    <tr>\n",
       "      <th>412</th>\n",
       "      <td>bihar</td>\n",
       "      <td>aurangabad</td>\n",
       "      <td>08-07-16</td>\n",
       "      <td>2016</td>\n",
       "      <td>7</td>\n",
       "      <td>1</td>\n",
       "      <td>POLYGON ((84.73145 25.05792, 84.73087 25.05387...</td>\n",
       "    </tr>\n",
       "    <tr>\n",
       "      <th>413</th>\n",
       "      <td>maharashtra</td>\n",
       "      <td>aurangabad</td>\n",
       "      <td>08-07-16</td>\n",
       "      <td>2016</td>\n",
       "      <td>7</td>\n",
       "      <td>1</td>\n",
       "      <td>POLYGON ((75.21554 19.55770, 75.20956 19.56258...</td>\n",
       "    </tr>\n",
       "  </tbody>\n",
       "</table>\n",
       "</div>"
      ],
      "text/plain": [
       "           state    district start_date  year  month  outbreak  \\\n",
       "412        bihar  aurangabad   08-07-16  2016      7         1   \n",
       "413  maharashtra  aurangabad   08-07-16  2016      7         1   \n",
       "\n",
       "                                              geometry  \n",
       "412  POLYGON ((84.73145 25.05792, 84.73087 25.05387...  \n",
       "413  POLYGON ((75.21554 19.55770, 75.20956 19.56258...  "
      ]
     },
     "execution_count": 50,
     "metadata": {},
     "output_type": "execute_result"
    }
   ],
   "source": [
    "cholera_outbreaks_mapped.loc[(cholera_outbreaks_mapped['district'] == 'aurangabad') & (cholera_outbreaks_mapped['month'] == 7)] # maharashtra"
   ]
  },
  {
   "cell_type": "code",
   "execution_count": 51,
   "metadata": {
    "tags": []
   },
   "outputs": [
    {
     "data": {
      "text/html": [
       "<div>\n",
       "<style scoped>\n",
       "    .dataframe tbody tr th:only-of-type {\n",
       "        vertical-align: middle;\n",
       "    }\n",
       "\n",
       "    .dataframe tbody tr th {\n",
       "        vertical-align: top;\n",
       "    }\n",
       "\n",
       "    .dataframe thead th {\n",
       "        text-align: right;\n",
       "    }\n",
       "</style>\n",
       "<table border=\"1\" class=\"dataframe\">\n",
       "  <thead>\n",
       "    <tr style=\"text-align: right;\">\n",
       "      <th></th>\n",
       "      <th>state</th>\n",
       "      <th>district</th>\n",
       "      <th>start_date</th>\n",
       "      <th>year</th>\n",
       "      <th>month</th>\n",
       "      <th>outbreak</th>\n",
       "      <th>geometry</th>\n",
       "    </tr>\n",
       "  </thead>\n",
       "  <tbody>\n",
       "    <tr>\n",
       "      <th>164</th>\n",
       "      <td>chhattisgarh</td>\n",
       "      <td>bijapur</td>\n",
       "      <td>20/08/12</td>\n",
       "      <td>2012</td>\n",
       "      <td>8</td>\n",
       "      <td>1</td>\n",
       "      <td>POLYGON ((81.12064 19.25221, 81.12340 19.24678...</td>\n",
       "    </tr>\n",
       "    <tr>\n",
       "      <th>165</th>\n",
       "      <td>karnataka</td>\n",
       "      <td>bijapur</td>\n",
       "      <td>20/08/12</td>\n",
       "      <td>2012</td>\n",
       "      <td>8</td>\n",
       "      <td>1</td>\n",
       "      <td>POLYGON ((76.41283 16.58693, 76.42019 16.57418...</td>\n",
       "    </tr>\n",
       "  </tbody>\n",
       "</table>\n",
       "</div>"
      ],
      "text/plain": [
       "            state district start_date  year  month  outbreak  \\\n",
       "164  chhattisgarh  bijapur   20/08/12  2012      8         1   \n",
       "165     karnataka  bijapur   20/08/12  2012      8         1   \n",
       "\n",
       "                                              geometry  \n",
       "164  POLYGON ((81.12064 19.25221, 81.12340 19.24678...  \n",
       "165  POLYGON ((76.41283 16.58693, 76.42019 16.57418...  "
      ]
     },
     "execution_count": 51,
     "metadata": {},
     "output_type": "execute_result"
    }
   ],
   "source": [
    "cholera_outbreaks_mapped.loc[(cholera_outbreaks_mapped['district'] == 'bijapur') & (cholera_outbreaks_mapped['month'] == 8)] # karnataka"
   ]
  },
  {
   "cell_type": "code",
   "execution_count": 52,
   "metadata": {
    "tags": []
   },
   "outputs": [
    {
     "data": {
      "text/html": [
       "<div>\n",
       "<style scoped>\n",
       "    .dataframe tbody tr th:only-of-type {\n",
       "        vertical-align: middle;\n",
       "    }\n",
       "\n",
       "    .dataframe tbody tr th {\n",
       "        vertical-align: top;\n",
       "    }\n",
       "\n",
       "    .dataframe thead th {\n",
       "        text-align: right;\n",
       "    }\n",
       "</style>\n",
       "<table border=\"1\" class=\"dataframe\">\n",
       "  <thead>\n",
       "    <tr style=\"text-align: right;\">\n",
       "      <th></th>\n",
       "      <th>state</th>\n",
       "      <th>district</th>\n",
       "      <th>start_date</th>\n",
       "      <th>year</th>\n",
       "      <th>month</th>\n",
       "      <th>outbreak</th>\n",
       "      <th>geometry</th>\n",
       "    </tr>\n",
       "  </thead>\n",
       "  <tbody>\n",
       "    <tr>\n",
       "      <th>556</th>\n",
       "      <td>chhattisgarh</td>\n",
       "      <td>bijapur</td>\n",
       "      <td>08/07/12</td>\n",
       "      <td>2012</td>\n",
       "      <td>7</td>\n",
       "      <td>1</td>\n",
       "      <td>POLYGON ((81.12064 19.25221, 81.12340 19.24678...</td>\n",
       "    </tr>\n",
       "    <tr>\n",
       "      <th>557</th>\n",
       "      <td>karnataka</td>\n",
       "      <td>bijapur</td>\n",
       "      <td>08/07/12</td>\n",
       "      <td>2012</td>\n",
       "      <td>7</td>\n",
       "      <td>1</td>\n",
       "      <td>POLYGON ((76.41283 16.58693, 76.42019 16.57418...</td>\n",
       "    </tr>\n",
       "  </tbody>\n",
       "</table>\n",
       "</div>"
      ],
      "text/plain": [
       "            state district start_date  year  month  outbreak  \\\n",
       "556  chhattisgarh  bijapur   08/07/12  2012      7         1   \n",
       "557     karnataka  bijapur   08/07/12  2012      7         1   \n",
       "\n",
       "                                              geometry  \n",
       "556  POLYGON ((81.12064 19.25221, 81.12340 19.24678...  \n",
       "557  POLYGON ((76.41283 16.58693, 76.42019 16.57418...  "
      ]
     },
     "execution_count": 52,
     "metadata": {},
     "output_type": "execute_result"
    }
   ],
   "source": [
    "cholera_outbreaks_mapped.loc[(cholera_outbreaks_mapped['district'] == 'bijapur') & (cholera_outbreaks_mapped['month'] == 7)] # karnataka"
   ]
  },
  {
   "cell_type": "code",
   "execution_count": 53,
   "metadata": {
    "tags": []
   },
   "outputs": [
    {
     "data": {
      "text/html": [
       "<div>\n",
       "<style scoped>\n",
       "    .dataframe tbody tr th:only-of-type {\n",
       "        vertical-align: middle;\n",
       "    }\n",
       "\n",
       "    .dataframe tbody tr th {\n",
       "        vertical-align: top;\n",
       "    }\n",
       "\n",
       "    .dataframe thead th {\n",
       "        text-align: right;\n",
       "    }\n",
       "</style>\n",
       "<table border=\"1\" class=\"dataframe\">\n",
       "  <thead>\n",
       "    <tr style=\"text-align: right;\">\n",
       "      <th></th>\n",
       "      <th>state</th>\n",
       "      <th>district</th>\n",
       "      <th>start_date</th>\n",
       "      <th>year</th>\n",
       "      <th>month</th>\n",
       "      <th>outbreak</th>\n",
       "      <th>geometry</th>\n",
       "    </tr>\n",
       "  </thead>\n",
       "  <tbody>\n",
       "    <tr>\n",
       "      <th>164</th>\n",
       "      <td>chhattisgarh</td>\n",
       "      <td>bijapur</td>\n",
       "      <td>20/08/12</td>\n",
       "      <td>2012</td>\n",
       "      <td>8</td>\n",
       "      <td>1</td>\n",
       "      <td>POLYGON ((81.12064 19.25221, 81.12340 19.24678...</td>\n",
       "    </tr>\n",
       "    <tr>\n",
       "      <th>165</th>\n",
       "      <td>karnataka</td>\n",
       "      <td>bijapur</td>\n",
       "      <td>20/08/12</td>\n",
       "      <td>2012</td>\n",
       "      <td>8</td>\n",
       "      <td>1</td>\n",
       "      <td>POLYGON ((76.41283 16.58693, 76.42019 16.57418...</td>\n",
       "    </tr>\n",
       "  </tbody>\n",
       "</table>\n",
       "</div>"
      ],
      "text/plain": [
       "            state district start_date  year  month  outbreak  \\\n",
       "164  chhattisgarh  bijapur   20/08/12  2012      8         1   \n",
       "165     karnataka  bijapur   20/08/12  2012      8         1   \n",
       "\n",
       "                                              geometry  \n",
       "164  POLYGON ((81.12064 19.25221, 81.12340 19.24678...  \n",
       "165  POLYGON ((76.41283 16.58693, 76.42019 16.57418...  "
      ]
     },
     "execution_count": 53,
     "metadata": {},
     "output_type": "execute_result"
    }
   ],
   "source": [
    "cholera_outbreaks_mapped.loc[(cholera_outbreaks_mapped['district'] == 'bijapur') & (cholera_outbreaks_mapped['month'] == 8)] # karnataka"
   ]
  },
  {
   "cell_type": "code",
   "execution_count": 54,
   "metadata": {
    "tags": []
   },
   "outputs": [
    {
     "data": {
      "text/html": [
       "<div>\n",
       "<style scoped>\n",
       "    .dataframe tbody tr th:only-of-type {\n",
       "        vertical-align: middle;\n",
       "    }\n",
       "\n",
       "    .dataframe tbody tr th {\n",
       "        vertical-align: top;\n",
       "    }\n",
       "\n",
       "    .dataframe thead th {\n",
       "        text-align: right;\n",
       "    }\n",
       "</style>\n",
       "<table border=\"1\" class=\"dataframe\">\n",
       "  <thead>\n",
       "    <tr style=\"text-align: right;\">\n",
       "      <th></th>\n",
       "      <th>state</th>\n",
       "      <th>district</th>\n",
       "      <th>start_date</th>\n",
       "      <th>year</th>\n",
       "      <th>month</th>\n",
       "      <th>outbreak</th>\n",
       "      <th>geometry</th>\n",
       "    </tr>\n",
       "  </thead>\n",
       "  <tbody>\n",
       "    <tr>\n",
       "      <th>450</th>\n",
       "      <td>rajasthan</td>\n",
       "      <td>pratapgarh</td>\n",
       "      <td>29-07-16</td>\n",
       "      <td>2016</td>\n",
       "      <td>7</td>\n",
       "      <td>1</td>\n",
       "      <td>POLYGON ((74.93112 23.94491, 74.92985 23.94096...</td>\n",
       "    </tr>\n",
       "    <tr>\n",
       "      <th>451</th>\n",
       "      <td>uttar pradesh</td>\n",
       "      <td>pratapgarh</td>\n",
       "      <td>29-07-16</td>\n",
       "      <td>2016</td>\n",
       "      <td>7</td>\n",
       "      <td>1</td>\n",
       "      <td>POLYGON ((81.32791 25.81432, 81.33294 25.81743...</td>\n",
       "    </tr>\n",
       "  </tbody>\n",
       "</table>\n",
       "</div>"
      ],
      "text/plain": [
       "             state    district start_date  year  month  outbreak  \\\n",
       "450      rajasthan  pratapgarh   29-07-16  2016      7         1   \n",
       "451  uttar pradesh  pratapgarh   29-07-16  2016      7         1   \n",
       "\n",
       "                                              geometry  \n",
       "450  POLYGON ((74.93112 23.94491, 74.92985 23.94096...  \n",
       "451  POLYGON ((81.32791 25.81432, 81.33294 25.81743...  "
      ]
     },
     "execution_count": 54,
     "metadata": {},
     "output_type": "execute_result"
    }
   ],
   "source": [
    "cholera_outbreaks_mapped.loc[(cholera_outbreaks_mapped['district'] == 'pratapgarh') & (cholera_outbreaks_mapped['month'] == 7)] # rajasthan"
   ]
  },
  {
   "cell_type": "code",
   "execution_count": 55,
   "metadata": {
    "tags": []
   },
   "outputs": [
    {
     "data": {
      "text/html": [
       "<div>\n",
       "<style scoped>\n",
       "    .dataframe tbody tr th:only-of-type {\n",
       "        vertical-align: middle;\n",
       "    }\n",
       "\n",
       "    .dataframe tbody tr th {\n",
       "        vertical-align: top;\n",
       "    }\n",
       "\n",
       "    .dataframe thead th {\n",
       "        text-align: right;\n",
       "    }\n",
       "</style>\n",
       "<table border=\"1\" class=\"dataframe\">\n",
       "  <thead>\n",
       "    <tr style=\"text-align: right;\">\n",
       "      <th></th>\n",
       "      <th>state</th>\n",
       "      <th>district</th>\n",
       "      <th>start_date</th>\n",
       "      <th>year</th>\n",
       "      <th>month</th>\n",
       "      <th>outbreak</th>\n",
       "      <th>geometry</th>\n",
       "    </tr>\n",
       "  </thead>\n",
       "  <tbody>\n",
       "    <tr>\n",
       "      <th>74</th>\n",
       "      <td>chhattisgarh</td>\n",
       "      <td>raigarh</td>\n",
       "      <td>11.07.11</td>\n",
       "      <td>2011</td>\n",
       "      <td>7</td>\n",
       "      <td>1</td>\n",
       "      <td>POLYGON ((83.48308 21.63960, 83.48334 21.63717...</td>\n",
       "    </tr>\n",
       "    <tr>\n",
       "      <th>75</th>\n",
       "      <td>maharashtra</td>\n",
       "      <td>raigarh</td>\n",
       "      <td>11.07.11</td>\n",
       "      <td>2011</td>\n",
       "      <td>7</td>\n",
       "      <td>1</td>\n",
       "      <td>MULTIPOLYGON (((73.03819 18.05208, 73.03819 18...</td>\n",
       "    </tr>\n",
       "    <tr>\n",
       "      <th>99</th>\n",
       "      <td>chhattisgarh</td>\n",
       "      <td>raigarh</td>\n",
       "      <td>11.07.11</td>\n",
       "      <td>2011</td>\n",
       "      <td>7</td>\n",
       "      <td>1</td>\n",
       "      <td>POLYGON ((83.48308 21.63960, 83.48334 21.63717...</td>\n",
       "    </tr>\n",
       "    <tr>\n",
       "      <th>100</th>\n",
       "      <td>maharashtra</td>\n",
       "      <td>raigarh</td>\n",
       "      <td>11.07.11</td>\n",
       "      <td>2011</td>\n",
       "      <td>7</td>\n",
       "      <td>1</td>\n",
       "      <td>MULTIPOLYGON (((73.03819 18.05208, 73.03819 18...</td>\n",
       "    </tr>\n",
       "  </tbody>\n",
       "</table>\n",
       "</div>"
      ],
      "text/plain": [
       "            state district start_date  year  month  outbreak  \\\n",
       "74   chhattisgarh  raigarh   11.07.11  2011      7         1   \n",
       "75    maharashtra  raigarh   11.07.11  2011      7         1   \n",
       "99   chhattisgarh  raigarh   11.07.11  2011      7         1   \n",
       "100   maharashtra  raigarh   11.07.11  2011      7         1   \n",
       "\n",
       "                                              geometry  \n",
       "74   POLYGON ((83.48308 21.63960, 83.48334 21.63717...  \n",
       "75   MULTIPOLYGON (((73.03819 18.05208, 73.03819 18...  \n",
       "99   POLYGON ((83.48308 21.63960, 83.48334 21.63717...  \n",
       "100  MULTIPOLYGON (((73.03819 18.05208, 73.03819 18...  "
      ]
     },
     "execution_count": 55,
     "metadata": {},
     "output_type": "execute_result"
    }
   ],
   "source": [
    "cholera_outbreaks_mapped.loc[(cholera_outbreaks_mapped['district'] == 'raigarh') & (cholera_outbreaks_mapped['month'] == 7)] # maharashtra"
   ]
  },
  {
   "cell_type": "code",
   "execution_count": 56,
   "metadata": {
    "tags": []
   },
   "outputs": [
    {
     "data": {
      "text/html": [
       "<div>\n",
       "<style scoped>\n",
       "    .dataframe tbody tr th:only-of-type {\n",
       "        vertical-align: middle;\n",
       "    }\n",
       "\n",
       "    .dataframe tbody tr th {\n",
       "        vertical-align: top;\n",
       "    }\n",
       "\n",
       "    .dataframe thead th {\n",
       "        text-align: right;\n",
       "    }\n",
       "</style>\n",
       "<table border=\"1\" class=\"dataframe\">\n",
       "  <thead>\n",
       "    <tr style=\"text-align: right;\">\n",
       "      <th></th>\n",
       "      <th>state</th>\n",
       "      <th>district</th>\n",
       "      <th>start_date</th>\n",
       "      <th>year</th>\n",
       "      <th>month</th>\n",
       "      <th>outbreak</th>\n",
       "      <th>geometry</th>\n",
       "    </tr>\n",
       "  </thead>\n",
       "  <tbody>\n",
       "    <tr>\n",
       "      <th>352</th>\n",
       "      <td>chhattisgarh</td>\n",
       "      <td>raigarh</td>\n",
       "      <td>30/03/15</td>\n",
       "      <td>2015</td>\n",
       "      <td>3</td>\n",
       "      <td>1</td>\n",
       "      <td>POLYGON ((83.48308 21.63960, 83.48334 21.63717...</td>\n",
       "    </tr>\n",
       "    <tr>\n",
       "      <th>353</th>\n",
       "      <td>maharashtra</td>\n",
       "      <td>raigarh</td>\n",
       "      <td>30/03/15</td>\n",
       "      <td>2015</td>\n",
       "      <td>3</td>\n",
       "      <td>1</td>\n",
       "      <td>MULTIPOLYGON (((73.03819 18.05208, 73.03819 18...</td>\n",
       "    </tr>\n",
       "  </tbody>\n",
       "</table>\n",
       "</div>"
      ],
      "text/plain": [
       "            state district start_date  year  month  outbreak  \\\n",
       "352  chhattisgarh  raigarh   30/03/15  2015      3         1   \n",
       "353   maharashtra  raigarh   30/03/15  2015      3         1   \n",
       "\n",
       "                                              geometry  \n",
       "352  POLYGON ((83.48308 21.63960, 83.48334 21.63717...  \n",
       "353  MULTIPOLYGON (((73.03819 18.05208, 73.03819 18...  "
      ]
     },
     "execution_count": 56,
     "metadata": {},
     "output_type": "execute_result"
    }
   ],
   "source": [
    "cholera_outbreaks_mapped.loc[(cholera_outbreaks_mapped['district'] == 'raigarh') & (cholera_outbreaks_mapped['month'] == 3)] # maharashtra"
   ]
  },
  {
   "cell_type": "markdown",
   "metadata": {},
   "source": [
    "We figured out to which state the duplicated districts actually belong and drop the rows that contain wrongly mapped data."
   ]
  },
  {
   "cell_type": "code",
   "execution_count": 57,
   "metadata": {
    "tags": []
   },
   "outputs": [
    {
     "data": {
      "text/plain": [
       "(596, 7)"
      ]
     },
     "execution_count": 57,
     "metadata": {},
     "output_type": "execute_result"
    }
   ],
   "source": [
    "cholera_outbreaks_mapped = cholera_outbreaks_mapped.drop(cholera_outbreaks_mapped.loc[(cholera_outbreaks_mapped['state'].isin(['bihar', 'chhattisgarh', 'uttar pradesh'])) & (cholera_outbreaks_mapped['district'].isin(['aurangabad', 'bijapur', 'raigarh', 'pratapgarh']))].index)\n",
    "cholera_outbreaks_mapped.shape"
   ]
  },
  {
   "cell_type": "markdown",
   "metadata": {},
   "source": [
    "We also need to drop duplicated cholera outbreaks. Some cholera outbreaks are followed up on in PDF files of later weeks and therefore appear multiple times in the extracted data."
   ]
  },
  {
   "cell_type": "code",
   "execution_count": 58,
   "metadata": {
    "tags": []
   },
   "outputs": [
    {
     "data": {
      "text/plain": [
       "(49, 7)"
      ]
     },
     "execution_count": 58,
     "metadata": {},
     "output_type": "execute_result"
    }
   ],
   "source": [
    "cholera_outbreaks_mapped[cholera_outbreaks_mapped.duplicated()].sort_values(['state', 'district', 'start_date']).shape"
   ]
  },
  {
   "cell_type": "code",
   "execution_count": 59,
   "metadata": {},
   "outputs": [
    {
     "data": {
      "text/plain": [
       "(547, 6)"
      ]
     },
     "execution_count": 59,
     "metadata": {},
     "output_type": "execute_result"
    }
   ],
   "source": [
    "cholera_outbreaks_mapped = cholera_outbreaks_mapped.drop_duplicates().drop('start_date', axis=1).reset_index(drop=True)\n",
    "cholera_outbreaks_mapped.shape"
   ]
  },
  {
   "cell_type": "markdown",
   "metadata": {},
   "source": [
    "Finally, we save the mapped and deduplicated cholera outbreaks in shapefile format."
   ]
  },
  {
   "cell_type": "code",
   "execution_count": 60,
   "metadata": {
    "tags": []
   },
   "outputs": [
    {
     "name": "stdout",
     "output_type": "stream",
     "text": [
      "CPU times: user 1.43 s, sys: 63.1 ms, total: 1.49 s\n",
      "Wall time: 1.5 s\n"
     ]
    }
   ],
   "source": [
    "%%time\n",
    "\n",
    "cholera_outbreaks_mapped.to_file('../../data/outbreaks/monthly_cholera_outbreaks_india_district_2010_2018.shp')"
   ]
  }
 ],
 "metadata": {
  "kernelspec": {
   "display_name": "Python 3 (ipykernel)",
   "language": "python",
   "name": "python3"
  },
  "language_info": {
   "codemirror_mode": {
    "name": "ipython",
    "version": 3
   },
   "file_extension": ".py",
   "mimetype": "text/x-python",
   "name": "python",
   "nbconvert_exporter": "python",
   "pygments_lexer": "ipython3",
   "version": "3.8.16"
  }
 },
 "nbformat": 4,
 "nbformat_minor": 4
}
