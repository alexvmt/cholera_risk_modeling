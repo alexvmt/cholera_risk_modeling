{
 "cells": [
  {
   "cell_type": "markdown",
   "metadata": {},
   "source": [
    "# preprocess essential climate variables"
   ]
  },
  {
   "cell_type": "code",
   "execution_count": null,
   "metadata": {
    "execution": {
     "iopub.execute_input": "2021-02-15T21:07:41.596754Z",
     "iopub.status.busy": "2021-02-15T21:07:41.594837Z",
     "iopub.status.idle": "2021-02-15T21:07:42.716741Z",
     "shell.execute_reply": "2021-02-15T21:07:42.715968Z"
    }
   },
   "outputs": [],
   "source": [
    "import os\n",
    "import numpy as np\n",
    "import pandas as pd\n",
    "import netCDF4 as nc\n",
    "import xarray as xr\n",
    "import geopandas as gpd"
   ]
  },
  {
   "cell_type": "code",
   "execution_count": null,
   "metadata": {
    "execution": {
     "iopub.execute_input": "2021-02-15T21:07:42.724955Z",
     "iopub.status.busy": "2021-02-15T21:07:42.724253Z",
     "iopub.status.idle": "2021-02-15T21:07:42.726796Z",
     "shell.execute_reply": "2021-02-15T21:07:42.727684Z"
    }
   },
   "outputs": [],
   "source": [
    "def select_bounding_box_region(path, years, ecv, lon_min, lon_max, lat_min, lat_max):\n",
    "    \n",
    "    data_final = pd.DataFrame(columns=['lat', 'lon', 'time', ecv])\n",
    "    \n",
    "    for year in years:\n",
    "        files = os.listdir(path+year)\n",
    "        \n",
    "        for file in files:\n",
    "            data = xr.open_dataset(path+year+'/'+file)\n",
    "            data = data.to_dataframe().reset_index()\n",
    "            data_filtered = data[(data.lon <= lon_max) & (data.lon >= lon_min) & (data.lat >= lat_min) & (data.lat <= lat_max)].dropna(subset=[ecv])[['lat', 'lon', 'time', ecv]]\n",
    "            data_final = data_final.append(data_filtered)\n",
    "            \n",
    "    data_final = data_final.reset_index(drop=True)\n",
    "    \n",
    "    return data_final"
   ]
  },
  {
   "cell_type": "code",
   "execution_count": null,
   "metadata": {
    "execution": {
     "iopub.execute_input": "2021-02-15T21:07:42.735039Z",
     "iopub.status.busy": "2021-02-15T21:07:42.733427Z",
     "iopub.status.idle": "2021-02-15T21:07:42.737275Z",
     "shell.execute_reply": "2021-02-15T21:07:42.738387Z"
    }
   },
   "outputs": [],
   "source": [
    "years = ['2010',\n",
    "         '2011',\n",
    "         '2012',\n",
    "         '2013',\n",
    "         '2014',\n",
    "         '2015']"
   ]
  },
  {
   "cell_type": "code",
   "execution_count": null,
   "metadata": {
    "execution": {
     "iopub.execute_input": "2021-02-15T21:07:42.746103Z",
     "iopub.status.busy": "2021-02-15T21:07:42.744895Z",
     "iopub.status.idle": "2021-02-15T21:07:42.747552Z",
     "shell.execute_reply": "2021-02-15T21:07:42.748324Z"
    }
   },
   "outputs": [],
   "source": [
    "lon_min, lon_max, lat_min, lat_max = 60, 100, 0, 40"
   ]
  },
  {
   "cell_type": "markdown",
   "metadata": {},
   "source": [
    "## sea surface salinity"
   ]
  },
  {
   "cell_type": "code",
   "execution_count": null,
   "metadata": {
    "execution": {
     "iopub.execute_input": "2021-02-15T21:07:42.753706Z",
     "iopub.status.busy": "2021-02-15T21:07:42.752927Z",
     "iopub.status.idle": "2021-02-15T21:19:48.520377Z",
     "shell.execute_reply": "2021-02-15T21:19:48.522459Z"
    }
   },
   "outputs": [],
   "source": [
    "!bash download_sea_surface_salinity_data.sh"
   ]
  },
  {
   "cell_type": "code",
   "execution_count": null,
   "metadata": {
    "execution": {
     "iopub.execute_input": "2021-02-15T21:19:48.531288Z",
     "iopub.status.busy": "2021-02-15T21:19:48.530531Z",
     "iopub.status.idle": "2021-02-15T21:19:48.534610Z",
     "shell.execute_reply": "2021-02-15T21:19:48.533860Z"
    }
   },
   "outputs": [],
   "source": [
    "path = '../data/sea_surface_salinity/'"
   ]
  },
  {
   "cell_type": "code",
   "execution_count": null,
   "metadata": {
    "execution": {
     "iopub.execute_input": "2021-02-15T21:19:48.542342Z",
     "iopub.status.busy": "2021-02-15T21:19:48.541062Z",
     "iopub.status.idle": "2021-02-15T21:19:48.567157Z",
     "shell.execute_reply": "2021-02-15T21:19:48.565929Z"
    }
   },
   "outputs": [],
   "source": [
    "data = nc.Dataset(path+years[0]+'/'+sorted(os.listdir(path+years[0]))[0])"
   ]
  },
  {
   "cell_type": "code",
   "execution_count": null,
   "metadata": {
    "execution": {
     "iopub.execute_input": "2021-02-15T21:19:48.575182Z",
     "iopub.status.busy": "2021-02-15T21:19:48.573996Z",
     "iopub.status.idle": "2021-02-15T21:19:48.596831Z",
     "shell.execute_reply": "2021-02-15T21:19:48.597476Z"
    },
    "scrolled": true
   },
   "outputs": [],
   "source": [
    "for var in data.variables.values():\n",
    "    print(var)"
   ]
  },
  {
   "cell_type": "code",
   "execution_count": null,
   "metadata": {
    "execution": {
     "iopub.execute_input": "2021-02-15T21:19:48.606778Z",
     "iopub.status.busy": "2021-02-15T21:19:48.605963Z",
     "iopub.status.idle": "2021-02-15T21:20:17.879971Z",
     "shell.execute_reply": "2021-02-15T21:20:17.881263Z"
    }
   },
   "outputs": [],
   "source": [
    "%%time\n",
    "\n",
    "sss = select_bounding_box_region(path, years, 'sss', lon_min, lon_max, lat_min, lat_max)"
   ]
  },
  {
   "cell_type": "code",
   "execution_count": null,
   "metadata": {
    "execution": {
     "iopub.execute_input": "2021-02-15T21:20:17.897804Z",
     "iopub.status.busy": "2021-02-15T21:20:17.896243Z",
     "iopub.status.idle": "2021-02-15T21:20:17.902102Z",
     "shell.execute_reply": "2021-02-15T21:20:17.903302Z"
    }
   },
   "outputs": [],
   "source": [
    "sss.shape"
   ]
  },
  {
   "cell_type": "code",
   "execution_count": null,
   "metadata": {
    "execution": {
     "iopub.execute_input": "2021-02-15T21:20:17.919553Z",
     "iopub.status.busy": "2021-02-15T21:20:17.918887Z",
     "iopub.status.idle": "2021-02-15T21:20:17.921379Z",
     "shell.execute_reply": "2021-02-15T21:20:17.921992Z"
    }
   },
   "outputs": [],
   "source": [
    "sss.info()"
   ]
  },
  {
   "cell_type": "code",
   "execution_count": null,
   "metadata": {
    "execution": {
     "iopub.execute_input": "2021-02-15T21:20:17.937489Z",
     "iopub.status.busy": "2021-02-15T21:20:17.932968Z",
     "iopub.status.idle": "2021-02-15T21:20:17.942232Z",
     "shell.execute_reply": "2021-02-15T21:20:17.941515Z"
    }
   },
   "outputs": [],
   "source": [
    "sss.head()"
   ]
  },
  {
   "cell_type": "code",
   "execution_count": null,
   "metadata": {
    "execution": {
     "iopub.execute_input": "2021-02-15T21:20:17.949645Z",
     "iopub.status.busy": "2021-02-15T21:20:17.947926Z",
     "iopub.status.idle": "2021-02-15T21:20:29.793348Z",
     "shell.execute_reply": "2021-02-15T21:20:29.792109Z"
    }
   },
   "outputs": [],
   "source": [
    "sss['year'] = sss.time.apply(lambda x: x.year)"
   ]
  },
  {
   "cell_type": "code",
   "execution_count": null,
   "metadata": {
    "execution": {
     "iopub.execute_input": "2021-02-15T21:20:29.802205Z",
     "iopub.status.busy": "2021-02-15T21:20:29.800675Z",
     "iopub.status.idle": "2021-02-15T21:20:41.107138Z",
     "shell.execute_reply": "2021-02-15T21:20:41.105986Z"
    }
   },
   "outputs": [],
   "source": [
    "sss['month'] = sss.time.apply(lambda x: x.month)"
   ]
  },
  {
   "cell_type": "code",
   "execution_count": null,
   "metadata": {},
   "outputs": [],
   "source": [
    "sss['month'] = sss.month.astype(str).str.pad(2, side='left',fillchar='0')"
   ]
  },
  {
   "cell_type": "code",
   "execution_count": null,
   "metadata": {
    "execution": {
     "iopub.execute_input": "2021-02-15T21:20:41.117924Z",
     "iopub.status.busy": "2021-02-15T21:20:41.116144Z",
     "iopub.status.idle": "2021-02-15T21:20:41.651557Z",
     "shell.execute_reply": "2021-02-15T21:20:41.650375Z"
    }
   },
   "outputs": [],
   "source": [
    "sss = sss[['lat', 'lon', 'year', 'month', 'sss']].groupby(['lat', 'lon', 'year', 'month']).aggregate('mean').reset_index()"
   ]
  },
  {
   "cell_type": "code",
   "execution_count": null,
   "metadata": {
    "execution": {
     "iopub.execute_input": "2021-02-15T21:20:41.659293Z",
     "iopub.status.busy": "2021-02-15T21:20:41.658349Z",
     "iopub.status.idle": "2021-02-15T21:20:41.662395Z",
     "shell.execute_reply": "2021-02-15T21:20:41.663393Z"
    }
   },
   "outputs": [],
   "source": [
    "sss.shape"
   ]
  },
  {
   "cell_type": "code",
   "execution_count": null,
   "metadata": {
    "execution": {
     "iopub.execute_input": "2021-02-15T21:20:41.670565Z",
     "iopub.status.busy": "2021-02-15T21:20:41.669292Z",
     "iopub.status.idle": "2021-02-15T21:20:41.700435Z",
     "shell.execute_reply": "2021-02-15T21:20:41.699287Z"
    }
   },
   "outputs": [],
   "source": [
    "sss.info()"
   ]
  },
  {
   "cell_type": "code",
   "execution_count": null,
   "metadata": {
    "execution": {
     "iopub.execute_input": "2021-02-15T21:20:41.718655Z",
     "iopub.status.busy": "2021-02-15T21:20:41.717426Z",
     "iopub.status.idle": "2021-02-15T21:20:41.721878Z",
     "shell.execute_reply": "2021-02-15T21:20:41.722501Z"
    }
   },
   "outputs": [],
   "source": [
    "sss.head()"
   ]
  },
  {
   "cell_type": "code",
   "execution_count": null,
   "metadata": {},
   "outputs": [],
   "source": [
    "sss = gpd.GeoDataFrame(sss, geometry=gpd.points_from_xy(sss.lon, sss.lat), crs={'init': 'epsg:4326'})"
   ]
  },
  {
   "cell_type": "code",
   "execution_count": null,
   "metadata": {},
   "outputs": [],
   "source": [
    "sss.drop(['lat', 'lon'], axis=1, inplace=True)"
   ]
  },
  {
   "cell_type": "code",
   "execution_count": null,
   "metadata": {},
   "outputs": [],
   "source": [
    "sss.info()"
   ]
  },
  {
   "cell_type": "code",
   "execution_count": null,
   "metadata": {},
   "outputs": [],
   "source": [
    "sss.to_file(path+'monthly_sss_2010_2015.shp')"
   ]
  },
  {
   "cell_type": "markdown",
   "metadata": {},
   "source": [
    "## chlorophyll-a concentration"
   ]
  },
  {
   "cell_type": "code",
   "execution_count": null,
   "metadata": {
    "execution": {
     "iopub.execute_input": "2021-02-15T21:20:42.240579Z",
     "iopub.status.busy": "2021-02-15T21:20:42.238916Z",
     "iopub.status.idle": "2021-02-15T23:26:37.224873Z",
     "shell.execute_reply": "2021-02-15T23:26:37.226956Z"
    }
   },
   "outputs": [],
   "source": [
    "!bash download_chlorophyll_a_concentration_data.sh"
   ]
  },
  {
   "cell_type": "code",
   "execution_count": null,
   "metadata": {
    "execution": {
     "iopub.execute_input": "2021-02-15T23:26:37.233055Z",
     "iopub.status.busy": "2021-02-15T23:26:37.232256Z",
     "iopub.status.idle": "2021-02-15T23:26:37.234284Z",
     "shell.execute_reply": "2021-02-15T23:26:37.234973Z"
    }
   },
   "outputs": [],
   "source": [
    "path = '../data/chlorophyll_a_concentration/'"
   ]
  },
  {
   "cell_type": "code",
   "execution_count": null,
   "metadata": {
    "execution": {
     "iopub.execute_input": "2021-02-15T23:26:37.240722Z",
     "iopub.status.busy": "2021-02-15T23:26:37.239981Z",
     "iopub.status.idle": "2021-02-15T23:26:37.258727Z",
     "shell.execute_reply": "2021-02-15T23:26:37.257612Z"
    }
   },
   "outputs": [],
   "source": [
    "data = nc.Dataset(path+years[0]+'/'+sorted(os.listdir(path+years[0]))[0])"
   ]
  },
  {
   "cell_type": "code",
   "execution_count": null,
   "metadata": {
    "execution": {
     "iopub.execute_input": "2021-02-15T23:26:37.266168Z",
     "iopub.status.busy": "2021-02-15T23:26:37.264975Z",
     "iopub.status.idle": "2021-02-15T23:26:37.287443Z",
     "shell.execute_reply": "2021-02-15T23:26:37.288197Z"
    },
    "scrolled": true
   },
   "outputs": [],
   "source": [
    "for var in data.variables.values():\n",
    "    print(var)"
   ]
  },
  {
   "cell_type": "code",
   "execution_count": null,
   "metadata": {
    "execution": {
     "iopub.execute_input": "2021-02-15T23:26:37.308124Z",
     "iopub.status.busy": "2021-02-15T23:26:37.296507Z",
     "iopub.status.idle": "2021-02-15T23:37:12.861961Z",
     "shell.execute_reply": "2021-02-15T23:37:12.862582Z"
    }
   },
   "outputs": [],
   "source": [
    "%%time\n",
    "\n",
    "chlor_a = select_bounding_box_region(path, years, 'chlor_a', lon_min, lon_max, lat_min, lat_max)"
   ]
  },
  {
   "cell_type": "code",
   "execution_count": null,
   "metadata": {
    "execution": {
     "iopub.execute_input": "2021-02-15T23:37:12.869893Z",
     "iopub.status.busy": "2021-02-15T23:37:12.868867Z",
     "iopub.status.idle": "2021-02-15T23:37:12.873298Z",
     "shell.execute_reply": "2021-02-15T23:37:12.874229Z"
    }
   },
   "outputs": [],
   "source": [
    "chlor_a.shape"
   ]
  },
  {
   "cell_type": "code",
   "execution_count": null,
   "metadata": {
    "execution": {
     "iopub.execute_input": "2021-02-15T23:37:12.887180Z",
     "iopub.status.busy": "2021-02-15T23:37:12.886385Z",
     "iopub.status.idle": "2021-02-15T23:37:12.889413Z",
     "shell.execute_reply": "2021-02-15T23:37:12.890059Z"
    }
   },
   "outputs": [],
   "source": [
    "chlor_a.info()"
   ]
  },
  {
   "cell_type": "code",
   "execution_count": null,
   "metadata": {
    "execution": {
     "iopub.execute_input": "2021-02-15T23:37:12.902077Z",
     "iopub.status.busy": "2021-02-15T23:37:12.901039Z",
     "iopub.status.idle": "2021-02-15T23:37:12.905141Z",
     "shell.execute_reply": "2021-02-15T23:37:12.905837Z"
    }
   },
   "outputs": [],
   "source": [
    "chlor_a.head()"
   ]
  },
  {
   "cell_type": "code",
   "execution_count": null,
   "metadata": {
    "execution": {
     "iopub.execute_input": "2021-02-15T23:37:13.060623Z",
     "iopub.status.busy": "2021-02-15T23:37:13.025056Z",
     "iopub.status.idle": "2021-02-15T23:39:57.360048Z",
     "shell.execute_reply": "2021-02-15T23:39:57.360680Z"
    }
   },
   "outputs": [],
   "source": [
    "chlor_a['year'] = chlor_a.time.apply(lambda x: x.year)"
   ]
  },
  {
   "cell_type": "code",
   "execution_count": null,
   "metadata": {
    "execution": {
     "iopub.execute_input": "2021-02-15T23:39:57.519409Z",
     "iopub.status.busy": "2021-02-15T23:39:57.483882Z",
     "iopub.status.idle": "2021-02-15T23:42:36.214334Z",
     "shell.execute_reply": "2021-02-15T23:42:36.213298Z"
    }
   },
   "outputs": [],
   "source": [
    "chlor_a['month'] = chlor_a.time.apply(lambda x: x.month)"
   ]
  },
  {
   "cell_type": "code",
   "execution_count": null,
   "metadata": {},
   "outputs": [],
   "source": [
    "chlor_a['month'] = chlor_a.month.astype(str).str.pad(2, side='left',fillchar='0')"
   ]
  },
  {
   "cell_type": "code",
   "execution_count": null,
   "metadata": {},
   "outputs": [],
   "source": [
    "chlor_a['chlor_a_log'] = np.log(chlor_a['chlor_a'])"
   ]
  },
  {
   "cell_type": "code",
   "execution_count": null,
   "metadata": {
    "execution": {
     "iopub.execute_input": "2021-02-15T23:42:36.220132Z",
     "iopub.status.busy": "2021-02-15T23:42:36.219155Z",
     "iopub.status.idle": "2021-02-15T23:42:36.808446Z",
     "shell.execute_reply": "2021-02-15T23:42:36.807159Z"
    }
   },
   "outputs": [],
   "source": [
    "chlor_a.drop(['time', 'chlor_a'], axis=1, inplace=True)"
   ]
  },
  {
   "cell_type": "code",
   "execution_count": null,
   "metadata": {
    "execution": {
     "iopub.execute_input": "2021-02-15T23:42:36.825056Z",
     "iopub.status.busy": "2021-02-15T23:42:36.823289Z",
     "iopub.status.idle": "2021-02-15T23:42:36.828937Z",
     "shell.execute_reply": "2021-02-15T23:42:36.829893Z"
    }
   },
   "outputs": [],
   "source": [
    "chlor_a.head()"
   ]
  },
  {
   "cell_type": "code",
   "execution_count": null,
   "metadata": {},
   "outputs": [],
   "source": [
    "chlor_a = gpd.GeoDataFrame(chlor_a, geometry=gpd.points_from_xy(chlor_a.lon, chlor_a.lat), crs={'init': 'epsg:4326'})"
   ]
  },
  {
   "cell_type": "code",
   "execution_count": null,
   "metadata": {},
   "outputs": [],
   "source": [
    "chlor_a.drop(['lat', 'lon'], axis=1, inplace=True)"
   ]
  },
  {
   "cell_type": "code",
   "execution_count": null,
   "metadata": {},
   "outputs": [],
   "source": [
    "chlor_a.info()"
   ]
  },
  {
   "cell_type": "code",
   "execution_count": null,
   "metadata": {},
   "outputs": [],
   "source": [
    "chlor_a.to_file(path+'monthly_chlor_a_2010_2015.shp')"
   ]
  }
 ],
 "metadata": {
  "kernelspec": {
   "display_name": "Python 3",
   "language": "python",
   "name": "python3"
  },
  "language_info": {
   "codemirror_mode": {
    "name": "ipython",
    "version": 3
   },
   "file_extension": ".py",
   "mimetype": "text/x-python",
   "name": "python",
   "nbconvert_exporter": "python",
   "pygments_lexer": "ipython3",
   "version": "3.7.6"
  }
 },
 "nbformat": 4,
 "nbformat_minor": 4
}
