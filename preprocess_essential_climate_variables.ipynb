{
 "cells": [
  {
   "cell_type": "markdown",
   "metadata": {},
   "source": [
    "# preprocess essential climate variables"
   ]
  },
  {
   "cell_type": "code",
   "execution_count": 1,
   "metadata": {
    "execution": {
     "iopub.execute_input": "2021-02-19T17:27:09.528935Z",
     "iopub.status.busy": "2021-02-19T17:27:09.527672Z",
     "iopub.status.idle": "2021-02-19T17:27:10.839616Z",
     "shell.execute_reply": "2021-02-19T17:27:10.840260Z"
    }
   },
   "outputs": [],
   "source": [
    "import os\n",
    "import numpy as np\n",
    "import pandas as pd\n",
    "import netCDF4 as nc\n",
    "import xarray as xr\n",
    "import geopandas as gpd"
   ]
  },
  {
   "cell_type": "code",
   "execution_count": 2,
   "metadata": {
    "execution": {
     "iopub.execute_input": "2021-02-19T17:27:10.851444Z",
     "iopub.status.busy": "2021-02-19T17:27:10.850212Z",
     "iopub.status.idle": "2021-02-19T17:27:10.853631Z",
     "shell.execute_reply": "2021-02-19T17:27:10.852902Z"
    }
   },
   "outputs": [],
   "source": [
    "def select_bounding_box_region(path, years, ecv, lon_min, lon_max, lat_min, lat_max):\n",
    "    \n",
    "    data_final = pd.DataFrame(columns=['lat', 'lon', 'time', ecv])\n",
    "    \n",
    "    for year in years:\n",
    "        print('Processing {}...'.format(year))\n",
    "        files = os.listdir(path+str(year))\n",
    "        \n",
    "        for file in files:\n",
    "            data = xr.open_dataset(path+str(year)+'/'+file)\n",
    "            data = data.to_dataframe().reset_index()\n",
    "            data_filtered = data[(data.lon <= lon_max) & (data.lon >= lon_min) & (data.lat >= lat_min) & (data.lat <= lat_max)].dropna(subset=[ecv])[['lat', 'lon', 'time', ecv]]\n",
    "            data_final = data_final.append(data_filtered)\n",
    "            \n",
    "    data_final = data_final.reset_index(drop=True)\n",
    "    \n",
    "    return data_final"
   ]
  },
  {
   "cell_type": "code",
   "execution_count": 3,
   "metadata": {
    "execution": {
     "iopub.execute_input": "2021-02-19T17:27:10.859206Z",
     "iopub.status.busy": "2021-02-19T17:27:10.858154Z",
     "iopub.status.idle": "2021-02-19T17:27:10.861167Z",
     "shell.execute_reply": "2021-02-19T17:27:10.860438Z"
    }
   },
   "outputs": [],
   "source": [
    "years = [2010,\n",
    "         2011,\n",
    "         2012,\n",
    "         2013,\n",
    "         2014,\n",
    "         2015]"
   ]
  },
  {
   "cell_type": "code",
   "execution_count": 4,
   "metadata": {
    "execution": {
     "iopub.execute_input": "2021-02-19T17:27:10.866466Z",
     "iopub.status.busy": "2021-02-19T17:27:10.865590Z",
     "iopub.status.idle": "2021-02-19T17:27:10.868732Z",
     "shell.execute_reply": "2021-02-19T17:27:10.869521Z"
    }
   },
   "outputs": [],
   "source": [
    "lon_min, lon_max, lat_min, lat_max = 60, 100, 0, 40"
   ]
  },
  {
   "cell_type": "markdown",
   "metadata": {},
   "source": [
    "## sea surface salinity"
   ]
  },
  {
   "cell_type": "code",
   "execution_count": 5,
   "metadata": {
    "execution": {
     "iopub.execute_input": "2021-02-19T17:27:10.875720Z",
     "iopub.status.busy": "2021-02-19T17:27:10.874854Z",
     "iopub.status.idle": "2021-02-19T17:27:15.673415Z",
     "shell.execute_reply": "2021-02-19T17:27:15.675573Z"
    }
   },
   "outputs": [
    {
     "name": "stdout",
     "output_type": "stream",
     "text": [
      "Download sea surface salinity data...\r\n",
      "--2021-02-19 18:27:10--  ftp://anon-ftp.ceda.ac.uk/neodc/esacci/sea_surface_salinity/data/v02.31/30days/2010\r\n",
      "           => ‘../data/sea_surface_salinity/2010/.listing’\r\n",
      "Resolving anon-ftp.ceda.ac.uk (anon-ftp.ceda.ac.uk)... 130.246.130.100\r\n",
      "Connecting to anon-ftp.ceda.ac.uk (anon-ftp.ceda.ac.uk)|130.246.130.100|:21... connected.\r\n",
      "Logging in as anonymous ... Logged in!\r\n",
      "==> SYST ... done.    ==> PWD ... done.\r\n",
      "==> TYPE I ... done.  ==> CWD (1) /neodc/esacci/sea_surface_salinity/data/v02.31/30days ... done.\r\n",
      "==> PASV ... done.    ==> LIST ... done.\r\n",
      "\r\n",
      ".listing                [ <=>                ]     818  --.-KB/s    in 0,02s   \r\n",
      "\r\n",
      "2021-02-19 18:27:11 (45,8 KB/s) - ‘../data/sea_surface_salinity/2010/.listing’ saved [818]\r\n",
      "\r\n",
      "Removed ‘../data/sea_surface_salinity/2010/.listing’.\r\n",
      "--2021-02-19 18:27:11--  ftp://anon-ftp.ceda.ac.uk/neodc/esacci/sea_surface_salinity/data/v02.31/30days/2010/2010\r\n",
      "           => ‘../data/sea_surface_salinity/2010/.listing’\r\n",
      "==> CWD (1) /neodc/esacci/sea_surface_salinity/data/v02.31/30days/2010 ... done.\r\n",
      "==> PASV ... done.    ==> LIST ... done.\r\n",
      "\r\n",
      ".listing                [ <=>                ]   3,51K  --.-KB/s    in 0,02s   \r\n",
      "\r\n",
      "2021-02-19 18:27:11 (163 KB/s) - ‘../data/sea_surface_salinity/2010/.listing’ saved [3597]\r\n",
      "\r\n",
      "Removed ‘../data/sea_surface_salinity/2010/.listing’.\r\n",
      "File ‘../data/sea_surface_salinity/2010/ESACCI-SEASURFACESALINITY-L4-SSS-MERGED_OI_Monthly_CENTRED_15Day_25km-20100101-fv2.31.nc’ already there; not retrieving.\r\n",
      "File ‘../data/sea_surface_salinity/2010/ESACCI-SEASURFACESALINITY-L4-SSS-MERGED_OI_Monthly_CENTRED_15Day_25km-20100115-fv2.31.nc’ already there; not retrieving.\r\n",
      "File ‘../data/sea_surface_salinity/2010/ESACCI-SEASURFACESALINITY-L4-SSS-MERGED_OI_Monthly_CENTRED_15Day_25km-20100201-fv2.31.nc’ already there; not retrieving.\r\n",
      "File ‘../data/sea_surface_salinity/2010/ESACCI-SEASURFACESALINITY-L4-SSS-MERGED_OI_Monthly_CENTRED_15Day_25km-20100215-fv2.31.nc’ already there; not retrieving.\r\n",
      "File ‘../data/sea_surface_salinity/2010/ESACCI-SEASURFACESALINITY-L4-SSS-MERGED_OI_Monthly_CENTRED_15Day_25km-20100301-fv2.31.nc’ already there; not retrieving.\r\n",
      "File ‘../data/sea_surface_salinity/2010/ESACCI-SEASURFACESALINITY-L4-SSS-MERGED_OI_Monthly_CENTRED_15Day_25km-20100315-fv2.31.nc’ already there; not retrieving.\r\n",
      "File ‘../data/sea_surface_salinity/2010/ESACCI-SEASURFACESALINITY-L4-SSS-MERGED_OI_Monthly_CENTRED_15Day_25km-20100401-fv2.31.nc’ already there; not retrieving.\r\n",
      "File ‘../data/sea_surface_salinity/2010/ESACCI-SEASURFACESALINITY-L4-SSS-MERGED_OI_Monthly_CENTRED_15Day_25km-20100415-fv2.31.nc’ already there; not retrieving.\r\n",
      "File ‘../data/sea_surface_salinity/2010/ESACCI-SEASURFACESALINITY-L4-SSS-MERGED_OI_Monthly_CENTRED_15Day_25km-20100501-fv2.31.nc’ already there; not retrieving.\r\n",
      "File ‘../data/sea_surface_salinity/2010/ESACCI-SEASURFACESALINITY-L4-SSS-MERGED_OI_Monthly_CENTRED_15Day_25km-20100515-fv2.31.nc’ already there; not retrieving.\r\n",
      "File ‘../data/sea_surface_salinity/2010/ESACCI-SEASURFACESALINITY-L4-SSS-MERGED_OI_Monthly_CENTRED_15Day_25km-20100601-fv2.31.nc’ already there; not retrieving.\r\n",
      "File ‘../data/sea_surface_salinity/2010/ESACCI-SEASURFACESALINITY-L4-SSS-MERGED_OI_Monthly_CENTRED_15Day_25km-20100615-fv2.31.nc’ already there; not retrieving.\r\n",
      "File ‘../data/sea_surface_salinity/2010/ESACCI-SEASURFACESALINITY-L4-SSS-MERGED_OI_Monthly_CENTRED_15Day_25km-20100701-fv2.31.nc’ already there; not retrieving.\r\n",
      "File ‘../data/sea_surface_salinity/2010/ESACCI-SEASURFACESALINITY-L4-SSS-MERGED_OI_Monthly_CENTRED_15Day_25km-20100715-fv2.31.nc’ already there; not retrieving.\r\n",
      "File ‘../data/sea_surface_salinity/2010/ESACCI-SEASURFACESALINITY-L4-SSS-MERGED_OI_Monthly_CENTRED_15Day_25km-20100801-fv2.31.nc’ already there; not retrieving.\r\n",
      "File ‘../data/sea_surface_salinity/2010/ESACCI-SEASURFACESALINITY-L4-SSS-MERGED_OI_Monthly_CENTRED_15Day_25km-20100815-fv2.31.nc’ already there; not retrieving.\r\n",
      "File ‘../data/sea_surface_salinity/2010/ESACCI-SEASURFACESALINITY-L4-SSS-MERGED_OI_Monthly_CENTRED_15Day_25km-20100901-fv2.31.nc’ already there; not retrieving.\r\n",
      "File ‘../data/sea_surface_salinity/2010/ESACCI-SEASURFACESALINITY-L4-SSS-MERGED_OI_Monthly_CENTRED_15Day_25km-20100915-fv2.31.nc’ already there; not retrieving.\r\n",
      "File ‘../data/sea_surface_salinity/2010/ESACCI-SEASURFACESALINITY-L4-SSS-MERGED_OI_Monthly_CENTRED_15Day_25km-20101001-fv2.31.nc’ already there; not retrieving.\r\n",
      "File ‘../data/sea_surface_salinity/2010/ESACCI-SEASURFACESALINITY-L4-SSS-MERGED_OI_Monthly_CENTRED_15Day_25km-20101015-fv2.31.nc’ already there; not retrieving.\r\n",
      "File ‘../data/sea_surface_salinity/2010/ESACCI-SEASURFACESALINITY-L4-SSS-MERGED_OI_Monthly_CENTRED_15Day_25km-20101101-fv2.31.nc’ already there; not retrieving.\r\n",
      "File ‘../data/sea_surface_salinity/2010/ESACCI-SEASURFACESALINITY-L4-SSS-MERGED_OI_Monthly_CENTRED_15Day_25km-20101115-fv2.31.nc’ already there; not retrieving.\r\n",
      "File ‘../data/sea_surface_salinity/2010/ESACCI-SEASURFACESALINITY-L4-SSS-MERGED_OI_Monthly_CENTRED_15Day_25km-20101201-fv2.31.nc’ already there; not retrieving.\r\n",
      "File ‘../data/sea_surface_salinity/2010/ESACCI-SEASURFACESALINITY-L4-SSS-MERGED_OI_Monthly_CENTRED_15Day_25km-20101215-fv2.31.nc’ already there; not retrieving.\r\n",
      "--2021-02-19 18:27:11--  ftp://anon-ftp.ceda.ac.uk/neodc/esacci/sea_surface_salinity/data/v02.31/30days/2011\r\n",
      "           => ‘../data/sea_surface_salinity/2011/.listing’\r\n",
      "Resolving anon-ftp.ceda.ac.uk (anon-ftp.ceda.ac.uk)... 130.246.130.100\r\n",
      "Connecting to anon-ftp.ceda.ac.uk (anon-ftp.ceda.ac.uk)|130.246.130.100|:21... connected.\r\n",
      "Logging in as anonymous ... Logged in!\r\n",
      "==> SYST ... done.    ==> PWD ... done.\r\n",
      "==> TYPE I ... done.  ==> CWD (1) /neodc/esacci/sea_surface_salinity/data/v02.31/30days ... done.\r\n",
      "==> PASV ... done.    ==> LIST ... done.\r\n",
      "\r\n",
      ".listing                [ <=>                ]     818  --.-KB/s    in 0,01s   \r\n",
      "\r\n",
      "2021-02-19 18:27:12 (60,8 KB/s) - ‘../data/sea_surface_salinity/2011/.listing’ saved [818]\r\n",
      "\r\n",
      "Removed ‘../data/sea_surface_salinity/2011/.listing’.\r\n",
      "--2021-02-19 18:27:12--  ftp://anon-ftp.ceda.ac.uk/neodc/esacci/sea_surface_salinity/data/v02.31/30days/2011/2011\r\n",
      "           => ‘../data/sea_surface_salinity/2011/.listing’\r\n",
      "==> CWD (1) /neodc/esacci/sea_surface_salinity/data/v02.31/30days/2011 ... done.\r\n",
      "==> PASV ... done.    ==> LIST ... done.\r\n",
      "\r\n",
      ".listing                [ <=>                ]   3,51K  --.-KB/s    in 0,04s   \r\n",
      "\r\n",
      "2021-02-19 18:27:12 (95,9 KB/s) - ‘../data/sea_surface_salinity/2011/.listing’ saved [3597]\r\n",
      "\r\n",
      "Removed ‘../data/sea_surface_salinity/2011/.listing’.\r\n",
      "File ‘../data/sea_surface_salinity/2011/ESACCI-SEASURFACESALINITY-L4-SSS-MERGED_OI_Monthly_CENTRED_15Day_25km-20110101-fv2.31.nc’ already there; not retrieving.\r\n",
      "File ‘../data/sea_surface_salinity/2011/ESACCI-SEASURFACESALINITY-L4-SSS-MERGED_OI_Monthly_CENTRED_15Day_25km-20110115-fv2.31.nc’ already there; not retrieving.\r\n",
      "File ‘../data/sea_surface_salinity/2011/ESACCI-SEASURFACESALINITY-L4-SSS-MERGED_OI_Monthly_CENTRED_15Day_25km-20110201-fv2.31.nc’ already there; not retrieving.\r\n",
      "File ‘../data/sea_surface_salinity/2011/ESACCI-SEASURFACESALINITY-L4-SSS-MERGED_OI_Monthly_CENTRED_15Day_25km-20110215-fv2.31.nc’ already there; not retrieving.\r\n",
      "File ‘../data/sea_surface_salinity/2011/ESACCI-SEASURFACESALINITY-L4-SSS-MERGED_OI_Monthly_CENTRED_15Day_25km-20110301-fv2.31.nc’ already there; not retrieving.\r\n",
      "File ‘../data/sea_surface_salinity/2011/ESACCI-SEASURFACESALINITY-L4-SSS-MERGED_OI_Monthly_CENTRED_15Day_25km-20110315-fv2.31.nc’ already there; not retrieving.\r\n",
      "File ‘../data/sea_surface_salinity/2011/ESACCI-SEASURFACESALINITY-L4-SSS-MERGED_OI_Monthly_CENTRED_15Day_25km-20110401-fv2.31.nc’ already there; not retrieving.\r\n",
      "File ‘../data/sea_surface_salinity/2011/ESACCI-SEASURFACESALINITY-L4-SSS-MERGED_OI_Monthly_CENTRED_15Day_25km-20110415-fv2.31.nc’ already there; not retrieving.\r\n",
      "File ‘../data/sea_surface_salinity/2011/ESACCI-SEASURFACESALINITY-L4-SSS-MERGED_OI_Monthly_CENTRED_15Day_25km-20110501-fv2.31.nc’ already there; not retrieving.\r\n",
      "File ‘../data/sea_surface_salinity/2011/ESACCI-SEASURFACESALINITY-L4-SSS-MERGED_OI_Monthly_CENTRED_15Day_25km-20110515-fv2.31.nc’ already there; not retrieving.\r\n",
      "File ‘../data/sea_surface_salinity/2011/ESACCI-SEASURFACESALINITY-L4-SSS-MERGED_OI_Monthly_CENTRED_15Day_25km-20110601-fv2.31.nc’ already there; not retrieving.\r\n",
      "File ‘../data/sea_surface_salinity/2011/ESACCI-SEASURFACESALINITY-L4-SSS-MERGED_OI_Monthly_CENTRED_15Day_25km-20110615-fv2.31.nc’ already there; not retrieving.\r\n",
      "File ‘../data/sea_surface_salinity/2011/ESACCI-SEASURFACESALINITY-L4-SSS-MERGED_OI_Monthly_CENTRED_15Day_25km-20110701-fv2.31.nc’ already there; not retrieving.\r\n",
      "File ‘../data/sea_surface_salinity/2011/ESACCI-SEASURFACESALINITY-L4-SSS-MERGED_OI_Monthly_CENTRED_15Day_25km-20110715-fv2.31.nc’ already there; not retrieving.\r\n",
      "File ‘../data/sea_surface_salinity/2011/ESACCI-SEASURFACESALINITY-L4-SSS-MERGED_OI_Monthly_CENTRED_15Day_25km-20110801-fv2.31.nc’ already there; not retrieving.\r\n",
      "File ‘../data/sea_surface_salinity/2011/ESACCI-SEASURFACESALINITY-L4-SSS-MERGED_OI_Monthly_CENTRED_15Day_25km-20110815-fv2.31.nc’ already there; not retrieving.\r\n",
      "File ‘../data/sea_surface_salinity/2011/ESACCI-SEASURFACESALINITY-L4-SSS-MERGED_OI_Monthly_CENTRED_15Day_25km-20110901-fv2.31.nc’ already there; not retrieving.\r\n",
      "File ‘../data/sea_surface_salinity/2011/ESACCI-SEASURFACESALINITY-L4-SSS-MERGED_OI_Monthly_CENTRED_15Day_25km-20110915-fv2.31.nc’ already there; not retrieving.\r\n",
      "File ‘../data/sea_surface_salinity/2011/ESACCI-SEASURFACESALINITY-L4-SSS-MERGED_OI_Monthly_CENTRED_15Day_25km-20111001-fv2.31.nc’ already there; not retrieving.\r\n",
      "File ‘../data/sea_surface_salinity/2011/ESACCI-SEASURFACESALINITY-L4-SSS-MERGED_OI_Monthly_CENTRED_15Day_25km-20111015-fv2.31.nc’ already there; not retrieving.\r\n",
      "File ‘../data/sea_surface_salinity/2011/ESACCI-SEASURFACESALINITY-L4-SSS-MERGED_OI_Monthly_CENTRED_15Day_25km-20111101-fv2.31.nc’ already there; not retrieving.\r\n",
      "File ‘../data/sea_surface_salinity/2011/ESACCI-SEASURFACESALINITY-L4-SSS-MERGED_OI_Monthly_CENTRED_15Day_25km-20111115-fv2.31.nc’ already there; not retrieving.\r\n",
      "File ‘../data/sea_surface_salinity/2011/ESACCI-SEASURFACESALINITY-L4-SSS-MERGED_OI_Monthly_CENTRED_15Day_25km-20111201-fv2.31.nc’ already there; not retrieving.\r\n",
      "File ‘../data/sea_surface_salinity/2011/ESACCI-SEASURFACESALINITY-L4-SSS-MERGED_OI_Monthly_CENTRED_15Day_25km-20111215-fv2.31.nc’ already there; not retrieving.\r\n",
      "--2021-02-19 18:27:12--  ftp://anon-ftp.ceda.ac.uk/neodc/esacci/sea_surface_salinity/data/v02.31/30days/2012\r\n",
      "           => ‘../data/sea_surface_salinity/2012/.listing’\r\n",
      "Resolving anon-ftp.ceda.ac.uk (anon-ftp.ceda.ac.uk)... 130.246.130.100\r\n",
      "Connecting to anon-ftp.ceda.ac.uk (anon-ftp.ceda.ac.uk)|130.246.130.100|:21... connected.\r\n",
      "Logging in as anonymous ... Logged in!\r\n",
      "==> SYST ... done.    ==> PWD ... done.\r\n",
      "==> TYPE I ... done.  ==> CWD (1) /neodc/esacci/sea_surface_salinity/data/v02.31/30days ... done.\r\n",
      "==> PASV ... done.    ==> LIST ... done.\r\n",
      "\r\n",
      ".listing                [ <=>                ]     818  --.-KB/s    in 0,02s   \r\n",
      "\r\n",
      "2021-02-19 18:27:12 (48,1 KB/s) - ‘../data/sea_surface_salinity/2012/.listing’ saved [818]\r\n",
      "\r\n",
      "Removed ‘../data/sea_surface_salinity/2012/.listing’.\r\n",
      "--2021-02-19 18:27:12--  ftp://anon-ftp.ceda.ac.uk/neodc/esacci/sea_surface_salinity/data/v02.31/30days/2012/2012\r\n",
      "           => ‘../data/sea_surface_salinity/2012/.listing’\r\n",
      "==> CWD (1) /neodc/esacci/sea_surface_salinity/data/v02.31/30days/2012 ... done.\r\n",
      "==> PASV ... done.    ==> LIST ... done.\r\n",
      "\r\n",
      ".listing                [ <=>                ]   3,51K  --.-KB/s    in 0,03s   \r\n",
      "\r\n",
      "2021-02-19 18:27:13 (120 KB/s) - ‘../data/sea_surface_salinity/2012/.listing’ saved [3597]\r\n",
      "\r\n",
      "Removed ‘../data/sea_surface_salinity/2012/.listing’.\r\n",
      "File ‘../data/sea_surface_salinity/2012/ESACCI-SEASURFACESALINITY-L4-SSS-MERGED_OI_Monthly_CENTRED_15Day_25km-20120101-fv2.31.nc’ already there; not retrieving.\r\n",
      "File ‘../data/sea_surface_salinity/2012/ESACCI-SEASURFACESALINITY-L4-SSS-MERGED_OI_Monthly_CENTRED_15Day_25km-20120115-fv2.31.nc’ already there; not retrieving.\r\n",
      "File ‘../data/sea_surface_salinity/2012/ESACCI-SEASURFACESALINITY-L4-SSS-MERGED_OI_Monthly_CENTRED_15Day_25km-20120201-fv2.31.nc’ already there; not retrieving.\r\n",
      "File ‘../data/sea_surface_salinity/2012/ESACCI-SEASURFACESALINITY-L4-SSS-MERGED_OI_Monthly_CENTRED_15Day_25km-20120215-fv2.31.nc’ already there; not retrieving.\r\n",
      "File ‘../data/sea_surface_salinity/2012/ESACCI-SEASURFACESALINITY-L4-SSS-MERGED_OI_Monthly_CENTRED_15Day_25km-20120301-fv2.31.nc’ already there; not retrieving.\r\n",
      "File ‘../data/sea_surface_salinity/2012/ESACCI-SEASURFACESALINITY-L4-SSS-MERGED_OI_Monthly_CENTRED_15Day_25km-20120315-fv2.31.nc’ already there; not retrieving.\r\n",
      "File ‘../data/sea_surface_salinity/2012/ESACCI-SEASURFACESALINITY-L4-SSS-MERGED_OI_Monthly_CENTRED_15Day_25km-20120401-fv2.31.nc’ already there; not retrieving.\r\n",
      "File ‘../data/sea_surface_salinity/2012/ESACCI-SEASURFACESALINITY-L4-SSS-MERGED_OI_Monthly_CENTRED_15Day_25km-20120415-fv2.31.nc’ already there; not retrieving.\r\n",
      "File ‘../data/sea_surface_salinity/2012/ESACCI-SEASURFACESALINITY-L4-SSS-MERGED_OI_Monthly_CENTRED_15Day_25km-20120501-fv2.31.nc’ already there; not retrieving.\r\n",
      "File ‘../data/sea_surface_salinity/2012/ESACCI-SEASURFACESALINITY-L4-SSS-MERGED_OI_Monthly_CENTRED_15Day_25km-20120515-fv2.31.nc’ already there; not retrieving.\r\n",
      "File ‘../data/sea_surface_salinity/2012/ESACCI-SEASURFACESALINITY-L4-SSS-MERGED_OI_Monthly_CENTRED_15Day_25km-20120601-fv2.31.nc’ already there; not retrieving.\r\n",
      "File ‘../data/sea_surface_salinity/2012/ESACCI-SEASURFACESALINITY-L4-SSS-MERGED_OI_Monthly_CENTRED_15Day_25km-20120615-fv2.31.nc’ already there; not retrieving.\r\n",
      "File ‘../data/sea_surface_salinity/2012/ESACCI-SEASURFACESALINITY-L4-SSS-MERGED_OI_Monthly_CENTRED_15Day_25km-20120701-fv2.31.nc’ already there; not retrieving.\r\n",
      "File ‘../data/sea_surface_salinity/2012/ESACCI-SEASURFACESALINITY-L4-SSS-MERGED_OI_Monthly_CENTRED_15Day_25km-20120715-fv2.31.nc’ already there; not retrieving.\r\n",
      "File ‘../data/sea_surface_salinity/2012/ESACCI-SEASURFACESALINITY-L4-SSS-MERGED_OI_Monthly_CENTRED_15Day_25km-20120801-fv2.31.nc’ already there; not retrieving.\r\n",
      "File ‘../data/sea_surface_salinity/2012/ESACCI-SEASURFACESALINITY-L4-SSS-MERGED_OI_Monthly_CENTRED_15Day_25km-20120815-fv2.31.nc’ already there; not retrieving.\r\n",
      "File ‘../data/sea_surface_salinity/2012/ESACCI-SEASURFACESALINITY-L4-SSS-MERGED_OI_Monthly_CENTRED_15Day_25km-20120901-fv2.31.nc’ already there; not retrieving.\r\n",
      "File ‘../data/sea_surface_salinity/2012/ESACCI-SEASURFACESALINITY-L4-SSS-MERGED_OI_Monthly_CENTRED_15Day_25km-20120915-fv2.31.nc’ already there; not retrieving.\r\n",
      "File ‘../data/sea_surface_salinity/2012/ESACCI-SEASURFACESALINITY-L4-SSS-MERGED_OI_Monthly_CENTRED_15Day_25km-20121001-fv2.31.nc’ already there; not retrieving.\r\n",
      "File ‘../data/sea_surface_salinity/2012/ESACCI-SEASURFACESALINITY-L4-SSS-MERGED_OI_Monthly_CENTRED_15Day_25km-20121015-fv2.31.nc’ already there; not retrieving.\r\n",
      "File ‘../data/sea_surface_salinity/2012/ESACCI-SEASURFACESALINITY-L4-SSS-MERGED_OI_Monthly_CENTRED_15Day_25km-20121101-fv2.31.nc’ already there; not retrieving.\r\n",
      "File ‘../data/sea_surface_salinity/2012/ESACCI-SEASURFACESALINITY-L4-SSS-MERGED_OI_Monthly_CENTRED_15Day_25km-20121115-fv2.31.nc’ already there; not retrieving.\r\n",
      "File ‘../data/sea_surface_salinity/2012/ESACCI-SEASURFACESALINITY-L4-SSS-MERGED_OI_Monthly_CENTRED_15Day_25km-20121201-fv2.31.nc’ already there; not retrieving.\r\n",
      "File ‘../data/sea_surface_salinity/2012/ESACCI-SEASURFACESALINITY-L4-SSS-MERGED_OI_Monthly_CENTRED_15Day_25km-20121215-fv2.31.nc’ already there; not retrieving.\r\n",
      "--2021-02-19 18:27:13--  ftp://anon-ftp.ceda.ac.uk/neodc/esacci/sea_surface_salinity/data/v02.31/30days/2013\r\n",
      "           => ‘../data/sea_surface_salinity/2013/.listing’\r\n",
      "Resolving anon-ftp.ceda.ac.uk (anon-ftp.ceda.ac.uk)... 130.246.130.100\r\n",
      "Connecting to anon-ftp.ceda.ac.uk (anon-ftp.ceda.ac.uk)|130.246.130.100|:21... connected.\r\n",
      "Logging in as anonymous ... Logged in!\r\n",
      "==> SYST ... done.    ==> PWD ... done.\r\n",
      "==> TYPE I ... done.  ==> CWD (1) /neodc/esacci/sea_surface_salinity/data/v02.31/30days ... done.\r\n",
      "==> PASV ... done.    ==> LIST ... done.\r\n",
      "\r\n",
      ".listing                [ <=>                ]     818  --.-KB/s    in 0,009s  \r\n",
      "\r\n",
      "2021-02-19 18:27:13 (84,6 KB/s) - ‘../data/sea_surface_salinity/2013/.listing’ saved [818]\r\n",
      "\r\n",
      "Removed ‘../data/sea_surface_salinity/2013/.listing’.\r\n",
      "--2021-02-19 18:27:13--  ftp://anon-ftp.ceda.ac.uk/neodc/esacci/sea_surface_salinity/data/v02.31/30days/2013/2013\r\n",
      "           => ‘../data/sea_surface_salinity/2013/.listing’\r\n",
      "==> CWD (1) /neodc/esacci/sea_surface_salinity/data/v02.31/30days/2013 ... done.\r\n",
      "==> PASV ... done.    ==> LIST ... done.\r\n",
      "\r\n",
      ".listing                [ <=>                ]   3,51K  --.-KB/s    in 0,03s   \r\n",
      "\r\n",
      "2021-02-19 18:27:13 (126 KB/s) - ‘../data/sea_surface_salinity/2013/.listing’ saved [3597]\r\n",
      "\r\n",
      "Removed ‘../data/sea_surface_salinity/2013/.listing’.\r\n",
      "File ‘../data/sea_surface_salinity/2013/ESACCI-SEASURFACESALINITY-L4-SSS-MERGED_OI_Monthly_CENTRED_15Day_25km-20130101-fv2.31.nc’ already there; not retrieving.\r\n",
      "File ‘../data/sea_surface_salinity/2013/ESACCI-SEASURFACESALINITY-L4-SSS-MERGED_OI_Monthly_CENTRED_15Day_25km-20130115-fv2.31.nc’ already there; not retrieving.\r\n",
      "File ‘../data/sea_surface_salinity/2013/ESACCI-SEASURFACESALINITY-L4-SSS-MERGED_OI_Monthly_CENTRED_15Day_25km-20130201-fv2.31.nc’ already there; not retrieving.\r\n",
      "File ‘../data/sea_surface_salinity/2013/ESACCI-SEASURFACESALINITY-L4-SSS-MERGED_OI_Monthly_CENTRED_15Day_25km-20130215-fv2.31.nc’ already there; not retrieving.\r\n",
      "File ‘../data/sea_surface_salinity/2013/ESACCI-SEASURFACESALINITY-L4-SSS-MERGED_OI_Monthly_CENTRED_15Day_25km-20130301-fv2.31.nc’ already there; not retrieving.\r\n",
      "File ‘../data/sea_surface_salinity/2013/ESACCI-SEASURFACESALINITY-L4-SSS-MERGED_OI_Monthly_CENTRED_15Day_25km-20130315-fv2.31.nc’ already there; not retrieving.\r\n",
      "File ‘../data/sea_surface_salinity/2013/ESACCI-SEASURFACESALINITY-L4-SSS-MERGED_OI_Monthly_CENTRED_15Day_25km-20130401-fv2.31.nc’ already there; not retrieving.\r\n",
      "File ‘../data/sea_surface_salinity/2013/ESACCI-SEASURFACESALINITY-L4-SSS-MERGED_OI_Monthly_CENTRED_15Day_25km-20130415-fv2.31.nc’ already there; not retrieving.\r\n",
      "File ‘../data/sea_surface_salinity/2013/ESACCI-SEASURFACESALINITY-L4-SSS-MERGED_OI_Monthly_CENTRED_15Day_25km-20130501-fv2.31.nc’ already there; not retrieving.\r\n",
      "File ‘../data/sea_surface_salinity/2013/ESACCI-SEASURFACESALINITY-L4-SSS-MERGED_OI_Monthly_CENTRED_15Day_25km-20130515-fv2.31.nc’ already there; not retrieving.\r\n",
      "File ‘../data/sea_surface_salinity/2013/ESACCI-SEASURFACESALINITY-L4-SSS-MERGED_OI_Monthly_CENTRED_15Day_25km-20130601-fv2.31.nc’ already there; not retrieving.\r\n",
      "File ‘../data/sea_surface_salinity/2013/ESACCI-SEASURFACESALINITY-L4-SSS-MERGED_OI_Monthly_CENTRED_15Day_25km-20130615-fv2.31.nc’ already there; not retrieving.\r\n",
      "File ‘../data/sea_surface_salinity/2013/ESACCI-SEASURFACESALINITY-L4-SSS-MERGED_OI_Monthly_CENTRED_15Day_25km-20130701-fv2.31.nc’ already there; not retrieving.\r\n",
      "File ‘../data/sea_surface_salinity/2013/ESACCI-SEASURFACESALINITY-L4-SSS-MERGED_OI_Monthly_CENTRED_15Day_25km-20130715-fv2.31.nc’ already there; not retrieving.\r\n",
      "File ‘../data/sea_surface_salinity/2013/ESACCI-SEASURFACESALINITY-L4-SSS-MERGED_OI_Monthly_CENTRED_15Day_25km-20130801-fv2.31.nc’ already there; not retrieving.\r\n",
      "File ‘../data/sea_surface_salinity/2013/ESACCI-SEASURFACESALINITY-L4-SSS-MERGED_OI_Monthly_CENTRED_15Day_25km-20130815-fv2.31.nc’ already there; not retrieving.\r\n",
      "File ‘../data/sea_surface_salinity/2013/ESACCI-SEASURFACESALINITY-L4-SSS-MERGED_OI_Monthly_CENTRED_15Day_25km-20130901-fv2.31.nc’ already there; not retrieving.\r\n",
      "File ‘../data/sea_surface_salinity/2013/ESACCI-SEASURFACESALINITY-L4-SSS-MERGED_OI_Monthly_CENTRED_15Day_25km-20130915-fv2.31.nc’ already there; not retrieving.\r\n",
      "File ‘../data/sea_surface_salinity/2013/ESACCI-SEASURFACESALINITY-L4-SSS-MERGED_OI_Monthly_CENTRED_15Day_25km-20131001-fv2.31.nc’ already there; not retrieving.\r\n",
      "File ‘../data/sea_surface_salinity/2013/ESACCI-SEASURFACESALINITY-L4-SSS-MERGED_OI_Monthly_CENTRED_15Day_25km-20131015-fv2.31.nc’ already there; not retrieving.\r\n",
      "File ‘../data/sea_surface_salinity/2013/ESACCI-SEASURFACESALINITY-L4-SSS-MERGED_OI_Monthly_CENTRED_15Day_25km-20131101-fv2.31.nc’ already there; not retrieving.\r\n",
      "File ‘../data/sea_surface_salinity/2013/ESACCI-SEASURFACESALINITY-L4-SSS-MERGED_OI_Monthly_CENTRED_15Day_25km-20131115-fv2.31.nc’ already there; not retrieving.\r\n",
      "File ‘../data/sea_surface_salinity/2013/ESACCI-SEASURFACESALINITY-L4-SSS-MERGED_OI_Monthly_CENTRED_15Day_25km-20131201-fv2.31.nc’ already there; not retrieving.\r\n",
      "File ‘../data/sea_surface_salinity/2013/ESACCI-SEASURFACESALINITY-L4-SSS-MERGED_OI_Monthly_CENTRED_15Day_25km-20131215-fv2.31.nc’ already there; not retrieving.\r\n",
      "--2021-02-19 18:27:13--  ftp://anon-ftp.ceda.ac.uk/neodc/esacci/sea_surface_salinity/data/v02.31/30days/2014\r\n",
      "           => ‘../data/sea_surface_salinity/2014/.listing’\r\n",
      "Resolving anon-ftp.ceda.ac.uk (anon-ftp.ceda.ac.uk)... 130.246.130.100\r\n",
      "Connecting to anon-ftp.ceda.ac.uk (anon-ftp.ceda.ac.uk)|130.246.130.100|:21... connected.\r\n",
      "Logging in as anonymous ... Logged in!\r\n",
      "==> SYST ... done.    ==> PWD ... done.\r\n",
      "==> TYPE I ... done.  ==> CWD (1) /neodc/esacci/sea_surface_salinity/data/v02.31/30days ... done.\r\n",
      "==> PASV ... done.    ==> LIST ... done.\r\n",
      "\r\n",
      ".listing                [ <=>                ]     818  --.-KB/s    in 0,01s   \r\n",
      "\r\n",
      "2021-02-19 18:27:14 (57,4 KB/s) - ‘../data/sea_surface_salinity/2014/.listing’ saved [818]\r\n",
      "\r\n",
      "Removed ‘../data/sea_surface_salinity/2014/.listing’.\r\n",
      "--2021-02-19 18:27:14--  ftp://anon-ftp.ceda.ac.uk/neodc/esacci/sea_surface_salinity/data/v02.31/30days/2014/2014\r\n",
      "           => ‘../data/sea_surface_salinity/2014/.listing’\r\n",
      "==> CWD (1) /neodc/esacci/sea_surface_salinity/data/v02.31/30days/2014 ... done.\r\n",
      "==> PASV ... done.    ==> LIST ... done.\r\n",
      "\r\n",
      ".listing                [ <=>                ]   3,51K  --.-KB/s    in 0,03s   \r\n",
      "\r\n",
      "2021-02-19 18:27:14 (120 KB/s) - ‘../data/sea_surface_salinity/2014/.listing’ saved [3597]\r\n",
      "\r\n",
      "Removed ‘../data/sea_surface_salinity/2014/.listing’.\r\n",
      "File ‘../data/sea_surface_salinity/2014/ESACCI-SEASURFACESALINITY-L4-SSS-MERGED_OI_Monthly_CENTRED_15Day_25km-20140101-fv2.31.nc’ already there; not retrieving.\r\n",
      "File ‘../data/sea_surface_salinity/2014/ESACCI-SEASURFACESALINITY-L4-SSS-MERGED_OI_Monthly_CENTRED_15Day_25km-20140115-fv2.31.nc’ already there; not retrieving.\r\n",
      "File ‘../data/sea_surface_salinity/2014/ESACCI-SEASURFACESALINITY-L4-SSS-MERGED_OI_Monthly_CENTRED_15Day_25km-20140201-fv2.31.nc’ already there; not retrieving.\r\n",
      "File ‘../data/sea_surface_salinity/2014/ESACCI-SEASURFACESALINITY-L4-SSS-MERGED_OI_Monthly_CENTRED_15Day_25km-20140215-fv2.31.nc’ already there; not retrieving.\r\n",
      "File ‘../data/sea_surface_salinity/2014/ESACCI-SEASURFACESALINITY-L4-SSS-MERGED_OI_Monthly_CENTRED_15Day_25km-20140301-fv2.31.nc’ already there; not retrieving.\r\n",
      "File ‘../data/sea_surface_salinity/2014/ESACCI-SEASURFACESALINITY-L4-SSS-MERGED_OI_Monthly_CENTRED_15Day_25km-20140315-fv2.31.nc’ already there; not retrieving.\r\n",
      "File ‘../data/sea_surface_salinity/2014/ESACCI-SEASURFACESALINITY-L4-SSS-MERGED_OI_Monthly_CENTRED_15Day_25km-20140401-fv2.31.nc’ already there; not retrieving.\r\n",
      "File ‘../data/sea_surface_salinity/2014/ESACCI-SEASURFACESALINITY-L4-SSS-MERGED_OI_Monthly_CENTRED_15Day_25km-20140415-fv2.31.nc’ already there; not retrieving.\r\n",
      "File ‘../data/sea_surface_salinity/2014/ESACCI-SEASURFACESALINITY-L4-SSS-MERGED_OI_Monthly_CENTRED_15Day_25km-20140501-fv2.31.nc’ already there; not retrieving.\r\n",
      "File ‘../data/sea_surface_salinity/2014/ESACCI-SEASURFACESALINITY-L4-SSS-MERGED_OI_Monthly_CENTRED_15Day_25km-20140515-fv2.31.nc’ already there; not retrieving.\r\n",
      "File ‘../data/sea_surface_salinity/2014/ESACCI-SEASURFACESALINITY-L4-SSS-MERGED_OI_Monthly_CENTRED_15Day_25km-20140601-fv2.31.nc’ already there; not retrieving.\r\n",
      "File ‘../data/sea_surface_salinity/2014/ESACCI-SEASURFACESALINITY-L4-SSS-MERGED_OI_Monthly_CENTRED_15Day_25km-20140615-fv2.31.nc’ already there; not retrieving.\r\n",
      "File ‘../data/sea_surface_salinity/2014/ESACCI-SEASURFACESALINITY-L4-SSS-MERGED_OI_Monthly_CENTRED_15Day_25km-20140701-fv2.31.nc’ already there; not retrieving.\r\n",
      "File ‘../data/sea_surface_salinity/2014/ESACCI-SEASURFACESALINITY-L4-SSS-MERGED_OI_Monthly_CENTRED_15Day_25km-20140715-fv2.31.nc’ already there; not retrieving.\r\n",
      "File ‘../data/sea_surface_salinity/2014/ESACCI-SEASURFACESALINITY-L4-SSS-MERGED_OI_Monthly_CENTRED_15Day_25km-20140801-fv2.31.nc’ already there; not retrieving.\r\n",
      "File ‘../data/sea_surface_salinity/2014/ESACCI-SEASURFACESALINITY-L4-SSS-MERGED_OI_Monthly_CENTRED_15Day_25km-20140815-fv2.31.nc’ already there; not retrieving.\r\n",
      "File ‘../data/sea_surface_salinity/2014/ESACCI-SEASURFACESALINITY-L4-SSS-MERGED_OI_Monthly_CENTRED_15Day_25km-20140901-fv2.31.nc’ already there; not retrieving.\r\n",
      "File ‘../data/sea_surface_salinity/2014/ESACCI-SEASURFACESALINITY-L4-SSS-MERGED_OI_Monthly_CENTRED_15Day_25km-20140915-fv2.31.nc’ already there; not retrieving.\r\n",
      "File ‘../data/sea_surface_salinity/2014/ESACCI-SEASURFACESALINITY-L4-SSS-MERGED_OI_Monthly_CENTRED_15Day_25km-20141001-fv2.31.nc’ already there; not retrieving.\r\n",
      "File ‘../data/sea_surface_salinity/2014/ESACCI-SEASURFACESALINITY-L4-SSS-MERGED_OI_Monthly_CENTRED_15Day_25km-20141015-fv2.31.nc’ already there; not retrieving.\r\n",
      "File ‘../data/sea_surface_salinity/2014/ESACCI-SEASURFACESALINITY-L4-SSS-MERGED_OI_Monthly_CENTRED_15Day_25km-20141101-fv2.31.nc’ already there; not retrieving.\r\n",
      "File ‘../data/sea_surface_salinity/2014/ESACCI-SEASURFACESALINITY-L4-SSS-MERGED_OI_Monthly_CENTRED_15Day_25km-20141115-fv2.31.nc’ already there; not retrieving.\r\n",
      "File ‘../data/sea_surface_salinity/2014/ESACCI-SEASURFACESALINITY-L4-SSS-MERGED_OI_Monthly_CENTRED_15Day_25km-20141201-fv2.31.nc’ already there; not retrieving.\r\n",
      "File ‘../data/sea_surface_salinity/2014/ESACCI-SEASURFACESALINITY-L4-SSS-MERGED_OI_Monthly_CENTRED_15Day_25km-20141215-fv2.31.nc’ already there; not retrieving.\r\n",
      "--2021-02-19 18:27:14--  ftp://anon-ftp.ceda.ac.uk/neodc/esacci/sea_surface_salinity/data/v02.31/30days/2015\r\n",
      "           => ‘../data/sea_surface_salinity/2015/.listing’\r\n",
      "Resolving anon-ftp.ceda.ac.uk (anon-ftp.ceda.ac.uk)... 130.246.130.100\r\n",
      "Connecting to anon-ftp.ceda.ac.uk (anon-ftp.ceda.ac.uk)|130.246.130.100|:21... connected.\r\n",
      "Logging in as anonymous ... Logged in!\r\n",
      "==> SYST ... done.    ==> PWD ... done.\r\n",
      "==> TYPE I ... done.  ==> CWD (1) /neodc/esacci/sea_surface_salinity/data/v02.31/30days ... done.\r\n",
      "==> PASV ... done.    ==> LIST ... done.\r\n",
      "\r\n",
      ".listing                [ <=>                ]     818  --.-KB/s    in 0,04s   \r\n",
      "\r\n",
      "2021-02-19 18:27:15 (18,5 KB/s) - ‘../data/sea_surface_salinity/2015/.listing’ saved [818]\r\n",
      "\r\n",
      "Removed ‘../data/sea_surface_salinity/2015/.listing’.\r\n",
      "--2021-02-19 18:27:15--  ftp://anon-ftp.ceda.ac.uk/neodc/esacci/sea_surface_salinity/data/v02.31/30days/2015/2015\r\n",
      "           => ‘../data/sea_surface_salinity/2015/.listing’\r\n",
      "==> CWD (1) /neodc/esacci/sea_surface_salinity/data/v02.31/30days/2015 ... done.\r\n",
      "==> PASV ... done.    ==> LIST ... done.\r\n",
      "\r\n",
      ".listing                [ <=>                ]   3,51K  --.-KB/s    in 0,03s   \r\n",
      "\r\n",
      "2021-02-19 18:27:15 (112 KB/s) - ‘../data/sea_surface_salinity/2015/.listing’ saved [3597]\r\n",
      "\r\n",
      "Removed ‘../data/sea_surface_salinity/2015/.listing’.\r\n",
      "File ‘../data/sea_surface_salinity/2015/ESACCI-SEASURFACESALINITY-L4-SSS-MERGED_OI_Monthly_CENTRED_15Day_25km-20150101-fv2.31.nc’ already there; not retrieving.\r\n",
      "File ‘../data/sea_surface_salinity/2015/ESACCI-SEASURFACESALINITY-L4-SSS-MERGED_OI_Monthly_CENTRED_15Day_25km-20150115-fv2.31.nc’ already there; not retrieving.\r\n",
      "File ‘../data/sea_surface_salinity/2015/ESACCI-SEASURFACESALINITY-L4-SSS-MERGED_OI_Monthly_CENTRED_15Day_25km-20150201-fv2.31.nc’ already there; not retrieving.\r\n",
      "File ‘../data/sea_surface_salinity/2015/ESACCI-SEASURFACESALINITY-L4-SSS-MERGED_OI_Monthly_CENTRED_15Day_25km-20150215-fv2.31.nc’ already there; not retrieving.\r\n",
      "File ‘../data/sea_surface_salinity/2015/ESACCI-SEASURFACESALINITY-L4-SSS-MERGED_OI_Monthly_CENTRED_15Day_25km-20150301-fv2.31.nc’ already there; not retrieving.\r\n",
      "File ‘../data/sea_surface_salinity/2015/ESACCI-SEASURFACESALINITY-L4-SSS-MERGED_OI_Monthly_CENTRED_15Day_25km-20150315-fv2.31.nc’ already there; not retrieving.\r\n",
      "File ‘../data/sea_surface_salinity/2015/ESACCI-SEASURFACESALINITY-L4-SSS-MERGED_OI_Monthly_CENTRED_15Day_25km-20150401-fv2.31.nc’ already there; not retrieving.\r\n",
      "File ‘../data/sea_surface_salinity/2015/ESACCI-SEASURFACESALINITY-L4-SSS-MERGED_OI_Monthly_CENTRED_15Day_25km-20150415-fv2.31.nc’ already there; not retrieving.\r\n",
      "File ‘../data/sea_surface_salinity/2015/ESACCI-SEASURFACESALINITY-L4-SSS-MERGED_OI_Monthly_CENTRED_15Day_25km-20150501-fv2.31.nc’ already there; not retrieving.\r\n",
      "File ‘../data/sea_surface_salinity/2015/ESACCI-SEASURFACESALINITY-L4-SSS-MERGED_OI_Monthly_CENTRED_15Day_25km-20150515-fv2.31.nc’ already there; not retrieving.\r\n",
      "File ‘../data/sea_surface_salinity/2015/ESACCI-SEASURFACESALINITY-L4-SSS-MERGED_OI_Monthly_CENTRED_15Day_25km-20150601-fv2.31.nc’ already there; not retrieving.\r\n",
      "File ‘../data/sea_surface_salinity/2015/ESACCI-SEASURFACESALINITY-L4-SSS-MERGED_OI_Monthly_CENTRED_15Day_25km-20150615-fv2.31.nc’ already there; not retrieving.\r\n",
      "File ‘../data/sea_surface_salinity/2015/ESACCI-SEASURFACESALINITY-L4-SSS-MERGED_OI_Monthly_CENTRED_15Day_25km-20150701-fv2.31.nc’ already there; not retrieving.\r\n",
      "File ‘../data/sea_surface_salinity/2015/ESACCI-SEASURFACESALINITY-L4-SSS-MERGED_OI_Monthly_CENTRED_15Day_25km-20150715-fv2.31.nc’ already there; not retrieving.\r\n",
      "File ‘../data/sea_surface_salinity/2015/ESACCI-SEASURFACESALINITY-L4-SSS-MERGED_OI_Monthly_CENTRED_15Day_25km-20150801-fv2.31.nc’ already there; not retrieving.\r\n",
      "File ‘../data/sea_surface_salinity/2015/ESACCI-SEASURFACESALINITY-L4-SSS-MERGED_OI_Monthly_CENTRED_15Day_25km-20150815-fv2.31.nc’ already there; not retrieving.\r\n",
      "File ‘../data/sea_surface_salinity/2015/ESACCI-SEASURFACESALINITY-L4-SSS-MERGED_OI_Monthly_CENTRED_15Day_25km-20150901-fv2.31.nc’ already there; not retrieving.\r\n",
      "File ‘../data/sea_surface_salinity/2015/ESACCI-SEASURFACESALINITY-L4-SSS-MERGED_OI_Monthly_CENTRED_15Day_25km-20150915-fv2.31.nc’ already there; not retrieving.\r\n",
      "File ‘../data/sea_surface_salinity/2015/ESACCI-SEASURFACESALINITY-L4-SSS-MERGED_OI_Monthly_CENTRED_15Day_25km-20151001-fv2.31.nc’ already there; not retrieving.\r\n",
      "File ‘../data/sea_surface_salinity/2015/ESACCI-SEASURFACESALINITY-L4-SSS-MERGED_OI_Monthly_CENTRED_15Day_25km-20151015-fv2.31.nc’ already there; not retrieving.\r\n",
      "File ‘../data/sea_surface_salinity/2015/ESACCI-SEASURFACESALINITY-L4-SSS-MERGED_OI_Monthly_CENTRED_15Day_25km-20151101-fv2.31.nc’ already there; not retrieving.\r\n",
      "File ‘../data/sea_surface_salinity/2015/ESACCI-SEASURFACESALINITY-L4-SSS-MERGED_OI_Monthly_CENTRED_15Day_25km-20151115-fv2.31.nc’ already there; not retrieving.\r\n",
      "File ‘../data/sea_surface_salinity/2015/ESACCI-SEASURFACESALINITY-L4-SSS-MERGED_OI_Monthly_CENTRED_15Day_25km-20151201-fv2.31.nc’ already there; not retrieving.\r\n",
      "File ‘../data/sea_surface_salinity/2015/ESACCI-SEASURFACESALINITY-L4-SSS-MERGED_OI_Monthly_CENTRED_15Day_25km-20151215-fv2.31.nc’ already there; not retrieving.\r\n",
      "Download sea surface salinity data complete.\r\n"
     ]
    }
   ],
   "source": [
    "!bash download_sea_surface_salinity_data.sh"
   ]
  },
  {
   "cell_type": "code",
   "execution_count": 6,
   "metadata": {
    "execution": {
     "iopub.execute_input": "2021-02-19T17:27:15.688079Z",
     "iopub.status.busy": "2021-02-19T17:27:15.686890Z",
     "iopub.status.idle": "2021-02-19T17:27:15.690480Z",
     "shell.execute_reply": "2021-02-19T17:27:15.691116Z"
    }
   },
   "outputs": [],
   "source": [
    "path = '../data/sea_surface_salinity/'"
   ]
  },
  {
   "cell_type": "code",
   "execution_count": 7,
   "metadata": {
    "execution": {
     "iopub.execute_input": "2021-02-19T17:27:15.696031Z",
     "iopub.status.busy": "2021-02-19T17:27:15.695411Z",
     "iopub.status.idle": "2021-02-19T17:27:15.721881Z",
     "shell.execute_reply": "2021-02-19T17:27:15.722533Z"
    }
   },
   "outputs": [],
   "source": [
    "data = nc.Dataset(path+str(years[0])+'/'+sorted(os.listdir(path+str(years[0])))[0])"
   ]
  },
  {
   "cell_type": "code",
   "execution_count": 8,
   "metadata": {
    "execution": {
     "iopub.execute_input": "2021-02-19T17:27:15.727099Z",
     "iopub.status.busy": "2021-02-19T17:27:15.726106Z",
     "iopub.status.idle": "2021-02-19T17:27:15.747057Z",
     "shell.execute_reply": "2021-02-19T17:27:15.746390Z"
    },
    "scrolled": true
   },
   "outputs": [
    {
     "name": "stdout",
     "output_type": "stream",
     "text": [
      "<class 'netCDF4._netCDF4.Variable'>\n",
      "int16 noutliers(time, lat, lon)\n",
      "    long_name: Count of the Number of Outliers within this bin cell\n",
      "    _FillValue: -1\n",
      "    valid_max: 10000\n",
      "    valid_min: 0\n",
      "unlimited dimensions: time\n",
      "current shape = (1, 584, 1388)\n",
      "filling on\n",
      "<class 'netCDF4._netCDF4.Variable'>\n",
      "int16 total_nobs(time, lat, lon)\n",
      "    long_name: Number of SSS in the time interval\n",
      "    _FillValue: -1\n",
      "    valid_max: 10000\n",
      "    valid_min: 0\n",
      "unlimited dimensions: time\n",
      "current shape = (1, 584, 1388)\n",
      "filling on\n",
      "<class 'netCDF4._netCDF4.Variable'>\n",
      "float32 sss_bias(time, lat, lon)\n",
      "    _FillValue: nan\n",
      "    long_name: Bias in Sea Surface Salinity\n",
      "    valid_max: 100.0\n",
      "    valid_min: -100.0\n",
      "unlimited dimensions: time\n",
      "current shape = (1, 584, 1388)\n",
      "filling on\n",
      "<class 'netCDF4._netCDF4.Variable'>\n",
      "float32 sss_random_error(time, lat, lon)\n",
      "    _FillValue: nan\n",
      "    long_name: Sea Surface Salinity Random Error\n",
      "    valid_max: 100.0\n",
      "    valid_min: 0.0\n",
      "unlimited dimensions: time\n",
      "current shape = (1, 584, 1388)\n",
      "filling on\n",
      "<class 'netCDF4._netCDF4.Variable'>\n",
      "float32 sss_bias_std(time, lat, lon)\n",
      "    _FillValue: nan\n",
      "    long_name: Standard Deviation of the Bias in Sea Surface Salinity\n",
      "    valid_max: 100.0\n",
      "    valid_min: 0.0\n",
      "unlimited dimensions: time\n",
      "current shape = (1, 584, 1388)\n",
      "filling on\n",
      "<class 'netCDF4._netCDF4.Variable'>\n",
      "float32 pct_var(time, lat, lon)\n",
      "    _FillValue: nan\n",
      "    long_name: Percentage of Explained Sea Surface Salinity Variance by the Sea Surface Salinity Standard Error\n",
      "    units: %\n",
      "    valid_max: 100.0\n",
      "    valid_min: 0.0\n",
      "unlimited dimensions: time\n",
      "current shape = (1, 584, 1388)\n",
      "filling on\n",
      "<class 'netCDF4._netCDF4.Variable'>\n",
      "int8 sss_qc(time, lat, lon)\n",
      "    long_name: Sea Surface Salinity Quality, 0=Good; 1=Bad\n",
      "    valid_max: 1\n",
      "    valid_min: 0\n",
      "unlimited dimensions: time\n",
      "current shape = (1, 584, 1388)\n",
      "filling on, default _FillValue of -127 ignored\n",
      "\n",
      "<class 'netCDF4._netCDF4.Variable'>\n",
      "int8 isc_qc(time, lat, lon)\n",
      "    long_name: Ice Sea Contamination Quality Check, 0=Good; 1=Bad\n",
      "    valid_max: 1\n",
      "    valid_min: 0\n",
      "unlimited dimensions: time\n",
      "current shape = (1, 584, 1388)\n",
      "filling on, default _FillValue of -127 ignored\n",
      "\n",
      "<class 'netCDF4._netCDF4.Variable'>\n",
      "float32 sss(time, lat, lon)\n",
      "    long_name: Unbiased merged Sea Surface Salinity\n",
      "    standard_name: sea_surface_salinity\n",
      "    valid_max: 50.0\n",
      "    valid_min: 0.0\n",
      "    _FillValue: nan\n",
      "unlimited dimensions: time\n",
      "current shape = (1, 584, 1388)\n",
      "filling on\n",
      "<class 'netCDF4._netCDF4.Variable'>\n",
      "float32 lat(lat)\n",
      "    _FillValue: nan\n",
      "    long_name: latitude\n",
      "    units: degrees_north\n",
      "    standard_name: latitude\n",
      "    valid_min: -90.0\n",
      "    valid_max: 90.0\n",
      "unlimited dimensions: \n",
      "current shape = (584,)\n",
      "filling on\n",
      "<class 'netCDF4._netCDF4.Variable'>\n",
      "float32 lon(lon)\n",
      "    _FillValue: nan\n",
      "    long_name: longitude\n",
      "    units: degrees_east\n",
      "    standard_name: longitude\n",
      "    valid_min: -180.0\n",
      "    valid_max: 180.0\n",
      "unlimited dimensions: \n",
      "current shape = (1388,)\n",
      "filling on\n",
      "<class 'netCDF4._netCDF4.Variable'>\n",
      "float32 time(time)\n",
      "    _FillValue: nan\n",
      "    long_name: time\n",
      "    units: days since 1970-01-01 00:00:00 UTC\n",
      "    standard_name: time\n",
      "    calendar: standard\n",
      "unlimited dimensions: time\n",
      "current shape = (1,)\n",
      "filling on\n",
      "<class 'netCDF4._netCDF4.Variable'>\n",
      "int8 lsc_qc(time, lat, lon)\n",
      "    long_name: Land Sea Contamination Quality Check, 0=Good; 1=Bad\n",
      "    valid_min: 0\n",
      "    valid_max: 1\n",
      "unlimited dimensions: time\n",
      "current shape = (1, 584, 1388)\n",
      "filling on, default _FillValue of -127 ignored\n",
      "\n"
     ]
    },
    {
     "name": "stderr",
     "output_type": "stream",
     "text": [
      "/home/alex/anaconda3/lib/python3.7/site-packages/ipykernel_launcher.py:2: DeprecationWarning: tostring() is deprecated. Use tobytes() instead.\n",
      "  \n"
     ]
    }
   ],
   "source": [
    "for var in data.variables.values():\n",
    "    print(var)"
   ]
  },
  {
   "cell_type": "code",
   "execution_count": 9,
   "metadata": {
    "execution": {
     "iopub.execute_input": "2021-02-19T17:27:15.760209Z",
     "iopub.status.busy": "2021-02-19T17:27:15.759132Z",
     "iopub.status.idle": "2021-02-19T17:27:48.655200Z",
     "shell.execute_reply": "2021-02-19T17:27:48.654546Z"
    }
   },
   "outputs": [
    {
     "name": "stdout",
     "output_type": "stream",
     "text": [
      "Processing 2010...\n",
      "Processing 2011...\n",
      "Processing 2012...\n",
      "Processing 2013...\n",
      "Processing 2014...\n",
      "Processing 2015...\n",
      "CPU times: user 29.5 s, sys: 2.87 s, total: 32.4 s\n",
      "Wall time: 32.9 s\n"
     ]
    }
   ],
   "source": [
    "%%time\n",
    "\n",
    "sss = select_bounding_box_region(path, years, 'sss', lon_min, lon_max, lat_min, lat_max)"
   ]
  },
  {
   "cell_type": "code",
   "execution_count": 10,
   "metadata": {
    "execution": {
     "iopub.execute_input": "2021-02-19T17:27:48.668782Z",
     "iopub.status.busy": "2021-02-19T17:27:48.667458Z",
     "iopub.status.idle": "2021-02-19T17:27:48.672136Z",
     "shell.execute_reply": "2021-02-19T17:27:48.672755Z"
    }
   },
   "outputs": [
    {
     "data": {
      "text/plain": [
       "(1817422, 4)"
      ]
     },
     "execution_count": 1,
     "metadata": {},
     "output_type": "execute_result"
    }
   ],
   "source": [
    "sss.shape"
   ]
  },
  {
   "cell_type": "code",
   "execution_count": 11,
   "metadata": {
    "execution": {
     "iopub.execute_input": "2021-02-19T17:27:48.684192Z",
     "iopub.status.busy": "2021-02-19T17:27:48.683107Z",
     "iopub.status.idle": "2021-02-19T17:27:48.687784Z",
     "shell.execute_reply": "2021-02-19T17:27:48.687043Z"
    }
   },
   "outputs": [
    {
     "name": "stdout",
     "output_type": "stream",
     "text": [
      "<class 'pandas.core.frame.DataFrame'>\n",
      "RangeIndex: 1817422 entries, 0 to 1817421\n",
      "Data columns (total 4 columns):\n",
      " #   Column  Dtype         \n",
      "---  ------  -----         \n",
      " 0   lat     float64       \n",
      " 1   lon     float64       \n",
      " 2   time    datetime64[ns]\n",
      " 3   sss     float32       \n",
      "dtypes: datetime64[ns](1), float32(1), float64(2)\n",
      "memory usage: 48.5 MB\n"
     ]
    }
   ],
   "source": [
    "sss.info()"
   ]
  },
  {
   "cell_type": "code",
   "execution_count": 12,
   "metadata": {
    "execution": {
     "iopub.execute_input": "2021-02-19T17:27:48.698182Z",
     "iopub.status.busy": "2021-02-19T17:27:48.696968Z",
     "iopub.status.idle": "2021-02-19T17:27:48.708320Z",
     "shell.execute_reply": "2021-02-19T17:27:48.707088Z"
    }
   },
   "outputs": [
    {
     "data": {
      "text/html": [
       "<div>\n",
       "<style scoped>\n",
       "    .dataframe tbody tr th:only-of-type {\n",
       "        vertical-align: middle;\n",
       "    }\n",
       "\n",
       "    .dataframe tbody tr th {\n",
       "        vertical-align: top;\n",
       "    }\n",
       "\n",
       "    .dataframe thead th {\n",
       "        text-align: right;\n",
       "    }\n",
       "</style>\n",
       "<table border=\"1\" class=\"dataframe\">\n",
       "  <thead>\n",
       "    <tr style=\"text-align: right;\">\n",
       "      <th></th>\n",
       "      <th>lat</th>\n",
       "      <th>lon</th>\n",
       "      <th>time</th>\n",
       "      <th>sss</th>\n",
       "    </tr>\n",
       "  </thead>\n",
       "  <tbody>\n",
       "    <tr>\n",
       "      <th>0</th>\n",
       "      <td>0.098082</td>\n",
       "      <td>60.043228</td>\n",
       "      <td>2010-04-15</td>\n",
       "      <td>35.378178</td>\n",
       "    </tr>\n",
       "    <tr>\n",
       "      <th>1</th>\n",
       "      <td>0.098082</td>\n",
       "      <td>60.302593</td>\n",
       "      <td>2010-04-15</td>\n",
       "      <td>35.311237</td>\n",
       "    </tr>\n",
       "    <tr>\n",
       "      <th>2</th>\n",
       "      <td>0.098082</td>\n",
       "      <td>60.561958</td>\n",
       "      <td>2010-04-15</td>\n",
       "      <td>35.226299</td>\n",
       "    </tr>\n",
       "    <tr>\n",
       "      <th>3</th>\n",
       "      <td>0.098082</td>\n",
       "      <td>60.821327</td>\n",
       "      <td>2010-04-15</td>\n",
       "      <td>35.049088</td>\n",
       "    </tr>\n",
       "    <tr>\n",
       "      <th>4</th>\n",
       "      <td>0.098082</td>\n",
       "      <td>61.080692</td>\n",
       "      <td>2010-04-15</td>\n",
       "      <td>35.022762</td>\n",
       "    </tr>\n",
       "  </tbody>\n",
       "</table>\n",
       "</div>"
      ],
      "text/plain": [
       "        lat        lon       time        sss\n",
       "0  0.098082  60.043228 2010-04-15  35.378178\n",
       "1  0.098082  60.302593 2010-04-15  35.311237\n",
       "2  0.098082  60.561958 2010-04-15  35.226299\n",
       "3  0.098082  60.821327 2010-04-15  35.049088\n",
       "4  0.098082  61.080692 2010-04-15  35.022762"
      ]
     },
     "execution_count": 1,
     "metadata": {},
     "output_type": "execute_result"
    }
   ],
   "source": [
    "sss.head()"
   ]
  },
  {
   "cell_type": "code",
   "execution_count": 13,
   "metadata": {
    "execution": {
     "iopub.execute_input": "2021-02-19T17:27:48.755273Z",
     "iopub.status.busy": "2021-02-19T17:27:48.719753Z",
     "iopub.status.idle": "2021-02-19T17:28:00.474545Z",
     "shell.execute_reply": "2021-02-19T17:28:00.475182Z"
    }
   },
   "outputs": [],
   "source": [
    "sss['year'] = sss.time.apply(lambda x: x.year)"
   ]
  },
  {
   "cell_type": "code",
   "execution_count": 14,
   "metadata": {
    "execution": {
     "iopub.execute_input": "2021-02-19T17:28:00.546775Z",
     "iopub.status.busy": "2021-02-19T17:28:00.511149Z",
     "iopub.status.idle": "2021-02-19T17:28:11.710358Z",
     "shell.execute_reply": "2021-02-19T17:28:11.711011Z"
    }
   },
   "outputs": [],
   "source": [
    "sss['month'] = sss.time.apply(lambda x: x.month)"
   ]
  },
  {
   "cell_type": "code",
   "execution_count": 15,
   "metadata": {
    "execution": {
     "iopub.execute_input": "2021-02-19T17:28:11.717247Z",
     "iopub.status.busy": "2021-02-19T17:28:11.716139Z",
     "iopub.status.idle": "2021-02-19T17:28:12.283655Z",
     "shell.execute_reply": "2021-02-19T17:28:12.284284Z"
    }
   },
   "outputs": [],
   "source": [
    "sss = sss[['lat', 'lon', 'year', 'month', 'sss']].groupby(['lat', 'lon', 'year', 'month']).aggregate('mean').reset_index()"
   ]
  },
  {
   "cell_type": "code",
   "execution_count": 16,
   "metadata": {
    "execution": {
     "iopub.execute_input": "2021-02-19T17:28:12.289250Z",
     "iopub.status.busy": "2021-02-19T17:28:12.288611Z",
     "iopub.status.idle": "2021-02-19T17:28:24.077016Z",
     "shell.execute_reply": "2021-02-19T17:28:24.076348Z"
    }
   },
   "outputs": [],
   "source": [
    "sss = gpd.GeoDataFrame(sss, geometry=gpd.points_from_xy(sss.lon, sss.lat), crs={'init': 'epsg:4326'})"
   ]
  },
  {
   "cell_type": "code",
   "execution_count": 17,
   "metadata": {
    "execution": {
     "iopub.execute_input": "2021-02-19T17:28:24.083656Z",
     "iopub.status.busy": "2021-02-19T17:28:24.082209Z",
     "iopub.status.idle": "2021-02-19T17:28:24.143435Z",
     "shell.execute_reply": "2021-02-19T17:28:24.142215Z"
    }
   },
   "outputs": [],
   "source": [
    "sss = sss.drop(['lat', 'lon'], axis=1)"
   ]
  },
  {
   "cell_type": "code",
   "execution_count": 18,
   "metadata": {
    "execution": {
     "iopub.execute_input": "2021-02-19T17:28:24.150215Z",
     "iopub.status.busy": "2021-02-19T17:28:24.148689Z",
     "iopub.status.idle": "2021-02-19T17:28:24.153054Z",
     "shell.execute_reply": "2021-02-19T17:28:24.153919Z"
    }
   },
   "outputs": [
    {
     "data": {
      "text/plain": [
       "(908712, 4)"
      ]
     },
     "execution_count": 1,
     "metadata": {},
     "output_type": "execute_result"
    }
   ],
   "source": [
    "sss.shape"
   ]
  },
  {
   "cell_type": "code",
   "execution_count": 19,
   "metadata": {
    "execution": {
     "iopub.execute_input": "2021-02-19T17:28:24.160054Z",
     "iopub.status.busy": "2021-02-19T17:28:24.159217Z",
     "iopub.status.idle": "2021-02-19T17:28:24.260122Z",
     "shell.execute_reply": "2021-02-19T17:28:24.261239Z"
    }
   },
   "outputs": [
    {
     "name": "stdout",
     "output_type": "stream",
     "text": [
      "<class 'geopandas.geodataframe.GeoDataFrame'>\n",
      "RangeIndex: 908712 entries, 0 to 908711\n",
      "Data columns (total 4 columns):\n",
      " #   Column    Non-Null Count   Dtype   \n",
      "---  ------    --------------   -----   \n",
      " 0   year      908712 non-null  int64   \n",
      " 1   month     908712 non-null  int64   \n",
      " 2   sss       908712 non-null  float32 \n",
      " 3   geometry  908712 non-null  geometry\n",
      "dtypes: float32(1), geometry(1), int64(2)\n",
      "memory usage: 24.3 MB\n"
     ]
    }
   ],
   "source": [
    "sss.info()"
   ]
  },
  {
   "cell_type": "code",
   "execution_count": 20,
   "metadata": {
    "execution": {
     "iopub.execute_input": "2021-02-19T17:28:24.269813Z",
     "iopub.status.busy": "2021-02-19T17:28:24.269156Z",
     "iopub.status.idle": "2021-02-19T17:28:24.277917Z",
     "shell.execute_reply": "2021-02-19T17:28:24.278613Z"
    }
   },
   "outputs": [
    {
     "data": {
      "text/html": [
       "<div>\n",
       "<style scoped>\n",
       "    .dataframe tbody tr th:only-of-type {\n",
       "        vertical-align: middle;\n",
       "    }\n",
       "\n",
       "    .dataframe tbody tr th {\n",
       "        vertical-align: top;\n",
       "    }\n",
       "\n",
       "    .dataframe thead th {\n",
       "        text-align: right;\n",
       "    }\n",
       "</style>\n",
       "<table border=\"1\" class=\"dataframe\">\n",
       "  <thead>\n",
       "    <tr style=\"text-align: right;\">\n",
       "      <th></th>\n",
       "      <th>year</th>\n",
       "      <th>month</th>\n",
       "      <th>sss</th>\n",
       "      <th>geometry</th>\n",
       "    </tr>\n",
       "  </thead>\n",
       "  <tbody>\n",
       "    <tr>\n",
       "      <th>0</th>\n",
       "      <td>2010</td>\n",
       "      <td>1</td>\n",
       "      <td>35.265869</td>\n",
       "      <td>POINT (60.04323 0.09808)</td>\n",
       "    </tr>\n",
       "    <tr>\n",
       "      <th>1</th>\n",
       "      <td>2010</td>\n",
       "      <td>2</td>\n",
       "      <td>35.191532</td>\n",
       "      <td>POINT (60.04323 0.09808)</td>\n",
       "    </tr>\n",
       "    <tr>\n",
       "      <th>2</th>\n",
       "      <td>2010</td>\n",
       "      <td>3</td>\n",
       "      <td>35.426231</td>\n",
       "      <td>POINT (60.04323 0.09808)</td>\n",
       "    </tr>\n",
       "    <tr>\n",
       "      <th>3</th>\n",
       "      <td>2010</td>\n",
       "      <td>4</td>\n",
       "      <td>35.370430</td>\n",
       "      <td>POINT (60.04323 0.09808)</td>\n",
       "    </tr>\n",
       "    <tr>\n",
       "      <th>4</th>\n",
       "      <td>2010</td>\n",
       "      <td>5</td>\n",
       "      <td>35.310860</td>\n",
       "      <td>POINT (60.04323 0.09808)</td>\n",
       "    </tr>\n",
       "  </tbody>\n",
       "</table>\n",
       "</div>"
      ],
      "text/plain": [
       "   year  month        sss                  geometry\n",
       "0  2010      1  35.265869  POINT (60.04323 0.09808)\n",
       "1  2010      2  35.191532  POINT (60.04323 0.09808)\n",
       "2  2010      3  35.426231  POINT (60.04323 0.09808)\n",
       "3  2010      4  35.370430  POINT (60.04323 0.09808)\n",
       "4  2010      5  35.310860  POINT (60.04323 0.09808)"
      ]
     },
     "execution_count": 1,
     "metadata": {},
     "output_type": "execute_result"
    }
   ],
   "source": [
    "sss.head()"
   ]
  },
  {
   "cell_type": "code",
   "execution_count": 21,
   "metadata": {
    "execution": {
     "iopub.execute_input": "2021-02-19T17:28:24.296017Z",
     "iopub.status.busy": "2021-02-19T17:28:24.295172Z",
     "iopub.status.idle": "2021-02-19T17:29:55.269007Z",
     "shell.execute_reply": "2021-02-19T17:29:55.269638Z"
    }
   },
   "outputs": [],
   "source": [
    "sss.to_file(path+'monthly_sss_2010_2015.shp')"
   ]
  },
  {
   "cell_type": "markdown",
   "metadata": {},
   "source": [
    "## chlorophyll-a concentration"
   ]
  },
  {
   "cell_type": "code",
   "execution_count": 22,
   "metadata": {
    "execution": {
     "iopub.execute_input": "2021-02-19T17:29:55.274127Z",
     "iopub.status.busy": "2021-02-19T17:29:55.273444Z",
     "iopub.status.idle": "2021-02-19T17:30:02.797114Z",
     "shell.execute_reply": "2021-02-19T17:30:02.794926Z"
    }
   },
   "outputs": [
    {
     "name": "stdout",
     "output_type": "stream",
     "text": [
      "Download chlorophyll-a concentration data...\r\n",
      "--2021-02-19 18:29:55--  ftp://anon-ftp.ceda.ac.uk/neodc/esacci/ocean_colour/data/v4.2-release/geographic/netcdf/chlor_a/monthly/v4.2/2010\r\n",
      "           => ‘../data/chlorophyll_a_concentration/2010/.listing’\r\n",
      "Resolving anon-ftp.ceda.ac.uk (anon-ftp.ceda.ac.uk)... 130.246.130.100\r\n",
      "Connecting to anon-ftp.ceda.ac.uk (anon-ftp.ceda.ac.uk)|130.246.130.100|:21... connected.\r\n",
      "Logging in as anonymous ... Logged in!\r\n",
      "==> SYST ... done.    ==> PWD ... done.\r\n",
      "==> TYPE I ... done.  ==> CWD (1) /neodc/esacci/ocean_colour/data/v4.2-release/geographic/netcdf/chlor_a/monthly/v4.2 ... done.\r\n",
      "==> PASV ... done.    ==> LIST ... done.\r\n",
      "\r\n",
      ".listing                [ <=>                ]   1,48K  --.-KB/s    in 0,03s   \r\n",
      "\r\n",
      "2021-02-19 18:29:56 (58,6 KB/s) - ‘../data/chlorophyll_a_concentration/2010/.listing’ saved [1520]\r\n",
      "\r\n",
      "Removed ‘../data/chlorophyll_a_concentration/2010/.listing’.\r\n",
      "--2021-02-19 18:29:56--  ftp://anon-ftp.ceda.ac.uk/neodc/esacci/ocean_colour/data/v4.2-release/geographic/netcdf/chlor_a/monthly/v4.2/2010/2010\r\n",
      "           => ‘../data/chlorophyll_a_concentration/2010/.listing’\r\n",
      "==> CWD (1) /neodc/esacci/ocean_colour/data/v4.2-release/geographic/netcdf/chlor_a/monthly/v4.2/2010 ... done.\r\n",
      "==> PASV ... done.    ==> LIST ... done.\r\n",
      "\r\n",
      ".listing                [ <=>                ]   1,63K  --.-KB/s    in 0,009s  \r\n",
      "\r\n",
      "2021-02-19 18:29:56 (180 KB/s) - ‘../data/chlorophyll_a_concentration/2010/.listing’ saved [1665]\r\n",
      "\r\n",
      "Removed ‘../data/chlorophyll_a_concentration/2010/.listing’.\r\n",
      "File ‘../data/chlorophyll_a_concentration/2010/ESACCI-OC-L3S-CHLOR_A-MERGED-1M_MONTHLY_4km_GEO_PML_OCx-201001-fv4.2.nc’ already there; not retrieving.\r\n",
      "File ‘../data/chlorophyll_a_concentration/2010/ESACCI-OC-L3S-CHLOR_A-MERGED-1M_MONTHLY_4km_GEO_PML_OCx-201002-fv4.2.nc’ already there; not retrieving.\r\n",
      "File ‘../data/chlorophyll_a_concentration/2010/ESACCI-OC-L3S-CHLOR_A-MERGED-1M_MONTHLY_4km_GEO_PML_OCx-201003-fv4.2.nc’ already there; not retrieving.\r\n",
      "File ‘../data/chlorophyll_a_concentration/2010/ESACCI-OC-L3S-CHLOR_A-MERGED-1M_MONTHLY_4km_GEO_PML_OCx-201004-fv4.2.nc’ already there; not retrieving.\r\n",
      "File ‘../data/chlorophyll_a_concentration/2010/ESACCI-OC-L3S-CHLOR_A-MERGED-1M_MONTHLY_4km_GEO_PML_OCx-201005-fv4.2.nc’ already there; not retrieving.\r\n",
      "File ‘../data/chlorophyll_a_concentration/2010/ESACCI-OC-L3S-CHLOR_A-MERGED-1M_MONTHLY_4km_GEO_PML_OCx-201006-fv4.2.nc’ already there; not retrieving.\r\n",
      "File ‘../data/chlorophyll_a_concentration/2010/ESACCI-OC-L3S-CHLOR_A-MERGED-1M_MONTHLY_4km_GEO_PML_OCx-201007-fv4.2.nc’ already there; not retrieving.\r\n",
      "File ‘../data/chlorophyll_a_concentration/2010/ESACCI-OC-L3S-CHLOR_A-MERGED-1M_MONTHLY_4km_GEO_PML_OCx-201008-fv4.2.nc’ already there; not retrieving.\r\n",
      "File ‘../data/chlorophyll_a_concentration/2010/ESACCI-OC-L3S-CHLOR_A-MERGED-1M_MONTHLY_4km_GEO_PML_OCx-201009-fv4.2.nc’ already there; not retrieving.\r\n",
      "File ‘../data/chlorophyll_a_concentration/2010/ESACCI-OC-L3S-CHLOR_A-MERGED-1M_MONTHLY_4km_GEO_PML_OCx-201010-fv4.2.nc’ already there; not retrieving.\r\n",
      "File ‘../data/chlorophyll_a_concentration/2010/ESACCI-OC-L3S-CHLOR_A-MERGED-1M_MONTHLY_4km_GEO_PML_OCx-201011-fv4.2.nc’ already there; not retrieving.\r\n",
      "File ‘../data/chlorophyll_a_concentration/2010/ESACCI-OC-L3S-CHLOR_A-MERGED-1M_MONTHLY_4km_GEO_PML_OCx-201012-fv4.2.nc’ already there; not retrieving.\r\n",
      "--2021-02-19 18:29:56--  ftp://anon-ftp.ceda.ac.uk/neodc/esacci/ocean_colour/data/v4.2-release/geographic/netcdf/chlor_a/monthly/v4.2/2011\r\n",
      "           => ‘../data/chlorophyll_a_concentration/2011/.listing’\r\n",
      "Resolving anon-ftp.ceda.ac.uk (anon-ftp.ceda.ac.uk)... 130.246.130.100\r\n",
      "Connecting to anon-ftp.ceda.ac.uk (anon-ftp.ceda.ac.uk)|130.246.130.100|:21... connected.\r\n",
      "Logging in as anonymous ... Logged in!\r\n",
      "==> SYST ... done.    ==> PWD ... done.\r\n",
      "==> TYPE I ... done.  ==> CWD (1) /neodc/esacci/ocean_colour/data/v4.2-release/geographic/netcdf/chlor_a/monthly/v4.2 ... done.\r\n",
      "==> PASV ... done.    ==> LIST ... done.\r\n",
      "\r\n",
      ".listing                [ <=>                ]   1,48K  --.-KB/s    in 0,01s   \r\n",
      "\r\n",
      "2021-02-19 18:29:57 (99,1 KB/s) - ‘../data/chlorophyll_a_concentration/2011/.listing’ saved [1520]\r\n",
      "\r\n",
      "Removed ‘../data/chlorophyll_a_concentration/2011/.listing’.\r\n",
      "--2021-02-19 18:29:57--  ftp://anon-ftp.ceda.ac.uk/neodc/esacci/ocean_colour/data/v4.2-release/geographic/netcdf/chlor_a/monthly/v4.2/2011/2011\r\n",
      "           => ‘../data/chlorophyll_a_concentration/2011/.listing’\r\n",
      "==> CWD (1) /neodc/esacci/ocean_colour/data/v4.2-release/geographic/netcdf/chlor_a/monthly/v4.2/2011 ... done.\r\n",
      "==> PASV ... done.    ==> LIST ... done.\r\n",
      "\r\n",
      ".listing                [ <=>                ]   1,63K  --.-KB/s    in 0,01s   \r\n",
      "\r\n",
      "2021-02-19 18:29:57 (162 KB/s) - ‘../data/chlorophyll_a_concentration/2011/.listing’ saved [1665]\r\n",
      "\r\n",
      "Removed ‘../data/chlorophyll_a_concentration/2011/.listing’.\r\n",
      "File ‘../data/chlorophyll_a_concentration/2011/ESACCI-OC-L3S-CHLOR_A-MERGED-1M_MONTHLY_4km_GEO_PML_OCx-201101-fv4.2.nc’ already there; not retrieving.\r\n",
      "File ‘../data/chlorophyll_a_concentration/2011/ESACCI-OC-L3S-CHLOR_A-MERGED-1M_MONTHLY_4km_GEO_PML_OCx-201102-fv4.2.nc’ already there; not retrieving.\r\n",
      "File ‘../data/chlorophyll_a_concentration/2011/ESACCI-OC-L3S-CHLOR_A-MERGED-1M_MONTHLY_4km_GEO_PML_OCx-201103-fv4.2.nc’ already there; not retrieving.\r\n",
      "File ‘../data/chlorophyll_a_concentration/2011/ESACCI-OC-L3S-CHLOR_A-MERGED-1M_MONTHLY_4km_GEO_PML_OCx-201104-fv4.2.nc’ already there; not retrieving.\r\n",
      "File ‘../data/chlorophyll_a_concentration/2011/ESACCI-OC-L3S-CHLOR_A-MERGED-1M_MONTHLY_4km_GEO_PML_OCx-201105-fv4.2.nc’ already there; not retrieving.\r\n",
      "File ‘../data/chlorophyll_a_concentration/2011/ESACCI-OC-L3S-CHLOR_A-MERGED-1M_MONTHLY_4km_GEO_PML_OCx-201106-fv4.2.nc’ already there; not retrieving.\r\n",
      "File ‘../data/chlorophyll_a_concentration/2011/ESACCI-OC-L3S-CHLOR_A-MERGED-1M_MONTHLY_4km_GEO_PML_OCx-201107-fv4.2.nc’ already there; not retrieving.\r\n",
      "File ‘../data/chlorophyll_a_concentration/2011/ESACCI-OC-L3S-CHLOR_A-MERGED-1M_MONTHLY_4km_GEO_PML_OCx-201108-fv4.2.nc’ already there; not retrieving.\r\n",
      "File ‘../data/chlorophyll_a_concentration/2011/ESACCI-OC-L3S-CHLOR_A-MERGED-1M_MONTHLY_4km_GEO_PML_OCx-201109-fv4.2.nc’ already there; not retrieving.\r\n",
      "File ‘../data/chlorophyll_a_concentration/2011/ESACCI-OC-L3S-CHLOR_A-MERGED-1M_MONTHLY_4km_GEO_PML_OCx-201110-fv4.2.nc’ already there; not retrieving.\r\n",
      "File ‘../data/chlorophyll_a_concentration/2011/ESACCI-OC-L3S-CHLOR_A-MERGED-1M_MONTHLY_4km_GEO_PML_OCx-201111-fv4.2.nc’ already there; not retrieving.\r\n",
      "File ‘../data/chlorophyll_a_concentration/2011/ESACCI-OC-L3S-CHLOR_A-MERGED-1M_MONTHLY_4km_GEO_PML_OCx-201112-fv4.2.nc’ already there; not retrieving.\r\n",
      "--2021-02-19 18:29:57--  ftp://anon-ftp.ceda.ac.uk/neodc/esacci/ocean_colour/data/v4.2-release/geographic/netcdf/chlor_a/monthly/v4.2/2012\r\n",
      "           => ‘../data/chlorophyll_a_concentration/2012/.listing’\r\n",
      "Resolving anon-ftp.ceda.ac.uk (anon-ftp.ceda.ac.uk)... 130.246.130.100\r\n",
      "Connecting to anon-ftp.ceda.ac.uk (anon-ftp.ceda.ac.uk)|130.246.130.100|:21... connected.\r\n",
      "Logging in as anonymous ... Logged in!\r\n",
      "==> SYST ... done.    ==> PWD ... done.\r\n",
      "==> TYPE I ... done.  ==> CWD (1) /neodc/esacci/ocean_colour/data/v4.2-release/geographic/netcdf/chlor_a/monthly/v4.2 ... done.\r\n",
      "==> PASV ... done.    ==> LIST ... done.\r\n",
      "\r\n",
      ".listing                [ <=>                ]   1,48K  --.-KB/s    in 0,02s   \r\n",
      "\r\n",
      "2021-02-19 18:29:57 (73,0 KB/s) - ‘../data/chlorophyll_a_concentration/2012/.listing’ saved [1520]\r\n",
      "\r\n",
      "Removed ‘../data/chlorophyll_a_concentration/2012/.listing’.\r\n",
      "--2021-02-19 18:29:57--  ftp://anon-ftp.ceda.ac.uk/neodc/esacci/ocean_colour/data/v4.2-release/geographic/netcdf/chlor_a/monthly/v4.2/2012/2012\r\n",
      "           => ‘../data/chlorophyll_a_concentration/2012/.listing’\r\n",
      "==> CWD (1) /neodc/esacci/ocean_colour/data/v4.2-release/geographic/netcdf/chlor_a/monthly/v4.2/2012 ... done.\r\n",
      "==> PASV ... done.    ==> LIST ... done.\r\n",
      "\r\n",
      ".listing                [ <=>                ]   1,63K  --.-KB/s    in 0,01s   \r\n",
      "\r\n",
      "2021-02-19 18:29:58 (153 KB/s) - ‘../data/chlorophyll_a_concentration/2012/.listing’ saved [1665]\r\n",
      "\r\n",
      "Removed ‘../data/chlorophyll_a_concentration/2012/.listing’.\r\n",
      "File ‘../data/chlorophyll_a_concentration/2012/ESACCI-OC-L3S-CHLOR_A-MERGED-1M_MONTHLY_4km_GEO_PML_OCx-201201-fv4.2.nc’ already there; not retrieving.\r\n",
      "File ‘../data/chlorophyll_a_concentration/2012/ESACCI-OC-L3S-CHLOR_A-MERGED-1M_MONTHLY_4km_GEO_PML_OCx-201202-fv4.2.nc’ already there; not retrieving.\r\n",
      "File ‘../data/chlorophyll_a_concentration/2012/ESACCI-OC-L3S-CHLOR_A-MERGED-1M_MONTHLY_4km_GEO_PML_OCx-201203-fv4.2.nc’ already there; not retrieving.\r\n",
      "File ‘../data/chlorophyll_a_concentration/2012/ESACCI-OC-L3S-CHLOR_A-MERGED-1M_MONTHLY_4km_GEO_PML_OCx-201204-fv4.2.nc’ already there; not retrieving.\r\n",
      "File ‘../data/chlorophyll_a_concentration/2012/ESACCI-OC-L3S-CHLOR_A-MERGED-1M_MONTHLY_4km_GEO_PML_OCx-201205-fv4.2.nc’ already there; not retrieving.\r\n",
      "File ‘../data/chlorophyll_a_concentration/2012/ESACCI-OC-L3S-CHLOR_A-MERGED-1M_MONTHLY_4km_GEO_PML_OCx-201206-fv4.2.nc’ already there; not retrieving.\r\n",
      "File ‘../data/chlorophyll_a_concentration/2012/ESACCI-OC-L3S-CHLOR_A-MERGED-1M_MONTHLY_4km_GEO_PML_OCx-201207-fv4.2.nc’ already there; not retrieving.\r\n",
      "File ‘../data/chlorophyll_a_concentration/2012/ESACCI-OC-L3S-CHLOR_A-MERGED-1M_MONTHLY_4km_GEO_PML_OCx-201208-fv4.2.nc’ already there; not retrieving.\r\n",
      "File ‘../data/chlorophyll_a_concentration/2012/ESACCI-OC-L3S-CHLOR_A-MERGED-1M_MONTHLY_4km_GEO_PML_OCx-201209-fv4.2.nc’ already there; not retrieving.\r\n",
      "File ‘../data/chlorophyll_a_concentration/2012/ESACCI-OC-L3S-CHLOR_A-MERGED-1M_MONTHLY_4km_GEO_PML_OCx-201210-fv4.2.nc’ already there; not retrieving.\r\n",
      "File ‘../data/chlorophyll_a_concentration/2012/ESACCI-OC-L3S-CHLOR_A-MERGED-1M_MONTHLY_4km_GEO_PML_OCx-201211-fv4.2.nc’ already there; not retrieving.\r\n",
      "File ‘../data/chlorophyll_a_concentration/2012/ESACCI-OC-L3S-CHLOR_A-MERGED-1M_MONTHLY_4km_GEO_PML_OCx-201212-fv4.2.nc’ already there; not retrieving.\r\n",
      "--2021-02-19 18:29:58--  ftp://anon-ftp.ceda.ac.uk/neodc/esacci/ocean_colour/data/v4.2-release/geographic/netcdf/chlor_a/monthly/v4.2/2013\r\n",
      "           => ‘../data/chlorophyll_a_concentration/2013/.listing’\r\n",
      "Resolving anon-ftp.ceda.ac.uk (anon-ftp.ceda.ac.uk)... 130.246.130.100\r\n",
      "Connecting to anon-ftp.ceda.ac.uk (anon-ftp.ceda.ac.uk)|130.246.130.100|:21... connected.\r\n",
      "Logging in as anonymous ... Logged in!\r\n",
      "==> SYST ... done.    ==> PWD ... done.\r\n",
      "==> TYPE I ... done.  ==> CWD (1) /neodc/esacci/ocean_colour/data/v4.2-release/geographic/netcdf/chlor_a/monthly/v4.2 ... done.\r\n",
      "==> PASV ... done.    ==> LIST ... done.\r\n",
      "\r\n",
      ".listing                [ <=>                ]   1,48K  --.-KB/s    in 0,02s   \r\n",
      "\r\n",
      "2021-02-19 18:30:00 (61,9 KB/s) - ‘../data/chlorophyll_a_concentration/2013/.listing’ saved [1520]\r\n",
      "\r\n",
      "Removed ‘../data/chlorophyll_a_concentration/2013/.listing’.\r\n",
      "--2021-02-19 18:30:00--  ftp://anon-ftp.ceda.ac.uk/neodc/esacci/ocean_colour/data/v4.2-release/geographic/netcdf/chlor_a/monthly/v4.2/2013/2013\r\n",
      "           => ‘../data/chlorophyll_a_concentration/2013/.listing’\r\n",
      "==> CWD (1) /neodc/esacci/ocean_colour/data/v4.2-release/geographic/netcdf/chlor_a/monthly/v4.2/2013 ... done.\r\n",
      "==> PASV ... done.    ==> LIST ... done.\r\n",
      "\r\n",
      ".listing                [ <=>                ]   1,63K  --.-KB/s    in 0,01s   \r\n",
      "\r\n",
      "2021-02-19 18:30:00 (114 KB/s) - ‘../data/chlorophyll_a_concentration/2013/.listing’ saved [1665]\r\n",
      "\r\n",
      "Removed ‘../data/chlorophyll_a_concentration/2013/.listing’.\r\n",
      "File ‘../data/chlorophyll_a_concentration/2013/ESACCI-OC-L3S-CHLOR_A-MERGED-1M_MONTHLY_4km_GEO_PML_OCx-201301-fv4.2.nc’ already there; not retrieving.\r\n",
      "File ‘../data/chlorophyll_a_concentration/2013/ESACCI-OC-L3S-CHLOR_A-MERGED-1M_MONTHLY_4km_GEO_PML_OCx-201302-fv4.2.nc’ already there; not retrieving.\r\n",
      "File ‘../data/chlorophyll_a_concentration/2013/ESACCI-OC-L3S-CHLOR_A-MERGED-1M_MONTHLY_4km_GEO_PML_OCx-201303-fv4.2.nc’ already there; not retrieving.\r\n",
      "File ‘../data/chlorophyll_a_concentration/2013/ESACCI-OC-L3S-CHLOR_A-MERGED-1M_MONTHLY_4km_GEO_PML_OCx-201304-fv4.2.nc’ already there; not retrieving.\r\n",
      "File ‘../data/chlorophyll_a_concentration/2013/ESACCI-OC-L3S-CHLOR_A-MERGED-1M_MONTHLY_4km_GEO_PML_OCx-201305-fv4.2.nc’ already there; not retrieving.\r\n",
      "File ‘../data/chlorophyll_a_concentration/2013/ESACCI-OC-L3S-CHLOR_A-MERGED-1M_MONTHLY_4km_GEO_PML_OCx-201306-fv4.2.nc’ already there; not retrieving.\r\n",
      "File ‘../data/chlorophyll_a_concentration/2013/ESACCI-OC-L3S-CHLOR_A-MERGED-1M_MONTHLY_4km_GEO_PML_OCx-201307-fv4.2.nc’ already there; not retrieving.\r\n",
      "File ‘../data/chlorophyll_a_concentration/2013/ESACCI-OC-L3S-CHLOR_A-MERGED-1M_MONTHLY_4km_GEO_PML_OCx-201308-fv4.2.nc’ already there; not retrieving.\r\n",
      "File ‘../data/chlorophyll_a_concentration/2013/ESACCI-OC-L3S-CHLOR_A-MERGED-1M_MONTHLY_4km_GEO_PML_OCx-201309-fv4.2.nc’ already there; not retrieving.\r\n",
      "File ‘../data/chlorophyll_a_concentration/2013/ESACCI-OC-L3S-CHLOR_A-MERGED-1M_MONTHLY_4km_GEO_PML_OCx-201310-fv4.2.nc’ already there; not retrieving.\r\n",
      "File ‘../data/chlorophyll_a_concentration/2013/ESACCI-OC-L3S-CHLOR_A-MERGED-1M_MONTHLY_4km_GEO_PML_OCx-201311-fv4.2.nc’ already there; not retrieving.\r\n",
      "File ‘../data/chlorophyll_a_concentration/2013/ESACCI-OC-L3S-CHLOR_A-MERGED-1M_MONTHLY_4km_GEO_PML_OCx-201312-fv4.2.nc’ already there; not retrieving.\r\n",
      "--2021-02-19 18:30:00--  ftp://anon-ftp.ceda.ac.uk/neodc/esacci/ocean_colour/data/v4.2-release/geographic/netcdf/chlor_a/monthly/v4.2/2014\r\n",
      "           => ‘../data/chlorophyll_a_concentration/2014/.listing’\r\n",
      "Resolving anon-ftp.ceda.ac.uk (anon-ftp.ceda.ac.uk)... 130.246.130.100\r\n",
      "Connecting to anon-ftp.ceda.ac.uk (anon-ftp.ceda.ac.uk)|130.246.130.100|:21... connected.\r\n",
      "Logging in as anonymous ... Logged in!\r\n",
      "==> SYST ... done.    ==> PWD ... done.\r\n",
      "==> TYPE I ... done.  ==> CWD (1) /neodc/esacci/ocean_colour/data/v4.2-release/geographic/netcdf/chlor_a/monthly/v4.2 ... done.\r\n",
      "==> PASV ... done.    ==> LIST ... done.\r\n",
      "\r\n",
      ".listing                [ <=>                ]   1,48K  --.-KB/s    in 0,02s   \r\n",
      "\r\n",
      "2021-02-19 18:30:01 (70,2 KB/s) - ‘../data/chlorophyll_a_concentration/2014/.listing’ saved [1520]\r\n",
      "\r\n",
      "Removed ‘../data/chlorophyll_a_concentration/2014/.listing’.\r\n",
      "--2021-02-19 18:30:01--  ftp://anon-ftp.ceda.ac.uk/neodc/esacci/ocean_colour/data/v4.2-release/geographic/netcdf/chlor_a/monthly/v4.2/2014/2014\r\n",
      "           => ‘../data/chlorophyll_a_concentration/2014/.listing’\r\n",
      "==> CWD (1) /neodc/esacci/ocean_colour/data/v4.2-release/geographic/netcdf/chlor_a/monthly/v4.2/2014 ... done.\r\n",
      "==> PASV ... done.    ==> LIST ... done.\r\n",
      "\r\n",
      ".listing                [ <=>                ]   1,63K  --.-KB/s    in 0s      \r\n",
      "\r\n",
      "2021-02-19 18:30:01 (57,0 MB/s) - ‘../data/chlorophyll_a_concentration/2014/.listing’ saved [1665]\r\n",
      "\r\n",
      "Removed ‘../data/chlorophyll_a_concentration/2014/.listing’.\r\n",
      "File ‘../data/chlorophyll_a_concentration/2014/ESACCI-OC-L3S-CHLOR_A-MERGED-1M_MONTHLY_4km_GEO_PML_OCx-201401-fv4.2.nc’ already there; not retrieving.\r\n",
      "File ‘../data/chlorophyll_a_concentration/2014/ESACCI-OC-L3S-CHLOR_A-MERGED-1M_MONTHLY_4km_GEO_PML_OCx-201402-fv4.2.nc’ already there; not retrieving.\r\n",
      "File ‘../data/chlorophyll_a_concentration/2014/ESACCI-OC-L3S-CHLOR_A-MERGED-1M_MONTHLY_4km_GEO_PML_OCx-201403-fv4.2.nc’ already there; not retrieving.\r\n",
      "File ‘../data/chlorophyll_a_concentration/2014/ESACCI-OC-L3S-CHLOR_A-MERGED-1M_MONTHLY_4km_GEO_PML_OCx-201404-fv4.2.nc’ already there; not retrieving.\r\n",
      "File ‘../data/chlorophyll_a_concentration/2014/ESACCI-OC-L3S-CHLOR_A-MERGED-1M_MONTHLY_4km_GEO_PML_OCx-201405-fv4.2.nc’ already there; not retrieving.\r\n",
      "File ‘../data/chlorophyll_a_concentration/2014/ESACCI-OC-L3S-CHLOR_A-MERGED-1M_MONTHLY_4km_GEO_PML_OCx-201406-fv4.2.nc’ already there; not retrieving.\r\n",
      "File ‘../data/chlorophyll_a_concentration/2014/ESACCI-OC-L3S-CHLOR_A-MERGED-1M_MONTHLY_4km_GEO_PML_OCx-201407-fv4.2.nc’ already there; not retrieving.\r\n",
      "File ‘../data/chlorophyll_a_concentration/2014/ESACCI-OC-L3S-CHLOR_A-MERGED-1M_MONTHLY_4km_GEO_PML_OCx-201408-fv4.2.nc’ already there; not retrieving.\r\n",
      "File ‘../data/chlorophyll_a_concentration/2014/ESACCI-OC-L3S-CHLOR_A-MERGED-1M_MONTHLY_4km_GEO_PML_OCx-201409-fv4.2.nc’ already there; not retrieving.\r\n",
      "File ‘../data/chlorophyll_a_concentration/2014/ESACCI-OC-L3S-CHLOR_A-MERGED-1M_MONTHLY_4km_GEO_PML_OCx-201410-fv4.2.nc’ already there; not retrieving.\r\n",
      "File ‘../data/chlorophyll_a_concentration/2014/ESACCI-OC-L3S-CHLOR_A-MERGED-1M_MONTHLY_4km_GEO_PML_OCx-201411-fv4.2.nc’ already there; not retrieving.\r\n",
      "File ‘../data/chlorophyll_a_concentration/2014/ESACCI-OC-L3S-CHLOR_A-MERGED-1M_MONTHLY_4km_GEO_PML_OCx-201412-fv4.2.nc’ already there; not retrieving.\r\n",
      "--2021-02-19 18:30:01--  ftp://anon-ftp.ceda.ac.uk/neodc/esacci/ocean_colour/data/v4.2-release/geographic/netcdf/chlor_a/monthly/v4.2/2015\r\n",
      "           => ‘../data/chlorophyll_a_concentration/2015/.listing’\r\n",
      "Resolving anon-ftp.ceda.ac.uk (anon-ftp.ceda.ac.uk)... 130.246.130.100\r\n",
      "Connecting to anon-ftp.ceda.ac.uk (anon-ftp.ceda.ac.uk)|130.246.130.100|:21... connected.\r\n",
      "Logging in as anonymous ... Logged in!\r\n",
      "==> SYST ... done.    ==> PWD ... done.\r\n",
      "==> TYPE I ... done.  ==> CWD (1) /neodc/esacci/ocean_colour/data/v4.2-release/geographic/netcdf/chlor_a/monthly/v4.2 ... done.\r\n",
      "==> PASV ... done.    ==> LIST ... done.\r\n",
      "\r\n",
      ".listing                [ <=>                ]   1,48K  --.-KB/s    in 0,04s   \r\n",
      "\r\n",
      "2021-02-19 18:30:02 (33,1 KB/s) - ‘../data/chlorophyll_a_concentration/2015/.listing’ saved [1520]\r\n",
      "\r\n",
      "Removed ‘../data/chlorophyll_a_concentration/2015/.listing’.\r\n",
      "--2021-02-19 18:30:02--  ftp://anon-ftp.ceda.ac.uk/neodc/esacci/ocean_colour/data/v4.2-release/geographic/netcdf/chlor_a/monthly/v4.2/2015/2015\r\n",
      "           => ‘../data/chlorophyll_a_concentration/2015/.listing’\r\n",
      "==> CWD (1) /neodc/esacci/ocean_colour/data/v4.2-release/geographic/netcdf/chlor_a/monthly/v4.2/2015 ... done.\r\n",
      "==> PASV ... done.    ==> LIST ... done.\r\n",
      "\r\n",
      ".listing                [ <=>                ]   1,63K  --.-KB/s    in 0,02s   \r\n",
      "\r\n",
      "2021-02-19 18:30:02 (80,8 KB/s) - ‘../data/chlorophyll_a_concentration/2015/.listing’ saved [1665]\r\n",
      "\r\n",
      "Removed ‘../data/chlorophyll_a_concentration/2015/.listing’.\r\n",
      "File ‘../data/chlorophyll_a_concentration/2015/ESACCI-OC-L3S-CHLOR_A-MERGED-1M_MONTHLY_4km_GEO_PML_OCx-201501-fv4.2.nc’ already there; not retrieving.\r\n",
      "File ‘../data/chlorophyll_a_concentration/2015/ESACCI-OC-L3S-CHLOR_A-MERGED-1M_MONTHLY_4km_GEO_PML_OCx-201502-fv4.2.nc’ already there; not retrieving.\r\n",
      "File ‘../data/chlorophyll_a_concentration/2015/ESACCI-OC-L3S-CHLOR_A-MERGED-1M_MONTHLY_4km_GEO_PML_OCx-201503-fv4.2.nc’ already there; not retrieving.\r\n",
      "File ‘../data/chlorophyll_a_concentration/2015/ESACCI-OC-L3S-CHLOR_A-MERGED-1M_MONTHLY_4km_GEO_PML_OCx-201504-fv4.2.nc’ already there; not retrieving.\r\n",
      "File ‘../data/chlorophyll_a_concentration/2015/ESACCI-OC-L3S-CHLOR_A-MERGED-1M_MONTHLY_4km_GEO_PML_OCx-201505-fv4.2.nc’ already there; not retrieving.\r\n",
      "File ‘../data/chlorophyll_a_concentration/2015/ESACCI-OC-L3S-CHLOR_A-MERGED-1M_MONTHLY_4km_GEO_PML_OCx-201506-fv4.2.nc’ already there; not retrieving.\r\n",
      "File ‘../data/chlorophyll_a_concentration/2015/ESACCI-OC-L3S-CHLOR_A-MERGED-1M_MONTHLY_4km_GEO_PML_OCx-201507-fv4.2.nc’ already there; not retrieving.\r\n",
      "File ‘../data/chlorophyll_a_concentration/2015/ESACCI-OC-L3S-CHLOR_A-MERGED-1M_MONTHLY_4km_GEO_PML_OCx-201508-fv4.2.nc’ already there; not retrieving.\r\n",
      "File ‘../data/chlorophyll_a_concentration/2015/ESACCI-OC-L3S-CHLOR_A-MERGED-1M_MONTHLY_4km_GEO_PML_OCx-201509-fv4.2.nc’ already there; not retrieving.\r\n",
      "File ‘../data/chlorophyll_a_concentration/2015/ESACCI-OC-L3S-CHLOR_A-MERGED-1M_MONTHLY_4km_GEO_PML_OCx-201510-fv4.2.nc’ already there; not retrieving.\r\n",
      "File ‘../data/chlorophyll_a_concentration/2015/ESACCI-OC-L3S-CHLOR_A-MERGED-1M_MONTHLY_4km_GEO_PML_OCx-201511-fv4.2.nc’ already there; not retrieving.\r\n",
      "File ‘../data/chlorophyll_a_concentration/2015/ESACCI-OC-L3S-CHLOR_A-MERGED-1M_MONTHLY_4km_GEO_PML_OCx-201512-fv4.2.nc’ already there; not retrieving.\r\n",
      "Download chlorophyll-a concentration data complete.\r\n"
     ]
    }
   ],
   "source": [
    "!bash download_chlorophyll_a_concentration_data.sh"
   ]
  },
  {
   "cell_type": "code",
   "execution_count": 23,
   "metadata": {
    "execution": {
     "iopub.execute_input": "2021-02-19T17:30:02.809135Z",
     "iopub.status.busy": "2021-02-19T17:30:02.807961Z",
     "iopub.status.idle": "2021-02-19T17:30:02.813308Z",
     "shell.execute_reply": "2021-02-19T17:30:02.812156Z"
    }
   },
   "outputs": [],
   "source": [
    "path = '../data/chlorophyll_a_concentration/'"
   ]
  },
  {
   "cell_type": "code",
   "execution_count": 24,
   "metadata": {
    "execution": {
     "iopub.execute_input": "2021-02-19T17:30:02.824064Z",
     "iopub.status.busy": "2021-02-19T17:30:02.822163Z",
     "iopub.status.idle": "2021-02-19T17:30:02.845359Z",
     "shell.execute_reply": "2021-02-19T17:30:02.846701Z"
    }
   },
   "outputs": [],
   "source": [
    "data = nc.Dataset(path+str(years[0])+'/'+sorted(os.listdir(path+str(years[0])))[0])"
   ]
  },
  {
   "cell_type": "code",
   "execution_count": 25,
   "metadata": {
    "execution": {
     "iopub.execute_input": "2021-02-19T17:30:02.854955Z",
     "iopub.status.busy": "2021-02-19T17:30:02.854020Z",
     "iopub.status.idle": "2021-02-19T17:30:02.878431Z",
     "shell.execute_reply": "2021-02-19T17:30:02.879116Z"
    },
    "scrolled": true
   },
   "outputs": [
    {
     "name": "stdout",
     "output_type": "stream",
     "text": [
      "<class 'netCDF4._netCDF4.Variable'>\n",
      "float32 MERIS_nobs_sum(time, lat, lon)\n",
      "    _FillValue: 0.0\n",
      "    long_name: Count of the number of observations from the MERIS sensor contributing to this bin cell\n",
      "    number_of_files_composited: 31\n",
      "unlimited dimensions: \n",
      "current shape = (1, 4320, 8640)\n",
      "filling on\n",
      "<class 'netCDF4._netCDF4.Variable'>\n",
      "float32 MODISA_nobs_sum(time, lat, lon)\n",
      "    _FillValue: 0.0\n",
      "    long_name: Count of the number of observations from the MODIS (Aqua) sensor contributing to this bin cell\n",
      "    number_of_files_composited: 31\n",
      "unlimited dimensions: \n",
      "current shape = (1, 4320, 8640)\n",
      "filling on\n",
      "<class 'netCDF4._netCDF4.Variable'>\n",
      "float32 SeaWiFS_nobs_sum(time, lat, lon)\n",
      "    _FillValue: 0.0\n",
      "    long_name: Count of the number of observations from the SeaWiFS (GAC and LAC) sensor contributing to this bin cell\n",
      "    number_of_files_composited: 31\n",
      "unlimited dimensions: \n",
      "current shape = (1, 4320, 8640)\n",
      "filling on\n",
      "<class 'netCDF4._netCDF4.Variable'>\n",
      "float32 VIIRS_nobs_sum(time, lat, lon)\n",
      "    _FillValue: 0.0\n",
      "    long_name: Count of the number of observations from the VIIRS sensor contributing to this bin cell\n",
      "    number_of_files_composited: 31\n",
      "unlimited dimensions: \n",
      "current shape = (1, 4320, 8640)\n",
      "filling on\n",
      "<class 'netCDF4._netCDF4.Variable'>\n",
      "float32 chlor_a(time, lat, lon)\n",
      "    _FillValue: 9.96921e+36\n",
      "    long_name: Chlorophyll-a concentration in seawater (not log-transformed), generated by SeaDAS using a blended combination of OCI (OC4v6 + Hu's CI), OC3 and OC5, depending on water class memberships\n",
      "    units: milligram m-3\n",
      "    ancillary_variables: chlor_a_log10_rmsd chlor_a_log10_bias\n",
      "    grid_mapping: crs\n",
      "    parameter_vocab_uri: http://vocab.ndg.nerc.ac.uk/term/P011/current/CHLTVOLU\n",
      "    standard_name: mass_concentration_of_chlorophyll_a_in_sea_water\n",
      "    units_nonstandard: mg m^-3\n",
      "unlimited dimensions: \n",
      "current shape = (1, 4320, 8640)\n",
      "filling on\n",
      "<class 'netCDF4._netCDF4.Variable'>\n",
      "float32 chlor_a_log10_bias(time, lat, lon)\n",
      "    _FillValue: 9.96921e+36\n",
      "    long_name: Bias of log10-transformed chlorophyll-a concentration in seawater.\n",
      "    comment: Uncertainty lookups derived from file: /data/datasets/CCI/v4.0-production/stage09b-uncertainty_tables/chlor_a/cci_chla_bias.dat\n",
      "    grid_mapping: crs\n",
      "    ref: http://www.esa-oceancolour-cci.org/?q=webfm_send/581\n",
      "    rel: uncertainty\n",
      "unlimited dimensions: \n",
      "current shape = (1, 4320, 8640)\n",
      "filling on\n",
      "<class 'netCDF4._netCDF4.Variable'>\n",
      "float32 chlor_a_log10_rmsd(time, lat, lon)\n",
      "    _FillValue: 9.96921e+36\n",
      "    long_name: Root-mean-square-difference of log10-transformed chlorophyll-a concentration in seawater.\n",
      "    comment: Uncertainty lookups derived from file: /data/datasets/CCI/v4.0-production/stage09b-uncertainty_tables/chlor_a/cci_chla_rmsd.dat\n",
      "    grid_mapping: crs\n",
      "    ref: http://www.esa-oceancolour-cci.org/?q=webfm_send/581\n",
      "    rel: uncertainty\n",
      "unlimited dimensions: \n",
      "current shape = (1, 4320, 8640)\n",
      "filling on\n",
      "<class 'netCDF4._netCDF4.Variable'>\n",
      "int32 crs(time)\n",
      "    grid_mapping_name: latitude_longitude\n",
      "unlimited dimensions: \n",
      "current shape = (1,)\n",
      "filling on, default _FillValue of -2147483647 used\n",
      "\n",
      "<class 'netCDF4._netCDF4.Variable'>\n",
      "float32 lat(lat)\n",
      "    units: degrees_north\n",
      "    long_name: latitude\n",
      "    standard_name: latitude\n",
      "    valid_min: -89.979164\n",
      "    valid_max: 89.979164\n",
      "    axis: Y\n",
      "unlimited dimensions: \n",
      "current shape = (4320,)\n",
      "filling on, default _FillValue of 9.969209968386869e+36 used\n",
      "\n",
      "<class 'netCDF4._netCDF4.Variable'>\n",
      "float32 lon(lon)\n",
      "    units: degrees_east\n",
      "    long_name: longitude\n",
      "    standard_name: longitude\n",
      "    valid_min: -179.97917\n",
      "    valid_max: 179.97917\n",
      "    axis: X\n",
      "unlimited dimensions: \n",
      "current shape = (8640,)\n",
      "filling on, default _FillValue of 9.969209968386869e+36 used\n",
      "\n",
      "<class 'netCDF4._netCDF4.Variable'>\n",
      "int32 time(time)\n",
      "    axis: T\n",
      "    standard_name: time\n",
      "    units: days since 1970-01-01 00:00:00\n",
      "unlimited dimensions: \n",
      "current shape = (1,)\n",
      "filling on, default _FillValue of -2147483647 used\n",
      "\n",
      "<class 'netCDF4._netCDF4.Variable'>\n",
      "float32 total_nobs_sum(time, lat, lon)\n",
      "    _FillValue: 0.0\n",
      "    long_name: Count of the total number of observations contributing to this bin cell\n",
      "    number_of_files_composited: 31\n",
      "unlimited dimensions: \n",
      "current shape = (1, 4320, 8640)\n",
      "filling on\n"
     ]
    },
    {
     "name": "stderr",
     "output_type": "stream",
     "text": [
      "/home/alex/anaconda3/lib/python3.7/site-packages/ipykernel_launcher.py:2: DeprecationWarning: tostring() is deprecated. Use tobytes() instead.\n",
      "  \n"
     ]
    }
   ],
   "source": [
    "for var in data.variables.values():\n",
    "    print(var)"
   ]
  },
  {
   "cell_type": "code",
   "execution_count": 26,
   "metadata": {
    "execution": {
     "iopub.execute_input": "2021-02-19T17:30:02.889471Z",
     "iopub.status.busy": "2021-02-19T17:30:02.888804Z",
     "iopub.status.idle": "2021-02-19T17:40:36.931607Z",
     "shell.execute_reply": "2021-02-19T17:40:36.930923Z"
    }
   },
   "outputs": [
    {
     "name": "stdout",
     "output_type": "stream",
     "text": [
      "Processing 2010...\n",
      "Processing 2011...\n",
      "Processing 2012...\n",
      "Processing 2013...\n",
      "Processing 2014...\n",
      "Processing 2015...\n",
      "CPU times: user 8min 20s, sys: 2min 34s, total: 10min 54s\n",
      "Wall time: 10min 34s\n"
     ]
    }
   ],
   "source": [
    "%%time\n",
    "\n",
    "chlor_a = select_bounding_box_region(path, years, 'chlor_a', lon_min, lon_max, lat_min, lat_max)"
   ]
  },
  {
   "cell_type": "code",
   "execution_count": 27,
   "metadata": {
    "execution": {
     "iopub.execute_input": "2021-02-19T17:40:36.937864Z",
     "iopub.status.busy": "2021-02-19T17:40:36.936937Z",
     "iopub.status.idle": "2021-02-19T17:40:36.941366Z",
     "shell.execute_reply": "2021-02-19T17:40:36.942249Z"
    }
   },
   "outputs": [
    {
     "data": {
      "text/plain": [
       "(26001084, 4)"
      ]
     },
     "execution_count": 1,
     "metadata": {},
     "output_type": "execute_result"
    }
   ],
   "source": [
    "chlor_a.shape"
   ]
  },
  {
   "cell_type": "code",
   "execution_count": 28,
   "metadata": {
    "execution": {
     "iopub.execute_input": "2021-02-19T17:40:36.955398Z",
     "iopub.status.busy": "2021-02-19T17:40:36.954544Z",
     "iopub.status.idle": "2021-02-19T17:40:36.958359Z",
     "shell.execute_reply": "2021-02-19T17:40:36.957678Z"
    }
   },
   "outputs": [
    {
     "name": "stdout",
     "output_type": "stream",
     "text": [
      "<class 'pandas.core.frame.DataFrame'>\n",
      "RangeIndex: 26001084 entries, 0 to 26001083\n",
      "Data columns (total 4 columns):\n",
      " #   Column   Dtype         \n",
      "---  ------   -----         \n",
      " 0   lat      float64       \n",
      " 1   lon      float64       \n",
      " 2   time     datetime64[ns]\n",
      " 3   chlor_a  float32       \n",
      "dtypes: datetime64[ns](1), float32(1), float64(2)\n",
      "memory usage: 694.3 MB\n"
     ]
    }
   ],
   "source": [
    "chlor_a.info()"
   ]
  },
  {
   "cell_type": "code",
   "execution_count": 29,
   "metadata": {
    "execution": {
     "iopub.execute_input": "2021-02-19T17:40:36.976882Z",
     "iopub.status.busy": "2021-02-19T17:40:36.976078Z",
     "iopub.status.idle": "2021-02-19T17:40:36.980521Z",
     "shell.execute_reply": "2021-02-19T17:40:36.979875Z"
    }
   },
   "outputs": [
    {
     "data": {
      "text/html": [
       "<div>\n",
       "<style scoped>\n",
       "    .dataframe tbody tr th:only-of-type {\n",
       "        vertical-align: middle;\n",
       "    }\n",
       "\n",
       "    .dataframe tbody tr th {\n",
       "        vertical-align: top;\n",
       "    }\n",
       "\n",
       "    .dataframe thead th {\n",
       "        text-align: right;\n",
       "    }\n",
       "</style>\n",
       "<table border=\"1\" class=\"dataframe\">\n",
       "  <thead>\n",
       "    <tr style=\"text-align: right;\">\n",
       "      <th></th>\n",
       "      <th>lat</th>\n",
       "      <th>lon</th>\n",
       "      <th>time</th>\n",
       "      <th>chlor_a</th>\n",
       "    </tr>\n",
       "  </thead>\n",
       "  <tbody>\n",
       "    <tr>\n",
       "      <th>0</th>\n",
       "      <td>39.895832</td>\n",
       "      <td>64.770836</td>\n",
       "      <td>2010-04-01</td>\n",
       "      <td>8.540924</td>\n",
       "    </tr>\n",
       "    <tr>\n",
       "      <th>1</th>\n",
       "      <td>39.895832</td>\n",
       "      <td>64.812500</td>\n",
       "      <td>2010-04-01</td>\n",
       "      <td>8.540924</td>\n",
       "    </tr>\n",
       "    <tr>\n",
       "      <th>2</th>\n",
       "      <td>39.895832</td>\n",
       "      <td>64.854164</td>\n",
       "      <td>2010-04-01</td>\n",
       "      <td>9.433975</td>\n",
       "    </tr>\n",
       "    <tr>\n",
       "      <th>3</th>\n",
       "      <td>39.854168</td>\n",
       "      <td>64.729164</td>\n",
       "      <td>2010-04-01</td>\n",
       "      <td>8.993294</td>\n",
       "    </tr>\n",
       "    <tr>\n",
       "      <th>4</th>\n",
       "      <td>39.854168</td>\n",
       "      <td>64.770836</td>\n",
       "      <td>2010-04-01</td>\n",
       "      <td>8.993294</td>\n",
       "    </tr>\n",
       "  </tbody>\n",
       "</table>\n",
       "</div>"
      ],
      "text/plain": [
       "         lat        lon       time   chlor_a\n",
       "0  39.895832  64.770836 2010-04-01  8.540924\n",
       "1  39.895832  64.812500 2010-04-01  8.540924\n",
       "2  39.895832  64.854164 2010-04-01  9.433975\n",
       "3  39.854168  64.729164 2010-04-01  8.993294\n",
       "4  39.854168  64.770836 2010-04-01  8.993294"
      ]
     },
     "execution_count": 1,
     "metadata": {},
     "output_type": "execute_result"
    }
   ],
   "source": [
    "chlor_a.head()"
   ]
  },
  {
   "cell_type": "code",
   "execution_count": 30,
   "metadata": {
    "execution": {
     "iopub.execute_input": "2021-02-19T17:40:37.143262Z",
     "iopub.status.busy": "2021-02-19T17:40:37.107559Z",
     "iopub.status.idle": "2021-02-19T17:43:20.656627Z",
     "shell.execute_reply": "2021-02-19T17:43:20.655492Z"
    }
   },
   "outputs": [],
   "source": [
    "chlor_a['year'] = chlor_a.time.apply(lambda x: x.year)"
   ]
  },
  {
   "cell_type": "code",
   "execution_count": 31,
   "metadata": {
    "execution": {
     "iopub.execute_input": "2021-02-19T17:43:20.765170Z",
     "iopub.status.busy": "2021-02-19T17:43:20.759768Z",
     "iopub.status.idle": "2021-02-19T17:46:01.417930Z",
     "shell.execute_reply": "2021-02-19T17:46:01.416748Z"
    }
   },
   "outputs": [],
   "source": [
    "chlor_a['month'] = chlor_a.time.apply(lambda x: x.month)"
   ]
  },
  {
   "cell_type": "code",
   "execution_count": 32,
   "metadata": {
    "execution": {
     "iopub.execute_input": "2021-02-19T17:46:01.423414Z",
     "iopub.status.busy": "2021-02-19T17:46:01.422339Z",
     "iopub.status.idle": "2021-02-19T17:46:01.686365Z",
     "shell.execute_reply": "2021-02-19T17:46:01.685374Z"
    }
   },
   "outputs": [],
   "source": [
    "chlor_a['chlor_a_log'] = np.log(chlor_a['chlor_a'])"
   ]
  },
  {
   "cell_type": "code",
   "execution_count": 33,
   "metadata": {
    "execution": {
     "iopub.execute_input": "2021-02-19T17:46:01.695152Z",
     "iopub.status.busy": "2021-02-19T17:46:01.694027Z",
     "iopub.status.idle": "2021-02-19T17:46:02.418655Z",
     "shell.execute_reply": "2021-02-19T17:46:02.417582Z"
    }
   },
   "outputs": [],
   "source": [
    "chlor_a = chlor_a.drop(['time', 'chlor_a'], axis=1)"
   ]
  },
  {
   "cell_type": "code",
   "execution_count": 34,
   "metadata": {
    "execution": {
     "iopub.execute_input": "2021-02-19T17:46:02.425070Z",
     "iopub.status.busy": "2021-02-19T17:46:02.423979Z",
     "iopub.status.idle": "2021-02-19T17:51:35.349223Z",
     "shell.execute_reply": "2021-02-19T17:51:35.349707Z"
    }
   },
   "outputs": [],
   "source": [
    "chlor_a = gpd.GeoDataFrame(chlor_a, geometry=gpd.points_from_xy(chlor_a.lon, chlor_a.lat), crs={'init': 'epsg:4326'})"
   ]
  },
  {
   "cell_type": "code",
   "execution_count": 35,
   "metadata": {
    "execution": {
     "iopub.execute_input": "2021-02-19T17:51:36.995241Z",
     "iopub.status.busy": "2021-02-19T17:51:36.547172Z",
     "iopub.status.idle": "2021-02-19T17:51:36.998477Z",
     "shell.execute_reply": "2021-02-19T17:51:36.997809Z"
    }
   },
   "outputs": [],
   "source": [
    "chlor_a = chlor_a.drop(['lat', 'lon'], axis=1)"
   ]
  },
  {
   "cell_type": "code",
   "execution_count": 36,
   "metadata": {
    "execution": {
     "iopub.execute_input": "2021-02-19T17:51:37.002924Z",
     "iopub.status.busy": "2021-02-19T17:51:37.002237Z",
     "iopub.status.idle": "2021-02-19T17:51:37.006392Z",
     "shell.execute_reply": "2021-02-19T17:51:37.007301Z"
    }
   },
   "outputs": [
    {
     "data": {
      "text/plain": [
       "(26001084, 4)"
      ]
     },
     "execution_count": 1,
     "metadata": {},
     "output_type": "execute_result"
    }
   ],
   "source": [
    "chlor_a.shape"
   ]
  },
  {
   "cell_type": "code",
   "execution_count": 37,
   "metadata": {
    "execution": {
     "iopub.execute_input": "2021-02-19T17:51:37.019361Z",
     "iopub.status.busy": "2021-02-19T17:51:37.018298Z",
     "iopub.status.idle": "2021-02-19T17:51:37.021675Z",
     "shell.execute_reply": "2021-02-19T17:51:37.022343Z"
    }
   },
   "outputs": [
    {
     "name": "stdout",
     "output_type": "stream",
     "text": [
      "<class 'geopandas.geodataframe.GeoDataFrame'>\n",
      "RangeIndex: 26001084 entries, 0 to 26001083\n",
      "Data columns (total 4 columns):\n",
      " #   Column       Dtype   \n",
      "---  ------       -----   \n",
      " 0   year         int64   \n",
      " 1   month        int64   \n",
      " 2   chlor_a_log  float32 \n",
      " 3   geometry     geometry\n",
      "dtypes: float32(1), geometry(1), int64(2)\n",
      "memory usage: 694.3 MB\n"
     ]
    }
   ],
   "source": [
    "chlor_a.info()"
   ]
  },
  {
   "cell_type": "code",
   "execution_count": 38,
   "metadata": {
    "execution": {
     "iopub.execute_input": "2021-02-19T17:51:37.033418Z",
     "iopub.status.busy": "2021-02-19T17:51:37.032509Z",
     "iopub.status.idle": "2021-02-19T17:51:37.044713Z",
     "shell.execute_reply": "2021-02-19T17:51:37.043478Z"
    }
   },
   "outputs": [
    {
     "data": {
      "text/html": [
       "<div>\n",
       "<style scoped>\n",
       "    .dataframe tbody tr th:only-of-type {\n",
       "        vertical-align: middle;\n",
       "    }\n",
       "\n",
       "    .dataframe tbody tr th {\n",
       "        vertical-align: top;\n",
       "    }\n",
       "\n",
       "    .dataframe thead th {\n",
       "        text-align: right;\n",
       "    }\n",
       "</style>\n",
       "<table border=\"1\" class=\"dataframe\">\n",
       "  <thead>\n",
       "    <tr style=\"text-align: right;\">\n",
       "      <th></th>\n",
       "      <th>year</th>\n",
       "      <th>month</th>\n",
       "      <th>chlor_a_log</th>\n",
       "      <th>geometry</th>\n",
       "    </tr>\n",
       "  </thead>\n",
       "  <tbody>\n",
       "    <tr>\n",
       "      <th>0</th>\n",
       "      <td>2010</td>\n",
       "      <td>4</td>\n",
       "      <td>2.144869</td>\n",
       "      <td>POINT (64.77084 39.89583)</td>\n",
       "    </tr>\n",
       "    <tr>\n",
       "      <th>1</th>\n",
       "      <td>2010</td>\n",
       "      <td>4</td>\n",
       "      <td>2.144869</td>\n",
       "      <td>POINT (64.81250 39.89583)</td>\n",
       "    </tr>\n",
       "    <tr>\n",
       "      <th>2</th>\n",
       "      <td>2010</td>\n",
       "      <td>4</td>\n",
       "      <td>2.244318</td>\n",
       "      <td>POINT (64.85416 39.89583)</td>\n",
       "    </tr>\n",
       "    <tr>\n",
       "      <th>3</th>\n",
       "      <td>2010</td>\n",
       "      <td>4</td>\n",
       "      <td>2.196479</td>\n",
       "      <td>POINT (64.72916 39.85417)</td>\n",
       "    </tr>\n",
       "    <tr>\n",
       "      <th>4</th>\n",
       "      <td>2010</td>\n",
       "      <td>4</td>\n",
       "      <td>2.196479</td>\n",
       "      <td>POINT (64.77084 39.85417)</td>\n",
       "    </tr>\n",
       "  </tbody>\n",
       "</table>\n",
       "</div>"
      ],
      "text/plain": [
       "   year  month  chlor_a_log                   geometry\n",
       "0  2010      4     2.144869  POINT (64.77084 39.89583)\n",
       "1  2010      4     2.144869  POINT (64.81250 39.89583)\n",
       "2  2010      4     2.244318  POINT (64.85416 39.89583)\n",
       "3  2010      4     2.196479  POINT (64.72916 39.85417)\n",
       "4  2010      4     2.196479  POINT (64.77084 39.85417)"
      ]
     },
     "execution_count": 1,
     "metadata": {},
     "output_type": "execute_result"
    }
   ],
   "source": [
    "chlor_a.head()"
   ]
  },
  {
   "cell_type": "code",
   "execution_count": 39,
   "metadata": {
    "execution": {
     "iopub.execute_input": "2021-02-19T17:51:37.062161Z",
     "iopub.status.busy": "2021-02-19T17:51:37.060304Z",
     "iopub.status.idle": "2021-02-19T18:34:36.040354Z",
     "shell.execute_reply": "2021-02-19T18:34:36.039282Z"
    }
   },
   "outputs": [],
   "source": [
    "for year in years:\n",
    "    chlor_a[chlor_a.year == year].to_file(path+'monthly_chlor_a_'+str(year)+'.shp')"
   ]
  }
 ],
 "metadata": {
  "kernelspec": {
   "display_name": "Python 3",
   "language": "python",
   "name": "python3"
  },
  "language_info": {
   "codemirror_mode": {
    "name": "ipython",
    "version": 3
   },
   "file_extension": ".py",
   "mimetype": "text/x-python",
   "name": "python",
   "nbconvert_exporter": "python",
   "pygments_lexer": "ipython3",
   "version": "3.7.6"
  }
 },
 "nbformat": 4,
 "nbformat_minor": 4
}
