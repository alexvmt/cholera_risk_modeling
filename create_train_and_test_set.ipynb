{
 "cells": [
  {
   "cell_type": "markdown",
   "metadata": {},
   "source": [
    "# create train and test set"
   ]
  },
  {
   "cell_type": "code",
   "execution_count": 1,
   "metadata": {},
   "outputs": [],
   "source": [
    "import numpy as np\n",
    "import pandas as pd\n",
    "import geopandas as gpd\n",
    "import gc"
   ]
  },
  {
   "cell_type": "code",
   "execution_count": 2,
   "metadata": {},
   "outputs": [],
   "source": [
    "def process_ecv(outbreaks_data, evc_data, ecv):\n",
    "    outbreaks_ecv = gpd.sjoin(evc_data, outbreaks_data[['district', 'geometry']], how='inner', op='within').reset_index(drop=True)\n",
    "    outbreaks_ecv = outbreaks_ecv.drop('index_right', axis=1)\n",
    "    outbreaks_ecv = outbreaks_ecv.groupby(['district', 'year', 'month']).aggregate('mean').reset_index()\n",
    "    outbreaks_ecv[ecv+'_lag_1'] = outbreaks_ecv.groupby(['district'])[ecv].shift(1)\n",
    "    outbreaks_ecv[ecv+'_lag_2'] = outbreaks_ecv.groupby(['district'])[ecv].shift(2)\n",
    "    outbreaks_ecv = outbreaks_ecv.dropna()\n",
    "    return outbreaks_ecv"
   ]
  },
  {
   "cell_type": "markdown",
   "metadata": {},
   "source": [
    "## outbreaks"
   ]
  },
  {
   "cell_type": "code",
   "execution_count": 3,
   "metadata": {},
   "outputs": [],
   "source": [
    "outbreaks = gpd.read_file('../data/cholera_outbreaks/monthly_cholera_outbreaks_per_district_2010_2015.shp')"
   ]
  },
  {
   "cell_type": "code",
   "execution_count": 4,
   "metadata": {},
   "outputs": [
    {
     "data": {
      "text/plain": [
       "{'init': 'epsg:4326'}"
      ]
     },
     "execution_count": 4,
     "metadata": {},
     "output_type": "execute_result"
    }
   ],
   "source": [
    "outbreaks.crs"
   ]
  },
  {
   "cell_type": "code",
   "execution_count": 5,
   "metadata": {},
   "outputs": [
    {
     "data": {
      "text/plain": [
       "(329, 6)"
      ]
     },
     "execution_count": 5,
     "metadata": {},
     "output_type": "execute_result"
    }
   ],
   "source": [
    "outbreaks.shape"
   ]
  },
  {
   "cell_type": "code",
   "execution_count": 6,
   "metadata": {},
   "outputs": [
    {
     "name": "stdout",
     "output_type": "stream",
     "text": [
      "<class 'geopandas.geodataframe.GeoDataFrame'>\n",
      "RangeIndex: 329 entries, 0 to 328\n",
      "Data columns (total 6 columns):\n",
      " #   Column    Non-Null Count  Dtype   \n",
      "---  ------    --------------  -----   \n",
      " 0   state     329 non-null    object  \n",
      " 1   district  329 non-null    object  \n",
      " 2   year      329 non-null    int64   \n",
      " 3   month     329 non-null    int64   \n",
      " 4   outbreak  329 non-null    int64   \n",
      " 5   geometry  329 non-null    geometry\n",
      "dtypes: geometry(1), int64(3), object(2)\n",
      "memory usage: 15.5+ KB\n"
     ]
    }
   ],
   "source": [
    "outbreaks.info()"
   ]
  },
  {
   "cell_type": "code",
   "execution_count": 7,
   "metadata": {},
   "outputs": [
    {
     "data": {
      "text/html": [
       "<div>\n",
       "<style scoped>\n",
       "    .dataframe tbody tr th:only-of-type {\n",
       "        vertical-align: middle;\n",
       "    }\n",
       "\n",
       "    .dataframe tbody tr th {\n",
       "        vertical-align: top;\n",
       "    }\n",
       "\n",
       "    .dataframe thead th {\n",
       "        text-align: right;\n",
       "    }\n",
       "</style>\n",
       "<table border=\"1\" class=\"dataframe\">\n",
       "  <thead>\n",
       "    <tr style=\"text-align: right;\">\n",
       "      <th></th>\n",
       "      <th>state</th>\n",
       "      <th>district</th>\n",
       "      <th>year</th>\n",
       "      <th>month</th>\n",
       "      <th>outbreak</th>\n",
       "      <th>geometry</th>\n",
       "    </tr>\n",
       "  </thead>\n",
       "  <tbody>\n",
       "    <tr>\n",
       "      <th>0</th>\n",
       "      <td>maharashtra</td>\n",
       "      <td>solapur</td>\n",
       "      <td>2010</td>\n",
       "      <td>2</td>\n",
       "      <td>1</td>\n",
       "      <td>POLYGON ((74.90098 17.23968, 74.90394 17.24113...</td>\n",
       "    </tr>\n",
       "    <tr>\n",
       "      <th>1</th>\n",
       "      <td>gujarat</td>\n",
       "      <td>panch mahals</td>\n",
       "      <td>2010</td>\n",
       "      <td>5</td>\n",
       "      <td>1</td>\n",
       "      <td>POLYGON ((73.73135 22.28985, 73.72839 22.28884...</td>\n",
       "    </tr>\n",
       "    <tr>\n",
       "      <th>2</th>\n",
       "      <td>tamil nadu</td>\n",
       "      <td>salem</td>\n",
       "      <td>2010</td>\n",
       "      <td>5</td>\n",
       "      <td>1</td>\n",
       "      <td>POLYGON ((78.22656 11.90686, 78.22643 11.90152...</td>\n",
       "    </tr>\n",
       "    <tr>\n",
       "      <th>3</th>\n",
       "      <td>tamil nadu</td>\n",
       "      <td>theni</td>\n",
       "      <td>2010</td>\n",
       "      <td>5</td>\n",
       "      <td>1</td>\n",
       "      <td>POLYGON ((77.34090 9.59505, 77.32851 9.57323, ...</td>\n",
       "    </tr>\n",
       "    <tr>\n",
       "      <th>4</th>\n",
       "      <td>tamil nadu</td>\n",
       "      <td>theni</td>\n",
       "      <td>2012</td>\n",
       "      <td>1</td>\n",
       "      <td>1</td>\n",
       "      <td>POLYGON ((77.34090 9.59505, 77.32851 9.57323, ...</td>\n",
       "    </tr>\n",
       "  </tbody>\n",
       "</table>\n",
       "</div>"
      ],
      "text/plain": [
       "         state      district  year  month  outbreak  \\\n",
       "0  maharashtra       solapur  2010      2         1   \n",
       "1      gujarat  panch mahals  2010      5         1   \n",
       "2   tamil nadu         salem  2010      5         1   \n",
       "3   tamil nadu         theni  2010      5         1   \n",
       "4   tamil nadu         theni  2012      1         1   \n",
       "\n",
       "                                            geometry  \n",
       "0  POLYGON ((74.90098 17.23968, 74.90394 17.24113...  \n",
       "1  POLYGON ((73.73135 22.28985, 73.72839 22.28884...  \n",
       "2  POLYGON ((78.22656 11.90686, 78.22643 11.90152...  \n",
       "3  POLYGON ((77.34090 9.59505, 77.32851 9.57323, ...  \n",
       "4  POLYGON ((77.34090 9.59505, 77.32851 9.57323, ...  "
      ]
     },
     "execution_count": 7,
     "metadata": {},
     "output_type": "execute_result"
    }
   ],
   "source": [
    "outbreaks.head()"
   ]
  },
  {
   "cell_type": "code",
   "execution_count": 8,
   "metadata": {},
   "outputs": [],
   "source": [
    "outbreaks['geometry'] = outbreaks['geometry'].buffer(1) # which crs (e.g. 4326 and buffer 1 degree or 3395 and buffer 111000 meters)?"
   ]
  },
  {
   "cell_type": "code",
   "execution_count": 9,
   "metadata": {},
   "outputs": [
    {
     "data": {
      "text/html": [
       "<div>\n",
       "<style scoped>\n",
       "    .dataframe tbody tr th:only-of-type {\n",
       "        vertical-align: middle;\n",
       "    }\n",
       "\n",
       "    .dataframe tbody tr th {\n",
       "        vertical-align: top;\n",
       "    }\n",
       "\n",
       "    .dataframe thead th {\n",
       "        text-align: right;\n",
       "    }\n",
       "</style>\n",
       "<table border=\"1\" class=\"dataframe\">\n",
       "  <thead>\n",
       "    <tr style=\"text-align: right;\">\n",
       "      <th></th>\n",
       "      <th>state</th>\n",
       "      <th>district</th>\n",
       "      <th>year</th>\n",
       "      <th>month</th>\n",
       "      <th>outbreak</th>\n",
       "      <th>geometry</th>\n",
       "    </tr>\n",
       "  </thead>\n",
       "  <tbody>\n",
       "    <tr>\n",
       "      <th>0</th>\n",
       "      <td>maharashtra</td>\n",
       "      <td>solapur</td>\n",
       "      <td>2010</td>\n",
       "      <td>2</td>\n",
       "      <td>1</td>\n",
       "      <td>POLYGON ((76.33869 16.31147, 76.27006 16.30167...</td>\n",
       "    </tr>\n",
       "    <tr>\n",
       "      <th>1</th>\n",
       "      <td>gujarat</td>\n",
       "      <td>panch mahals</td>\n",
       "      <td>2010</td>\n",
       "      <td>5</td>\n",
       "      <td>1</td>\n",
       "      <td>POLYGON ((72.37187 22.62004, 72.36983 22.62965...</td>\n",
       "    </tr>\n",
       "    <tr>\n",
       "      <th>2</th>\n",
       "      <td>tamil nadu</td>\n",
       "      <td>salem</td>\n",
       "      <td>2010</td>\n",
       "      <td>5</td>\n",
       "      <td>1</td>\n",
       "      <td>POLYGON ((78.96695 10.38823, 78.94716 10.37893...</td>\n",
       "    </tr>\n",
       "    <tr>\n",
       "      <th>3</th>\n",
       "      <td>tamil nadu</td>\n",
       "      <td>theni</td>\n",
       "      <td>2010</td>\n",
       "      <td>5</td>\n",
       "      <td>1</td>\n",
       "      <td>POLYGON ((77.85536 8.62118, 77.82449 8.60658, ...</td>\n",
       "    </tr>\n",
       "    <tr>\n",
       "      <th>4</th>\n",
       "      <td>tamil nadu</td>\n",
       "      <td>theni</td>\n",
       "      <td>2012</td>\n",
       "      <td>1</td>\n",
       "      <td>1</td>\n",
       "      <td>POLYGON ((77.85536 8.62118, 77.82449 8.60658, ...</td>\n",
       "    </tr>\n",
       "  </tbody>\n",
       "</table>\n",
       "</div>"
      ],
      "text/plain": [
       "         state      district  year  month  outbreak  \\\n",
       "0  maharashtra       solapur  2010      2         1   \n",
       "1      gujarat  panch mahals  2010      5         1   \n",
       "2   tamil nadu         salem  2010      5         1   \n",
       "3   tamil nadu         theni  2010      5         1   \n",
       "4   tamil nadu         theni  2012      1         1   \n",
       "\n",
       "                                            geometry  \n",
       "0  POLYGON ((76.33869 16.31147, 76.27006 16.30167...  \n",
       "1  POLYGON ((72.37187 22.62004, 72.36983 22.62965...  \n",
       "2  POLYGON ((78.96695 10.38823, 78.94716 10.37893...  \n",
       "3  POLYGON ((77.85536 8.62118, 77.82449 8.60658, ...  \n",
       "4  POLYGON ((77.85536 8.62118, 77.82449 8.60658, ...  "
      ]
     },
     "execution_count": 9,
     "metadata": {},
     "output_type": "execute_result"
    }
   ],
   "source": [
    "outbreaks.head()"
   ]
  },
  {
   "cell_type": "markdown",
   "metadata": {},
   "source": [
    "## spatial joins, district level and feature creation"
   ]
  },
  {
   "cell_type": "markdown",
   "metadata": {},
   "source": [
    "### sea surface salinity"
   ]
  },
  {
   "cell_type": "code",
   "execution_count": 10,
   "metadata": {},
   "outputs": [],
   "source": [
    "sss = gpd.read_file('../data/sea_surface_salinity/monthly_sss_2010_2015.shp')"
   ]
  },
  {
   "cell_type": "code",
   "execution_count": 11,
   "metadata": {
    "scrolled": true
   },
   "outputs": [
    {
     "data": {
      "text/plain": [
       "{'init': 'epsg:4326'}"
      ]
     },
     "execution_count": 11,
     "metadata": {},
     "output_type": "execute_result"
    }
   ],
   "source": [
    "sss.crs"
   ]
  },
  {
   "cell_type": "code",
   "execution_count": 12,
   "metadata": {},
   "outputs": [
    {
     "data": {
      "text/plain": [
       "(908712, 4)"
      ]
     },
     "execution_count": 12,
     "metadata": {},
     "output_type": "execute_result"
    }
   ],
   "source": [
    "sss.shape"
   ]
  },
  {
   "cell_type": "code",
   "execution_count": 13,
   "metadata": {},
   "outputs": [
    {
     "name": "stdout",
     "output_type": "stream",
     "text": [
      "<class 'geopandas.geodataframe.GeoDataFrame'>\n",
      "RangeIndex: 908712 entries, 0 to 908711\n",
      "Data columns (total 4 columns):\n",
      " #   Column    Non-Null Count   Dtype   \n",
      "---  ------    --------------   -----   \n",
      " 0   year      908712 non-null  int64   \n",
      " 1   month     908712 non-null  int64   \n",
      " 2   sss       908712 non-null  float64 \n",
      " 3   geometry  908712 non-null  geometry\n",
      "dtypes: float64(1), geometry(1), int64(2)\n",
      "memory usage: 27.7 MB\n"
     ]
    }
   ],
   "source": [
    "sss.info()"
   ]
  },
  {
   "cell_type": "code",
   "execution_count": 14,
   "metadata": {},
   "outputs": [
    {
     "data": {
      "text/html": [
       "<div>\n",
       "<style scoped>\n",
       "    .dataframe tbody tr th:only-of-type {\n",
       "        vertical-align: middle;\n",
       "    }\n",
       "\n",
       "    .dataframe tbody tr th {\n",
       "        vertical-align: top;\n",
       "    }\n",
       "\n",
       "    .dataframe thead th {\n",
       "        text-align: right;\n",
       "    }\n",
       "</style>\n",
       "<table border=\"1\" class=\"dataframe\">\n",
       "  <thead>\n",
       "    <tr style=\"text-align: right;\">\n",
       "      <th></th>\n",
       "      <th>year</th>\n",
       "      <th>month</th>\n",
       "      <th>sss</th>\n",
       "      <th>geometry</th>\n",
       "    </tr>\n",
       "  </thead>\n",
       "  <tbody>\n",
       "    <tr>\n",
       "      <th>0</th>\n",
       "      <td>2010</td>\n",
       "      <td>1</td>\n",
       "      <td>35.265869</td>\n",
       "      <td>POINT (60.04323 0.09808)</td>\n",
       "    </tr>\n",
       "    <tr>\n",
       "      <th>1</th>\n",
       "      <td>2010</td>\n",
       "      <td>2</td>\n",
       "      <td>35.191532</td>\n",
       "      <td>POINT (60.04323 0.09808)</td>\n",
       "    </tr>\n",
       "    <tr>\n",
       "      <th>2</th>\n",
       "      <td>2010</td>\n",
       "      <td>3</td>\n",
       "      <td>35.426231</td>\n",
       "      <td>POINT (60.04323 0.09808)</td>\n",
       "    </tr>\n",
       "    <tr>\n",
       "      <th>3</th>\n",
       "      <td>2010</td>\n",
       "      <td>4</td>\n",
       "      <td>35.370430</td>\n",
       "      <td>POINT (60.04323 0.09808)</td>\n",
       "    </tr>\n",
       "    <tr>\n",
       "      <th>4</th>\n",
       "      <td>2010</td>\n",
       "      <td>5</td>\n",
       "      <td>35.310860</td>\n",
       "      <td>POINT (60.04323 0.09808)</td>\n",
       "    </tr>\n",
       "  </tbody>\n",
       "</table>\n",
       "</div>"
      ],
      "text/plain": [
       "   year  month        sss                  geometry\n",
       "0  2010      1  35.265869  POINT (60.04323 0.09808)\n",
       "1  2010      2  35.191532  POINT (60.04323 0.09808)\n",
       "2  2010      3  35.426231  POINT (60.04323 0.09808)\n",
       "3  2010      4  35.370430  POINT (60.04323 0.09808)\n",
       "4  2010      5  35.310860  POINT (60.04323 0.09808)"
      ]
     },
     "execution_count": 14,
     "metadata": {},
     "output_type": "execute_result"
    }
   ],
   "source": [
    "sss.head()"
   ]
  },
  {
   "cell_type": "code",
   "execution_count": 15,
   "metadata": {},
   "outputs": [
    {
     "name": "stdout",
     "output_type": "stream",
     "text": [
      "CPU times: user 1min 8s, sys: 196 ms, total: 1min 8s\n",
      "Wall time: 1min 9s\n"
     ]
    }
   ],
   "source": [
    "%%time\n",
    "\n",
    "sss_district_level = process_ecv(outbreaks, sss, 'sss')"
   ]
  },
  {
   "cell_type": "code",
   "execution_count": 16,
   "metadata": {},
   "outputs": [
    {
     "data": {
      "text/plain": [
       "(2940, 6)"
      ]
     },
     "execution_count": 16,
     "metadata": {},
     "output_type": "execute_result"
    }
   ],
   "source": [
    "sss_district_level.shape"
   ]
  },
  {
   "cell_type": "code",
   "execution_count": 17,
   "metadata": {},
   "outputs": [
    {
     "name": "stdout",
     "output_type": "stream",
     "text": [
      "<class 'geopandas.geodataframe.GeoDataFrame'>\n",
      "Int64Index: 2940 entries, 2 to 3023\n",
      "Data columns (total 6 columns):\n",
      " #   Column     Non-Null Count  Dtype  \n",
      "---  ------     --------------  -----  \n",
      " 0   district   2940 non-null   object \n",
      " 1   year       2940 non-null   int64  \n",
      " 2   month      2940 non-null   int64  \n",
      " 3   sss        2940 non-null   float64\n",
      " 4   sss_lag_1  2940 non-null   float64\n",
      " 5   sss_lag_2  2940 non-null   float64\n",
      "dtypes: float64(3), int64(2), object(1)\n",
      "memory usage: 160.8+ KB\n"
     ]
    }
   ],
   "source": [
    "sss_district_level.info()"
   ]
  },
  {
   "cell_type": "code",
   "execution_count": 18,
   "metadata": {},
   "outputs": [
    {
     "data": {
      "text/html": [
       "<div>\n",
       "<style scoped>\n",
       "    .dataframe tbody tr th:only-of-type {\n",
       "        vertical-align: middle;\n",
       "    }\n",
       "\n",
       "    .dataframe tbody tr th {\n",
       "        vertical-align: top;\n",
       "    }\n",
       "\n",
       "    .dataframe thead th {\n",
       "        text-align: right;\n",
       "    }\n",
       "</style>\n",
       "<table border=\"1\" class=\"dataframe\">\n",
       "  <thead>\n",
       "    <tr style=\"text-align: right;\">\n",
       "      <th></th>\n",
       "      <th>district</th>\n",
       "      <th>year</th>\n",
       "      <th>month</th>\n",
       "      <th>sss</th>\n",
       "      <th>sss_lag_1</th>\n",
       "      <th>sss_lag_2</th>\n",
       "    </tr>\n",
       "  </thead>\n",
       "  <tbody>\n",
       "    <tr>\n",
       "      <th>2</th>\n",
       "      <td>belgaum</td>\n",
       "      <td>2010</td>\n",
       "      <td>3</td>\n",
       "      <td>34.027400</td>\n",
       "      <td>34.600696</td>\n",
       "      <td>35.335807</td>\n",
       "    </tr>\n",
       "    <tr>\n",
       "      <th>3</th>\n",
       "      <td>belgaum</td>\n",
       "      <td>2010</td>\n",
       "      <td>4</td>\n",
       "      <td>34.299124</td>\n",
       "      <td>34.027400</td>\n",
       "      <td>34.600696</td>\n",
       "    </tr>\n",
       "    <tr>\n",
       "      <th>4</th>\n",
       "      <td>belgaum</td>\n",
       "      <td>2010</td>\n",
       "      <td>5</td>\n",
       "      <td>34.924089</td>\n",
       "      <td>34.299124</td>\n",
       "      <td>34.027400</td>\n",
       "    </tr>\n",
       "    <tr>\n",
       "      <th>5</th>\n",
       "      <td>belgaum</td>\n",
       "      <td>2010</td>\n",
       "      <td>6</td>\n",
       "      <td>35.246572</td>\n",
       "      <td>34.924089</td>\n",
       "      <td>34.299124</td>\n",
       "    </tr>\n",
       "    <tr>\n",
       "      <th>6</th>\n",
       "      <td>belgaum</td>\n",
       "      <td>2010</td>\n",
       "      <td>7</td>\n",
       "      <td>35.282390</td>\n",
       "      <td>35.246572</td>\n",
       "      <td>34.924089</td>\n",
       "    </tr>\n",
       "  </tbody>\n",
       "</table>\n",
       "</div>"
      ],
      "text/plain": [
       "  district  year  month        sss  sss_lag_1  sss_lag_2\n",
       "2  belgaum  2010      3  34.027400  34.600696  35.335807\n",
       "3  belgaum  2010      4  34.299124  34.027400  34.600696\n",
       "4  belgaum  2010      5  34.924089  34.299124  34.027400\n",
       "5  belgaum  2010      6  35.246572  34.924089  34.299124\n",
       "6  belgaum  2010      7  35.282390  35.246572  34.924089"
      ]
     },
     "execution_count": 18,
     "metadata": {},
     "output_type": "execute_result"
    }
   ],
   "source": [
    "sss_district_level.head()"
   ]
  },
  {
   "cell_type": "code",
   "execution_count": 19,
   "metadata": {},
   "outputs": [
    {
     "data": {
      "text/plain": [
       "106"
      ]
     },
     "execution_count": 19,
     "metadata": {},
     "output_type": "execute_result"
    }
   ],
   "source": [
    "del sss\n",
    "gc.collect()"
   ]
  },
  {
   "cell_type": "markdown",
   "metadata": {},
   "source": [
    "### chlorophyll-a concentration"
   ]
  },
  {
   "cell_type": "code",
   "execution_count": 20,
   "metadata": {},
   "outputs": [],
   "source": [
    "chlor_a = gpd.read_file('../data/chlorophyll_a_concentration/monthly_chlor_a_2010.shp')"
   ]
  },
  {
   "cell_type": "code",
   "execution_count": 21,
   "metadata": {},
   "outputs": [],
   "source": [
    "chlor_a = chlor_a.rename(columns={'chlor_a_lo': 'chlor_a_log'})"
   ]
  },
  {
   "cell_type": "code",
   "execution_count": 22,
   "metadata": {},
   "outputs": [
    {
     "data": {
      "text/plain": [
       "{'init': 'epsg:4326'}"
      ]
     },
     "execution_count": 22,
     "metadata": {},
     "output_type": "execute_result"
    }
   ],
   "source": [
    "chlor_a.crs"
   ]
  },
  {
   "cell_type": "code",
   "execution_count": 23,
   "metadata": {},
   "outputs": [
    {
     "data": {
      "text/plain": [
       "(4933904, 4)"
      ]
     },
     "execution_count": 23,
     "metadata": {},
     "output_type": "execute_result"
    }
   ],
   "source": [
    "chlor_a.shape"
   ]
  },
  {
   "cell_type": "code",
   "execution_count": 24,
   "metadata": {},
   "outputs": [
    {
     "name": "stdout",
     "output_type": "stream",
     "text": [
      "<class 'geopandas.geodataframe.GeoDataFrame'>\n",
      "RangeIndex: 4933904 entries, 0 to 4933903\n",
      "Data columns (total 4 columns):\n",
      " #   Column       Dtype   \n",
      "---  ------       -----   \n",
      " 0   year         int64   \n",
      " 1   month        int64   \n",
      " 2   chlor_a_log  float64 \n",
      " 3   geometry     geometry\n",
      "dtypes: float64(1), geometry(1), int64(2)\n",
      "memory usage: 150.6 MB\n"
     ]
    }
   ],
   "source": [
    "chlor_a.info()"
   ]
  },
  {
   "cell_type": "code",
   "execution_count": 33,
   "metadata": {},
   "outputs": [
    {
     "data": {
      "text/html": [
       "<div>\n",
       "<style scoped>\n",
       "    .dataframe tbody tr th:only-of-type {\n",
       "        vertical-align: middle;\n",
       "    }\n",
       "\n",
       "    .dataframe tbody tr th {\n",
       "        vertical-align: top;\n",
       "    }\n",
       "\n",
       "    .dataframe thead th {\n",
       "        text-align: right;\n",
       "    }\n",
       "</style>\n",
       "<table border=\"1\" class=\"dataframe\">\n",
       "  <thead>\n",
       "    <tr style=\"text-align: right;\">\n",
       "      <th></th>\n",
       "      <th>year</th>\n",
       "      <th>month</th>\n",
       "      <th>chlor_a_log</th>\n",
       "      <th>geometry</th>\n",
       "    </tr>\n",
       "  </thead>\n",
       "  <tbody>\n",
       "    <tr>\n",
       "      <th>0</th>\n",
       "      <td>2015</td>\n",
       "      <td>6</td>\n",
       "      <td>1.488876</td>\n",
       "      <td>POINT (64.81250 39.85417)</td>\n",
       "    </tr>\n",
       "    <tr>\n",
       "      <th>1</th>\n",
       "      <td>2015</td>\n",
       "      <td>6</td>\n",
       "      <td>1.643125</td>\n",
       "      <td>POINT (64.85416 39.85417)</td>\n",
       "    </tr>\n",
       "    <tr>\n",
       "      <th>2</th>\n",
       "      <td>2015</td>\n",
       "      <td>6</td>\n",
       "      <td>-0.685363</td>\n",
       "      <td>POINT (73.35416 39.10417)</td>\n",
       "    </tr>\n",
       "    <tr>\n",
       "      <th>3</th>\n",
       "      <td>2015</td>\n",
       "      <td>6</td>\n",
       "      <td>-2.577963</td>\n",
       "      <td>POINT (73.35416 39.02083)</td>\n",
       "    </tr>\n",
       "    <tr>\n",
       "      <th>4</th>\n",
       "      <td>2015</td>\n",
       "      <td>6</td>\n",
       "      <td>-1.006353</td>\n",
       "      <td>POINT (73.47916 39.02083)</td>\n",
       "    </tr>\n",
       "  </tbody>\n",
       "</table>\n",
       "</div>"
      ],
      "text/plain": [
       "   year  month  chlor_a_log                   geometry\n",
       "0  2015      6     1.488876  POINT (64.81250 39.85417)\n",
       "1  2015      6     1.643125  POINT (64.85416 39.85417)\n",
       "2  2015      6    -0.685363  POINT (73.35416 39.10417)\n",
       "3  2015      6    -2.577963  POINT (73.35416 39.02083)\n",
       "4  2015      6    -1.006353  POINT (73.47916 39.02083)"
      ]
     },
     "execution_count": 33,
     "metadata": {},
     "output_type": "execute_result"
    }
   ],
   "source": [
    "chlor_a.head()"
   ]
  },
  {
   "cell_type": "code",
   "execution_count": 26,
   "metadata": {},
   "outputs": [],
   "source": [
    "chlor_a_district_level = pd.DataFrame(columns=['district', 'year', 'month', 'chlor_a_log', 'chlor_a_log_lag_1', 'chlor_a_log_lag_2'])"
   ]
  },
  {
   "cell_type": "code",
   "execution_count": 27,
   "metadata": {},
   "outputs": [],
   "source": [
    "years = [2010,\n",
    "         2011,\n",
    "         2012,\n",
    "         2013,\n",
    "         2014,\n",
    "         2015]"
   ]
  },
  {
   "cell_type": "code",
   "execution_count": 37,
   "metadata": {},
   "outputs": [
    {
     "name": "stdout",
     "output_type": "stream",
     "text": [
      "Processing 2010...\n",
      "Processing 2011...\n",
      "Processing 2012...\n",
      "Processing 2013...\n",
      "Processing 2014...\n",
      "Processing 2015...\n",
      "CPU times: user 50min 1s, sys: 11.6 s, total: 50min 12s\n",
      "Wall time: 50min 20s\n"
     ]
    }
   ],
   "source": [
    "%%time\n",
    "\n",
    "for year in years:\n",
    "    print('Processing {}...'.format(year))\n",
    "    chlor_a = gpd.read_file('../data/chlorophyll_a_concentration/monthly_chlor_a_'+str(year)+'.shp')\n",
    "    chlor_a = chlor_a.rename(columns={'chlor_a_lo': 'chlor_a_log'})\n",
    "    chlor_a_district_level_ = process_ecv(outbreaks, chlor_a, 'chlor_a_log')\n",
    "    chlor_a_district_level = chlor_a_district_level.append(chlor_a_district_level_)"
   ]
  },
  {
   "cell_type": "code",
   "execution_count": 38,
   "metadata": {},
   "outputs": [
    {
     "data": {
      "text/plain": [
       "(3569, 6)"
      ]
     },
     "execution_count": 38,
     "metadata": {},
     "output_type": "execute_result"
    }
   ],
   "source": [
    "chlor_a_district_level.shape"
   ]
  },
  {
   "cell_type": "code",
   "execution_count": 39,
   "metadata": {},
   "outputs": [
    {
     "name": "stdout",
     "output_type": "stream",
     "text": [
      "<class 'pandas.core.frame.DataFrame'>\n",
      "Int64Index: 3569 entries, 2 to 670\n",
      "Data columns (total 6 columns):\n",
      " #   Column             Non-Null Count  Dtype  \n",
      "---  ------             --------------  -----  \n",
      " 0   district           3569 non-null   object \n",
      " 1   year               3569 non-null   object \n",
      " 2   month              3569 non-null   object \n",
      " 3   chlor_a_log        3569 non-null   float64\n",
      " 4   chlor_a_log_lag_1  3569 non-null   float64\n",
      " 5   chlor_a_log_lag_2  3569 non-null   float64\n",
      "dtypes: float64(3), object(3)\n",
      "memory usage: 195.2+ KB\n"
     ]
    }
   ],
   "source": [
    "chlor_a_district_level.info()"
   ]
  },
  {
   "cell_type": "code",
   "execution_count": 40,
   "metadata": {},
   "outputs": [
    {
     "data": {
      "text/html": [
       "<div>\n",
       "<style scoped>\n",
       "    .dataframe tbody tr th:only-of-type {\n",
       "        vertical-align: middle;\n",
       "    }\n",
       "\n",
       "    .dataframe tbody tr th {\n",
       "        vertical-align: top;\n",
       "    }\n",
       "\n",
       "    .dataframe thead th {\n",
       "        text-align: right;\n",
       "    }\n",
       "</style>\n",
       "<table border=\"1\" class=\"dataframe\">\n",
       "  <thead>\n",
       "    <tr style=\"text-align: right;\">\n",
       "      <th></th>\n",
       "      <th>district</th>\n",
       "      <th>year</th>\n",
       "      <th>month</th>\n",
       "      <th>chlor_a_log</th>\n",
       "      <th>chlor_a_log_lag_1</th>\n",
       "      <th>chlor_a_log_lag_2</th>\n",
       "    </tr>\n",
       "  </thead>\n",
       "  <tbody>\n",
       "    <tr>\n",
       "      <th>2</th>\n",
       "      <td>ahmadabad</td>\n",
       "      <td>2010</td>\n",
       "      <td>3</td>\n",
       "      <td>2.263289</td>\n",
       "      <td>2.255060</td>\n",
       "      <td>2.401536</td>\n",
       "    </tr>\n",
       "    <tr>\n",
       "      <th>3</th>\n",
       "      <td>ahmadabad</td>\n",
       "      <td>2010</td>\n",
       "      <td>4</td>\n",
       "      <td>2.283045</td>\n",
       "      <td>2.263289</td>\n",
       "      <td>2.255060</td>\n",
       "    </tr>\n",
       "    <tr>\n",
       "      <th>4</th>\n",
       "      <td>ahmadabad</td>\n",
       "      <td>2010</td>\n",
       "      <td>5</td>\n",
       "      <td>2.110295</td>\n",
       "      <td>2.283045</td>\n",
       "      <td>2.263289</td>\n",
       "    </tr>\n",
       "    <tr>\n",
       "      <th>5</th>\n",
       "      <td>ahmadabad</td>\n",
       "      <td>2010</td>\n",
       "      <td>6</td>\n",
       "      <td>2.239745</td>\n",
       "      <td>2.110295</td>\n",
       "      <td>2.283045</td>\n",
       "    </tr>\n",
       "    <tr>\n",
       "      <th>6</th>\n",
       "      <td>ahmadabad</td>\n",
       "      <td>2010</td>\n",
       "      <td>7</td>\n",
       "      <td>2.174889</td>\n",
       "      <td>2.239745</td>\n",
       "      <td>2.110295</td>\n",
       "    </tr>\n",
       "  </tbody>\n",
       "</table>\n",
       "</div>"
      ],
      "text/plain": [
       "    district  year month  chlor_a_log  chlor_a_log_lag_1  chlor_a_log_lag_2\n",
       "2  ahmadabad  2010     3     2.263289           2.255060           2.401536\n",
       "3  ahmadabad  2010     4     2.283045           2.263289           2.255060\n",
       "4  ahmadabad  2010     5     2.110295           2.283045           2.263289\n",
       "5  ahmadabad  2010     6     2.239745           2.110295           2.283045\n",
       "6  ahmadabad  2010     7     2.174889           2.239745           2.110295"
      ]
     },
     "execution_count": 40,
     "metadata": {},
     "output_type": "execute_result"
    }
   ],
   "source": [
    "chlor_a_district_level.head()"
   ]
  },
  {
   "cell_type": "code",
   "execution_count": 41,
   "metadata": {},
   "outputs": [
    {
     "data": {
      "text/plain": [
       "157"
      ]
     },
     "execution_count": 41,
     "metadata": {},
     "output_type": "execute_result"
    }
   ],
   "source": [
    "del [chlor_a, chlor_a_district_level_]\n",
    "gc.collect()"
   ]
  },
  {
   "cell_type": "markdown",
   "metadata": {},
   "source": [
    "## join features and target"
   ]
  },
  {
   "cell_type": "code",
   "execution_count": 90,
   "metadata": {},
   "outputs": [],
   "source": [
    "train_test = pd.merge(sss_district_level, outbreaks[['district', 'year', 'month', 'outbreak']], how='left', on=['district', 'year', 'month'])"
   ]
  },
  {
   "cell_type": "code",
   "execution_count": 91,
   "metadata": {},
   "outputs": [
    {
     "data": {
      "text/plain": [
       "(2940, 7)"
      ]
     },
     "execution_count": 91,
     "metadata": {},
     "output_type": "execute_result"
    }
   ],
   "source": [
    "train_test.shape"
   ]
  },
  {
   "cell_type": "code",
   "execution_count": 92,
   "metadata": {},
   "outputs": [],
   "source": [
    "train_test = pd.merge(train_test, chlor_a_district_level, how='inner', on=['district', 'year', 'month'])"
   ]
  },
  {
   "cell_type": "code",
   "execution_count": 93,
   "metadata": {},
   "outputs": [
    {
     "data": {
      "text/plain": [
       "(2396, 10)"
      ]
     },
     "execution_count": 93,
     "metadata": {},
     "output_type": "execute_result"
    }
   ],
   "source": [
    "train_test.shape"
   ]
  },
  {
   "cell_type": "code",
   "execution_count": 94,
   "metadata": {},
   "outputs": [
    {
     "name": "stdout",
     "output_type": "stream",
     "text": [
      "<class 'geopandas.geodataframe.GeoDataFrame'>\n",
      "Int64Index: 2396 entries, 0 to 2395\n",
      "Data columns (total 10 columns):\n",
      " #   Column             Non-Null Count  Dtype  \n",
      "---  ------             --------------  -----  \n",
      " 0   district           2396 non-null   object \n",
      " 1   year               2396 non-null   object \n",
      " 2   month              2396 non-null   object \n",
      " 3   sss                2396 non-null   float64\n",
      " 4   sss_lag_1          2396 non-null   float64\n",
      " 5   sss_lag_2          2396 non-null   float64\n",
      " 6   outbreak           77 non-null     float64\n",
      " 7   chlor_a_log        2396 non-null   float64\n",
      " 8   chlor_a_log_lag_1  2396 non-null   float64\n",
      " 9   chlor_a_log_lag_2  2396 non-null   float64\n",
      "dtypes: float64(7), object(3)\n",
      "memory usage: 205.9+ KB\n"
     ]
    }
   ],
   "source": [
    "train_test.info()"
   ]
  },
  {
   "cell_type": "code",
   "execution_count": 95,
   "metadata": {},
   "outputs": [
    {
     "data": {
      "text/html": [
       "<div>\n",
       "<style scoped>\n",
       "    .dataframe tbody tr th:only-of-type {\n",
       "        vertical-align: middle;\n",
       "    }\n",
       "\n",
       "    .dataframe tbody tr th {\n",
       "        vertical-align: top;\n",
       "    }\n",
       "\n",
       "    .dataframe thead th {\n",
       "        text-align: right;\n",
       "    }\n",
       "</style>\n",
       "<table border=\"1\" class=\"dataframe\">\n",
       "  <thead>\n",
       "    <tr style=\"text-align: right;\">\n",
       "      <th></th>\n",
       "      <th>district</th>\n",
       "      <th>year</th>\n",
       "      <th>month</th>\n",
       "      <th>sss</th>\n",
       "      <th>sss_lag_1</th>\n",
       "      <th>sss_lag_2</th>\n",
       "      <th>outbreak</th>\n",
       "      <th>chlor_a_log</th>\n",
       "      <th>chlor_a_log_lag_1</th>\n",
       "      <th>chlor_a_log_lag_2</th>\n",
       "    </tr>\n",
       "  </thead>\n",
       "  <tbody>\n",
       "    <tr>\n",
       "      <th>0</th>\n",
       "      <td>belgaum</td>\n",
       "      <td>2010</td>\n",
       "      <td>3</td>\n",
       "      <td>34.027400</td>\n",
       "      <td>34.600696</td>\n",
       "      <td>35.335807</td>\n",
       "      <td>NaN</td>\n",
       "      <td>-0.476916</td>\n",
       "      <td>-0.444519</td>\n",
       "      <td>-0.043873</td>\n",
       "    </tr>\n",
       "    <tr>\n",
       "      <th>1</th>\n",
       "      <td>belgaum</td>\n",
       "      <td>2010</td>\n",
       "      <td>4</td>\n",
       "      <td>34.299124</td>\n",
       "      <td>34.027400</td>\n",
       "      <td>34.600696</td>\n",
       "      <td>NaN</td>\n",
       "      <td>-0.544771</td>\n",
       "      <td>-0.476916</td>\n",
       "      <td>-0.444519</td>\n",
       "    </tr>\n",
       "    <tr>\n",
       "      <th>2</th>\n",
       "      <td>belgaum</td>\n",
       "      <td>2010</td>\n",
       "      <td>5</td>\n",
       "      <td>34.924089</td>\n",
       "      <td>34.299124</td>\n",
       "      <td>34.027400</td>\n",
       "      <td>NaN</td>\n",
       "      <td>-0.459166</td>\n",
       "      <td>-0.544771</td>\n",
       "      <td>-0.476916</td>\n",
       "    </tr>\n",
       "    <tr>\n",
       "      <th>3</th>\n",
       "      <td>belgaum</td>\n",
       "      <td>2010</td>\n",
       "      <td>6</td>\n",
       "      <td>35.246572</td>\n",
       "      <td>34.924089</td>\n",
       "      <td>34.299124</td>\n",
       "      <td>NaN</td>\n",
       "      <td>-0.082965</td>\n",
       "      <td>-0.459166</td>\n",
       "      <td>-0.544771</td>\n",
       "    </tr>\n",
       "    <tr>\n",
       "      <th>4</th>\n",
       "      <td>belgaum</td>\n",
       "      <td>2010</td>\n",
       "      <td>7</td>\n",
       "      <td>35.282390</td>\n",
       "      <td>35.246572</td>\n",
       "      <td>34.924089</td>\n",
       "      <td>NaN</td>\n",
       "      <td>0.288466</td>\n",
       "      <td>-0.082965</td>\n",
       "      <td>-0.459166</td>\n",
       "    </tr>\n",
       "  </tbody>\n",
       "</table>\n",
       "</div>"
      ],
      "text/plain": [
       "  district  year month        sss  sss_lag_1  sss_lag_2  outbreak  \\\n",
       "0  belgaum  2010     3  34.027400  34.600696  35.335807       NaN   \n",
       "1  belgaum  2010     4  34.299124  34.027400  34.600696       NaN   \n",
       "2  belgaum  2010     5  34.924089  34.299124  34.027400       NaN   \n",
       "3  belgaum  2010     6  35.246572  34.924089  34.299124       NaN   \n",
       "4  belgaum  2010     7  35.282390  35.246572  34.924089       NaN   \n",
       "\n",
       "   chlor_a_log  chlor_a_log_lag_1  chlor_a_log_lag_2  \n",
       "0    -0.476916          -0.444519          -0.043873  \n",
       "1    -0.544771          -0.476916          -0.444519  \n",
       "2    -0.459166          -0.544771          -0.476916  \n",
       "3    -0.082965          -0.459166          -0.544771  \n",
       "4     0.288466          -0.082965          -0.459166  "
      ]
     },
     "execution_count": 95,
     "metadata": {},
     "output_type": "execute_result"
    }
   ],
   "source": [
    "train_test.head()"
   ]
  },
  {
   "cell_type": "code",
   "execution_count": 96,
   "metadata": {},
   "outputs": [],
   "source": [
    "train_test['outbreak'] = train_test.outbreak.fillna(0)"
   ]
  },
  {
   "cell_type": "code",
   "execution_count": 97,
   "metadata": {},
   "outputs": [
    {
     "data": {
      "text/plain": [
       "0.0    2319\n",
       "1.0      77\n",
       "Name: outbreak, dtype: int64"
      ]
     },
     "execution_count": 97,
     "metadata": {},
     "output_type": "execute_result"
    }
   ],
   "source": [
    "train_test.outbreak.value_counts()"
   ]
  },
  {
   "cell_type": "markdown",
   "metadata": {},
   "source": [
    "## map month to season"
   ]
  },
  {
   "cell_type": "code",
   "execution_count": 98,
   "metadata": {},
   "outputs": [],
   "source": [
    "seasons = {1: 'winter',\n",
    "           2: 'winter',\n",
    "           3: 'pre_monsoon',\n",
    "           4: 'pre_monsoon',\n",
    "           5: 'pre_monsoon',\n",
    "           6: 'monsoon',\n",
    "           7: 'monsoon',\n",
    "           8: 'monsoon',\n",
    "           9: 'monsoon',\n",
    "           10: 'post_monsoon',\n",
    "           11: 'post_monsoon',\n",
    "           12: 'post_monsoon'}"
   ]
  },
  {
   "cell_type": "code",
   "execution_count": 99,
   "metadata": {},
   "outputs": [],
   "source": [
    "train_test['season'] = train_test.month.map(seasons)"
   ]
  },
  {
   "cell_type": "code",
   "execution_count": 100,
   "metadata": {},
   "outputs": [],
   "source": [
    "dummies = pd.get_dummies(train_test.season, prefix='season', prefix_sep='_')"
   ]
  },
  {
   "cell_type": "code",
   "execution_count": 101,
   "metadata": {},
   "outputs": [],
   "source": [
    "train_test = pd.concat([train_test, dummies], axis=1).drop('season', axis=1)"
   ]
  },
  {
   "cell_type": "code",
   "execution_count": 102,
   "metadata": {},
   "outputs": [
    {
     "data": {
      "text/html": [
       "<div>\n",
       "<style scoped>\n",
       "    .dataframe tbody tr th:only-of-type {\n",
       "        vertical-align: middle;\n",
       "    }\n",
       "\n",
       "    .dataframe tbody tr th {\n",
       "        vertical-align: top;\n",
       "    }\n",
       "\n",
       "    .dataframe thead th {\n",
       "        text-align: right;\n",
       "    }\n",
       "</style>\n",
       "<table border=\"1\" class=\"dataframe\">\n",
       "  <thead>\n",
       "    <tr style=\"text-align: right;\">\n",
       "      <th></th>\n",
       "      <th>district</th>\n",
       "      <th>year</th>\n",
       "      <th>month</th>\n",
       "      <th>sss</th>\n",
       "      <th>sss_lag_1</th>\n",
       "      <th>sss_lag_2</th>\n",
       "      <th>outbreak</th>\n",
       "      <th>chlor_a_log</th>\n",
       "      <th>chlor_a_log_lag_1</th>\n",
       "      <th>chlor_a_log_lag_2</th>\n",
       "      <th>season_monsoon</th>\n",
       "      <th>season_post_monsoon</th>\n",
       "      <th>season_pre_monsoon</th>\n",
       "    </tr>\n",
       "  </thead>\n",
       "  <tbody>\n",
       "    <tr>\n",
       "      <th>0</th>\n",
       "      <td>belgaum</td>\n",
       "      <td>2010</td>\n",
       "      <td>3</td>\n",
       "      <td>34.027400</td>\n",
       "      <td>34.600696</td>\n",
       "      <td>35.335807</td>\n",
       "      <td>0.0</td>\n",
       "      <td>-0.476916</td>\n",
       "      <td>-0.444519</td>\n",
       "      <td>-0.043873</td>\n",
       "      <td>0</td>\n",
       "      <td>0</td>\n",
       "      <td>1</td>\n",
       "    </tr>\n",
       "    <tr>\n",
       "      <th>1</th>\n",
       "      <td>belgaum</td>\n",
       "      <td>2010</td>\n",
       "      <td>4</td>\n",
       "      <td>34.299124</td>\n",
       "      <td>34.027400</td>\n",
       "      <td>34.600696</td>\n",
       "      <td>0.0</td>\n",
       "      <td>-0.544771</td>\n",
       "      <td>-0.476916</td>\n",
       "      <td>-0.444519</td>\n",
       "      <td>0</td>\n",
       "      <td>0</td>\n",
       "      <td>1</td>\n",
       "    </tr>\n",
       "    <tr>\n",
       "      <th>2</th>\n",
       "      <td>belgaum</td>\n",
       "      <td>2010</td>\n",
       "      <td>5</td>\n",
       "      <td>34.924089</td>\n",
       "      <td>34.299124</td>\n",
       "      <td>34.027400</td>\n",
       "      <td>0.0</td>\n",
       "      <td>-0.459166</td>\n",
       "      <td>-0.544771</td>\n",
       "      <td>-0.476916</td>\n",
       "      <td>0</td>\n",
       "      <td>0</td>\n",
       "      <td>1</td>\n",
       "    </tr>\n",
       "    <tr>\n",
       "      <th>3</th>\n",
       "      <td>belgaum</td>\n",
       "      <td>2010</td>\n",
       "      <td>6</td>\n",
       "      <td>35.246572</td>\n",
       "      <td>34.924089</td>\n",
       "      <td>34.299124</td>\n",
       "      <td>0.0</td>\n",
       "      <td>-0.082965</td>\n",
       "      <td>-0.459166</td>\n",
       "      <td>-0.544771</td>\n",
       "      <td>1</td>\n",
       "      <td>0</td>\n",
       "      <td>0</td>\n",
       "    </tr>\n",
       "    <tr>\n",
       "      <th>4</th>\n",
       "      <td>belgaum</td>\n",
       "      <td>2010</td>\n",
       "      <td>7</td>\n",
       "      <td>35.282390</td>\n",
       "      <td>35.246572</td>\n",
       "      <td>34.924089</td>\n",
       "      <td>0.0</td>\n",
       "      <td>0.288466</td>\n",
       "      <td>-0.082965</td>\n",
       "      <td>-0.459166</td>\n",
       "      <td>1</td>\n",
       "      <td>0</td>\n",
       "      <td>0</td>\n",
       "    </tr>\n",
       "  </tbody>\n",
       "</table>\n",
       "</div>"
      ],
      "text/plain": [
       "  district  year month        sss  sss_lag_1  sss_lag_2  outbreak  \\\n",
       "0  belgaum  2010     3  34.027400  34.600696  35.335807       0.0   \n",
       "1  belgaum  2010     4  34.299124  34.027400  34.600696       0.0   \n",
       "2  belgaum  2010     5  34.924089  34.299124  34.027400       0.0   \n",
       "3  belgaum  2010     6  35.246572  34.924089  34.299124       0.0   \n",
       "4  belgaum  2010     7  35.282390  35.246572  34.924089       0.0   \n",
       "\n",
       "   chlor_a_log  chlor_a_log_lag_1  chlor_a_log_lag_2  season_monsoon  \\\n",
       "0    -0.476916          -0.444519          -0.043873               0   \n",
       "1    -0.544771          -0.476916          -0.444519               0   \n",
       "2    -0.459166          -0.544771          -0.476916               0   \n",
       "3    -0.082965          -0.459166          -0.544771               1   \n",
       "4     0.288466          -0.082965          -0.459166               1   \n",
       "\n",
       "   season_post_monsoon  season_pre_monsoon  \n",
       "0                    0                   1  \n",
       "1                    0                   1  \n",
       "2                    0                   1  \n",
       "3                    0                   0  \n",
       "4                    0                   0  "
      ]
     },
     "execution_count": 102,
     "metadata": {},
     "output_type": "execute_result"
    }
   ],
   "source": [
    "train_test.head()"
   ]
  },
  {
   "cell_type": "markdown",
   "metadata": {},
   "source": [
    "## map district to location"
   ]
  },
  {
   "cell_type": "code",
   "execution_count": 103,
   "metadata": {},
   "outputs": [],
   "source": [
    "# find centroid of district\n",
    "# check whether centroid is east or west of certain longitude\n",
    "# assign east or west"
   ]
  },
  {
   "cell_type": "markdown",
   "metadata": {},
   "source": [
    "## save final dataframe"
   ]
  },
  {
   "cell_type": "code",
   "execution_count": 104,
   "metadata": {},
   "outputs": [],
   "source": [
    "train_test.to_pickle('../data/train_test.pkl.gz', compression='gzip')"
   ]
  }
 ],
 "metadata": {
  "kernelspec": {
   "display_name": "Python 3",
   "language": "python",
   "name": "python3"
  },
  "language_info": {
   "codemirror_mode": {
    "name": "ipython",
    "version": 3
   },
   "file_extension": ".py",
   "mimetype": "text/x-python",
   "name": "python",
   "nbconvert_exporter": "python",
   "pygments_lexer": "ipython3",
   "version": "3.7.6"
  }
 },
 "nbformat": 4,
 "nbformat_minor": 4
}
