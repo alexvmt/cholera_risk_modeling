{
 "cells": [
  {
   "cell_type": "markdown",
   "metadata": {},
   "source": [
    "# create train and test set"
   ]
  },
  {
   "cell_type": "code",
   "execution_count": 1,
   "metadata": {
    "execution": {
     "iopub.execute_input": "2021-02-28T19:02:50.895500Z",
     "iopub.status.busy": "2021-02-28T19:02:50.894551Z",
     "iopub.status.idle": "2021-02-28T19:02:51.685839Z",
     "shell.execute_reply": "2021-02-28T19:02:51.684167Z"
    },
    "tags": []
   },
   "outputs": [],
   "source": [
    "import os\n",
    "import numpy as np\n",
    "import pandas as pd\n",
    "import geopandas as gpd\n",
    "from geopandas.tools import geocode\n",
    "import matplotlib.pyplot as plt\n",
    "import gc"
   ]
  },
  {
   "cell_type": "code",
   "execution_count": 2,
   "metadata": {
    "execution": {
     "iopub.execute_input": "2021-02-28T19:02:51.692277Z",
     "iopub.status.busy": "2021-02-28T19:02:51.691007Z",
     "iopub.status.idle": "2021-02-28T19:02:51.693732Z",
     "shell.execute_reply": "2021-02-28T19:02:51.694595Z"
    },
    "tags": []
   },
   "outputs": [],
   "source": [
    "years = list(np.arange(2010, 2019))"
   ]
  },
  {
   "cell_type": "code",
   "execution_count": 3,
   "metadata": {
    "execution": {
     "iopub.execute_input": "2021-02-28T19:02:51.706037Z",
     "iopub.status.busy": "2021-02-28T19:02:51.704949Z",
     "iopub.status.idle": "2021-02-28T19:02:51.707146Z",
     "shell.execute_reply": "2021-02-28T19:02:51.707790Z"
    },
    "tags": []
   },
   "outputs": [],
   "source": [
    "def process_ecv(outbreaks_data, evc_data, ecv):\n",
    "    \n",
    "    \"\"\"\n",
    "    This functions resamples given ecv data to the district level with an inner spatial join, using the within criterion.\n",
    "    It then calculates the areal mean of the ecv as well as one and two month lagged means.\n",
    "    Finally, it drops rows with missing values and returns a geodataframe.    \n",
    "    \"\"\"\n",
    "    \n",
    "    outbreaks_ecv = gpd.sjoin(evc_data, outbreaks_data[['district', 'geometry']], how='inner', op='within').reset_index(drop=True)\n",
    "    outbreaks_ecv = outbreaks_ecv.drop('index_right', axis=1)\n",
    "    \n",
    "    outbreaks_ecv = outbreaks_ecv.groupby(['district', 'year', 'month']).aggregate('mean').reset_index()\n",
    "    \n",
    "    outbreaks_ecv[ecv+'_lag_1'] = outbreaks_ecv.groupby(['district'])[ecv].shift(1)\n",
    "    outbreaks_ecv[ecv+'_lag_2'] = outbreaks_ecv.groupby(['district'])[ecv].shift(2)\n",
    "    \n",
    "    outbreaks_ecv = outbreaks_ecv.dropna()\n",
    "    \n",
    "    return outbreaks_ecv"
   ]
  },
  {
   "cell_type": "markdown",
   "metadata": {},
   "source": [
    "## outbreaks"
   ]
  },
  {
   "cell_type": "code",
   "execution_count": 4,
   "metadata": {
    "execution": {
     "iopub.execute_input": "2021-02-28T19:02:51.815288Z",
     "iopub.status.busy": "2021-02-28T19:02:51.740411Z",
     "iopub.status.idle": "2021-02-28T19:02:52.118776Z",
     "shell.execute_reply": "2021-02-28T19:02:52.119365Z"
    },
    "tags": []
   },
   "outputs": [],
   "source": [
    "outbreaks = gpd.read_file('../data/cholera_outbreaks/monthly_cholera_outbreaks_per_district_2010_2015.shp')"
   ]
  },
  {
   "cell_type": "code",
   "execution_count": 5,
   "metadata": {
    "execution": {
     "iopub.execute_input": "2021-02-28T19:02:52.126807Z",
     "iopub.status.busy": "2021-02-28T19:02:52.125868Z",
     "iopub.status.idle": "2021-02-28T19:02:52.130028Z",
     "shell.execute_reply": "2021-02-28T19:02:52.130669Z"
    },
    "tags": []
   },
   "outputs": [
    {
     "data": {
      "text/plain": [
       "<Geographic 2D CRS: EPSG:4326>\n",
       "Name: WGS 84\n",
       "Axis Info [ellipsoidal]:\n",
       "- Lat[north]: Geodetic latitude (degree)\n",
       "- Lon[east]: Geodetic longitude (degree)\n",
       "Area of Use:\n",
       "- name: World.\n",
       "- bounds: (-180.0, -90.0, 180.0, 90.0)\n",
       "Datum: World Geodetic System 1984\n",
       "- Ellipsoid: WGS 84\n",
       "- Prime Meridian: Greenwich"
      ]
     },
     "execution_count": 1,
     "metadata": {},
     "output_type": "execute_result"
    }
   ],
   "source": [
    "outbreaks.crs"
   ]
  },
  {
   "cell_type": "code",
   "execution_count": 6,
   "metadata": {
    "execution": {
     "iopub.execute_input": "2021-02-28T19:02:52.136125Z",
     "iopub.status.busy": "2021-02-28T19:02:52.135216Z",
     "iopub.status.idle": "2021-02-28T19:02:52.138278Z",
     "shell.execute_reply": "2021-02-28T19:02:52.138889Z"
    },
    "tags": []
   },
   "outputs": [
    {
     "data": {
      "text/plain": [
       "(466, 6)"
      ]
     },
     "execution_count": 1,
     "metadata": {},
     "output_type": "execute_result"
    }
   ],
   "source": [
    "outbreaks.shape"
   ]
  },
  {
   "cell_type": "code",
   "execution_count": 7,
   "metadata": {
    "execution": {
     "iopub.execute_input": "2021-02-28T19:02:52.157832Z",
     "iopub.status.busy": "2021-02-28T19:02:52.156541Z",
     "iopub.status.idle": "2021-02-28T19:02:52.160793Z",
     "shell.execute_reply": "2021-02-28T19:02:52.161751Z"
    },
    "tags": []
   },
   "outputs": [
    {
     "name": "stdout",
     "output_type": "stream",
     "text": [
      "<class 'geopandas.geodataframe.GeoDataFrame'>\n",
      "RangeIndex: 466 entries, 0 to 465\n",
      "Data columns (total 6 columns):\n",
      " #   Column    Non-Null Count  Dtype   \n",
      "---  ------    --------------  -----   \n",
      " 0   state     466 non-null    object  \n",
      " 1   district  466 non-null    object  \n",
      " 2   year      466 non-null    int64   \n",
      " 3   month     466 non-null    int64   \n",
      " 4   outbreak  466 non-null    int64   \n",
      " 5   geometry  466 non-null    geometry\n",
      "dtypes: geometry(1), int64(3), object(2)\n",
      "memory usage: 22.0+ KB\n"
     ]
    }
   ],
   "source": [
    "outbreaks.info()"
   ]
  },
  {
   "cell_type": "code",
   "execution_count": 8,
   "metadata": {
    "execution": {
     "iopub.execute_input": "2021-02-28T19:02:52.171042Z",
     "iopub.status.busy": "2021-02-28T19:02:52.170283Z",
     "iopub.status.idle": "2021-02-28T19:02:52.257649Z",
     "shell.execute_reply": "2021-02-28T19:02:52.256977Z"
    },
    "tags": []
   },
   "outputs": [
    {
     "data": {
      "text/html": [
       "<div>\n",
       "<style scoped>\n",
       "    .dataframe tbody tr th:only-of-type {\n",
       "        vertical-align: middle;\n",
       "    }\n",
       "\n",
       "    .dataframe tbody tr th {\n",
       "        vertical-align: top;\n",
       "    }\n",
       "\n",
       "    .dataframe thead th {\n",
       "        text-align: right;\n",
       "    }\n",
       "</style>\n",
       "<table border=\"1\" class=\"dataframe\">\n",
       "  <thead>\n",
       "    <tr style=\"text-align: right;\">\n",
       "      <th></th>\n",
       "      <th>state</th>\n",
       "      <th>district</th>\n",
       "      <th>year</th>\n",
       "      <th>month</th>\n",
       "      <th>outbreak</th>\n",
       "      <th>geometry</th>\n",
       "    </tr>\n",
       "  </thead>\n",
       "  <tbody>\n",
       "    <tr>\n",
       "      <th>0</th>\n",
       "      <td>himachal pradesh</td>\n",
       "      <td>shimla</td>\n",
       "      <td>2010</td>\n",
       "      <td>7</td>\n",
       "      <td>1</td>\n",
       "      <td>POLYGON ((77.51051 30.78743, 77.50089 30.79253...</td>\n",
       "    </tr>\n",
       "    <tr>\n",
       "      <th>1</th>\n",
       "      <td>rajasthan</td>\n",
       "      <td>alwar</td>\n",
       "      <td>2010</td>\n",
       "      <td>7</td>\n",
       "      <td>1</td>\n",
       "      <td>POLYGON ((76.45745 27.08288, 76.44963 27.08627...</td>\n",
       "    </tr>\n",
       "    <tr>\n",
       "      <th>2</th>\n",
       "      <td>assam</td>\n",
       "      <td>dibrugarh</td>\n",
       "      <td>2010</td>\n",
       "      <td>9</td>\n",
       "      <td>1</td>\n",
       "      <td>POLYGON ((95.37698 27.10218, 95.37267 27.10167...</td>\n",
       "    </tr>\n",
       "    <tr>\n",
       "      <th>3</th>\n",
       "      <td>karnataka</td>\n",
       "      <td>belgaum</td>\n",
       "      <td>2010</td>\n",
       "      <td>9</td>\n",
       "      <td>1</td>\n",
       "      <td>POLYGON ((74.75089 15.49199, 74.74472 15.48939...</td>\n",
       "    </tr>\n",
       "    <tr>\n",
       "      <th>4</th>\n",
       "      <td>gujarat</td>\n",
       "      <td>bharuch</td>\n",
       "      <td>2010</td>\n",
       "      <td>9</td>\n",
       "      <td>1</td>\n",
       "      <td>MULTIPOLYGON (((72.67597 21.44681, 72.67597 21...</td>\n",
       "    </tr>\n",
       "  </tbody>\n",
       "</table>\n",
       "</div>"
      ],
      "text/plain": [
       "              state   district  year  month  outbreak  \\\n",
       "0  himachal pradesh     shimla  2010      7         1   \n",
       "1         rajasthan      alwar  2010      7         1   \n",
       "2             assam  dibrugarh  2010      9         1   \n",
       "3         karnataka    belgaum  2010      9         1   \n",
       "4           gujarat    bharuch  2010      9         1   \n",
       "\n",
       "                                            geometry  \n",
       "0  POLYGON ((77.51051 30.78743, 77.50089 30.79253...  \n",
       "1  POLYGON ((76.45745 27.08288, 76.44963 27.08627...  \n",
       "2  POLYGON ((95.37698 27.10218, 95.37267 27.10167...  \n",
       "3  POLYGON ((74.75089 15.49199, 74.74472 15.48939...  \n",
       "4  MULTIPOLYGON (((72.67597 21.44681, 72.67597 21...  "
      ]
     },
     "execution_count": 1,
     "metadata": {},
     "output_type": "execute_result"
    }
   ],
   "source": [
    "outbreaks.head()"
   ]
  },
  {
   "cell_type": "code",
   "execution_count": 9,
   "metadata": {
    "execution": {
     "iopub.execute_input": "2021-02-28T19:02:52.308540Z",
     "iopub.status.busy": "2021-02-28T19:02:52.277512Z",
     "iopub.status.idle": "2021-02-28T19:02:53.608218Z",
     "shell.execute_reply": "2021-02-28T19:02:53.607151Z"
    },
    "tags": []
   },
   "outputs": [],
   "source": [
    "# reproject crs to https://epsg.io/7755\n",
    "outbreaks = outbreaks.to_crs(epsg=7755)"
   ]
  },
  {
   "cell_type": "code",
   "execution_count": 10,
   "metadata": {
    "execution": {
     "iopub.execute_input": "2021-02-28T19:02:53.624532Z",
     "iopub.status.busy": "2021-02-28T19:02:53.623767Z",
     "iopub.status.idle": "2021-02-28T19:02:53.627595Z",
     "shell.execute_reply": "2021-02-28T19:02:53.628210Z"
    },
    "tags": []
   },
   "outputs": [
    {
     "data": {
      "text/plain": [
       "<Projected CRS: EPSG:7755>\n",
       "Name: WGS 84 / India NSF LCC\n",
       "Axis Info [cartesian]:\n",
       "- X[east]: Easting (metre)\n",
       "- Y[north]: Northing (metre)\n",
       "Area of Use:\n",
       "- name: India - onshore and offshore. Includes Amandivis, Laccadives, Minicoy, Andaman Islands, Nicobar Islands, and Sikkim.\n",
       "- bounds: (65.6, 3.87, 97.42, 35.51)\n",
       "Coordinate Operation:\n",
       "- name: Survey of India Lambert\n",
       "- method: Lambert Conic Conformal (2SP)\n",
       "Datum: World Geodetic System 1984\n",
       "- Ellipsoid: WGS 84\n",
       "- Prime Meridian: Greenwich"
      ]
     },
     "execution_count": 1,
     "metadata": {},
     "output_type": "execute_result"
    }
   ],
   "source": [
    "outbreaks.crs"
   ]
  },
  {
   "cell_type": "code",
   "execution_count": 11,
   "metadata": {
    "execution": {
     "iopub.execute_input": "2021-02-28T19:02:53.633886Z",
     "iopub.status.busy": "2021-02-28T19:02:53.632706Z",
     "iopub.status.idle": "2021-02-28T19:03:25.089883Z",
     "shell.execute_reply": "2021-02-28T19:03:25.089213Z"
    },
    "tags": []
   },
   "outputs": [],
   "source": [
    "outbreaks['geometry'] = outbreaks['geometry'].buffer(111000)"
   ]
  },
  {
   "cell_type": "code",
   "execution_count": 12,
   "metadata": {
    "execution": {
     "iopub.execute_input": "2021-02-28T19:03:25.099128Z",
     "iopub.status.busy": "2021-02-28T19:03:25.098068Z",
     "iopub.status.idle": "2021-02-28T19:03:25.115847Z",
     "shell.execute_reply": "2021-02-28T19:03:25.116920Z"
    },
    "tags": []
   },
   "outputs": [
    {
     "data": {
      "text/html": [
       "<div>\n",
       "<style scoped>\n",
       "    .dataframe tbody tr th:only-of-type {\n",
       "        vertical-align: middle;\n",
       "    }\n",
       "\n",
       "    .dataframe tbody tr th {\n",
       "        vertical-align: top;\n",
       "    }\n",
       "\n",
       "    .dataframe thead th {\n",
       "        text-align: right;\n",
       "    }\n",
       "</style>\n",
       "<table border=\"1\" class=\"dataframe\">\n",
       "  <thead>\n",
       "    <tr style=\"text-align: right;\">\n",
       "      <th></th>\n",
       "      <th>state</th>\n",
       "      <th>district</th>\n",
       "      <th>year</th>\n",
       "      <th>month</th>\n",
       "      <th>outbreak</th>\n",
       "      <th>geometry</th>\n",
       "    </tr>\n",
       "  </thead>\n",
       "  <tbody>\n",
       "    <tr>\n",
       "      <th>0</th>\n",
       "      <td>himachal pradesh</td>\n",
       "      <td>shimla</td>\n",
       "      <td>2010</td>\n",
       "      <td>7</td>\n",
       "      <td>1</td>\n",
       "      <td>POLYGON ((3764447.443 4629412.289, 3756506.279...</td>\n",
       "    </tr>\n",
       "    <tr>\n",
       "      <th>1</th>\n",
       "      <td>rajasthan</td>\n",
       "      <td>alwar</td>\n",
       "      <td>2010</td>\n",
       "      <td>7</td>\n",
       "      <td>1</td>\n",
       "      <td>POLYGON ((3511741.355 4351422.986, 3511461.882...</td>\n",
       "    </tr>\n",
       "    <tr>\n",
       "      <th>2</th>\n",
       "      <td>assam</td>\n",
       "      <td>dibrugarh</td>\n",
       "      <td>2010</td>\n",
       "      <td>9</td>\n",
       "      <td>1</td>\n",
       "      <td>POLYGON ((5480598.578 4308612.598, 5470976.881...</td>\n",
       "    </tr>\n",
       "    <tr>\n",
       "      <th>3</th>\n",
       "      <td>karnataka</td>\n",
       "      <td>belgaum</td>\n",
       "      <td>2010</td>\n",
       "      <td>9</td>\n",
       "      <td>1</td>\n",
       "      <td>POLYGON ((3511024.973 2988369.571, 3508809.558...</td>\n",
       "    </tr>\n",
       "    <tr>\n",
       "      <th>4</th>\n",
       "      <td>gujarat</td>\n",
       "      <td>bharuch</td>\n",
       "      <td>2010</td>\n",
       "      <td>9</td>\n",
       "      <td>1</td>\n",
       "      <td>POLYGON ((3128676.356 3764922.012, 3128624.344...</td>\n",
       "    </tr>\n",
       "  </tbody>\n",
       "</table>\n",
       "</div>"
      ],
      "text/plain": [
       "              state   district  year  month  outbreak  \\\n",
       "0  himachal pradesh     shimla  2010      7         1   \n",
       "1         rajasthan      alwar  2010      7         1   \n",
       "2             assam  dibrugarh  2010      9         1   \n",
       "3         karnataka    belgaum  2010      9         1   \n",
       "4           gujarat    bharuch  2010      9         1   \n",
       "\n",
       "                                            geometry  \n",
       "0  POLYGON ((3764447.443 4629412.289, 3756506.279...  \n",
       "1  POLYGON ((3511741.355 4351422.986, 3511461.882...  \n",
       "2  POLYGON ((5480598.578 4308612.598, 5470976.881...  \n",
       "3  POLYGON ((3511024.973 2988369.571, 3508809.558...  \n",
       "4  POLYGON ((3128676.356 3764922.012, 3128624.344...  "
      ]
     },
     "execution_count": 1,
     "metadata": {},
     "output_type": "execute_result"
    }
   ],
   "source": [
    "outbreaks.head()"
   ]
  },
  {
   "cell_type": "markdown",
   "metadata": {},
   "source": [
    "## resampling ecvs at district level and feature creation"
   ]
  },
  {
   "cell_type": "markdown",
   "metadata": {},
   "source": [
    "### sea surface salinity"
   ]
  },
  {
   "cell_type": "code",
   "execution_count": 13,
   "metadata": {
    "execution": {
     "iopub.execute_input": "2021-02-28T19:03:25.123602Z",
     "iopub.status.busy": "2021-02-28T19:03:25.122674Z",
     "iopub.status.idle": "2021-02-28T19:03:25.125379Z",
     "shell.execute_reply": "2021-02-28T19:03:25.126202Z"
    },
    "tags": []
   },
   "outputs": [],
   "source": [
    "path = '../data/sea_surface_salinity'"
   ]
  },
  {
   "cell_type": "code",
   "execution_count": 14,
   "metadata": {
    "execution": {
     "iopub.execute_input": "2021-02-28T19:03:25.131934Z",
     "iopub.status.busy": "2021-02-28T19:03:25.130807Z",
     "iopub.status.idle": "2021-02-28T19:03:25.134561Z",
     "shell.execute_reply": "2021-02-28T19:03:25.133756Z"
    },
    "tags": []
   },
   "outputs": [],
   "source": [
    "file = 'monthly_sss_'+str(years[0])+'.shp'"
   ]
  },
  {
   "cell_type": "code",
   "execution_count": 15,
   "metadata": {
    "execution": {
     "iopub.execute_input": "2021-02-28T19:03:25.150977Z",
     "iopub.status.busy": "2021-02-28T19:03:25.149916Z",
     "iopub.status.idle": "2021-02-28T19:03:36.810231Z",
     "shell.execute_reply": "2021-02-28T19:03:36.809537Z"
    },
    "tags": []
   },
   "outputs": [],
   "source": [
    "sss = gpd.read_file(os.path.join(path, file))"
   ]
  },
  {
   "cell_type": "code",
   "execution_count": 16,
   "metadata": {
    "execution": {
     "iopub.execute_input": "2021-02-28T19:03:36.815230Z",
     "iopub.status.busy": "2021-02-28T19:03:36.814466Z",
     "iopub.status.idle": "2021-02-28T19:03:36.818439Z",
     "shell.execute_reply": "2021-02-28T19:03:36.819418Z"
    },
    "scrolled": true,
    "tags": []
   },
   "outputs": [
    {
     "data": {
      "text/plain": [
       "False"
      ]
     },
     "execution_count": 1,
     "metadata": {},
     "output_type": "execute_result"
    }
   ],
   "source": [
    "sss.crs == outbreaks.crs"
   ]
  },
  {
   "cell_type": "code",
   "execution_count": 17,
   "metadata": {
    "execution": {
     "iopub.execute_input": "2021-02-28T19:03:36.825658Z",
     "iopub.status.busy": "2021-02-28T19:03:36.824143Z",
     "iopub.status.idle": "2021-02-28T19:03:46.200196Z",
     "shell.execute_reply": "2021-02-28T19:03:46.199148Z"
    },
    "tags": []
   },
   "outputs": [],
   "source": [
    "sss = sss.to_crs(epsg=7755)"
   ]
  },
  {
   "cell_type": "code",
   "execution_count": 18,
   "metadata": {
    "execution": {
     "iopub.execute_input": "2021-02-28T19:03:46.209646Z",
     "iopub.status.busy": "2021-02-28T19:03:46.207777Z",
     "iopub.status.idle": "2021-02-28T19:03:46.213200Z",
     "shell.execute_reply": "2021-02-28T19:03:46.213958Z"
    },
    "scrolled": true,
    "tags": []
   },
   "outputs": [
    {
     "data": {
      "text/plain": [
       "True"
      ]
     },
     "execution_count": 1,
     "metadata": {},
     "output_type": "execute_result"
    }
   ],
   "source": [
    "sss.crs == outbreaks.crs"
   ]
  },
  {
   "cell_type": "code",
   "execution_count": 19,
   "metadata": {
    "execution": {
     "iopub.execute_input": "2021-02-28T19:03:46.220818Z",
     "iopub.status.busy": "2021-02-28T19:03:46.219719Z",
     "iopub.status.idle": "2021-02-28T19:03:46.223281Z",
     "shell.execute_reply": "2021-02-28T19:03:46.223884Z"
    },
    "tags": []
   },
   "outputs": [
    {
     "data": {
      "text/plain": [
       "(151452, 4)"
      ]
     },
     "execution_count": 1,
     "metadata": {},
     "output_type": "execute_result"
    }
   ],
   "source": [
    "sss.shape"
   ]
  },
  {
   "cell_type": "code",
   "execution_count": 20,
   "metadata": {
    "execution": {
     "iopub.execute_input": "2021-02-28T19:03:46.248682Z",
     "iopub.status.busy": "2021-02-28T19:03:46.238977Z",
     "iopub.status.idle": "2021-02-28T19:03:46.262648Z",
     "shell.execute_reply": "2021-02-28T19:03:46.261572Z"
    },
    "tags": []
   },
   "outputs": [
    {
     "name": "stdout",
     "output_type": "stream",
     "text": [
      "<class 'geopandas.geodataframe.GeoDataFrame'>\n",
      "RangeIndex: 151452 entries, 0 to 151451\n",
      "Data columns (total 4 columns):\n",
      " #   Column    Non-Null Count   Dtype   \n",
      "---  ------    --------------   -----   \n",
      " 0   year      151452 non-null  int64   \n",
      " 1   month     151452 non-null  int64   \n",
      " 2   sss       151452 non-null  float64 \n",
      " 3   geometry  151452 non-null  geometry\n",
      "dtypes: float64(1), geometry(1), int64(2)\n",
      "memory usage: 4.6 MB\n"
     ]
    }
   ],
   "source": [
    "sss.info()"
   ]
  },
  {
   "cell_type": "code",
   "execution_count": 21,
   "metadata": {
    "execution": {
     "iopub.execute_input": "2021-02-28T19:03:46.271041Z",
     "iopub.status.busy": "2021-02-28T19:03:46.270373Z",
     "iopub.status.idle": "2021-02-28T19:03:46.283382Z",
     "shell.execute_reply": "2021-02-28T19:03:46.284677Z"
    },
    "tags": []
   },
   "outputs": [
    {
     "data": {
      "text/html": [
       "<div>\n",
       "<style scoped>\n",
       "    .dataframe tbody tr th:only-of-type {\n",
       "        vertical-align: middle;\n",
       "    }\n",
       "\n",
       "    .dataframe tbody tr th {\n",
       "        vertical-align: top;\n",
       "    }\n",
       "\n",
       "    .dataframe thead th {\n",
       "        text-align: right;\n",
       "    }\n",
       "</style>\n",
       "<table border=\"1\" class=\"dataframe\">\n",
       "  <thead>\n",
       "    <tr style=\"text-align: right;\">\n",
       "      <th></th>\n",
       "      <th>year</th>\n",
       "      <th>month</th>\n",
       "      <th>sss</th>\n",
       "      <th>geometry</th>\n",
       "    </tr>\n",
       "  </thead>\n",
       "  <tbody>\n",
       "    <tr>\n",
       "      <th>0</th>\n",
       "      <td>2010</td>\n",
       "      <td>1</td>\n",
       "      <td>35.265869</td>\n",
       "      <td>POINT (1638970.593 1499981.689)</td>\n",
       "    </tr>\n",
       "    <tr>\n",
       "      <th>1</th>\n",
       "      <td>2010</td>\n",
       "      <td>2</td>\n",
       "      <td>35.191532</td>\n",
       "      <td>POINT (1638970.593 1499981.689)</td>\n",
       "    </tr>\n",
       "    <tr>\n",
       "      <th>2</th>\n",
       "      <td>2010</td>\n",
       "      <td>3</td>\n",
       "      <td>35.426231</td>\n",
       "      <td>POINT (1638970.593 1499981.689)</td>\n",
       "    </tr>\n",
       "    <tr>\n",
       "      <th>3</th>\n",
       "      <td>2010</td>\n",
       "      <td>4</td>\n",
       "      <td>35.370430</td>\n",
       "      <td>POINT (1638970.593 1499981.689)</td>\n",
       "    </tr>\n",
       "    <tr>\n",
       "      <th>4</th>\n",
       "      <td>2010</td>\n",
       "      <td>5</td>\n",
       "      <td>35.310860</td>\n",
       "      <td>POINT (1638970.593 1499981.689)</td>\n",
       "    </tr>\n",
       "  </tbody>\n",
       "</table>\n",
       "</div>"
      ],
      "text/plain": [
       "   year  month        sss                         geometry\n",
       "0  2010      1  35.265869  POINT (1638970.593 1499981.689)\n",
       "1  2010      2  35.191532  POINT (1638970.593 1499981.689)\n",
       "2  2010      3  35.426231  POINT (1638970.593 1499981.689)\n",
       "3  2010      4  35.370430  POINT (1638970.593 1499981.689)\n",
       "4  2010      5  35.310860  POINT (1638970.593 1499981.689)"
      ]
     },
     "execution_count": 1,
     "metadata": {},
     "output_type": "execute_result"
    }
   ],
   "source": [
    "sss.head()"
   ]
  },
  {
   "cell_type": "code",
   "execution_count": 22,
   "metadata": {
    "execution": {
     "iopub.execute_input": "2021-02-28T19:03:46.299775Z",
     "iopub.status.busy": "2021-02-28T19:03:46.297537Z",
     "iopub.status.idle": "2021-02-28T19:03:46.302428Z",
     "shell.execute_reply": "2021-02-28T19:03:46.303775Z"
    },
    "tags": []
   },
   "outputs": [],
   "source": [
    "sss_district_level = pd.DataFrame(columns=['district', 'year', 'month', 'sss', 'sss_lag_1', 'sss_lag_2'])"
   ]
  },
  {
   "cell_type": "code",
   "execution_count": 23,
   "metadata": {
    "execution": {
     "iopub.execute_input": "2021-02-28T19:03:46.317138Z",
     "iopub.status.busy": "2021-02-28T19:03:46.316459Z",
     "iopub.status.idle": "2021-02-28T19:08:36.164020Z",
     "shell.execute_reply": "2021-02-28T19:08:36.164655Z"
    },
    "tags": []
   },
   "outputs": [
    {
     "name": "stdout",
     "output_type": "stream",
     "text": [
      "Processing 2010...\n",
      "Processing 2011...\n",
      "Processing 2012...\n",
      "Processing 2013...\n",
      "Processing 2014...\n",
      "Processing 2015...\n",
      "Processing 2016...\n",
      "Processing 2017...\n",
      "Processing 2018...\n",
      "CPU times: user 4min 49s, sys: 752 ms, total: 4min 49s\n",
      "Wall time: 4min 49s\n"
     ]
    }
   ],
   "source": [
    "%%time\n",
    "\n",
    "for year in years:\n",
    "    print('Processing {}...'.format(year))\n",
    "    sss = gpd.read_file(os.path.join(path, 'monthly_sss_'+str(year)+'.shp'))\n",
    "    sss = sss.to_crs(epsg=7755)\n",
    "    sss_district_level_temp = process_ecv(outbreaks, sss, 'sss')\n",
    "    sss_district_level = sss_district_level.append(sss_district_level_temp)"
   ]
  },
  {
   "cell_type": "code",
   "execution_count": 24,
   "metadata": {
    "execution": {
     "iopub.execute_input": "2021-02-28T19:08:36.171735Z",
     "iopub.status.busy": "2021-02-28T19:08:36.170666Z",
     "iopub.status.idle": "2021-02-28T19:08:36.174834Z",
     "shell.execute_reply": "2021-02-28T19:08:36.175498Z"
    },
    "tags": []
   },
   "outputs": [
    {
     "data": {
      "text/plain": [
       "(4590, 6)"
      ]
     },
     "execution_count": 1,
     "metadata": {},
     "output_type": "execute_result"
    }
   ],
   "source": [
    "sss_district_level.shape"
   ]
  },
  {
   "cell_type": "code",
   "execution_count": 25,
   "metadata": {
    "execution": {
     "iopub.execute_input": "2021-02-28T19:08:36.183817Z",
     "iopub.status.busy": "2021-02-28T19:08:36.183152Z",
     "iopub.status.idle": "2021-02-28T19:08:36.195092Z",
     "shell.execute_reply": "2021-02-28T19:08:36.195720Z"
    },
    "tags": []
   },
   "outputs": [
    {
     "name": "stdout",
     "output_type": "stream",
     "text": [
      "<class 'pandas.core.frame.DataFrame'>\n",
      "Int64Index: 4590 entries, 2 to 611\n",
      "Data columns (total 6 columns):\n",
      " #   Column     Non-Null Count  Dtype  \n",
      "---  ------     --------------  -----  \n",
      " 0   district   4590 non-null   object \n",
      " 1   year       4590 non-null   object \n",
      " 2   month      4590 non-null   object \n",
      " 3   sss        4590 non-null   float64\n",
      " 4   sss_lag_1  4590 non-null   float64\n",
      " 5   sss_lag_2  4590 non-null   float64\n",
      "dtypes: float64(3), object(3)\n",
      "memory usage: 251.0+ KB\n"
     ]
    }
   ],
   "source": [
    "sss_district_level.info()"
   ]
  },
  {
   "cell_type": "code",
   "execution_count": 26,
   "metadata": {
    "execution": {
     "iopub.execute_input": "2021-02-28T19:08:36.208504Z",
     "iopub.status.busy": "2021-02-28T19:08:36.207483Z",
     "iopub.status.idle": "2021-02-28T19:08:36.211377Z",
     "shell.execute_reply": "2021-02-28T19:08:36.211997Z"
    },
    "tags": []
   },
   "outputs": [
    {
     "data": {
      "text/html": [
       "<div>\n",
       "<style scoped>\n",
       "    .dataframe tbody tr th:only-of-type {\n",
       "        vertical-align: middle;\n",
       "    }\n",
       "\n",
       "    .dataframe tbody tr th {\n",
       "        vertical-align: top;\n",
       "    }\n",
       "\n",
       "    .dataframe thead th {\n",
       "        text-align: right;\n",
       "    }\n",
       "</style>\n",
       "<table border=\"1\" class=\"dataframe\">\n",
       "  <thead>\n",
       "    <tr style=\"text-align: right;\">\n",
       "      <th></th>\n",
       "      <th>district</th>\n",
       "      <th>year</th>\n",
       "      <th>month</th>\n",
       "      <th>sss</th>\n",
       "      <th>sss_lag_1</th>\n",
       "      <th>sss_lag_2</th>\n",
       "    </tr>\n",
       "  </thead>\n",
       "  <tbody>\n",
       "    <tr>\n",
       "      <th>2</th>\n",
       "      <td>belgaum</td>\n",
       "      <td>2010</td>\n",
       "      <td>3</td>\n",
       "      <td>34.027400</td>\n",
       "      <td>34.600696</td>\n",
       "      <td>35.335807</td>\n",
       "    </tr>\n",
       "    <tr>\n",
       "      <th>3</th>\n",
       "      <td>belgaum</td>\n",
       "      <td>2010</td>\n",
       "      <td>4</td>\n",
       "      <td>34.299124</td>\n",
       "      <td>34.027400</td>\n",
       "      <td>34.600696</td>\n",
       "    </tr>\n",
       "    <tr>\n",
       "      <th>4</th>\n",
       "      <td>belgaum</td>\n",
       "      <td>2010</td>\n",
       "      <td>5</td>\n",
       "      <td>34.924089</td>\n",
       "      <td>34.299124</td>\n",
       "      <td>34.027400</td>\n",
       "    </tr>\n",
       "    <tr>\n",
       "      <th>5</th>\n",
       "      <td>belgaum</td>\n",
       "      <td>2010</td>\n",
       "      <td>6</td>\n",
       "      <td>35.246572</td>\n",
       "      <td>34.924089</td>\n",
       "      <td>34.299124</td>\n",
       "    </tr>\n",
       "    <tr>\n",
       "      <th>6</th>\n",
       "      <td>belgaum</td>\n",
       "      <td>2010</td>\n",
       "      <td>7</td>\n",
       "      <td>35.282390</td>\n",
       "      <td>35.246572</td>\n",
       "      <td>34.924089</td>\n",
       "    </tr>\n",
       "  </tbody>\n",
       "</table>\n",
       "</div>"
      ],
      "text/plain": [
       "  district  year month        sss  sss_lag_1  sss_lag_2\n",
       "2  belgaum  2010     3  34.027400  34.600696  35.335807\n",
       "3  belgaum  2010     4  34.299124  34.027400  34.600696\n",
       "4  belgaum  2010     5  34.924089  34.299124  34.027400\n",
       "5  belgaum  2010     6  35.246572  34.924089  34.299124\n",
       "6  belgaum  2010     7  35.282390  35.246572  34.924089"
      ]
     },
     "execution_count": 1,
     "metadata": {},
     "output_type": "execute_result"
    }
   ],
   "source": [
    "sss_district_level.head()"
   ]
  },
  {
   "cell_type": "code",
   "execution_count": 27,
   "metadata": {
    "execution": {
     "iopub.execute_input": "2021-02-28T19:08:36.216110Z",
     "iopub.status.busy": "2021-02-28T19:08:36.215442Z",
     "iopub.status.idle": "2021-02-28T19:08:36.639432Z",
     "shell.execute_reply": "2021-02-28T19:08:36.640049Z"
    },
    "tags": []
   },
   "outputs": [
    {
     "data": {
      "text/plain": [
       "556"
      ]
     },
     "execution_count": 1,
     "metadata": {},
     "output_type": "execute_result"
    }
   ],
   "source": [
    "del [sss, sss_district_level_temp]\n",
    "gc.collect()"
   ]
  },
  {
   "cell_type": "markdown",
   "metadata": {},
   "source": [
    "### chlorophyll-a concentration"
   ]
  },
  {
   "cell_type": "code",
   "execution_count": 28,
   "metadata": {
    "execution": {
     "iopub.execute_input": "2021-02-28T19:08:36.644966Z",
     "iopub.status.busy": "2021-02-28T19:08:36.644039Z",
     "iopub.status.idle": "2021-02-28T19:08:36.646925Z",
     "shell.execute_reply": "2021-02-28T19:08:36.647741Z"
    }
   },
   "outputs": [],
   "source": [
    "path = '../data/chlorophyll_a_concentration'"
   ]
  },
  {
   "cell_type": "code",
   "execution_count": 29,
   "metadata": {
    "execution": {
     "iopub.execute_input": "2021-02-28T19:08:36.652869Z",
     "iopub.status.busy": "2021-02-28T19:08:36.652031Z",
     "iopub.status.idle": "2021-02-28T19:08:36.657600Z",
     "shell.execute_reply": "2021-02-28T19:08:36.656299Z"
    }
   },
   "outputs": [],
   "source": [
    "file = 'monthly_chlor_a_'+str(years[0])+'.shp'"
   ]
  },
  {
   "cell_type": "code",
   "execution_count": 30,
   "metadata": {
    "execution": {
     "iopub.execute_input": "2021-02-28T19:08:36.772524Z",
     "iopub.status.busy": "2021-02-28T19:08:36.771883Z",
     "iopub.status.idle": "2021-02-28T19:15:00.261003Z",
     "shell.execute_reply": "2021-02-28T19:15:00.259843Z"
    }
   },
   "outputs": [],
   "source": [
    "chlor_a = gpd.read_file(os.path.join(path, file))"
   ]
  },
  {
   "cell_type": "code",
   "execution_count": 31,
   "metadata": {
    "execution": {
     "iopub.execute_input": "2021-02-28T19:15:00.269045Z",
     "iopub.status.busy": "2021-02-28T19:15:00.268017Z",
     "iopub.status.idle": "2021-02-28T19:15:00.274383Z",
     "shell.execute_reply": "2021-02-28T19:15:00.273035Z"
    }
   },
   "outputs": [
    {
     "data": {
      "text/plain": [
       "False"
      ]
     },
     "execution_count": 1,
     "metadata": {},
     "output_type": "execute_result"
    }
   ],
   "source": [
    "chlor_a.crs == outbreaks.crs"
   ]
  },
  {
   "cell_type": "code",
   "execution_count": 32,
   "metadata": {
    "execution": {
     "iopub.execute_input": "2021-02-28T19:15:00.280993Z",
     "iopub.status.busy": "2021-02-28T19:15:00.279714Z",
     "iopub.status.idle": "2021-02-28T19:20:06.973020Z",
     "shell.execute_reply": "2021-02-28T19:20:06.972319Z"
    }
   },
   "outputs": [],
   "source": [
    "chlor_a = chlor_a.to_crs(epsg=7755)"
   ]
  },
  {
   "cell_type": "code",
   "execution_count": 33,
   "metadata": {
    "execution": {
     "iopub.execute_input": "2021-02-28T19:20:07.043972Z",
     "iopub.status.busy": "2021-02-28T19:20:07.042969Z",
     "iopub.status.idle": "2021-02-28T19:20:07.046573Z",
     "shell.execute_reply": "2021-02-28T19:20:07.047189Z"
    },
    "scrolled": true
   },
   "outputs": [
    {
     "data": {
      "text/plain": [
       "True"
      ]
     },
     "execution_count": 1,
     "metadata": {},
     "output_type": "execute_result"
    }
   ],
   "source": [
    "chlor_a.crs == outbreaks.crs"
   ]
  },
  {
   "cell_type": "code",
   "execution_count": 34,
   "metadata": {
    "execution": {
     "iopub.execute_input": "2021-02-28T19:20:07.052256Z",
     "iopub.status.busy": "2021-02-28T19:20:07.051162Z",
     "iopub.status.idle": "2021-02-28T19:20:07.054883Z",
     "shell.execute_reply": "2021-02-28T19:20:07.055500Z"
    }
   },
   "outputs": [
    {
     "data": {
      "text/plain": [
       "(4933904, 4)"
      ]
     },
     "execution_count": 1,
     "metadata": {},
     "output_type": "execute_result"
    }
   ],
   "source": [
    "chlor_a.shape"
   ]
  },
  {
   "cell_type": "code",
   "execution_count": 35,
   "metadata": {
    "execution": {
     "iopub.execute_input": "2021-02-28T19:20:07.068959Z",
     "iopub.status.busy": "2021-02-28T19:20:07.068126Z",
     "iopub.status.idle": "2021-02-28T19:20:07.071212Z",
     "shell.execute_reply": "2021-02-28T19:20:07.071829Z"
    }
   },
   "outputs": [
    {
     "name": "stdout",
     "output_type": "stream",
     "text": [
      "<class 'geopandas.geodataframe.GeoDataFrame'>\n",
      "RangeIndex: 4933904 entries, 0 to 4933903\n",
      "Data columns (total 4 columns):\n",
      " #   Column    Dtype   \n",
      "---  ------    -----   \n",
      " 0   year      int64   \n",
      " 1   month     int64   \n",
      " 2   chlor_a   float64 \n",
      " 3   geometry  geometry\n",
      "dtypes: float64(1), geometry(1), int64(2)\n",
      "memory usage: 150.6 MB\n"
     ]
    }
   ],
   "source": [
    "chlor_a.info()"
   ]
  },
  {
   "cell_type": "code",
   "execution_count": 36,
   "metadata": {
    "execution": {
     "iopub.execute_input": "2021-02-28T19:20:07.079988Z",
     "iopub.status.busy": "2021-02-28T19:20:07.079277Z",
     "iopub.status.idle": "2021-02-28T19:20:07.088557Z",
     "shell.execute_reply": "2021-02-28T19:20:07.089199Z"
    }
   },
   "outputs": [
    {
     "data": {
      "text/html": [
       "<div>\n",
       "<style scoped>\n",
       "    .dataframe tbody tr th:only-of-type {\n",
       "        vertical-align: middle;\n",
       "    }\n",
       "\n",
       "    .dataframe tbody tr th {\n",
       "        vertical-align: top;\n",
       "    }\n",
       "\n",
       "    .dataframe thead th {\n",
       "        text-align: right;\n",
       "    }\n",
       "</style>\n",
       "<table border=\"1\" class=\"dataframe\">\n",
       "  <thead>\n",
       "    <tr style=\"text-align: right;\">\n",
       "      <th></th>\n",
       "      <th>year</th>\n",
       "      <th>month</th>\n",
       "      <th>chlor_a</th>\n",
       "      <th>geometry</th>\n",
       "    </tr>\n",
       "  </thead>\n",
       "  <tbody>\n",
       "    <tr>\n",
       "      <th>0</th>\n",
       "      <td>2010</td>\n",
       "      <td>1</td>\n",
       "      <td>-2.034988</td>\n",
       "      <td>POINT (1635051.143 1491337.847)</td>\n",
       "    </tr>\n",
       "    <tr>\n",
       "      <th>1</th>\n",
       "      <td>2010</td>\n",
       "      <td>2</td>\n",
       "      <td>-1.678654</td>\n",
       "      <td>POINT (1635051.143 1491337.847)</td>\n",
       "    </tr>\n",
       "    <tr>\n",
       "      <th>2</th>\n",
       "      <td>2010</td>\n",
       "      <td>3</td>\n",
       "      <td>-1.910417</td>\n",
       "      <td>POINT (1635051.143 1491337.847)</td>\n",
       "    </tr>\n",
       "    <tr>\n",
       "      <th>3</th>\n",
       "      <td>2010</td>\n",
       "      <td>4</td>\n",
       "      <td>-2.278393</td>\n",
       "      <td>POINT (1635051.143 1491337.847)</td>\n",
       "    </tr>\n",
       "    <tr>\n",
       "      <th>4</th>\n",
       "      <td>2010</td>\n",
       "      <td>5</td>\n",
       "      <td>-2.353248</td>\n",
       "      <td>POINT (1635051.143 1491337.847)</td>\n",
       "    </tr>\n",
       "  </tbody>\n",
       "</table>\n",
       "</div>"
      ],
      "text/plain": [
       "   year  month   chlor_a                         geometry\n",
       "0  2010      1 -2.034988  POINT (1635051.143 1491337.847)\n",
       "1  2010      2 -1.678654  POINT (1635051.143 1491337.847)\n",
       "2  2010      3 -1.910417  POINT (1635051.143 1491337.847)\n",
       "3  2010      4 -2.278393  POINT (1635051.143 1491337.847)\n",
       "4  2010      5 -2.353248  POINT (1635051.143 1491337.847)"
      ]
     },
     "execution_count": 1,
     "metadata": {},
     "output_type": "execute_result"
    }
   ],
   "source": [
    "chlor_a.head()"
   ]
  },
  {
   "cell_type": "code",
   "execution_count": 37,
   "metadata": {
    "execution": {
     "iopub.execute_input": "2021-02-28T19:20:07.097325Z",
     "iopub.status.busy": "2021-02-28T19:20:07.096147Z",
     "iopub.status.idle": "2021-02-28T19:20:07.100235Z",
     "shell.execute_reply": "2021-02-28T19:20:07.099133Z"
    }
   },
   "outputs": [],
   "source": [
    "chlor_a_district_level = pd.DataFrame(columns=['district', 'year', 'month', 'chlor_a', 'chlor_a_lag_1', 'chlor_a_lag_2'])"
   ]
  },
  {
   "cell_type": "code",
   "execution_count": 38,
   "metadata": {
    "execution": {
     "iopub.execute_input": "2021-02-28T19:20:07.139135Z",
     "iopub.status.busy": "2021-02-28T19:20:07.137812Z",
     "iopub.status.idle": "2021-02-28T21:40:43.239248Z",
     "shell.execute_reply": "2021-02-28T21:40:43.239879Z"
    }
   },
   "outputs": [
    {
     "name": "stdout",
     "output_type": "stream",
     "text": [
      "Processing 2010...\n",
      "Processing 2011...\n",
      "Processing 2012...\n",
      "Processing 2013...\n",
      "Processing 2014...\n",
      "Processing 2015...\n",
      "Processing 2016...\n",
      "Processing 2017...\n",
      "Processing 2018...\n",
      "CPU times: user 2h 19min 52s, sys: 35 s, total: 2h 20min 27s\n",
      "Wall time: 2h 20min 36s\n"
     ]
    }
   ],
   "source": [
    "%%time\n",
    "\n",
    "for year in years:\n",
    "    print('Processing {}...'.format(year))\n",
    "    chlor_a = gpd.read_file(os.path.join(path, 'monthly_chlor_a_'+str(year)+'.shp'))\n",
    "    chlor_a = chlor_a.to_crs(epsg=7755)\n",
    "    chlor_a_district_level_temp = process_ecv(outbreaks, chlor_a, 'chlor_a')\n",
    "    chlor_a_district_level = chlor_a_district_level.append(chlor_a_district_level_temp)"
   ]
  },
  {
   "cell_type": "code",
   "execution_count": 39,
   "metadata": {
    "execution": {
     "iopub.execute_input": "2021-02-28T21:40:43.245874Z",
     "iopub.status.busy": "2021-02-28T21:40:43.244692Z",
     "iopub.status.idle": "2021-02-28T21:40:43.249673Z",
     "shell.execute_reply": "2021-02-28T21:40:43.250365Z"
    }
   },
   "outputs": [
    {
     "data": {
      "text/plain": [
       "(6015, 6)"
      ]
     },
     "execution_count": 1,
     "metadata": {},
     "output_type": "execute_result"
    }
   ],
   "source": [
    "chlor_a_district_level.shape"
   ]
  },
  {
   "cell_type": "code",
   "execution_count": 40,
   "metadata": {
    "execution": {
     "iopub.execute_input": "2021-02-28T21:40:43.265845Z",
     "iopub.status.busy": "2021-02-28T21:40:43.265172Z",
     "iopub.status.idle": "2021-02-28T21:40:43.268371Z",
     "shell.execute_reply": "2021-02-28T21:40:43.269005Z"
    }
   },
   "outputs": [
    {
     "name": "stdout",
     "output_type": "stream",
     "text": [
      "<class 'pandas.core.frame.DataFrame'>\n",
      "Int64Index: 6015 entries, 2 to 770\n",
      "Data columns (total 6 columns):\n",
      " #   Column         Non-Null Count  Dtype  \n",
      "---  ------         --------------  -----  \n",
      " 0   district       6015 non-null   object \n",
      " 1   year           6015 non-null   object \n",
      " 2   month          6015 non-null   object \n",
      " 3   chlor_a        6015 non-null   float64\n",
      " 4   chlor_a_lag_1  6015 non-null   float64\n",
      " 5   chlor_a_lag_2  6015 non-null   float64\n",
      "dtypes: float64(3), object(3)\n",
      "memory usage: 328.9+ KB\n"
     ]
    }
   ],
   "source": [
    "chlor_a_district_level.info()"
   ]
  },
  {
   "cell_type": "code",
   "execution_count": 41,
   "metadata": {
    "execution": {
     "iopub.execute_input": "2021-02-28T21:40:43.286265Z",
     "iopub.status.busy": "2021-02-28T21:40:43.285265Z",
     "iopub.status.idle": "2021-02-28T21:40:43.288448Z",
     "shell.execute_reply": "2021-02-28T21:40:43.289080Z"
    }
   },
   "outputs": [
    {
     "data": {
      "text/html": [
       "<div>\n",
       "<style scoped>\n",
       "    .dataframe tbody tr th:only-of-type {\n",
       "        vertical-align: middle;\n",
       "    }\n",
       "\n",
       "    .dataframe tbody tr th {\n",
       "        vertical-align: top;\n",
       "    }\n",
       "\n",
       "    .dataframe thead th {\n",
       "        text-align: right;\n",
       "    }\n",
       "</style>\n",
       "<table border=\"1\" class=\"dataframe\">\n",
       "  <thead>\n",
       "    <tr style=\"text-align: right;\">\n",
       "      <th></th>\n",
       "      <th>district</th>\n",
       "      <th>year</th>\n",
       "      <th>month</th>\n",
       "      <th>chlor_a</th>\n",
       "      <th>chlor_a_lag_1</th>\n",
       "      <th>chlor_a_lag_2</th>\n",
       "    </tr>\n",
       "  </thead>\n",
       "  <tbody>\n",
       "    <tr>\n",
       "      <th>2</th>\n",
       "      <td>ahmadabad</td>\n",
       "      <td>2010</td>\n",
       "      <td>3</td>\n",
       "      <td>2.260830</td>\n",
       "      <td>2.251449</td>\n",
       "      <td>2.406572</td>\n",
       "    </tr>\n",
       "    <tr>\n",
       "      <th>3</th>\n",
       "      <td>ahmadabad</td>\n",
       "      <td>2010</td>\n",
       "      <td>4</td>\n",
       "      <td>2.274136</td>\n",
       "      <td>2.260830</td>\n",
       "      <td>2.251449</td>\n",
       "    </tr>\n",
       "    <tr>\n",
       "      <th>4</th>\n",
       "      <td>ahmadabad</td>\n",
       "      <td>2010</td>\n",
       "      <td>5</td>\n",
       "      <td>2.110336</td>\n",
       "      <td>2.274136</td>\n",
       "      <td>2.260830</td>\n",
       "    </tr>\n",
       "    <tr>\n",
       "      <th>5</th>\n",
       "      <td>ahmadabad</td>\n",
       "      <td>2010</td>\n",
       "      <td>6</td>\n",
       "      <td>2.239608</td>\n",
       "      <td>2.110336</td>\n",
       "      <td>2.274136</td>\n",
       "    </tr>\n",
       "    <tr>\n",
       "      <th>6</th>\n",
       "      <td>ahmadabad</td>\n",
       "      <td>2010</td>\n",
       "      <td>7</td>\n",
       "      <td>2.183196</td>\n",
       "      <td>2.239608</td>\n",
       "      <td>2.110336</td>\n",
       "    </tr>\n",
       "  </tbody>\n",
       "</table>\n",
       "</div>"
      ],
      "text/plain": [
       "    district  year month   chlor_a  chlor_a_lag_1  chlor_a_lag_2\n",
       "2  ahmadabad  2010     3  2.260830       2.251449       2.406572\n",
       "3  ahmadabad  2010     4  2.274136       2.260830       2.251449\n",
       "4  ahmadabad  2010     5  2.110336       2.274136       2.260830\n",
       "5  ahmadabad  2010     6  2.239608       2.110336       2.274136\n",
       "6  ahmadabad  2010     7  2.183196       2.239608       2.110336"
      ]
     },
     "execution_count": 1,
     "metadata": {},
     "output_type": "execute_result"
    }
   ],
   "source": [
    "chlor_a_district_level.head()"
   ]
  },
  {
   "cell_type": "code",
   "execution_count": 42,
   "metadata": {
    "execution": {
     "iopub.execute_input": "2021-02-28T21:40:43.295810Z",
     "iopub.status.busy": "2021-02-28T21:40:43.294373Z",
     "iopub.status.idle": "2021-02-28T21:40:52.444328Z",
     "shell.execute_reply": "2021-02-28T21:40:52.443777Z"
    }
   },
   "outputs": [
    {
     "data": {
      "text/plain": [
       "731"
      ]
     },
     "execution_count": 1,
     "metadata": {},
     "output_type": "execute_result"
    }
   ],
   "source": [
    "del [chlor_a, chlor_a_district_level_temp]\n",
    "gc.collect()"
   ]
  },
  {
   "cell_type": "markdown",
   "metadata": {},
   "source": [
    "### land surface temperature"
   ]
  },
  {
   "cell_type": "code",
   "execution_count": 43,
   "metadata": {
    "execution": {
     "iopub.execute_input": "2021-02-28T21:40:52.449072Z",
     "iopub.status.busy": "2021-02-28T21:40:52.448435Z",
     "iopub.status.idle": "2021-02-28T21:40:52.451709Z",
     "shell.execute_reply": "2021-02-28T21:40:52.452497Z"
    }
   },
   "outputs": [],
   "source": [
    "path = '../data/land_surface_temperature'"
   ]
  },
  {
   "cell_type": "code",
   "execution_count": 44,
   "metadata": {
    "execution": {
     "iopub.execute_input": "2021-02-28T21:40:52.458205Z",
     "iopub.status.busy": "2021-02-28T21:40:52.457195Z",
     "iopub.status.idle": "2021-02-28T21:40:52.459698Z",
     "shell.execute_reply": "2021-02-28T21:40:52.460490Z"
    }
   },
   "outputs": [],
   "source": [
    "file = 'monthly_lst_'+str(years[0])+'.shp'"
   ]
  },
  {
   "cell_type": "code",
   "execution_count": 45,
   "metadata": {
    "execution": {
     "iopub.execute_input": "2021-02-28T21:40:52.540315Z",
     "iopub.status.busy": "2021-02-28T21:40:52.539677Z",
     "iopub.status.idle": "2021-02-28T21:45:12.087343Z",
     "shell.execute_reply": "2021-02-28T21:45:12.085873Z"
    }
   },
   "outputs": [],
   "source": [
    "lst = gpd.read_file(os.path.join(path, file))"
   ]
  },
  {
   "cell_type": "code",
   "execution_count": 46,
   "metadata": {
    "execution": {
     "iopub.execute_input": "2021-02-28T21:45:12.094516Z",
     "iopub.status.busy": "2021-02-28T21:45:12.093221Z",
     "iopub.status.idle": "2021-02-28T21:45:12.097948Z",
     "shell.execute_reply": "2021-02-28T21:45:12.099230Z"
    },
    "scrolled": true
   },
   "outputs": [
    {
     "data": {
      "text/plain": [
       "False"
      ]
     },
     "execution_count": 1,
     "metadata": {},
     "output_type": "execute_result"
    }
   ],
   "source": [
    "lst.crs == outbreaks.crs"
   ]
  },
  {
   "cell_type": "code",
   "execution_count": 47,
   "metadata": {
    "execution": {
     "iopub.execute_input": "2021-02-28T21:45:12.105627Z",
     "iopub.status.busy": "2021-02-28T21:45:12.104493Z",
     "iopub.status.idle": "2021-02-28T21:48:40.381540Z",
     "shell.execute_reply": "2021-02-28T21:48:40.380469Z"
    }
   },
   "outputs": [],
   "source": [
    "lst = lst.to_crs(epsg=7755)"
   ]
  },
  {
   "cell_type": "code",
   "execution_count": 48,
   "metadata": {
    "execution": {
     "iopub.execute_input": "2021-02-28T21:48:40.388861Z",
     "iopub.status.busy": "2021-02-28T21:48:40.387392Z",
     "iopub.status.idle": "2021-02-28T21:48:40.391423Z",
     "shell.execute_reply": "2021-02-28T21:48:40.392174Z"
    },
    "scrolled": true
   },
   "outputs": [
    {
     "data": {
      "text/plain": [
       "True"
      ]
     },
     "execution_count": 1,
     "metadata": {},
     "output_type": "execute_result"
    }
   ],
   "source": [
    "lst.crs == outbreaks.crs"
   ]
  },
  {
   "cell_type": "code",
   "execution_count": 49,
   "metadata": {
    "execution": {
     "iopub.execute_input": "2021-02-28T21:48:40.397624Z",
     "iopub.status.busy": "2021-02-28T21:48:40.396808Z",
     "iopub.status.idle": "2021-02-28T21:48:40.401088Z",
     "shell.execute_reply": "2021-02-28T21:48:40.402280Z"
    }
   },
   "outputs": [
    {
     "data": {
      "text/plain": [
       "(3364371, 4)"
      ]
     },
     "execution_count": 1,
     "metadata": {},
     "output_type": "execute_result"
    }
   ],
   "source": [
    "lst.shape"
   ]
  },
  {
   "cell_type": "code",
   "execution_count": 50,
   "metadata": {
    "execution": {
     "iopub.execute_input": "2021-02-28T21:48:40.415712Z",
     "iopub.status.busy": "2021-02-28T21:48:40.413686Z",
     "iopub.status.idle": "2021-02-28T21:48:40.419479Z",
     "shell.execute_reply": "2021-02-28T21:48:40.418802Z"
    }
   },
   "outputs": [
    {
     "name": "stdout",
     "output_type": "stream",
     "text": [
      "<class 'geopandas.geodataframe.GeoDataFrame'>\n",
      "RangeIndex: 3364371 entries, 0 to 3364370\n",
      "Data columns (total 4 columns):\n",
      " #   Column    Dtype   \n",
      "---  ------    -----   \n",
      " 0   year      int64   \n",
      " 1   month     int64   \n",
      " 2   lst       float64 \n",
      " 3   geometry  geometry\n",
      "dtypes: float64(1), geometry(1), int64(2)\n",
      "memory usage: 102.7 MB\n"
     ]
    }
   ],
   "source": [
    "lst.info()"
   ]
  },
  {
   "cell_type": "code",
   "execution_count": 51,
   "metadata": {
    "execution": {
     "iopub.execute_input": "2021-02-28T21:48:40.430359Z",
     "iopub.status.busy": "2021-02-28T21:48:40.429686Z",
     "iopub.status.idle": "2021-02-28T21:48:40.440930Z",
     "shell.execute_reply": "2021-02-28T21:48:40.439858Z"
    }
   },
   "outputs": [
    {
     "data": {
      "text/html": [
       "<div>\n",
       "<style scoped>\n",
       "    .dataframe tbody tr th:only-of-type {\n",
       "        vertical-align: middle;\n",
       "    }\n",
       "\n",
       "    .dataframe tbody tr th {\n",
       "        vertical-align: top;\n",
       "    }\n",
       "\n",
       "    .dataframe thead th {\n",
       "        text-align: right;\n",
       "    }\n",
       "</style>\n",
       "<table border=\"1\" class=\"dataframe\">\n",
       "  <thead>\n",
       "    <tr style=\"text-align: right;\">\n",
       "      <th></th>\n",
       "      <th>year</th>\n",
       "      <th>month</th>\n",
       "      <th>lst</th>\n",
       "      <th>geometry</th>\n",
       "    </tr>\n",
       "  </thead>\n",
       "  <tbody>\n",
       "    <tr>\n",
       "      <th>0</th>\n",
       "      <td>2010</td>\n",
       "      <td>3</td>\n",
       "      <td>298.179993</td>\n",
       "      <td>POINT (6105450.505 1456856.677)</td>\n",
       "    </tr>\n",
       "    <tr>\n",
       "      <th>1</th>\n",
       "      <td>2010</td>\n",
       "      <td>4</td>\n",
       "      <td>263.160004</td>\n",
       "      <td>POINT (6105450.505 1456856.677)</td>\n",
       "    </tr>\n",
       "    <tr>\n",
       "      <th>2</th>\n",
       "      <td>2010</td>\n",
       "      <td>7</td>\n",
       "      <td>292.839996</td>\n",
       "      <td>POINT (6105450.505 1456856.677)</td>\n",
       "    </tr>\n",
       "    <tr>\n",
       "      <th>3</th>\n",
       "      <td>2010</td>\n",
       "      <td>8</td>\n",
       "      <td>281.899994</td>\n",
       "      <td>POINT (6105450.505 1456856.677)</td>\n",
       "    </tr>\n",
       "    <tr>\n",
       "      <th>4</th>\n",
       "      <td>2010</td>\n",
       "      <td>11</td>\n",
       "      <td>251.569992</td>\n",
       "      <td>POINT (6105450.505 1456856.677)</td>\n",
       "    </tr>\n",
       "  </tbody>\n",
       "</table>\n",
       "</div>"
      ],
      "text/plain": [
       "   year  month         lst                         geometry\n",
       "0  2010      3  298.179993  POINT (6105450.505 1456856.677)\n",
       "1  2010      4  263.160004  POINT (6105450.505 1456856.677)\n",
       "2  2010      7  292.839996  POINT (6105450.505 1456856.677)\n",
       "3  2010      8  281.899994  POINT (6105450.505 1456856.677)\n",
       "4  2010     11  251.569992  POINT (6105450.505 1456856.677)"
      ]
     },
     "execution_count": 1,
     "metadata": {},
     "output_type": "execute_result"
    }
   ],
   "source": [
    "lst.head()"
   ]
  },
  {
   "cell_type": "code",
   "execution_count": 52,
   "metadata": {
    "execution": {
     "iopub.execute_input": "2021-02-28T21:48:40.452323Z",
     "iopub.status.busy": "2021-02-28T21:48:40.451422Z",
     "iopub.status.idle": "2021-02-28T21:48:40.454634Z",
     "shell.execute_reply": "2021-02-28T21:48:40.453948Z"
    }
   },
   "outputs": [],
   "source": [
    "lst_district_level = pd.DataFrame(columns=['district', 'year', 'month', 'lst', 'lst_lag_1', 'lst_lag_2'])"
   ]
  },
  {
   "cell_type": "code",
   "execution_count": 53,
   "metadata": {
    "execution": {
     "iopub.execute_input": "2021-02-28T21:48:40.481041Z",
     "iopub.status.busy": "2021-02-28T21:48:40.480047Z",
     "iopub.status.idle": "2021-02-28T23:56:45.406977Z",
     "shell.execute_reply": "2021-02-28T23:56:45.405753Z"
    }
   },
   "outputs": [
    {
     "name": "stdout",
     "output_type": "stream",
     "text": [
      "Processing 2010...\n",
      "Processing 2011...\n",
      "Processing 2012...\n",
      "Processing 2013...\n",
      "Processing 2014...\n",
      "Processing 2015...\n",
      "Processing 2016...\n",
      "Processing 2017...\n",
      "Processing 2018...\n",
      "CPU times: user 2h 7min 4s, sys: 54.7 s, total: 2h 7min 58s\n",
      "Wall time: 2h 8min 4s\n"
     ]
    }
   ],
   "source": [
    "%%time\n",
    "\n",
    "for year in years:\n",
    "    print('Processing {}...'.format(year))\n",
    "    lst = gpd.read_file(os.path.join(path, 'monthly_lst_'+str(year)+'.shp'))\n",
    "    lst = lst.to_crs(epsg=7755)\n",
    "    lst_district_level_temp = process_ecv(outbreaks, lst, 'lst')\n",
    "    lst_district_level = lst_district_level.append(lst_district_level_temp)"
   ]
  },
  {
   "cell_type": "code",
   "execution_count": 54,
   "metadata": {
    "execution": {
     "iopub.execute_input": "2021-02-28T23:56:45.414210Z",
     "iopub.status.busy": "2021-02-28T23:56:45.412369Z",
     "iopub.status.idle": "2021-02-28T23:56:45.417115Z",
     "shell.execute_reply": "2021-02-28T23:56:45.417972Z"
    }
   },
   "outputs": [
    {
     "data": {
      "text/plain": [
       "(15587, 6)"
      ]
     },
     "execution_count": 1,
     "metadata": {},
     "output_type": "execute_result"
    }
   ],
   "source": [
    "lst_district_level.shape"
   ]
  },
  {
   "cell_type": "code",
   "execution_count": 55,
   "metadata": {
    "execution": {
     "iopub.execute_input": "2021-02-28T23:56:45.431734Z",
     "iopub.status.busy": "2021-02-28T23:56:45.430602Z",
     "iopub.status.idle": "2021-02-28T23:56:45.446750Z",
     "shell.execute_reply": "2021-02-28T23:56:45.445162Z"
    }
   },
   "outputs": [
    {
     "name": "stdout",
     "output_type": "stream",
     "text": [
      "<class 'pandas.core.frame.DataFrame'>\n",
      "Int64Index: 15587 entries, 2 to 2093\n",
      "Data columns (total 6 columns):\n",
      " #   Column     Non-Null Count  Dtype  \n",
      "---  ------     --------------  -----  \n",
      " 0   district   15587 non-null  object \n",
      " 1   year       15587 non-null  object \n",
      " 2   month      15587 non-null  object \n",
      " 3   lst        15587 non-null  float64\n",
      " 4   lst_lag_1  15587 non-null  float64\n",
      " 5   lst_lag_2  15587 non-null  float64\n",
      "dtypes: float64(3), object(3)\n",
      "memory usage: 852.4+ KB\n"
     ]
    }
   ],
   "source": [
    "lst_district_level.info()"
   ]
  },
  {
   "cell_type": "code",
   "execution_count": 56,
   "metadata": {
    "execution": {
     "iopub.execute_input": "2021-02-28T23:56:45.466781Z",
     "iopub.status.busy": "2021-02-28T23:56:45.465769Z",
     "iopub.status.idle": "2021-02-28T23:56:45.469247Z",
     "shell.execute_reply": "2021-02-28T23:56:45.470274Z"
    }
   },
   "outputs": [
    {
     "data": {
      "text/html": [
       "<div>\n",
       "<style scoped>\n",
       "    .dataframe tbody tr th:only-of-type {\n",
       "        vertical-align: middle;\n",
       "    }\n",
       "\n",
       "    .dataframe tbody tr th {\n",
       "        vertical-align: top;\n",
       "    }\n",
       "\n",
       "    .dataframe thead th {\n",
       "        text-align: right;\n",
       "    }\n",
       "</style>\n",
       "<table border=\"1\" class=\"dataframe\">\n",
       "  <thead>\n",
       "    <tr style=\"text-align: right;\">\n",
       "      <th></th>\n",
       "      <th>district</th>\n",
       "      <th>year</th>\n",
       "      <th>month</th>\n",
       "      <th>lst</th>\n",
       "      <th>lst_lag_1</th>\n",
       "      <th>lst_lag_2</th>\n",
       "    </tr>\n",
       "  </thead>\n",
       "  <tbody>\n",
       "    <tr>\n",
       "      <th>2</th>\n",
       "      <td>ahmadabad</td>\n",
       "      <td>2010</td>\n",
       "      <td>3</td>\n",
       "      <td>325.963631</td>\n",
       "      <td>318.111811</td>\n",
       "      <td>313.017665</td>\n",
       "    </tr>\n",
       "    <tr>\n",
       "      <th>3</th>\n",
       "      <td>ahmadabad</td>\n",
       "      <td>2010</td>\n",
       "      <td>4</td>\n",
       "      <td>329.984802</td>\n",
       "      <td>325.963631</td>\n",
       "      <td>318.111811</td>\n",
       "    </tr>\n",
       "    <tr>\n",
       "      <th>4</th>\n",
       "      <td>ahmadabad</td>\n",
       "      <td>2010</td>\n",
       "      <td>5</td>\n",
       "      <td>334.093161</td>\n",
       "      <td>329.984802</td>\n",
       "      <td>325.963631</td>\n",
       "    </tr>\n",
       "    <tr>\n",
       "      <th>5</th>\n",
       "      <td>ahmadabad</td>\n",
       "      <td>2010</td>\n",
       "      <td>6</td>\n",
       "      <td>329.799811</td>\n",
       "      <td>334.093161</td>\n",
       "      <td>329.984802</td>\n",
       "    </tr>\n",
       "    <tr>\n",
       "      <th>6</th>\n",
       "      <td>ahmadabad</td>\n",
       "      <td>2010</td>\n",
       "      <td>7</td>\n",
       "      <td>275.639148</td>\n",
       "      <td>329.799811</td>\n",
       "      <td>334.093161</td>\n",
       "    </tr>\n",
       "  </tbody>\n",
       "</table>\n",
       "</div>"
      ],
      "text/plain": [
       "    district  year month         lst   lst_lag_1   lst_lag_2\n",
       "2  ahmadabad  2010     3  325.963631  318.111811  313.017665\n",
       "3  ahmadabad  2010     4  329.984802  325.963631  318.111811\n",
       "4  ahmadabad  2010     5  334.093161  329.984802  325.963631\n",
       "5  ahmadabad  2010     6  329.799811  334.093161  329.984802\n",
       "6  ahmadabad  2010     7  275.639148  329.799811  334.093161"
      ]
     },
     "execution_count": 1,
     "metadata": {},
     "output_type": "execute_result"
    }
   ],
   "source": [
    "lst_district_level.head()"
   ]
  },
  {
   "cell_type": "code",
   "execution_count": 57,
   "metadata": {
    "execution": {
     "iopub.execute_input": "2021-02-28T23:56:45.478440Z",
     "iopub.status.busy": "2021-02-28T23:56:45.477239Z",
     "iopub.status.idle": "2021-02-28T23:56:53.015480Z",
     "shell.execute_reply": "2021-02-28T23:56:53.014331Z"
    }
   },
   "outputs": [
    {
     "data": {
      "text/plain": [
       "417"
      ]
     },
     "execution_count": 1,
     "metadata": {},
     "output_type": "execute_result"
    }
   ],
   "source": [
    "del [lst, lst_district_level_temp]\n",
    "gc.collect()"
   ]
  },
  {
   "cell_type": "markdown",
   "metadata": {},
   "source": [
    "## join features and target"
   ]
  },
  {
   "cell_type": "code",
   "execution_count": 58,
   "metadata": {
    "execution": {
     "iopub.execute_input": "2021-02-28T23:56:53.030125Z",
     "iopub.status.busy": "2021-02-28T23:56:53.029160Z",
     "iopub.status.idle": "2021-02-28T23:56:53.069475Z",
     "shell.execute_reply": "2021-02-28T23:56:53.070090Z"
    }
   },
   "outputs": [
    {
     "data": {
      "text/plain": [
       "(178, 2)"
      ]
     },
     "execution_count": 1,
     "metadata": {},
     "output_type": "execute_result"
    }
   ],
   "source": [
    "outbreaks[['district', 'geometry']].drop_duplicates().shape"
   ]
  },
  {
   "cell_type": "code",
   "execution_count": 59,
   "metadata": {
    "execution": {
     "iopub.execute_input": "2021-02-28T23:56:53.078154Z",
     "iopub.status.busy": "2021-02-28T23:56:53.077141Z",
     "iopub.status.idle": "2021-02-28T23:56:53.121939Z",
     "shell.execute_reply": "2021-02-28T23:56:53.120954Z"
    },
    "tags": []
   },
   "outputs": [],
   "source": [
    "train_test_sss = pd.merge(outbreaks[['district', 'geometry']].drop_duplicates(), sss_district_level, how='inner', on='district')"
   ]
  },
  {
   "cell_type": "code",
   "execution_count": 60,
   "metadata": {
    "execution": {
     "iopub.execute_input": "2021-02-28T23:56:53.129381Z",
     "iopub.status.busy": "2021-02-28T23:56:53.128481Z",
     "iopub.status.idle": "2021-02-28T23:56:53.132117Z",
     "shell.execute_reply": "2021-02-28T23:56:53.132905Z"
    }
   },
   "outputs": [
    {
     "data": {
      "text/plain": [
       "(4590, 7)"
      ]
     },
     "execution_count": 1,
     "metadata": {},
     "output_type": "execute_result"
    }
   ],
   "source": [
    "train_test_sss.shape"
   ]
  },
  {
   "cell_type": "code",
   "execution_count": 61,
   "metadata": {
    "execution": {
     "iopub.execute_input": "2021-02-28T23:56:53.143722Z",
     "iopub.status.busy": "2021-02-28T23:56:53.142307Z",
     "iopub.status.idle": "2021-02-28T23:56:53.190468Z",
     "shell.execute_reply": "2021-02-28T23:56:53.191092Z"
    }
   },
   "outputs": [],
   "source": [
    "train_test_chlor_a = pd.merge(outbreaks[['district', 'geometry']].drop_duplicates(), chlor_a_district_level, how='inner', on='district')"
   ]
  },
  {
   "cell_type": "code",
   "execution_count": 62,
   "metadata": {
    "execution": {
     "iopub.execute_input": "2021-02-28T23:56:53.196648Z",
     "iopub.status.busy": "2021-02-28T23:56:53.195134Z",
     "iopub.status.idle": "2021-02-28T23:56:53.199315Z",
     "shell.execute_reply": "2021-02-28T23:56:53.200114Z"
    }
   },
   "outputs": [
    {
     "data": {
      "text/plain": [
       "(6015, 7)"
      ]
     },
     "execution_count": 1,
     "metadata": {},
     "output_type": "execute_result"
    }
   ],
   "source": [
    "train_test_chlor_a.shape"
   ]
  },
  {
   "cell_type": "code",
   "execution_count": 63,
   "metadata": {
    "execution": {
     "iopub.execute_input": "2021-02-28T23:56:53.208132Z",
     "iopub.status.busy": "2021-02-28T23:56:53.207170Z",
     "iopub.status.idle": "2021-02-28T23:56:53.257242Z",
     "shell.execute_reply": "2021-02-28T23:56:53.257866Z"
    }
   },
   "outputs": [],
   "source": [
    "train_test_lst = pd.merge(outbreaks[['district', 'geometry']].drop_duplicates(), lst_district_level, how='inner', on='district')"
   ]
  },
  {
   "cell_type": "code",
   "execution_count": 64,
   "metadata": {
    "execution": {
     "iopub.execute_input": "2021-02-28T23:56:53.262928Z",
     "iopub.status.busy": "2021-02-28T23:56:53.261897Z",
     "iopub.status.idle": "2021-02-28T23:56:53.265878Z",
     "shell.execute_reply": "2021-02-28T23:56:53.266490Z"
    }
   },
   "outputs": [
    {
     "data": {
      "text/plain": [
       "(15587, 7)"
      ]
     },
     "execution_count": 1,
     "metadata": {},
     "output_type": "execute_result"
    }
   ],
   "source": [
    "train_test_lst.shape"
   ]
  },
  {
   "cell_type": "code",
   "execution_count": 65,
   "metadata": {
    "execution": {
     "iopub.execute_input": "2021-02-28T23:56:53.274631Z",
     "iopub.status.busy": "2021-02-28T23:56:53.273737Z",
     "iopub.status.idle": "2021-02-28T23:56:53.318869Z",
     "shell.execute_reply": "2021-02-28T23:56:53.319374Z"
    }
   },
   "outputs": [],
   "source": [
    "train_test = pd.merge(train_test_sss, train_test_chlor_a.drop('geometry', axis=1), how='inner', on=['district', 'year', 'month'])\n",
    "train_test = pd.merge(train_test, train_test_lst.drop('geometry', axis=1), how='inner', on=['district', 'year', 'month'])\n",
    "train_test = pd.merge(train_test, outbreaks[['district', 'year', 'month', 'outbreak']], how='left', on=['district', 'year', 'month']).reset_index(drop=True)"
   ]
  },
  {
   "cell_type": "code",
   "execution_count": 66,
   "metadata": {
    "execution": {
     "iopub.execute_input": "2021-02-28T23:56:53.324850Z",
     "iopub.status.busy": "2021-02-28T23:56:53.323681Z",
     "iopub.status.idle": "2021-02-28T23:56:53.328146Z",
     "shell.execute_reply": "2021-02-28T23:56:53.328964Z"
    }
   },
   "outputs": [
    {
     "data": {
      "text/plain": [
       "(4325, 14)"
      ]
     },
     "execution_count": 1,
     "metadata": {},
     "output_type": "execute_result"
    }
   ],
   "source": [
    "train_test.shape"
   ]
  },
  {
   "cell_type": "code",
   "execution_count": 67,
   "metadata": {
    "execution": {
     "iopub.execute_input": "2021-02-28T23:56:53.336541Z",
     "iopub.status.busy": "2021-02-28T23:56:53.335816Z",
     "iopub.status.idle": "2021-02-28T23:56:53.350726Z",
     "shell.execute_reply": "2021-02-28T23:56:53.351344Z"
    }
   },
   "outputs": [
    {
     "name": "stdout",
     "output_type": "stream",
     "text": [
      "<class 'geopandas.geodataframe.GeoDataFrame'>\n",
      "RangeIndex: 4325 entries, 0 to 4324\n",
      "Data columns (total 14 columns):\n",
      " #   Column         Non-Null Count  Dtype   \n",
      "---  ------         --------------  -----   \n",
      " 0   district       4325 non-null   object  \n",
      " 1   geometry       4325 non-null   geometry\n",
      " 2   year           4325 non-null   object  \n",
      " 3   month          4325 non-null   object  \n",
      " 4   sss            4325 non-null   float64 \n",
      " 5   sss_lag_1      4325 non-null   float64 \n",
      " 6   sss_lag_2      4325 non-null   float64 \n",
      " 7   chlor_a        4325 non-null   float64 \n",
      " 8   chlor_a_lag_1  4325 non-null   float64 \n",
      " 9   chlor_a_lag_2  4325 non-null   float64 \n",
      " 10  lst            4325 non-null   float64 \n",
      " 11  lst_lag_1      4325 non-null   float64 \n",
      " 12  lst_lag_2      4325 non-null   float64 \n",
      " 13  outbreak       109 non-null    float64 \n",
      "dtypes: float64(10), geometry(1), object(3)\n",
      "memory usage: 473.2+ KB\n"
     ]
    }
   ],
   "source": [
    "train_test.info()"
   ]
  },
  {
   "cell_type": "code",
   "execution_count": 68,
   "metadata": {
    "execution": {
     "iopub.execute_input": "2021-02-28T23:56:53.356041Z",
     "iopub.status.busy": "2021-02-28T23:56:53.355023Z",
     "iopub.status.idle": "2021-02-28T23:56:53.358852Z",
     "shell.execute_reply": "2021-02-28T23:56:53.359657Z"
    }
   },
   "outputs": [],
   "source": [
    "train_test['outbreak'] = train_test['outbreak'].fillna(0)"
   ]
  },
  {
   "cell_type": "code",
   "execution_count": 69,
   "metadata": {
    "execution": {
     "iopub.execute_input": "2021-02-28T23:56:53.367132Z",
     "iopub.status.busy": "2021-02-28T23:56:53.364277Z",
     "iopub.status.idle": "2021-02-28T23:56:53.374243Z",
     "shell.execute_reply": "2021-02-28T23:56:53.372756Z"
    }
   },
   "outputs": [
    {
     "data": {
      "text/plain": [
       "0.0    4216\n",
       "1.0     109\n",
       "Name: outbreak, dtype: int64"
      ]
     },
     "execution_count": 1,
     "metadata": {},
     "output_type": "execute_result"
    }
   ],
   "source": [
    "train_test['outbreak'].value_counts()"
   ]
  },
  {
   "cell_type": "code",
   "execution_count": 70,
   "metadata": {
    "execution": {
     "iopub.execute_input": "2021-02-28T23:56:53.389494Z",
     "iopub.status.busy": "2021-02-28T23:56:53.388831Z",
     "iopub.status.idle": "2021-02-28T23:56:53.429476Z",
     "shell.execute_reply": "2021-02-28T23:56:53.430095Z"
    }
   },
   "outputs": [
    {
     "data": {
      "text/html": [
       "<div>\n",
       "<style scoped>\n",
       "    .dataframe tbody tr th:only-of-type {\n",
       "        vertical-align: middle;\n",
       "    }\n",
       "\n",
       "    .dataframe tbody tr th {\n",
       "        vertical-align: top;\n",
       "    }\n",
       "\n",
       "    .dataframe thead th {\n",
       "        text-align: right;\n",
       "    }\n",
       "</style>\n",
       "<table border=\"1\" class=\"dataframe\">\n",
       "  <thead>\n",
       "    <tr style=\"text-align: right;\">\n",
       "      <th></th>\n",
       "      <th>district</th>\n",
       "      <th>geometry</th>\n",
       "      <th>year</th>\n",
       "      <th>month</th>\n",
       "      <th>sss</th>\n",
       "      <th>sss_lag_1</th>\n",
       "      <th>sss_lag_2</th>\n",
       "      <th>chlor_a</th>\n",
       "      <th>chlor_a_lag_1</th>\n",
       "      <th>chlor_a_lag_2</th>\n",
       "      <th>lst</th>\n",
       "      <th>lst_lag_1</th>\n",
       "      <th>lst_lag_2</th>\n",
       "      <th>outbreak</th>\n",
       "    </tr>\n",
       "  </thead>\n",
       "  <tbody>\n",
       "    <tr>\n",
       "      <th>0</th>\n",
       "      <td>belgaum</td>\n",
       "      <td>POLYGON ((3511024.973 2988369.571, 3508809.558...</td>\n",
       "      <td>2010</td>\n",
       "      <td>3</td>\n",
       "      <td>34.027400</td>\n",
       "      <td>34.600696</td>\n",
       "      <td>35.335807</td>\n",
       "      <td>-0.503310</td>\n",
       "      <td>-0.470824</td>\n",
       "      <td>-0.067947</td>\n",
       "      <td>326.305884</td>\n",
       "      <td>320.030061</td>\n",
       "      <td>314.014733</td>\n",
       "      <td>0.0</td>\n",
       "    </tr>\n",
       "    <tr>\n",
       "      <th>1</th>\n",
       "      <td>belgaum</td>\n",
       "      <td>POLYGON ((3511024.973 2988369.571, 3508809.558...</td>\n",
       "      <td>2010</td>\n",
       "      <td>4</td>\n",
       "      <td>34.299124</td>\n",
       "      <td>34.027400</td>\n",
       "      <td>34.600696</td>\n",
       "      <td>-0.573133</td>\n",
       "      <td>-0.503310</td>\n",
       "      <td>-0.470824</td>\n",
       "      <td>330.424175</td>\n",
       "      <td>326.305884</td>\n",
       "      <td>320.030061</td>\n",
       "      <td>0.0</td>\n",
       "    </tr>\n",
       "    <tr>\n",
       "      <th>2</th>\n",
       "      <td>belgaum</td>\n",
       "      <td>POLYGON ((3511024.973 2988369.571, 3508809.558...</td>\n",
       "      <td>2010</td>\n",
       "      <td>5</td>\n",
       "      <td>34.924089</td>\n",
       "      <td>34.299124</td>\n",
       "      <td>34.027400</td>\n",
       "      <td>-0.488359</td>\n",
       "      <td>-0.573133</td>\n",
       "      <td>-0.503310</td>\n",
       "      <td>332.450231</td>\n",
       "      <td>330.424175</td>\n",
       "      <td>326.305884</td>\n",
       "      <td>0.0</td>\n",
       "    </tr>\n",
       "    <tr>\n",
       "      <th>3</th>\n",
       "      <td>belgaum</td>\n",
       "      <td>POLYGON ((3511024.973 2988369.571, 3508809.558...</td>\n",
       "      <td>2010</td>\n",
       "      <td>6</td>\n",
       "      <td>35.246572</td>\n",
       "      <td>34.924089</td>\n",
       "      <td>34.299124</td>\n",
       "      <td>-0.147612</td>\n",
       "      <td>-0.488359</td>\n",
       "      <td>-0.573133</td>\n",
       "      <td>313.549617</td>\n",
       "      <td>332.450231</td>\n",
       "      <td>330.424175</td>\n",
       "      <td>0.0</td>\n",
       "    </tr>\n",
       "    <tr>\n",
       "      <th>4</th>\n",
       "      <td>belgaum</td>\n",
       "      <td>POLYGON ((3511024.973 2988369.571, 3508809.558...</td>\n",
       "      <td>2010</td>\n",
       "      <td>7</td>\n",
       "      <td>35.282390</td>\n",
       "      <td>35.246572</td>\n",
       "      <td>34.924089</td>\n",
       "      <td>0.279714</td>\n",
       "      <td>-0.147612</td>\n",
       "      <td>-0.488359</td>\n",
       "      <td>304.003108</td>\n",
       "      <td>313.549617</td>\n",
       "      <td>332.450231</td>\n",
       "      <td>0.0</td>\n",
       "    </tr>\n",
       "    <tr>\n",
       "      <th>...</th>\n",
       "      <td>...</td>\n",
       "      <td>...</td>\n",
       "      <td>...</td>\n",
       "      <td>...</td>\n",
       "      <td>...</td>\n",
       "      <td>...</td>\n",
       "      <td>...</td>\n",
       "      <td>...</td>\n",
       "      <td>...</td>\n",
       "      <td>...</td>\n",
       "      <td>...</td>\n",
       "      <td>...</td>\n",
       "      <td>...</td>\n",
       "      <td>...</td>\n",
       "    </tr>\n",
       "    <tr>\n",
       "      <th>4320</th>\n",
       "      <td>pathanamthitta</td>\n",
       "      <td>POLYGON ((3511537.740 2452350.639, 3511765.621...</td>\n",
       "      <td>2018</td>\n",
       "      <td>8</td>\n",
       "      <td>33.805684</td>\n",
       "      <td>34.235850</td>\n",
       "      <td>34.611369</td>\n",
       "      <td>1.352465</td>\n",
       "      <td>-0.149383</td>\n",
       "      <td>-0.081882</td>\n",
       "      <td>319.462127</td>\n",
       "      <td>316.543710</td>\n",
       "      <td>309.711798</td>\n",
       "      <td>0.0</td>\n",
       "    </tr>\n",
       "    <tr>\n",
       "      <th>4321</th>\n",
       "      <td>pathanamthitta</td>\n",
       "      <td>POLYGON ((3511537.740 2452350.639, 3511765.621...</td>\n",
       "      <td>2018</td>\n",
       "      <td>9</td>\n",
       "      <td>34.660524</td>\n",
       "      <td>33.805684</td>\n",
       "      <td>34.235850</td>\n",
       "      <td>0.699136</td>\n",
       "      <td>1.352465</td>\n",
       "      <td>-0.149383</td>\n",
       "      <td>322.904377</td>\n",
       "      <td>319.462127</td>\n",
       "      <td>316.543710</td>\n",
       "      <td>0.0</td>\n",
       "    </tr>\n",
       "    <tr>\n",
       "      <th>4322</th>\n",
       "      <td>pathanamthitta</td>\n",
       "      <td>POLYGON ((3511537.740 2452350.639, 3511765.621...</td>\n",
       "      <td>2018</td>\n",
       "      <td>10</td>\n",
       "      <td>35.295586</td>\n",
       "      <td>34.660524</td>\n",
       "      <td>33.805684</td>\n",
       "      <td>-0.742611</td>\n",
       "      <td>0.699136</td>\n",
       "      <td>1.352465</td>\n",
       "      <td>312.129742</td>\n",
       "      <td>322.904377</td>\n",
       "      <td>319.462127</td>\n",
       "      <td>0.0</td>\n",
       "    </tr>\n",
       "    <tr>\n",
       "      <th>4323</th>\n",
       "      <td>pathanamthitta</td>\n",
       "      <td>POLYGON ((3511537.740 2452350.639, 3511765.621...</td>\n",
       "      <td>2018</td>\n",
       "      <td>11</td>\n",
       "      <td>35.153257</td>\n",
       "      <td>35.295586</td>\n",
       "      <td>34.660524</td>\n",
       "      <td>-1.140299</td>\n",
       "      <td>-0.742611</td>\n",
       "      <td>0.699136</td>\n",
       "      <td>308.569854</td>\n",
       "      <td>312.129742</td>\n",
       "      <td>322.904377</td>\n",
       "      <td>0.0</td>\n",
       "    </tr>\n",
       "    <tr>\n",
       "      <th>4324</th>\n",
       "      <td>pathanamthitta</td>\n",
       "      <td>POLYGON ((3511537.740 2452350.639, 3511765.621...</td>\n",
       "      <td>2018</td>\n",
       "      <td>12</td>\n",
       "      <td>34.485241</td>\n",
       "      <td>35.153257</td>\n",
       "      <td>35.295586</td>\n",
       "      <td>-1.537003</td>\n",
       "      <td>-1.140299</td>\n",
       "      <td>-0.742611</td>\n",
       "      <td>308.834474</td>\n",
       "      <td>308.569854</td>\n",
       "      <td>312.129742</td>\n",
       "      <td>0.0</td>\n",
       "    </tr>\n",
       "  </tbody>\n",
       "</table>\n",
       "<p>4325 rows × 14 columns</p>\n",
       "</div>"
      ],
      "text/plain": [
       "            district                                           geometry  year  \\\n",
       "0            belgaum  POLYGON ((3511024.973 2988369.571, 3508809.558...  2010   \n",
       "1            belgaum  POLYGON ((3511024.973 2988369.571, 3508809.558...  2010   \n",
       "2            belgaum  POLYGON ((3511024.973 2988369.571, 3508809.558...  2010   \n",
       "3            belgaum  POLYGON ((3511024.973 2988369.571, 3508809.558...  2010   \n",
       "4            belgaum  POLYGON ((3511024.973 2988369.571, 3508809.558...  2010   \n",
       "...              ...                                                ...   ...   \n",
       "4320  pathanamthitta  POLYGON ((3511537.740 2452350.639, 3511765.621...  2018   \n",
       "4321  pathanamthitta  POLYGON ((3511537.740 2452350.639, 3511765.621...  2018   \n",
       "4322  pathanamthitta  POLYGON ((3511537.740 2452350.639, 3511765.621...  2018   \n",
       "4323  pathanamthitta  POLYGON ((3511537.740 2452350.639, 3511765.621...  2018   \n",
       "4324  pathanamthitta  POLYGON ((3511537.740 2452350.639, 3511765.621...  2018   \n",
       "\n",
       "     month        sss  sss_lag_1  sss_lag_2   chlor_a  chlor_a_lag_1  \\\n",
       "0        3  34.027400  34.600696  35.335807 -0.503310      -0.470824   \n",
       "1        4  34.299124  34.027400  34.600696 -0.573133      -0.503310   \n",
       "2        5  34.924089  34.299124  34.027400 -0.488359      -0.573133   \n",
       "3        6  35.246572  34.924089  34.299124 -0.147612      -0.488359   \n",
       "4        7  35.282390  35.246572  34.924089  0.279714      -0.147612   \n",
       "...    ...        ...        ...        ...       ...            ...   \n",
       "4320     8  33.805684  34.235850  34.611369  1.352465      -0.149383   \n",
       "4321     9  34.660524  33.805684  34.235850  0.699136       1.352465   \n",
       "4322    10  35.295586  34.660524  33.805684 -0.742611       0.699136   \n",
       "4323    11  35.153257  35.295586  34.660524 -1.140299      -0.742611   \n",
       "4324    12  34.485241  35.153257  35.295586 -1.537003      -1.140299   \n",
       "\n",
       "      chlor_a_lag_2         lst   lst_lag_1   lst_lag_2  outbreak  \n",
       "0         -0.067947  326.305884  320.030061  314.014733       0.0  \n",
       "1         -0.470824  330.424175  326.305884  320.030061       0.0  \n",
       "2         -0.503310  332.450231  330.424175  326.305884       0.0  \n",
       "3         -0.573133  313.549617  332.450231  330.424175       0.0  \n",
       "4         -0.488359  304.003108  313.549617  332.450231       0.0  \n",
       "...             ...         ...         ...         ...       ...  \n",
       "4320      -0.081882  319.462127  316.543710  309.711798       0.0  \n",
       "4321      -0.149383  322.904377  319.462127  316.543710       0.0  \n",
       "4322       1.352465  312.129742  322.904377  319.462127       0.0  \n",
       "4323       0.699136  308.569854  312.129742  322.904377       0.0  \n",
       "4324      -0.742611  308.834474  308.569854  312.129742       0.0  \n",
       "\n",
       "[4325 rows x 14 columns]"
      ]
     },
     "execution_count": 1,
     "metadata": {},
     "output_type": "execute_result"
    }
   ],
   "source": [
    "train_test"
   ]
  },
  {
   "cell_type": "markdown",
   "metadata": {},
   "source": [
    "## map district to location"
   ]
  },
  {
   "cell_type": "code",
   "execution_count": 71,
   "metadata": {
    "execution": {
     "iopub.execute_input": "2021-02-28T23:56:53.434941Z",
     "iopub.status.busy": "2021-02-28T23:56:53.434209Z",
     "iopub.status.idle": "2021-02-28T23:56:53.862979Z",
     "shell.execute_reply": "2021-02-28T23:56:53.863567Z"
    }
   },
   "outputs": [],
   "source": [
    "cape_comorin = geocode('Cape Comorin', provider='nominatim', user_agent='cholera_risk_modeling', timeout=4)"
   ]
  },
  {
   "cell_type": "code",
   "execution_count": 72,
   "metadata": {
    "execution": {
     "iopub.execute_input": "2021-02-28T23:56:53.869469Z",
     "iopub.status.busy": "2021-02-28T23:56:53.868527Z",
     "iopub.status.idle": "2021-02-28T23:56:53.871431Z",
     "shell.execute_reply": "2021-02-28T23:56:53.872050Z"
    }
   },
   "outputs": [
    {
     "data": {
      "text/plain": [
       "<Geographic 2D CRS: EPSG:4326>\n",
       "Name: WGS 84\n",
       "Axis Info [ellipsoidal]:\n",
       "- Lat[north]: Geodetic latitude (degree)\n",
       "- Lon[east]: Geodetic longitude (degree)\n",
       "Area of Use:\n",
       "- name: World.\n",
       "- bounds: (-180.0, -90.0, 180.0, 90.0)\n",
       "Datum: World Geodetic System 1984\n",
       "- Ellipsoid: WGS 84\n",
       "- Prime Meridian: Greenwich"
      ]
     },
     "execution_count": 1,
     "metadata": {},
     "output_type": "execute_result"
    }
   ],
   "source": [
    "cape_comorin.crs"
   ]
  },
  {
   "cell_type": "code",
   "execution_count": 73,
   "metadata": {
    "execution": {
     "iopub.execute_input": "2021-02-28T23:56:53.882823Z",
     "iopub.status.busy": "2021-02-28T23:56:53.877218Z",
     "iopub.status.idle": "2021-02-28T23:56:53.886984Z",
     "shell.execute_reply": "2021-02-28T23:56:53.888006Z"
    }
   },
   "outputs": [
    {
     "data": {
      "text/html": [
       "<div>\n",
       "<style scoped>\n",
       "    .dataframe tbody tr th:only-of-type {\n",
       "        vertical-align: middle;\n",
       "    }\n",
       "\n",
       "    .dataframe tbody tr th {\n",
       "        vertical-align: top;\n",
       "    }\n",
       "\n",
       "    .dataframe thead th {\n",
       "        text-align: right;\n",
       "    }\n",
       "</style>\n",
       "<table border=\"1\" class=\"dataframe\">\n",
       "  <thead>\n",
       "    <tr style=\"text-align: right;\">\n",
       "      <th></th>\n",
       "      <th>geometry</th>\n",
       "      <th>address</th>\n",
       "    </tr>\n",
       "  </thead>\n",
       "  <tbody>\n",
       "    <tr>\n",
       "      <th>0</th>\n",
       "      <td>POINT (77.55138 8.07729)</td>\n",
       "      <td>Cape Comorin, Vavaturai, Agastheeswaram, Kanya...</td>\n",
       "    </tr>\n",
       "  </tbody>\n",
       "</table>\n",
       "</div>"
      ],
      "text/plain": [
       "                   geometry                                            address\n",
       "0  POINT (77.55138 8.07729)  Cape Comorin, Vavaturai, Agastheeswaram, Kanya..."
      ]
     },
     "execution_count": 1,
     "metadata": {},
     "output_type": "execute_result"
    }
   ],
   "source": [
    "cape_comorin"
   ]
  },
  {
   "cell_type": "code",
   "execution_count": 74,
   "metadata": {
    "execution": {
     "iopub.execute_input": "2021-02-28T23:56:53.942553Z",
     "iopub.status.busy": "2021-02-28T23:56:53.940859Z",
     "iopub.status.idle": "2021-02-28T23:56:53.945174Z",
     "shell.execute_reply": "2021-02-28T23:56:53.945795Z"
    }
   },
   "outputs": [],
   "source": [
    "cape_comorin = cape_comorin.to_crs(epsg=7755)"
   ]
  },
  {
   "cell_type": "code",
   "execution_count": 75,
   "metadata": {
    "execution": {
     "iopub.execute_input": "2021-02-28T23:56:53.961951Z",
     "iopub.status.busy": "2021-02-28T23:56:53.961266Z",
     "iopub.status.idle": "2021-02-28T23:56:53.965529Z",
     "shell.execute_reply": "2021-02-28T23:56:53.966509Z"
    }
   },
   "outputs": [
    {
     "data": {
      "text/plain": [
       "<Projected CRS: EPSG:7755>\n",
       "Name: WGS 84 / India NSF LCC\n",
       "Axis Info [cartesian]:\n",
       "- X[east]: Easting (metre)\n",
       "- Y[north]: Northing (metre)\n",
       "Area of Use:\n",
       "- name: India - onshore and offshore. Includes Amandivis, Laccadives, Minicoy, Andaman Islands, Nicobar Islands, and Sikkim.\n",
       "- bounds: (65.6, 3.87, 97.42, 35.51)\n",
       "Coordinate Operation:\n",
       "- name: Survey of India Lambert\n",
       "- method: Lambert Conic Conformal (2SP)\n",
       "Datum: World Geodetic System 1984\n",
       "- Ellipsoid: WGS 84\n",
       "- Prime Meridian: Greenwich"
      ]
     },
     "execution_count": 1,
     "metadata": {},
     "output_type": "execute_result"
    }
   ],
   "source": [
    "cape_comorin.crs"
   ]
  },
  {
   "cell_type": "code",
   "execution_count": 76,
   "metadata": {
    "execution": {
     "iopub.execute_input": "2021-02-28T23:56:53.973582Z",
     "iopub.status.busy": "2021-02-28T23:56:53.972276Z",
     "iopub.status.idle": "2021-02-28T23:56:53.975711Z",
     "shell.execute_reply": "2021-02-28T23:56:53.974991Z"
    }
   },
   "outputs": [],
   "source": [
    "split_point = cape_comorin.loc[0, 'geometry']"
   ]
  },
  {
   "cell_type": "code",
   "execution_count": 77,
   "metadata": {
    "execution": {
     "iopub.execute_input": "2021-02-28T23:56:53.980965Z",
     "iopub.status.busy": "2021-02-28T23:56:53.979827Z",
     "iopub.status.idle": "2021-02-28T23:56:53.984240Z",
     "shell.execute_reply": "2021-02-28T23:56:53.985378Z"
    }
   },
   "outputs": [
    {
     "name": "stdout",
     "output_type": "stream",
     "text": [
      "POINT (3725305.123427642 2252761.855500367)\n"
     ]
    }
   ],
   "source": [
    "print(split_point)"
   ]
  },
  {
   "cell_type": "code",
   "execution_count": 78,
   "metadata": {
    "execution": {
     "iopub.execute_input": "2021-02-28T23:56:53.992026Z",
     "iopub.status.busy": "2021-02-28T23:56:53.991364Z",
     "iopub.status.idle": "2021-02-28T23:56:53.994814Z",
     "shell.execute_reply": "2021-02-28T23:56:53.995425Z"
    }
   },
   "outputs": [
    {
     "data": {
      "text/plain": [
       "3725305.1234276416"
      ]
     },
     "execution_count": 1,
     "metadata": {},
     "output_type": "execute_result"
    }
   ],
   "source": [
    "split_point.x"
   ]
  },
  {
   "cell_type": "code",
   "execution_count": 79,
   "metadata": {
    "execution": {
     "iopub.execute_input": "2021-02-28T23:56:54.000554Z",
     "iopub.status.busy": "2021-02-28T23:56:53.999899Z",
     "iopub.status.idle": "2021-02-28T23:56:54.003850Z",
     "shell.execute_reply": "2021-02-28T23:56:54.004691Z"
    }
   },
   "outputs": [
    {
     "data": {
      "text/plain": [
       "2252761.8555003675"
      ]
     },
     "execution_count": 1,
     "metadata": {},
     "output_type": "execute_result"
    }
   ],
   "source": [
    "split_point.y"
   ]
  },
  {
   "cell_type": "code",
   "execution_count": 80,
   "metadata": {
    "execution": {
     "iopub.execute_input": "2021-02-28T23:56:54.022782Z",
     "iopub.status.busy": "2021-02-28T23:56:54.021777Z",
     "iopub.status.idle": "2021-02-28T23:56:54.025800Z",
     "shell.execute_reply": "2021-02-28T23:56:54.026407Z"
    }
   },
   "outputs": [
    {
     "data": {
      "text/plain": [
       "<Projected CRS: EPSG:7755>\n",
       "Name: WGS 84 / India NSF LCC\n",
       "Axis Info [cartesian]:\n",
       "- X[east]: Easting (metre)\n",
       "- Y[north]: Northing (metre)\n",
       "Area of Use:\n",
       "- name: India - onshore and offshore. Includes Amandivis, Laccadives, Minicoy, Andaman Islands, Nicobar Islands, and Sikkim.\n",
       "- bounds: (65.6, 3.87, 97.42, 35.51)\n",
       "Coordinate Operation:\n",
       "- name: Survey of India Lambert\n",
       "- method: Lambert Conic Conformal (2SP)\n",
       "Datum: World Geodetic System 1984\n",
       "- Ellipsoid: WGS 84\n",
       "- Prime Meridian: Greenwich"
      ]
     },
     "execution_count": 1,
     "metadata": {},
     "output_type": "execute_result"
    }
   ],
   "source": [
    "train_test.crs"
   ]
  },
  {
   "cell_type": "code",
   "execution_count": 81,
   "metadata": {
    "execution": {
     "iopub.execute_input": "2021-02-28T23:56:54.032422Z",
     "iopub.status.busy": "2021-02-28T23:56:54.031695Z",
     "iopub.status.idle": "2021-02-28T23:56:54.277535Z",
     "shell.execute_reply": "2021-02-28T23:56:54.278163Z"
    }
   },
   "outputs": [],
   "source": [
    "train_test['centroid'] = train_test.centroid"
   ]
  },
  {
   "cell_type": "code",
   "execution_count": 82,
   "metadata": {
    "execution": {
     "iopub.execute_input": "2021-02-28T23:56:54.283812Z",
     "iopub.status.busy": "2021-02-28T23:56:54.282843Z",
     "iopub.status.idle": "2021-02-28T23:56:54.526324Z",
     "shell.execute_reply": "2021-02-28T23:56:54.526948Z"
    }
   },
   "outputs": [],
   "source": [
    "train_test['location'] = train_test.apply(lambda x: 'west' if x['centroid'].x < split_point.x else 'east', axis=1)"
   ]
  },
  {
   "cell_type": "code",
   "execution_count": 83,
   "metadata": {
    "execution": {
     "iopub.execute_input": "2021-02-28T23:56:54.534098Z",
     "iopub.status.busy": "2021-02-28T23:56:54.533428Z",
     "iopub.status.idle": "2021-02-28T23:56:54.565807Z",
     "shell.execute_reply": "2021-02-28T23:56:54.565154Z"
    }
   },
   "outputs": [
    {
     "data": {
      "text/html": [
       "<div>\n",
       "<style scoped>\n",
       "    .dataframe tbody tr th:only-of-type {\n",
       "        vertical-align: middle;\n",
       "    }\n",
       "\n",
       "    .dataframe tbody tr th {\n",
       "        vertical-align: top;\n",
       "    }\n",
       "\n",
       "    .dataframe thead th {\n",
       "        text-align: right;\n",
       "    }\n",
       "</style>\n",
       "<table border=\"1\" class=\"dataframe\">\n",
       "  <thead>\n",
       "    <tr style=\"text-align: right;\">\n",
       "      <th></th>\n",
       "      <th>district</th>\n",
       "      <th>geometry</th>\n",
       "      <th>year</th>\n",
       "      <th>month</th>\n",
       "      <th>sss</th>\n",
       "      <th>sss_lag_1</th>\n",
       "      <th>sss_lag_2</th>\n",
       "      <th>chlor_a</th>\n",
       "      <th>chlor_a_lag_1</th>\n",
       "      <th>chlor_a_lag_2</th>\n",
       "      <th>lst</th>\n",
       "      <th>lst_lag_1</th>\n",
       "      <th>lst_lag_2</th>\n",
       "      <th>outbreak</th>\n",
       "      <th>centroid</th>\n",
       "      <th>location</th>\n",
       "    </tr>\n",
       "  </thead>\n",
       "  <tbody>\n",
       "    <tr>\n",
       "      <th>0</th>\n",
       "      <td>belgaum</td>\n",
       "      <td>POLYGON ((3511024.973 2988369.571, 3508809.558...</td>\n",
       "      <td>2010</td>\n",
       "      <td>3</td>\n",
       "      <td>34.027400</td>\n",
       "      <td>34.600696</td>\n",
       "      <td>35.335807</td>\n",
       "      <td>-0.503310</td>\n",
       "      <td>-0.470824</td>\n",
       "      <td>-0.067947</td>\n",
       "      <td>326.305884</td>\n",
       "      <td>320.030061</td>\n",
       "      <td>314.014733</td>\n",
       "      <td>0.0</td>\n",
       "      <td>POINT (3452573.951 3155966.274)</td>\n",
       "      <td>west</td>\n",
       "    </tr>\n",
       "    <tr>\n",
       "      <th>1</th>\n",
       "      <td>belgaum</td>\n",
       "      <td>POLYGON ((3511024.973 2988369.571, 3508809.558...</td>\n",
       "      <td>2010</td>\n",
       "      <td>4</td>\n",
       "      <td>34.299124</td>\n",
       "      <td>34.027400</td>\n",
       "      <td>34.600696</td>\n",
       "      <td>-0.573133</td>\n",
       "      <td>-0.503310</td>\n",
       "      <td>-0.470824</td>\n",
       "      <td>330.424175</td>\n",
       "      <td>326.305884</td>\n",
       "      <td>320.030061</td>\n",
       "      <td>0.0</td>\n",
       "      <td>POINT (3452573.951 3155966.274)</td>\n",
       "      <td>west</td>\n",
       "    </tr>\n",
       "    <tr>\n",
       "      <th>2</th>\n",
       "      <td>belgaum</td>\n",
       "      <td>POLYGON ((3511024.973 2988369.571, 3508809.558...</td>\n",
       "      <td>2010</td>\n",
       "      <td>5</td>\n",
       "      <td>34.924089</td>\n",
       "      <td>34.299124</td>\n",
       "      <td>34.027400</td>\n",
       "      <td>-0.488359</td>\n",
       "      <td>-0.573133</td>\n",
       "      <td>-0.503310</td>\n",
       "      <td>332.450231</td>\n",
       "      <td>330.424175</td>\n",
       "      <td>326.305884</td>\n",
       "      <td>0.0</td>\n",
       "      <td>POINT (3452573.951 3155966.274)</td>\n",
       "      <td>west</td>\n",
       "    </tr>\n",
       "    <tr>\n",
       "      <th>3</th>\n",
       "      <td>belgaum</td>\n",
       "      <td>POLYGON ((3511024.973 2988369.571, 3508809.558...</td>\n",
       "      <td>2010</td>\n",
       "      <td>6</td>\n",
       "      <td>35.246572</td>\n",
       "      <td>34.924089</td>\n",
       "      <td>34.299124</td>\n",
       "      <td>-0.147612</td>\n",
       "      <td>-0.488359</td>\n",
       "      <td>-0.573133</td>\n",
       "      <td>313.549617</td>\n",
       "      <td>332.450231</td>\n",
       "      <td>330.424175</td>\n",
       "      <td>0.0</td>\n",
       "      <td>POINT (3452573.951 3155966.274)</td>\n",
       "      <td>west</td>\n",
       "    </tr>\n",
       "    <tr>\n",
       "      <th>4</th>\n",
       "      <td>belgaum</td>\n",
       "      <td>POLYGON ((3511024.973 2988369.571, 3508809.558...</td>\n",
       "      <td>2010</td>\n",
       "      <td>7</td>\n",
       "      <td>35.282390</td>\n",
       "      <td>35.246572</td>\n",
       "      <td>34.924089</td>\n",
       "      <td>0.279714</td>\n",
       "      <td>-0.147612</td>\n",
       "      <td>-0.488359</td>\n",
       "      <td>304.003108</td>\n",
       "      <td>313.549617</td>\n",
       "      <td>332.450231</td>\n",
       "      <td>0.0</td>\n",
       "      <td>POINT (3452573.951 3155966.274)</td>\n",
       "      <td>west</td>\n",
       "    </tr>\n",
       "  </tbody>\n",
       "</table>\n",
       "</div>"
      ],
      "text/plain": [
       "  district                                           geometry  year month  \\\n",
       "0  belgaum  POLYGON ((3511024.973 2988369.571, 3508809.558...  2010     3   \n",
       "1  belgaum  POLYGON ((3511024.973 2988369.571, 3508809.558...  2010     4   \n",
       "2  belgaum  POLYGON ((3511024.973 2988369.571, 3508809.558...  2010     5   \n",
       "3  belgaum  POLYGON ((3511024.973 2988369.571, 3508809.558...  2010     6   \n",
       "4  belgaum  POLYGON ((3511024.973 2988369.571, 3508809.558...  2010     7   \n",
       "\n",
       "         sss  sss_lag_1  sss_lag_2   chlor_a  chlor_a_lag_1  chlor_a_lag_2  \\\n",
       "0  34.027400  34.600696  35.335807 -0.503310      -0.470824      -0.067947   \n",
       "1  34.299124  34.027400  34.600696 -0.573133      -0.503310      -0.470824   \n",
       "2  34.924089  34.299124  34.027400 -0.488359      -0.573133      -0.503310   \n",
       "3  35.246572  34.924089  34.299124 -0.147612      -0.488359      -0.573133   \n",
       "4  35.282390  35.246572  34.924089  0.279714      -0.147612      -0.488359   \n",
       "\n",
       "          lst   lst_lag_1   lst_lag_2  outbreak  \\\n",
       "0  326.305884  320.030061  314.014733       0.0   \n",
       "1  330.424175  326.305884  320.030061       0.0   \n",
       "2  332.450231  330.424175  326.305884       0.0   \n",
       "3  313.549617  332.450231  330.424175       0.0   \n",
       "4  304.003108  313.549617  332.450231       0.0   \n",
       "\n",
       "                          centroid location  \n",
       "0  POINT (3452573.951 3155966.274)     west  \n",
       "1  POINT (3452573.951 3155966.274)     west  \n",
       "2  POINT (3452573.951 3155966.274)     west  \n",
       "3  POINT (3452573.951 3155966.274)     west  \n",
       "4  POINT (3452573.951 3155966.274)     west  "
      ]
     },
     "execution_count": 1,
     "metadata": {},
     "output_type": "execute_result"
    }
   ],
   "source": [
    "train_test.head()"
   ]
  },
  {
   "cell_type": "code",
   "execution_count": 84,
   "metadata": {
    "execution": {
     "iopub.execute_input": "2021-02-28T23:56:54.589152Z",
     "iopub.status.busy": "2021-02-28T23:56:54.588545Z",
     "iopub.status.idle": "2021-02-28T23:56:55.264484Z",
     "shell.execute_reply": "2021-02-28T23:56:55.263821Z"
    }
   },
   "outputs": [
    {
     "data": {
      "image/png": "[encoded data removed]",
      "text/plain": [
       "<Figure size 864x576 with 1 Axes>"
      ]
     },
     "metadata": {
      "needs_background": "light"
     },
     "output_type": "display_data"
    }
   ],
   "source": [
    "fig, ax = plt.subplots(figsize=(12,8))\n",
    "\n",
    "train_test[['geometry', 'location']].drop_duplicates().plot(ax=ax, column='location')\n",
    "\n",
    "cape_comorin.plot(ax=ax, color='red')\n",
    "\n",
    "plt.tight_layout()"
   ]
  },
  {
   "cell_type": "code",
   "execution_count": 85,
   "metadata": {
    "execution": {
     "iopub.execute_input": "2021-02-28T23:56:55.274807Z",
     "iopub.status.busy": "2021-02-28T23:56:55.273609Z",
     "iopub.status.idle": "2021-02-28T23:56:55.276956Z",
     "shell.execute_reply": "2021-02-28T23:56:55.277790Z"
    }
   },
   "outputs": [],
   "source": [
    "train_test = train_test.drop('centroid', axis=1)"
   ]
  },
  {
   "cell_type": "markdown",
   "metadata": {},
   "source": [
    "## map month to season"
   ]
  },
  {
   "cell_type": "code",
   "execution_count": 86,
   "metadata": {
    "execution": {
     "iopub.execute_input": "2021-02-28T23:56:55.284987Z",
     "iopub.status.busy": "2021-02-28T23:56:55.283923Z",
     "iopub.status.idle": "2021-02-28T23:56:55.287655Z",
     "shell.execute_reply": "2021-02-28T23:56:55.286760Z"
    },
    "tags": []
   },
   "outputs": [],
   "source": [
    "seasons = {1: 'winter',\n",
    "           2: 'winter',\n",
    "           3: 'pre_monsoon',\n",
    "           4: 'pre_monsoon',\n",
    "           5: 'pre_monsoon',\n",
    "           6: 'monsoon',\n",
    "           7: 'monsoon',\n",
    "           8: 'monsoon',\n",
    "           9: 'monsoon',\n",
    "           10: 'post_monsoon',\n",
    "           11: 'post_monsoon',\n",
    "           12: 'post_monsoon'}"
   ]
  },
  {
   "cell_type": "code",
   "execution_count": 87,
   "metadata": {
    "execution": {
     "iopub.execute_input": "2021-02-28T23:56:55.296647Z",
     "iopub.status.busy": "2021-02-28T23:56:55.295444Z",
     "iopub.status.idle": "2021-02-28T23:56:55.298970Z",
     "shell.execute_reply": "2021-02-28T23:56:55.298193Z"
    },
    "tags": []
   },
   "outputs": [],
   "source": [
    "train_test['season'] = train_test['month'].map(seasons)"
   ]
  },
  {
   "cell_type": "code",
   "execution_count": 88,
   "metadata": {
    "execution": {
     "iopub.execute_input": "2021-02-28T23:56:55.308615Z",
     "iopub.status.busy": "2021-02-28T23:56:55.303226Z",
     "iopub.status.idle": "2021-02-28T23:56:55.346770Z",
     "shell.execute_reply": "2021-02-28T23:56:55.345535Z"
    },
    "tags": []
   },
   "outputs": [
    {
     "data": {
      "text/html": [
       "<div>\n",
       "<style scoped>\n",
       "    .dataframe tbody tr th:only-of-type {\n",
       "        vertical-align: middle;\n",
       "    }\n",
       "\n",
       "    .dataframe tbody tr th {\n",
       "        vertical-align: top;\n",
       "    }\n",
       "\n",
       "    .dataframe thead th {\n",
       "        text-align: right;\n",
       "    }\n",
       "</style>\n",
       "<table border=\"1\" class=\"dataframe\">\n",
       "  <thead>\n",
       "    <tr style=\"text-align: right;\">\n",
       "      <th></th>\n",
       "      <th>district</th>\n",
       "      <th>geometry</th>\n",
       "      <th>year</th>\n",
       "      <th>month</th>\n",
       "      <th>sss</th>\n",
       "      <th>sss_lag_1</th>\n",
       "      <th>sss_lag_2</th>\n",
       "      <th>chlor_a</th>\n",
       "      <th>chlor_a_lag_1</th>\n",
       "      <th>chlor_a_lag_2</th>\n",
       "      <th>lst</th>\n",
       "      <th>lst_lag_1</th>\n",
       "      <th>lst_lag_2</th>\n",
       "      <th>outbreak</th>\n",
       "      <th>location</th>\n",
       "      <th>season</th>\n",
       "    </tr>\n",
       "  </thead>\n",
       "  <tbody>\n",
       "    <tr>\n",
       "      <th>0</th>\n",
       "      <td>belgaum</td>\n",
       "      <td>POLYGON ((3511024.973 2988369.571, 3508809.558...</td>\n",
       "      <td>2010</td>\n",
       "      <td>3</td>\n",
       "      <td>34.027400</td>\n",
       "      <td>34.600696</td>\n",
       "      <td>35.335807</td>\n",
       "      <td>-0.503310</td>\n",
       "      <td>-0.470824</td>\n",
       "      <td>-0.067947</td>\n",
       "      <td>326.305884</td>\n",
       "      <td>320.030061</td>\n",
       "      <td>314.014733</td>\n",
       "      <td>0.0</td>\n",
       "      <td>west</td>\n",
       "      <td>pre_monsoon</td>\n",
       "    </tr>\n",
       "    <tr>\n",
       "      <th>1</th>\n",
       "      <td>belgaum</td>\n",
       "      <td>POLYGON ((3511024.973 2988369.571, 3508809.558...</td>\n",
       "      <td>2010</td>\n",
       "      <td>4</td>\n",
       "      <td>34.299124</td>\n",
       "      <td>34.027400</td>\n",
       "      <td>34.600696</td>\n",
       "      <td>-0.573133</td>\n",
       "      <td>-0.503310</td>\n",
       "      <td>-0.470824</td>\n",
       "      <td>330.424175</td>\n",
       "      <td>326.305884</td>\n",
       "      <td>320.030061</td>\n",
       "      <td>0.0</td>\n",
       "      <td>west</td>\n",
       "      <td>pre_monsoon</td>\n",
       "    </tr>\n",
       "    <tr>\n",
       "      <th>2</th>\n",
       "      <td>belgaum</td>\n",
       "      <td>POLYGON ((3511024.973 2988369.571, 3508809.558...</td>\n",
       "      <td>2010</td>\n",
       "      <td>5</td>\n",
       "      <td>34.924089</td>\n",
       "      <td>34.299124</td>\n",
       "      <td>34.027400</td>\n",
       "      <td>-0.488359</td>\n",
       "      <td>-0.573133</td>\n",
       "      <td>-0.503310</td>\n",
       "      <td>332.450231</td>\n",
       "      <td>330.424175</td>\n",
       "      <td>326.305884</td>\n",
       "      <td>0.0</td>\n",
       "      <td>west</td>\n",
       "      <td>pre_monsoon</td>\n",
       "    </tr>\n",
       "    <tr>\n",
       "      <th>3</th>\n",
       "      <td>belgaum</td>\n",
       "      <td>POLYGON ((3511024.973 2988369.571, 3508809.558...</td>\n",
       "      <td>2010</td>\n",
       "      <td>6</td>\n",
       "      <td>35.246572</td>\n",
       "      <td>34.924089</td>\n",
       "      <td>34.299124</td>\n",
       "      <td>-0.147612</td>\n",
       "      <td>-0.488359</td>\n",
       "      <td>-0.573133</td>\n",
       "      <td>313.549617</td>\n",
       "      <td>332.450231</td>\n",
       "      <td>330.424175</td>\n",
       "      <td>0.0</td>\n",
       "      <td>west</td>\n",
       "      <td>monsoon</td>\n",
       "    </tr>\n",
       "    <tr>\n",
       "      <th>4</th>\n",
       "      <td>belgaum</td>\n",
       "      <td>POLYGON ((3511024.973 2988369.571, 3508809.558...</td>\n",
       "      <td>2010</td>\n",
       "      <td>7</td>\n",
       "      <td>35.282390</td>\n",
       "      <td>35.246572</td>\n",
       "      <td>34.924089</td>\n",
       "      <td>0.279714</td>\n",
       "      <td>-0.147612</td>\n",
       "      <td>-0.488359</td>\n",
       "      <td>304.003108</td>\n",
       "      <td>313.549617</td>\n",
       "      <td>332.450231</td>\n",
       "      <td>0.0</td>\n",
       "      <td>west</td>\n",
       "      <td>monsoon</td>\n",
       "    </tr>\n",
       "  </tbody>\n",
       "</table>\n",
       "</div>"
      ],
      "text/plain": [
       "  district                                           geometry  year month  \\\n",
       "0  belgaum  POLYGON ((3511024.973 2988369.571, 3508809.558...  2010     3   \n",
       "1  belgaum  POLYGON ((3511024.973 2988369.571, 3508809.558...  2010     4   \n",
       "2  belgaum  POLYGON ((3511024.973 2988369.571, 3508809.558...  2010     5   \n",
       "3  belgaum  POLYGON ((3511024.973 2988369.571, 3508809.558...  2010     6   \n",
       "4  belgaum  POLYGON ((3511024.973 2988369.571, 3508809.558...  2010     7   \n",
       "\n",
       "         sss  sss_lag_1  sss_lag_2   chlor_a  chlor_a_lag_1  chlor_a_lag_2  \\\n",
       "0  34.027400  34.600696  35.335807 -0.503310      -0.470824      -0.067947   \n",
       "1  34.299124  34.027400  34.600696 -0.573133      -0.503310      -0.470824   \n",
       "2  34.924089  34.299124  34.027400 -0.488359      -0.573133      -0.503310   \n",
       "3  35.246572  34.924089  34.299124 -0.147612      -0.488359      -0.573133   \n",
       "4  35.282390  35.246572  34.924089  0.279714      -0.147612      -0.488359   \n",
       "\n",
       "          lst   lst_lag_1   lst_lag_2  outbreak location       season  \n",
       "0  326.305884  320.030061  314.014733       0.0     west  pre_monsoon  \n",
       "1  330.424175  326.305884  320.030061       0.0     west  pre_monsoon  \n",
       "2  332.450231  330.424175  326.305884       0.0     west  pre_monsoon  \n",
       "3  313.549617  332.450231  330.424175       0.0     west      monsoon  \n",
       "4  304.003108  313.549617  332.450231       0.0     west      monsoon  "
      ]
     },
     "execution_count": 1,
     "metadata": {},
     "output_type": "execute_result"
    }
   ],
   "source": [
    "train_test.head()"
   ]
  },
  {
   "cell_type": "markdown",
   "metadata": {},
   "source": [
    "## make dummies from categorical features"
   ]
  },
  {
   "cell_type": "code",
   "execution_count": 89,
   "metadata": {
    "execution": {
     "iopub.execute_input": "2021-02-28T23:56:55.354256Z",
     "iopub.status.busy": "2021-02-28T23:56:55.353004Z",
     "iopub.status.idle": "2021-02-28T23:56:55.356875Z",
     "shell.execute_reply": "2021-02-28T23:56:55.357638Z"
    },
    "tags": []
   },
   "outputs": [],
   "source": [
    "location_dummies = pd.get_dummies(train_test['location'], prefix='location', prefix_sep='_')"
   ]
  },
  {
   "cell_type": "code",
   "execution_count": 90,
   "metadata": {
    "execution": {
     "iopub.execute_input": "2021-02-28T23:56:55.371761Z",
     "iopub.status.busy": "2021-02-28T23:56:55.369915Z",
     "iopub.status.idle": "2021-02-28T23:56:55.378035Z",
     "shell.execute_reply": "2021-02-28T23:56:55.379219Z"
    },
    "tags": []
   },
   "outputs": [],
   "source": [
    "train_test = pd.concat([train_test, location_dummies], axis=1).drop('location', axis=1)"
   ]
  },
  {
   "cell_type": "code",
   "execution_count": 91,
   "metadata": {
    "execution": {
     "iopub.execute_input": "2021-02-28T23:56:55.386387Z",
     "iopub.status.busy": "2021-02-28T23:56:55.384973Z",
     "iopub.status.idle": "2021-02-28T23:56:55.390312Z",
     "shell.execute_reply": "2021-02-28T23:56:55.389470Z"
    },
    "tags": []
   },
   "outputs": [],
   "source": [
    "season_dummies = pd.get_dummies(train_test['season'], prefix='season', prefix_sep='_')"
   ]
  },
  {
   "cell_type": "code",
   "execution_count": 92,
   "metadata": {
    "execution": {
     "iopub.execute_input": "2021-02-28T23:56:55.397681Z",
     "iopub.status.busy": "2021-02-28T23:56:55.396948Z",
     "iopub.status.idle": "2021-02-28T23:56:55.405649Z",
     "shell.execute_reply": "2021-02-28T23:56:55.406357Z"
    },
    "tags": []
   },
   "outputs": [],
   "source": [
    "train_test = pd.concat([train_test, season_dummies], axis=1).drop('season', axis=1)"
   ]
  },
  {
   "cell_type": "code",
   "execution_count": 93,
   "metadata": {
    "execution": {
     "iopub.execute_input": "2021-02-28T23:56:55.413504Z",
     "iopub.status.busy": "2021-02-28T23:56:55.410354Z",
     "iopub.status.idle": "2021-02-28T23:56:55.441642Z",
     "shell.execute_reply": "2021-02-28T23:56:55.442258Z"
    }
   },
   "outputs": [
    {
     "data": {
      "text/html": [
       "<div>\n",
       "<style scoped>\n",
       "    .dataframe tbody tr th:only-of-type {\n",
       "        vertical-align: middle;\n",
       "    }\n",
       "\n",
       "    .dataframe tbody tr th {\n",
       "        vertical-align: top;\n",
       "    }\n",
       "\n",
       "    .dataframe thead th {\n",
       "        text-align: right;\n",
       "    }\n",
       "</style>\n",
       "<table border=\"1\" class=\"dataframe\">\n",
       "  <thead>\n",
       "    <tr style=\"text-align: right;\">\n",
       "      <th></th>\n",
       "      <th>district</th>\n",
       "      <th>geometry</th>\n",
       "      <th>year</th>\n",
       "      <th>month</th>\n",
       "      <th>sss</th>\n",
       "      <th>sss_lag_1</th>\n",
       "      <th>sss_lag_2</th>\n",
       "      <th>chlor_a</th>\n",
       "      <th>chlor_a_lag_1</th>\n",
       "      <th>chlor_a_lag_2</th>\n",
       "      <th>lst</th>\n",
       "      <th>lst_lag_1</th>\n",
       "      <th>lst_lag_2</th>\n",
       "      <th>outbreak</th>\n",
       "      <th>location_east</th>\n",
       "      <th>location_west</th>\n",
       "      <th>season_monsoon</th>\n",
       "      <th>season_post_monsoon</th>\n",
       "      <th>season_pre_monsoon</th>\n",
       "    </tr>\n",
       "  </thead>\n",
       "  <tbody>\n",
       "    <tr>\n",
       "      <th>0</th>\n",
       "      <td>belgaum</td>\n",
       "      <td>POLYGON ((3511024.973 2988369.571, 3508809.558...</td>\n",
       "      <td>2010</td>\n",
       "      <td>3</td>\n",
       "      <td>34.027400</td>\n",
       "      <td>34.600696</td>\n",
       "      <td>35.335807</td>\n",
       "      <td>-0.503310</td>\n",
       "      <td>-0.470824</td>\n",
       "      <td>-0.067947</td>\n",
       "      <td>326.305884</td>\n",
       "      <td>320.030061</td>\n",
       "      <td>314.014733</td>\n",
       "      <td>0.0</td>\n",
       "      <td>0</td>\n",
       "      <td>1</td>\n",
       "      <td>0</td>\n",
       "      <td>0</td>\n",
       "      <td>1</td>\n",
       "    </tr>\n",
       "    <tr>\n",
       "      <th>1</th>\n",
       "      <td>belgaum</td>\n",
       "      <td>POLYGON ((3511024.973 2988369.571, 3508809.558...</td>\n",
       "      <td>2010</td>\n",
       "      <td>4</td>\n",
       "      <td>34.299124</td>\n",
       "      <td>34.027400</td>\n",
       "      <td>34.600696</td>\n",
       "      <td>-0.573133</td>\n",
       "      <td>-0.503310</td>\n",
       "      <td>-0.470824</td>\n",
       "      <td>330.424175</td>\n",
       "      <td>326.305884</td>\n",
       "      <td>320.030061</td>\n",
       "      <td>0.0</td>\n",
       "      <td>0</td>\n",
       "      <td>1</td>\n",
       "      <td>0</td>\n",
       "      <td>0</td>\n",
       "      <td>1</td>\n",
       "    </tr>\n",
       "    <tr>\n",
       "      <th>2</th>\n",
       "      <td>belgaum</td>\n",
       "      <td>POLYGON ((3511024.973 2988369.571, 3508809.558...</td>\n",
       "      <td>2010</td>\n",
       "      <td>5</td>\n",
       "      <td>34.924089</td>\n",
       "      <td>34.299124</td>\n",
       "      <td>34.027400</td>\n",
       "      <td>-0.488359</td>\n",
       "      <td>-0.573133</td>\n",
       "      <td>-0.503310</td>\n",
       "      <td>332.450231</td>\n",
       "      <td>330.424175</td>\n",
       "      <td>326.305884</td>\n",
       "      <td>0.0</td>\n",
       "      <td>0</td>\n",
       "      <td>1</td>\n",
       "      <td>0</td>\n",
       "      <td>0</td>\n",
       "      <td>1</td>\n",
       "    </tr>\n",
       "    <tr>\n",
       "      <th>3</th>\n",
       "      <td>belgaum</td>\n",
       "      <td>POLYGON ((3511024.973 2988369.571, 3508809.558...</td>\n",
       "      <td>2010</td>\n",
       "      <td>6</td>\n",
       "      <td>35.246572</td>\n",
       "      <td>34.924089</td>\n",
       "      <td>34.299124</td>\n",
       "      <td>-0.147612</td>\n",
       "      <td>-0.488359</td>\n",
       "      <td>-0.573133</td>\n",
       "      <td>313.549617</td>\n",
       "      <td>332.450231</td>\n",
       "      <td>330.424175</td>\n",
       "      <td>0.0</td>\n",
       "      <td>0</td>\n",
       "      <td>1</td>\n",
       "      <td>1</td>\n",
       "      <td>0</td>\n",
       "      <td>0</td>\n",
       "    </tr>\n",
       "    <tr>\n",
       "      <th>4</th>\n",
       "      <td>belgaum</td>\n",
       "      <td>POLYGON ((3511024.973 2988369.571, 3508809.558...</td>\n",
       "      <td>2010</td>\n",
       "      <td>7</td>\n",
       "      <td>35.282390</td>\n",
       "      <td>35.246572</td>\n",
       "      <td>34.924089</td>\n",
       "      <td>0.279714</td>\n",
       "      <td>-0.147612</td>\n",
       "      <td>-0.488359</td>\n",
       "      <td>304.003108</td>\n",
       "      <td>313.549617</td>\n",
       "      <td>332.450231</td>\n",
       "      <td>0.0</td>\n",
       "      <td>0</td>\n",
       "      <td>1</td>\n",
       "      <td>1</td>\n",
       "      <td>0</td>\n",
       "      <td>0</td>\n",
       "    </tr>\n",
       "  </tbody>\n",
       "</table>\n",
       "</div>"
      ],
      "text/plain": [
       "  district                                           geometry  year month  \\\n",
       "0  belgaum  POLYGON ((3511024.973 2988369.571, 3508809.558...  2010     3   \n",
       "1  belgaum  POLYGON ((3511024.973 2988369.571, 3508809.558...  2010     4   \n",
       "2  belgaum  POLYGON ((3511024.973 2988369.571, 3508809.558...  2010     5   \n",
       "3  belgaum  POLYGON ((3511024.973 2988369.571, 3508809.558...  2010     6   \n",
       "4  belgaum  POLYGON ((3511024.973 2988369.571, 3508809.558...  2010     7   \n",
       "\n",
       "         sss  sss_lag_1  sss_lag_2   chlor_a  chlor_a_lag_1  chlor_a_lag_2  \\\n",
       "0  34.027400  34.600696  35.335807 -0.503310      -0.470824      -0.067947   \n",
       "1  34.299124  34.027400  34.600696 -0.573133      -0.503310      -0.470824   \n",
       "2  34.924089  34.299124  34.027400 -0.488359      -0.573133      -0.503310   \n",
       "3  35.246572  34.924089  34.299124 -0.147612      -0.488359      -0.573133   \n",
       "4  35.282390  35.246572  34.924089  0.279714      -0.147612      -0.488359   \n",
       "\n",
       "          lst   lst_lag_1   lst_lag_2  outbreak  location_east  location_west  \\\n",
       "0  326.305884  320.030061  314.014733       0.0              0              1   \n",
       "1  330.424175  326.305884  320.030061       0.0              0              1   \n",
       "2  332.450231  330.424175  326.305884       0.0              0              1   \n",
       "3  313.549617  332.450231  330.424175       0.0              0              1   \n",
       "4  304.003108  313.549617  332.450231       0.0              0              1   \n",
       "\n",
       "   season_monsoon  season_post_monsoon  season_pre_monsoon  \n",
       "0               0                    0                   1  \n",
       "1               0                    0                   1  \n",
       "2               0                    0                   1  \n",
       "3               1                    0                   0  \n",
       "4               1                    0                   0  "
      ]
     },
     "execution_count": 1,
     "metadata": {},
     "output_type": "execute_result"
    }
   ],
   "source": [
    "train_test.head()"
   ]
  },
  {
   "cell_type": "markdown",
   "metadata": {},
   "source": [
    "## save final geodataframe"
   ]
  },
  {
   "cell_type": "code",
   "execution_count": 94,
   "metadata": {
    "execution": {
     "iopub.execute_input": "2021-02-28T23:56:55.447822Z",
     "iopub.status.busy": "2021-02-28T23:56:55.447148Z",
     "iopub.status.idle": "2021-02-28T23:56:58.782495Z",
     "shell.execute_reply": "2021-02-28T23:56:58.781516Z"
    },
    "tags": []
   },
   "outputs": [],
   "source": [
    "train_test.to_file('../data/train_test.shp')"
   ]
  }
 ],
 "metadata": {
  "kernelspec": {
   "display_name": "Python 3",
   "language": "python",
   "name": "python3"
  },
  "language_info": {
   "codemirror_mode": {
    "name": "ipython",
    "version": 3
   },
   "file_extension": ".py",
   "mimetype": "text/x-python",
   "name": "python",
   "nbconvert_exporter": "python",
   "pygments_lexer": "ipython3",
   "version": "3.9.1"
  }
 },
 "nbformat": 4,
 "nbformat_minor": 4
}
