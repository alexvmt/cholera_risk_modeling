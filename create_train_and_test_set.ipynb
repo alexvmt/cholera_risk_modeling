{
 "cells": [
  {
   "cell_type": "markdown",
   "metadata": {},
   "source": [
    "# Create train and test set"
   ]
  },
  {
   "cell_type": "markdown",
   "metadata": {},
   "source": [
    "This notebook processes cholera outbreaks and essential climate variable data, merges the data, creates additional features and finally saves a dataset that can be then used to create train and test sets for modeling."
   ]
  },
  {
   "cell_type": "code",
   "execution_count": 1,
   "metadata": {
    "tags": []
   },
   "outputs": [],
   "source": [
    "# import packages\n",
    "import os\n",
    "import numpy as np\n",
    "import pandas as pd\n",
    "import geopandas as gpd\n",
    "from geopandas.tools import geocode\n",
    "import matplotlib.pyplot as plt\n",
    "import gc"
   ]
  },
  {
   "cell_type": "code",
   "execution_count": 2,
   "metadata": {
    "tags": []
   },
   "outputs": [],
   "source": [
    "# make list of desired years\n",
    "years = list(np.arange(2010, 2019))"
   ]
  },
  {
   "cell_type": "code",
   "execution_count": 3,
   "metadata": {
    "tags": []
   },
   "outputs": [],
   "source": [
    "def process_ecv(outbreaks_data, evc_data, ecv):\n",
    "    \n",
    "    \"\"\"\n",
    "    This functions resamples given ecv data to the district level with an inner spatial join, using the within criterion.\n",
    "    It then calculates the areal mean of the ecv as well as one and two month lagged means.\n",
    "    Finally, it drops rows with missing values and returns a geodataframe.    \n",
    "    \"\"\"\n",
    "    \n",
    "    outbreaks_ecv = gpd.sjoin(evc_data, outbreaks_data[['district', 'geometry']], how='inner', op='within').reset_index(drop=True)\n",
    "    outbreaks_ecv = outbreaks_ecv.drop('index_right', axis=1)\n",
    "    \n",
    "    outbreaks_ecv = outbreaks_ecv.groupby(['district', 'year', 'month']).aggregate('mean').reset_index()\n",
    "    \n",
    "    outbreaks_ecv[ecv+'_1m_l'] = outbreaks_ecv.groupby(['district'])[ecv].shift(1)\n",
    "    outbreaks_ecv[ecv+'_c_1m_l'] = ((outbreaks_ecv[ecv] / outbreaks_ecv[ecv+'_1m_l']) - 1) * 100\n",
    "    outbreaks_ecv[ecv+'_d_1m_l'] = outbreaks_ecv[ecv+'_c_1m_l'].apply(lambda x: 1 if x > 1 else 0)\n",
    "    outbreaks_ecv[ecv+'_2m_l'] = outbreaks_ecv.groupby(['district'])[ecv].shift(2)\n",
    "    outbreaks_ecv[ecv+'_c_2m_l'] = ((outbreaks_ecv[ecv] / outbreaks_ecv[ecv+'_2m_l']) - 1) * 100\n",
    "    outbreaks_ecv[ecv+'_d_2m_l'] = outbreaks_ecv[ecv+'_c_2m_l'].apply(lambda x: 1 if x > 1 else 0)\n",
    "    \n",
    "    outbreaks_ecv = outbreaks_ecv.dropna()\n",
    "    \n",
    "    return outbreaks_ecv"
   ]
  },
  {
   "cell_type": "markdown",
   "metadata": {},
   "source": [
    "## Outbreaks"
   ]
  },
  {
   "cell_type": "markdown",
   "metadata": {},
   "source": [
    "First, we load the outbreaks data and explore it."
   ]
  },
  {
   "cell_type": "code",
   "execution_count": 4,
   "metadata": {},
   "outputs": [],
   "source": [
    "path = '../data/cholera_outbreaks'"
   ]
  },
  {
   "cell_type": "code",
   "execution_count": 5,
   "metadata": {},
   "outputs": [],
   "source": [
    "file = 'monthly_cholera_outbreaks_per_district_2010_2018.shp'"
   ]
  },
  {
   "cell_type": "code",
   "execution_count": 6,
   "metadata": {
    "tags": []
   },
   "outputs": [],
   "source": [
    "outbreaks = gpd.read_file(os.path.join(path, file))"
   ]
  },
  {
   "cell_type": "code",
   "execution_count": 7,
   "metadata": {
    "tags": []
   },
   "outputs": [
    {
     "data": {
      "text/plain": [
       "<Geographic 2D CRS: EPSG:4326>\n",
       "Name: WGS 84\n",
       "Axis Info [ellipsoidal]:\n",
       "- Lat[north]: Geodetic latitude (degree)\n",
       "- Lon[east]: Geodetic longitude (degree)\n",
       "Area of Use:\n",
       "- name: World.\n",
       "- bounds: (-180.0, -90.0, 180.0, 90.0)\n",
       "Datum: World Geodetic System 1984\n",
       "- Ellipsoid: WGS 84\n",
       "- Prime Meridian: Greenwich"
      ]
     },
     "execution_count": 7,
     "metadata": {},
     "output_type": "execute_result"
    }
   ],
   "source": [
    "# check coordinate reference system\n",
    "outbreaks.crs"
   ]
  },
  {
   "cell_type": "code",
   "execution_count": 8,
   "metadata": {
    "tags": []
   },
   "outputs": [
    {
     "data": {
      "text/plain": [
       "(466, 6)"
      ]
     },
     "execution_count": 8,
     "metadata": {},
     "output_type": "execute_result"
    }
   ],
   "source": [
    "outbreaks.shape"
   ]
  },
  {
   "cell_type": "code",
   "execution_count": 9,
   "metadata": {
    "tags": []
   },
   "outputs": [
    {
     "name": "stdout",
     "output_type": "stream",
     "text": [
      "<class 'geopandas.geodataframe.GeoDataFrame'>\n",
      "RangeIndex: 466 entries, 0 to 465\n",
      "Data columns (total 6 columns):\n",
      " #   Column    Non-Null Count  Dtype   \n",
      "---  ------    --------------  -----   \n",
      " 0   state     466 non-null    object  \n",
      " 1   district  466 non-null    object  \n",
      " 2   year      466 non-null    int64   \n",
      " 3   month     466 non-null    int64   \n",
      " 4   outbreak  466 non-null    int64   \n",
      " 5   geometry  466 non-null    geometry\n",
      "dtypes: geometry(1), int64(3), object(2)\n",
      "memory usage: 22.0+ KB\n"
     ]
    }
   ],
   "source": [
    "outbreaks.info()"
   ]
  },
  {
   "cell_type": "code",
   "execution_count": 10,
   "metadata": {
    "tags": []
   },
   "outputs": [
    {
     "data": {
      "text/html": [
       "<div>\n",
       "<style scoped>\n",
       "    .dataframe tbody tr th:only-of-type {\n",
       "        vertical-align: middle;\n",
       "    }\n",
       "\n",
       "    .dataframe tbody tr th {\n",
       "        vertical-align: top;\n",
       "    }\n",
       "\n",
       "    .dataframe thead th {\n",
       "        text-align: right;\n",
       "    }\n",
       "</style>\n",
       "<table border=\"1\" class=\"dataframe\">\n",
       "  <thead>\n",
       "    <tr style=\"text-align: right;\">\n",
       "      <th></th>\n",
       "      <th>state</th>\n",
       "      <th>district</th>\n",
       "      <th>year</th>\n",
       "      <th>month</th>\n",
       "      <th>outbreak</th>\n",
       "      <th>geometry</th>\n",
       "    </tr>\n",
       "  </thead>\n",
       "  <tbody>\n",
       "    <tr>\n",
       "      <th>0</th>\n",
       "      <td>himachal pradesh</td>\n",
       "      <td>shimla</td>\n",
       "      <td>2010</td>\n",
       "      <td>7</td>\n",
       "      <td>1</td>\n",
       "      <td>POLYGON ((77.51051 30.78743, 77.50089 30.79253...</td>\n",
       "    </tr>\n",
       "    <tr>\n",
       "      <th>1</th>\n",
       "      <td>rajasthan</td>\n",
       "      <td>alwar</td>\n",
       "      <td>2010</td>\n",
       "      <td>7</td>\n",
       "      <td>1</td>\n",
       "      <td>POLYGON ((76.45745 27.08288, 76.44963 27.08627...</td>\n",
       "    </tr>\n",
       "    <tr>\n",
       "      <th>2</th>\n",
       "      <td>assam</td>\n",
       "      <td>dibrugarh</td>\n",
       "      <td>2010</td>\n",
       "      <td>9</td>\n",
       "      <td>1</td>\n",
       "      <td>POLYGON ((95.37698 27.10218, 95.37267 27.10167...</td>\n",
       "    </tr>\n",
       "    <tr>\n",
       "      <th>3</th>\n",
       "      <td>karnataka</td>\n",
       "      <td>belgaum</td>\n",
       "      <td>2010</td>\n",
       "      <td>9</td>\n",
       "      <td>1</td>\n",
       "      <td>POLYGON ((74.75089 15.49199, 74.74472 15.48939...</td>\n",
       "    </tr>\n",
       "    <tr>\n",
       "      <th>4</th>\n",
       "      <td>gujarat</td>\n",
       "      <td>bharuch</td>\n",
       "      <td>2010</td>\n",
       "      <td>9</td>\n",
       "      <td>1</td>\n",
       "      <td>MULTIPOLYGON (((72.67597 21.44681, 72.67597 21...</td>\n",
       "    </tr>\n",
       "  </tbody>\n",
       "</table>\n",
       "</div>"
      ],
      "text/plain": [
       "              state   district  year  month  outbreak  \\\n",
       "0  himachal pradesh     shimla  2010      7         1   \n",
       "1         rajasthan      alwar  2010      7         1   \n",
       "2             assam  dibrugarh  2010      9         1   \n",
       "3         karnataka    belgaum  2010      9         1   \n",
       "4           gujarat    bharuch  2010      9         1   \n",
       "\n",
       "                                            geometry  \n",
       "0  POLYGON ((77.51051 30.78743, 77.50089 30.79253...  \n",
       "1  POLYGON ((76.45745 27.08288, 76.44963 27.08627...  \n",
       "2  POLYGON ((95.37698 27.10218, 95.37267 27.10167...  \n",
       "3  POLYGON ((74.75089 15.49199, 74.74472 15.48939...  \n",
       "4  MULTIPOLYGON (((72.67597 21.44681, 72.67597 21...  "
      ]
     },
     "execution_count": 10,
     "metadata": {},
     "output_type": "execute_result"
    }
   ],
   "source": [
    "outbreaks.head()"
   ]
  },
  {
   "cell_type": "markdown",
   "metadata": {},
   "source": [
    "It might be a good idea to reproject the data to a crs that is suited to this specific region."
   ]
  },
  {
   "cell_type": "code",
   "execution_count": 11,
   "metadata": {
    "tags": []
   },
   "outputs": [],
   "source": [
    "# reproject crs to https://epsg.io/7755\n",
    "outbreaks = outbreaks.to_crs(epsg=7755)"
   ]
  },
  {
   "cell_type": "code",
   "execution_count": 12,
   "metadata": {
    "tags": []
   },
   "outputs": [
    {
     "data": {
      "text/plain": [
       "<Projected CRS: EPSG:7755>\n",
       "Name: WGS 84 / India NSF LCC\n",
       "Axis Info [cartesian]:\n",
       "- X[east]: Easting (metre)\n",
       "- Y[north]: Northing (metre)\n",
       "Area of Use:\n",
       "- name: India - onshore and offshore. Includes Amandivis, Laccadives, Minicoy, Andaman Islands, Nicobar Islands, and Sikkim.\n",
       "- bounds: (65.6, 3.87, 97.42, 35.51)\n",
       "Coordinate Operation:\n",
       "- name: Survey of India Lambert\n",
       "- method: Lambert Conic Conformal (2SP)\n",
       "Datum: World Geodetic System 1984\n",
       "- Ellipsoid: WGS 84\n",
       "- Prime Meridian: Greenwich"
      ]
     },
     "execution_count": 12,
     "metadata": {},
     "output_type": "execute_result"
    }
   ],
   "source": [
    "# check new crs\n",
    "outbreaks.crs"
   ]
  },
  {
   "cell_type": "code",
   "execution_count": 13,
   "metadata": {
    "tags": []
   },
   "outputs": [],
   "source": [
    "# buffer the district borders by 111000 meters (1 degree)\n",
    "outbreaks['geometry'] = outbreaks['geometry'].buffer(111000)"
   ]
  },
  {
   "cell_type": "code",
   "execution_count": 14,
   "metadata": {
    "tags": []
   },
   "outputs": [
    {
     "data": {
      "text/html": [
       "<div>\n",
       "<style scoped>\n",
       "    .dataframe tbody tr th:only-of-type {\n",
       "        vertical-align: middle;\n",
       "    }\n",
       "\n",
       "    .dataframe tbody tr th {\n",
       "        vertical-align: top;\n",
       "    }\n",
       "\n",
       "    .dataframe thead th {\n",
       "        text-align: right;\n",
       "    }\n",
       "</style>\n",
       "<table border=\"1\" class=\"dataframe\">\n",
       "  <thead>\n",
       "    <tr style=\"text-align: right;\">\n",
       "      <th></th>\n",
       "      <th>state</th>\n",
       "      <th>district</th>\n",
       "      <th>year</th>\n",
       "      <th>month</th>\n",
       "      <th>outbreak</th>\n",
       "      <th>geometry</th>\n",
       "    </tr>\n",
       "  </thead>\n",
       "  <tbody>\n",
       "    <tr>\n",
       "      <th>0</th>\n",
       "      <td>himachal pradesh</td>\n",
       "      <td>shimla</td>\n",
       "      <td>2010</td>\n",
       "      <td>7</td>\n",
       "      <td>1</td>\n",
       "      <td>POLYGON ((3764447.443 4629412.289, 3756506.279...</td>\n",
       "    </tr>\n",
       "    <tr>\n",
       "      <th>1</th>\n",
       "      <td>rajasthan</td>\n",
       "      <td>alwar</td>\n",
       "      <td>2010</td>\n",
       "      <td>7</td>\n",
       "      <td>1</td>\n",
       "      <td>POLYGON ((3511741.355 4351422.986, 3511461.882...</td>\n",
       "    </tr>\n",
       "    <tr>\n",
       "      <th>2</th>\n",
       "      <td>assam</td>\n",
       "      <td>dibrugarh</td>\n",
       "      <td>2010</td>\n",
       "      <td>9</td>\n",
       "      <td>1</td>\n",
       "      <td>POLYGON ((5480598.578 4308612.598, 5470976.881...</td>\n",
       "    </tr>\n",
       "    <tr>\n",
       "      <th>3</th>\n",
       "      <td>karnataka</td>\n",
       "      <td>belgaum</td>\n",
       "      <td>2010</td>\n",
       "      <td>9</td>\n",
       "      <td>1</td>\n",
       "      <td>POLYGON ((3511024.973 2988369.571, 3508809.558...</td>\n",
       "    </tr>\n",
       "    <tr>\n",
       "      <th>4</th>\n",
       "      <td>gujarat</td>\n",
       "      <td>bharuch</td>\n",
       "      <td>2010</td>\n",
       "      <td>9</td>\n",
       "      <td>1</td>\n",
       "      <td>POLYGON ((3128676.356 3764922.012, 3128624.344...</td>\n",
       "    </tr>\n",
       "  </tbody>\n",
       "</table>\n",
       "</div>"
      ],
      "text/plain": [
       "              state   district  year  month  outbreak  \\\n",
       "0  himachal pradesh     shimla  2010      7         1   \n",
       "1         rajasthan      alwar  2010      7         1   \n",
       "2             assam  dibrugarh  2010      9         1   \n",
       "3         karnataka    belgaum  2010      9         1   \n",
       "4           gujarat    bharuch  2010      9         1   \n",
       "\n",
       "                                            geometry  \n",
       "0  POLYGON ((3764447.443 4629412.289, 3756506.279...  \n",
       "1  POLYGON ((3511741.355 4351422.986, 3511461.882...  \n",
       "2  POLYGON ((5480598.578 4308612.598, 5470976.881...  \n",
       "3  POLYGON ((3511024.973 2988369.571, 3508809.558...  \n",
       "4  POLYGON ((3128676.356 3764922.012, 3128624.344...  "
      ]
     },
     "execution_count": 14,
     "metadata": {},
     "output_type": "execute_result"
    }
   ],
   "source": [
    "outbreaks.head()"
   ]
  },
  {
   "cell_type": "markdown",
   "metadata": {},
   "source": [
    "## Resample ECVs at district level and create lag features"
   ]
  },
  {
   "cell_type": "markdown",
   "metadata": {},
   "source": [
    "### Sea surface salinity"
   ]
  },
  {
   "cell_type": "markdown",
   "metadata": {},
   "source": [
    "First we load the data and explore it."
   ]
  },
  {
   "cell_type": "code",
   "execution_count": 15,
   "metadata": {
    "tags": []
   },
   "outputs": [],
   "source": [
    "path = '../data/sea_surface_salinity'"
   ]
  },
  {
   "cell_type": "code",
   "execution_count": 16,
   "metadata": {
    "tags": []
   },
   "outputs": [],
   "source": [
    "file = 'monthly_sss_'+str(years[0])+'.shp'"
   ]
  },
  {
   "cell_type": "code",
   "execution_count": 17,
   "metadata": {
    "tags": []
   },
   "outputs": [],
   "source": [
    "sss = gpd.read_file(os.path.join(path, file))"
   ]
  },
  {
   "cell_type": "markdown",
   "metadata": {},
   "source": [
    "The CRS of outbreaks and sea surface salinity need to match."
   ]
  },
  {
   "cell_type": "code",
   "execution_count": 18,
   "metadata": {
    "scrolled": true,
    "tags": []
   },
   "outputs": [
    {
     "data": {
      "text/plain": [
       "False"
      ]
     },
     "execution_count": 18,
     "metadata": {},
     "output_type": "execute_result"
    }
   ],
   "source": [
    "sss.crs == outbreaks.crs"
   ]
  },
  {
   "cell_type": "code",
   "execution_count": 19,
   "metadata": {
    "tags": []
   },
   "outputs": [],
   "source": [
    "sss = sss.to_crs(epsg=7755)"
   ]
  },
  {
   "cell_type": "code",
   "execution_count": 20,
   "metadata": {
    "scrolled": true,
    "tags": []
   },
   "outputs": [
    {
     "data": {
      "text/plain": [
       "True"
      ]
     },
     "execution_count": 20,
     "metadata": {},
     "output_type": "execute_result"
    }
   ],
   "source": [
    "sss.crs == outbreaks.crs"
   ]
  },
  {
   "cell_type": "code",
   "execution_count": 21,
   "metadata": {
    "tags": []
   },
   "outputs": [
    {
     "data": {
      "text/plain": [
       "(151452, 4)"
      ]
     },
     "execution_count": 21,
     "metadata": {},
     "output_type": "execute_result"
    }
   ],
   "source": [
    "sss.shape"
   ]
  },
  {
   "cell_type": "code",
   "execution_count": 22,
   "metadata": {
    "tags": []
   },
   "outputs": [
    {
     "name": "stdout",
     "output_type": "stream",
     "text": [
      "<class 'geopandas.geodataframe.GeoDataFrame'>\n",
      "RangeIndex: 151452 entries, 0 to 151451\n",
      "Data columns (total 4 columns):\n",
      " #   Column    Non-Null Count   Dtype   \n",
      "---  ------    --------------   -----   \n",
      " 0   year      151452 non-null  int64   \n",
      " 1   month     151452 non-null  int64   \n",
      " 2   sss       151452 non-null  float64 \n",
      " 3   geometry  151452 non-null  geometry\n",
      "dtypes: float64(1), geometry(1), int64(2)\n",
      "memory usage: 4.6 MB\n"
     ]
    }
   ],
   "source": [
    "sss.info()"
   ]
  },
  {
   "cell_type": "code",
   "execution_count": 23,
   "metadata": {
    "tags": []
   },
   "outputs": [
    {
     "data": {
      "text/html": [
       "<div>\n",
       "<style scoped>\n",
       "    .dataframe tbody tr th:only-of-type {\n",
       "        vertical-align: middle;\n",
       "    }\n",
       "\n",
       "    .dataframe tbody tr th {\n",
       "        vertical-align: top;\n",
       "    }\n",
       "\n",
       "    .dataframe thead th {\n",
       "        text-align: right;\n",
       "    }\n",
       "</style>\n",
       "<table border=\"1\" class=\"dataframe\">\n",
       "  <thead>\n",
       "    <tr style=\"text-align: right;\">\n",
       "      <th></th>\n",
       "      <th>year</th>\n",
       "      <th>month</th>\n",
       "      <th>sss</th>\n",
       "      <th>geometry</th>\n",
       "    </tr>\n",
       "  </thead>\n",
       "  <tbody>\n",
       "    <tr>\n",
       "      <th>0</th>\n",
       "      <td>2010</td>\n",
       "      <td>1</td>\n",
       "      <td>35.265869</td>\n",
       "      <td>POINT (1638970.593 1499981.689)</td>\n",
       "    </tr>\n",
       "    <tr>\n",
       "      <th>1</th>\n",
       "      <td>2010</td>\n",
       "      <td>2</td>\n",
       "      <td>35.191532</td>\n",
       "      <td>POINT (1638970.593 1499981.689)</td>\n",
       "    </tr>\n",
       "    <tr>\n",
       "      <th>2</th>\n",
       "      <td>2010</td>\n",
       "      <td>3</td>\n",
       "      <td>35.426231</td>\n",
       "      <td>POINT (1638970.593 1499981.689)</td>\n",
       "    </tr>\n",
       "    <tr>\n",
       "      <th>3</th>\n",
       "      <td>2010</td>\n",
       "      <td>4</td>\n",
       "      <td>35.370430</td>\n",
       "      <td>POINT (1638970.593 1499981.689)</td>\n",
       "    </tr>\n",
       "    <tr>\n",
       "      <th>4</th>\n",
       "      <td>2010</td>\n",
       "      <td>5</td>\n",
       "      <td>35.310860</td>\n",
       "      <td>POINT (1638970.593 1499981.689)</td>\n",
       "    </tr>\n",
       "  </tbody>\n",
       "</table>\n",
       "</div>"
      ],
      "text/plain": [
       "   year  month        sss                         geometry\n",
       "0  2010      1  35.265869  POINT (1638970.593 1499981.689)\n",
       "1  2010      2  35.191532  POINT (1638970.593 1499981.689)\n",
       "2  2010      3  35.426231  POINT (1638970.593 1499981.689)\n",
       "3  2010      4  35.370430  POINT (1638970.593 1499981.689)\n",
       "4  2010      5  35.310860  POINT (1638970.593 1499981.689)"
      ]
     },
     "execution_count": 23,
     "metadata": {},
     "output_type": "execute_result"
    }
   ],
   "source": [
    "sss.head()"
   ]
  },
  {
   "cell_type": "code",
   "execution_count": 24,
   "metadata": {
    "tags": []
   },
   "outputs": [],
   "source": [
    "# create a dataframe to store the processed data\n",
    "sss_district_level = pd.DataFrame(columns=['district', 'year', 'month', 'sss', 'sss_1m_l', 'sss_c_1m_l', 'sss_d_1m_l', 'sss_2m_l', 'sss_c_2m_l', 'sss_d_2m_l'])"
   ]
  },
  {
   "cell_type": "code",
   "execution_count": 25,
   "metadata": {
    "tags": []
   },
   "outputs": [
    {
     "name": "stdout",
     "output_type": "stream",
     "text": [
      "Processing 2010...\n",
      "Processing 2011...\n",
      "Processing 2012...\n",
      "Processing 2013...\n",
      "Processing 2014...\n",
      "Processing 2015...\n",
      "Processing 2016...\n",
      "Processing 2017...\n",
      "Processing 2018...\n",
      "CPU times: user 5min 2s, sys: 724 ms, total: 5min 2s\n",
      "Wall time: 5min 2s\n"
     ]
    }
   ],
   "source": [
    "%%time\n",
    "\n",
    "# loop over the desired years, read the data, reproject it to the local crs, process the data and append it to the previously created dataframe\n",
    "for year in years:\n",
    "    print('Processing {}...'.format(year))\n",
    "    sss = gpd.read_file(os.path.join(path, 'monthly_sss_'+str(year)+'.shp'))\n",
    "    sss = sss.to_crs(epsg=7755)\n",
    "    sss_district_level_temp = process_ecv(outbreaks, sss, 'sss')\n",
    "    sss_district_level = sss_district_level.append(sss_district_level_temp)"
   ]
  },
  {
   "cell_type": "markdown",
   "metadata": {},
   "source": [
    "Check out the last file preprocessed to make sure the output is as desired."
   ]
  },
  {
   "cell_type": "code",
   "execution_count": 26,
   "metadata": {
    "tags": []
   },
   "outputs": [
    {
     "data": {
      "text/plain": [
       "(4590, 10)"
      ]
     },
     "execution_count": 26,
     "metadata": {},
     "output_type": "execute_result"
    }
   ],
   "source": [
    "sss_district_level.shape"
   ]
  },
  {
   "cell_type": "code",
   "execution_count": 27,
   "metadata": {
    "tags": []
   },
   "outputs": [
    {
     "name": "stdout",
     "output_type": "stream",
     "text": [
      "<class 'pandas.core.frame.DataFrame'>\n",
      "Int64Index: 4590 entries, 2 to 611\n",
      "Data columns (total 10 columns):\n",
      " #   Column      Non-Null Count  Dtype  \n",
      "---  ------      --------------  -----  \n",
      " 0   district    4590 non-null   object \n",
      " 1   year        4590 non-null   object \n",
      " 2   month       4590 non-null   object \n",
      " 3   sss         4590 non-null   float64\n",
      " 4   sss_1m_l    4590 non-null   float64\n",
      " 5   sss_c_1m_l  4590 non-null   float64\n",
      " 6   sss_d_1m_l  4590 non-null   object \n",
      " 7   sss_2m_l    4590 non-null   float64\n",
      " 8   sss_c_2m_l  4590 non-null   float64\n",
      " 9   sss_d_2m_l  4590 non-null   object \n",
      "dtypes: float64(5), object(5)\n",
      "memory usage: 394.5+ KB\n"
     ]
    }
   ],
   "source": [
    "sss_district_level.info()"
   ]
  },
  {
   "cell_type": "code",
   "execution_count": 28,
   "metadata": {
    "tags": []
   },
   "outputs": [
    {
     "data": {
      "text/html": [
       "<div>\n",
       "<style scoped>\n",
       "    .dataframe tbody tr th:only-of-type {\n",
       "        vertical-align: middle;\n",
       "    }\n",
       "\n",
       "    .dataframe tbody tr th {\n",
       "        vertical-align: top;\n",
       "    }\n",
       "\n",
       "    .dataframe thead th {\n",
       "        text-align: right;\n",
       "    }\n",
       "</style>\n",
       "<table border=\"1\" class=\"dataframe\">\n",
       "  <thead>\n",
       "    <tr style=\"text-align: right;\">\n",
       "      <th></th>\n",
       "      <th>district</th>\n",
       "      <th>year</th>\n",
       "      <th>month</th>\n",
       "      <th>sss</th>\n",
       "      <th>sss_1m_l</th>\n",
       "      <th>sss_c_1m_l</th>\n",
       "      <th>sss_d_1m_l</th>\n",
       "      <th>sss_2m_l</th>\n",
       "      <th>sss_c_2m_l</th>\n",
       "      <th>sss_d_2m_l</th>\n",
       "    </tr>\n",
       "  </thead>\n",
       "  <tbody>\n",
       "    <tr>\n",
       "      <th>2</th>\n",
       "      <td>belgaum</td>\n",
       "      <td>2010</td>\n",
       "      <td>3</td>\n",
       "      <td>34.027400</td>\n",
       "      <td>34.600696</td>\n",
       "      <td>-1.656890</td>\n",
       "      <td>0</td>\n",
       "      <td>35.335807</td>\n",
       "      <td>-3.702779</td>\n",
       "      <td>0</td>\n",
       "    </tr>\n",
       "    <tr>\n",
       "      <th>3</th>\n",
       "      <td>belgaum</td>\n",
       "      <td>2010</td>\n",
       "      <td>4</td>\n",
       "      <td>34.299124</td>\n",
       "      <td>34.027400</td>\n",
       "      <td>0.798544</td>\n",
       "      <td>0</td>\n",
       "      <td>34.600696</td>\n",
       "      <td>-0.871577</td>\n",
       "      <td>0</td>\n",
       "    </tr>\n",
       "    <tr>\n",
       "      <th>4</th>\n",
       "      <td>belgaum</td>\n",
       "      <td>2010</td>\n",
       "      <td>5</td>\n",
       "      <td>34.924089</td>\n",
       "      <td>34.299124</td>\n",
       "      <td>1.822104</td>\n",
       "      <td>1</td>\n",
       "      <td>34.027400</td>\n",
       "      <td>2.635198</td>\n",
       "      <td>1</td>\n",
       "    </tr>\n",
       "    <tr>\n",
       "      <th>5</th>\n",
       "      <td>belgaum</td>\n",
       "      <td>2010</td>\n",
       "      <td>6</td>\n",
       "      <td>35.246572</td>\n",
       "      <td>34.924089</td>\n",
       "      <td>0.923383</td>\n",
       "      <td>0</td>\n",
       "      <td>34.299124</td>\n",
       "      <td>2.762312</td>\n",
       "      <td>1</td>\n",
       "    </tr>\n",
       "    <tr>\n",
       "      <th>6</th>\n",
       "      <td>belgaum</td>\n",
       "      <td>2010</td>\n",
       "      <td>7</td>\n",
       "      <td>35.282390</td>\n",
       "      <td>35.246572</td>\n",
       "      <td>0.101619</td>\n",
       "      <td>0</td>\n",
       "      <td>34.924089</td>\n",
       "      <td>1.025940</td>\n",
       "      <td>1</td>\n",
       "    </tr>\n",
       "  </tbody>\n",
       "</table>\n",
       "</div>"
      ],
      "text/plain": [
       "  district  year month        sss   sss_1m_l  sss_c_1m_l sss_d_1m_l  \\\n",
       "2  belgaum  2010     3  34.027400  34.600696   -1.656890          0   \n",
       "3  belgaum  2010     4  34.299124  34.027400    0.798544          0   \n",
       "4  belgaum  2010     5  34.924089  34.299124    1.822104          1   \n",
       "5  belgaum  2010     6  35.246572  34.924089    0.923383          0   \n",
       "6  belgaum  2010     7  35.282390  35.246572    0.101619          0   \n",
       "\n",
       "    sss_2m_l  sss_c_2m_l sss_d_2m_l  \n",
       "2  35.335807   -3.702779          0  \n",
       "3  34.600696   -0.871577          0  \n",
       "4  34.027400    2.635198          1  \n",
       "5  34.299124    2.762312          1  \n",
       "6  34.924089    1.025940          1  "
      ]
     },
     "execution_count": 28,
     "metadata": {},
     "output_type": "execute_result"
    }
   ],
   "source": [
    "sss_district_level.head()"
   ]
  },
  {
   "cell_type": "code",
   "execution_count": 29,
   "metadata": {
    "tags": []
   },
   "outputs": [
    {
     "data": {
      "text/plain": [
       "580"
      ]
     },
     "execution_count": 29,
     "metadata": {},
     "output_type": "execute_result"
    }
   ],
   "source": [
    "# free memory\n",
    "del [sss, sss_district_level_temp]\n",
    "gc.collect()"
   ]
  },
  {
   "cell_type": "markdown",
   "metadata": {},
   "source": [
    "### Chlorophyll-a concentration"
   ]
  },
  {
   "cell_type": "markdown",
   "metadata": {},
   "source": [
    "First we load the data and explore it."
   ]
  },
  {
   "cell_type": "code",
   "execution_count": 30,
   "metadata": {},
   "outputs": [],
   "source": [
    "path = '../data/chlorophyll_a_concentration'"
   ]
  },
  {
   "cell_type": "code",
   "execution_count": 31,
   "metadata": {},
   "outputs": [],
   "source": [
    "file = 'monthly_chlora_'+str(years[0])+'.shp'"
   ]
  },
  {
   "cell_type": "code",
   "execution_count": 32,
   "metadata": {},
   "outputs": [],
   "source": [
    "chlora = gpd.read_file(os.path.join(path, file))"
   ]
  },
  {
   "cell_type": "markdown",
   "metadata": {},
   "source": [
    "The CRS of outbreaks and chlorophyll-a concentration need to match."
   ]
  },
  {
   "cell_type": "code",
   "execution_count": 33,
   "metadata": {},
   "outputs": [
    {
     "data": {
      "text/plain": [
       "False"
      ]
     },
     "execution_count": 33,
     "metadata": {},
     "output_type": "execute_result"
    }
   ],
   "source": [
    "chlora.crs == outbreaks.crs"
   ]
  },
  {
   "cell_type": "code",
   "execution_count": 34,
   "metadata": {},
   "outputs": [],
   "source": [
    "chlora = chlora.to_crs(epsg=7755)"
   ]
  },
  {
   "cell_type": "code",
   "execution_count": 35,
   "metadata": {
    "scrolled": true
   },
   "outputs": [
    {
     "data": {
      "text/plain": [
       "True"
      ]
     },
     "execution_count": 35,
     "metadata": {},
     "output_type": "execute_result"
    }
   ],
   "source": [
    "chlora.crs == outbreaks.crs"
   ]
  },
  {
   "cell_type": "code",
   "execution_count": 36,
   "metadata": {},
   "outputs": [
    {
     "data": {
      "text/plain": [
       "(4933904, 4)"
      ]
     },
     "execution_count": 36,
     "metadata": {},
     "output_type": "execute_result"
    }
   ],
   "source": [
    "chlora.shape"
   ]
  },
  {
   "cell_type": "code",
   "execution_count": 37,
   "metadata": {},
   "outputs": [
    {
     "name": "stdout",
     "output_type": "stream",
     "text": [
      "<class 'geopandas.geodataframe.GeoDataFrame'>\n",
      "RangeIndex: 4933904 entries, 0 to 4933903\n",
      "Data columns (total 4 columns):\n",
      " #   Column    Dtype   \n",
      "---  ------    -----   \n",
      " 0   year      int64   \n",
      " 1   month     int64   \n",
      " 2   chlora    float64 \n",
      " 3   geometry  geometry\n",
      "dtypes: float64(1), geometry(1), int64(2)\n",
      "memory usage: 150.6 MB\n"
     ]
    }
   ],
   "source": [
    "chlora.info()"
   ]
  },
  {
   "cell_type": "code",
   "execution_count": 38,
   "metadata": {},
   "outputs": [
    {
     "data": {
      "text/html": [
       "<div>\n",
       "<style scoped>\n",
       "    .dataframe tbody tr th:only-of-type {\n",
       "        vertical-align: middle;\n",
       "    }\n",
       "\n",
       "    .dataframe tbody tr th {\n",
       "        vertical-align: top;\n",
       "    }\n",
       "\n",
       "    .dataframe thead th {\n",
       "        text-align: right;\n",
       "    }\n",
       "</style>\n",
       "<table border=\"1\" class=\"dataframe\">\n",
       "  <thead>\n",
       "    <tr style=\"text-align: right;\">\n",
       "      <th></th>\n",
       "      <th>year</th>\n",
       "      <th>month</th>\n",
       "      <th>chlora</th>\n",
       "      <th>geometry</th>\n",
       "    </tr>\n",
       "  </thead>\n",
       "  <tbody>\n",
       "    <tr>\n",
       "      <th>0</th>\n",
       "      <td>2010</td>\n",
       "      <td>1</td>\n",
       "      <td>-2.034988</td>\n",
       "      <td>POINT (1635051.143 1491337.847)</td>\n",
       "    </tr>\n",
       "    <tr>\n",
       "      <th>1</th>\n",
       "      <td>2010</td>\n",
       "      <td>2</td>\n",
       "      <td>-1.678654</td>\n",
       "      <td>POINT (1635051.143 1491337.847)</td>\n",
       "    </tr>\n",
       "    <tr>\n",
       "      <th>2</th>\n",
       "      <td>2010</td>\n",
       "      <td>3</td>\n",
       "      <td>-1.910417</td>\n",
       "      <td>POINT (1635051.143 1491337.847)</td>\n",
       "    </tr>\n",
       "    <tr>\n",
       "      <th>3</th>\n",
       "      <td>2010</td>\n",
       "      <td>4</td>\n",
       "      <td>-2.278393</td>\n",
       "      <td>POINT (1635051.143 1491337.847)</td>\n",
       "    </tr>\n",
       "    <tr>\n",
       "      <th>4</th>\n",
       "      <td>2010</td>\n",
       "      <td>5</td>\n",
       "      <td>-2.353248</td>\n",
       "      <td>POINT (1635051.143 1491337.847)</td>\n",
       "    </tr>\n",
       "  </tbody>\n",
       "</table>\n",
       "</div>"
      ],
      "text/plain": [
       "   year  month    chlora                         geometry\n",
       "0  2010      1 -2.034988  POINT (1635051.143 1491337.847)\n",
       "1  2010      2 -1.678654  POINT (1635051.143 1491337.847)\n",
       "2  2010      3 -1.910417  POINT (1635051.143 1491337.847)\n",
       "3  2010      4 -2.278393  POINT (1635051.143 1491337.847)\n",
       "4  2010      5 -2.353248  POINT (1635051.143 1491337.847)"
      ]
     },
     "execution_count": 38,
     "metadata": {},
     "output_type": "execute_result"
    }
   ],
   "source": [
    "chlora.head()"
   ]
  },
  {
   "cell_type": "code",
   "execution_count": 39,
   "metadata": {},
   "outputs": [],
   "source": [
    "# create a dataframe to store the processed data\n",
    "chlora_district_level = pd.DataFrame(columns=['district', 'year', 'month', 'chlora', 'chlora_1m_l', 'chlora_c_1m_l', 'chlora_d_1m_l', 'chlora_2m_l', 'chlora_c_2m_l', 'chlora_d_2m_l'])"
   ]
  },
  {
   "cell_type": "code",
   "execution_count": 40,
   "metadata": {},
   "outputs": [
    {
     "name": "stdout",
     "output_type": "stream",
     "text": [
      "Processing 2010...\n",
      "Processing 2011...\n",
      "Processing 2012...\n",
      "Processing 2013...\n",
      "Processing 2014...\n",
      "Processing 2015...\n",
      "Processing 2016...\n",
      "Processing 2017...\n",
      "Processing 2018...\n",
      "CPU times: user 2h 25min 12s, sys: 34.8 s, total: 2h 25min 47s\n",
      "Wall time: 2h 25min 51s\n"
     ]
    }
   ],
   "source": [
    "%%time\n",
    "\n",
    "# loop over the desired years, read the data, reproject it to the local crs, process the data and append it to the previously created dataframe\n",
    "for year in years:\n",
    "    print('Processing {}...'.format(year))\n",
    "    chlora = gpd.read_file(os.path.join(path, 'monthly_chlora_'+str(year)+'.shp'))\n",
    "    chlora = chlora.to_crs(epsg=7755)\n",
    "    chlora_district_level_temp = process_ecv(outbreaks, chlora, 'chlora')\n",
    "    chlora_district_level = chlora_district_level.append(chlora_district_level_temp)"
   ]
  },
  {
   "cell_type": "markdown",
   "metadata": {},
   "source": [
    "Check out the last file preprocessed to make sure the output is as desired."
   ]
  },
  {
   "cell_type": "code",
   "execution_count": 41,
   "metadata": {},
   "outputs": [
    {
     "data": {
      "text/plain": [
       "(6015, 10)"
      ]
     },
     "execution_count": 41,
     "metadata": {},
     "output_type": "execute_result"
    }
   ],
   "source": [
    "chlora_district_level.shape"
   ]
  },
  {
   "cell_type": "code",
   "execution_count": 42,
   "metadata": {},
   "outputs": [
    {
     "name": "stdout",
     "output_type": "stream",
     "text": [
      "<class 'pandas.core.frame.DataFrame'>\n",
      "Int64Index: 6015 entries, 2 to 770\n",
      "Data columns (total 10 columns):\n",
      " #   Column         Non-Null Count  Dtype  \n",
      "---  ------         --------------  -----  \n",
      " 0   district       6015 non-null   object \n",
      " 1   year           6015 non-null   object \n",
      " 2   month          6015 non-null   object \n",
      " 3   chlora         6015 non-null   float64\n",
      " 4   chlora_1m_l    6015 non-null   float64\n",
      " 5   chlora_c_1m_l  6015 non-null   float64\n",
      " 6   chlora_d_1m_l  6015 non-null   object \n",
      " 7   chlora_2m_l    6015 non-null   float64\n",
      " 8   chlora_c_2m_l  6015 non-null   float64\n",
      " 9   chlora_d_2m_l  6015 non-null   object \n",
      "dtypes: float64(5), object(5)\n",
      "memory usage: 516.9+ KB\n"
     ]
    }
   ],
   "source": [
    "chlora_district_level.info()"
   ]
  },
  {
   "cell_type": "code",
   "execution_count": 43,
   "metadata": {},
   "outputs": [
    {
     "data": {
      "text/html": [
       "<div>\n",
       "<style scoped>\n",
       "    .dataframe tbody tr th:only-of-type {\n",
       "        vertical-align: middle;\n",
       "    }\n",
       "\n",
       "    .dataframe tbody tr th {\n",
       "        vertical-align: top;\n",
       "    }\n",
       "\n",
       "    .dataframe thead th {\n",
       "        text-align: right;\n",
       "    }\n",
       "</style>\n",
       "<table border=\"1\" class=\"dataframe\">\n",
       "  <thead>\n",
       "    <tr style=\"text-align: right;\">\n",
       "      <th></th>\n",
       "      <th>district</th>\n",
       "      <th>year</th>\n",
       "      <th>month</th>\n",
       "      <th>chlora</th>\n",
       "      <th>chlora_1m_l</th>\n",
       "      <th>chlora_c_1m_l</th>\n",
       "      <th>chlora_d_1m_l</th>\n",
       "      <th>chlora_2m_l</th>\n",
       "      <th>chlora_c_2m_l</th>\n",
       "      <th>chlora_d_2m_l</th>\n",
       "    </tr>\n",
       "  </thead>\n",
       "  <tbody>\n",
       "    <tr>\n",
       "      <th>2</th>\n",
       "      <td>ahmadabad</td>\n",
       "      <td>2010</td>\n",
       "      <td>3</td>\n",
       "      <td>2.260830</td>\n",
       "      <td>2.251449</td>\n",
       "      <td>0.416650</td>\n",
       "      <td>0</td>\n",
       "      <td>2.406572</td>\n",
       "      <td>-6.056006</td>\n",
       "      <td>0</td>\n",
       "    </tr>\n",
       "    <tr>\n",
       "      <th>3</th>\n",
       "      <td>ahmadabad</td>\n",
       "      <td>2010</td>\n",
       "      <td>4</td>\n",
       "      <td>2.274136</td>\n",
       "      <td>2.260830</td>\n",
       "      <td>0.588551</td>\n",
       "      <td>0</td>\n",
       "      <td>2.251449</td>\n",
       "      <td>1.007654</td>\n",
       "      <td>1</td>\n",
       "    </tr>\n",
       "    <tr>\n",
       "      <th>4</th>\n",
       "      <td>ahmadabad</td>\n",
       "      <td>2010</td>\n",
       "      <td>5</td>\n",
       "      <td>2.110336</td>\n",
       "      <td>2.274136</td>\n",
       "      <td>-7.202706</td>\n",
       "      <td>0</td>\n",
       "      <td>2.260830</td>\n",
       "      <td>-6.656546</td>\n",
       "      <td>0</td>\n",
       "    </tr>\n",
       "    <tr>\n",
       "      <th>5</th>\n",
       "      <td>ahmadabad</td>\n",
       "      <td>2010</td>\n",
       "      <td>6</td>\n",
       "      <td>2.239608</td>\n",
       "      <td>2.110336</td>\n",
       "      <td>6.125648</td>\n",
       "      <td>1</td>\n",
       "      <td>2.274136</td>\n",
       "      <td>-1.518270</td>\n",
       "      <td>0</td>\n",
       "    </tr>\n",
       "    <tr>\n",
       "      <th>6</th>\n",
       "      <td>ahmadabad</td>\n",
       "      <td>2010</td>\n",
       "      <td>7</td>\n",
       "      <td>2.183196</td>\n",
       "      <td>2.239608</td>\n",
       "      <td>-2.518839</td>\n",
       "      <td>0</td>\n",
       "      <td>2.110336</td>\n",
       "      <td>3.452514</td>\n",
       "      <td>1</td>\n",
       "    </tr>\n",
       "  </tbody>\n",
       "</table>\n",
       "</div>"
      ],
      "text/plain": [
       "    district  year month    chlora  chlora_1m_l  chlora_c_1m_l chlora_d_1m_l  \\\n",
       "2  ahmadabad  2010     3  2.260830     2.251449       0.416650             0   \n",
       "3  ahmadabad  2010     4  2.274136     2.260830       0.588551             0   \n",
       "4  ahmadabad  2010     5  2.110336     2.274136      -7.202706             0   \n",
       "5  ahmadabad  2010     6  2.239608     2.110336       6.125648             1   \n",
       "6  ahmadabad  2010     7  2.183196     2.239608      -2.518839             0   \n",
       "\n",
       "   chlora_2m_l  chlora_c_2m_l chlora_d_2m_l  \n",
       "2     2.406572      -6.056006             0  \n",
       "3     2.251449       1.007654             1  \n",
       "4     2.260830      -6.656546             0  \n",
       "5     2.274136      -1.518270             0  \n",
       "6     2.110336       3.452514             1  "
      ]
     },
     "execution_count": 43,
     "metadata": {},
     "output_type": "execute_result"
    }
   ],
   "source": [
    "chlora_district_level.head()"
   ]
  },
  {
   "cell_type": "code",
   "execution_count": 44,
   "metadata": {},
   "outputs": [
    {
     "data": {
      "text/plain": [
       "751"
      ]
     },
     "execution_count": 44,
     "metadata": {},
     "output_type": "execute_result"
    }
   ],
   "source": [
    "# free memory\n",
    "del [chlora, chlora_district_level_temp]\n",
    "gc.collect()"
   ]
  },
  {
   "cell_type": "markdown",
   "metadata": {},
   "source": [
    "### Land surface temperature"
   ]
  },
  {
   "cell_type": "markdown",
   "metadata": {},
   "source": [
    "First we load the data and explore it."
   ]
  },
  {
   "cell_type": "code",
   "execution_count": 45,
   "metadata": {},
   "outputs": [],
   "source": [
    "path = '../data/land_surface_temperature'"
   ]
  },
  {
   "cell_type": "code",
   "execution_count": 46,
   "metadata": {},
   "outputs": [],
   "source": [
    "file = 'monthly_lst_'+str(years[0])+'.shp'"
   ]
  },
  {
   "cell_type": "code",
   "execution_count": 47,
   "metadata": {},
   "outputs": [],
   "source": [
    "lst = gpd.read_file(os.path.join(path, file))"
   ]
  },
  {
   "cell_type": "markdown",
   "metadata": {},
   "source": [
    "The CRS of outbreaks and land surface temperature need to match."
   ]
  },
  {
   "cell_type": "code",
   "execution_count": 48,
   "metadata": {
    "scrolled": true
   },
   "outputs": [
    {
     "data": {
      "text/plain": [
       "False"
      ]
     },
     "execution_count": 48,
     "metadata": {},
     "output_type": "execute_result"
    }
   ],
   "source": [
    "lst.crs == outbreaks.crs"
   ]
  },
  {
   "cell_type": "code",
   "execution_count": 49,
   "metadata": {},
   "outputs": [],
   "source": [
    "lst = lst.to_crs(epsg=7755)"
   ]
  },
  {
   "cell_type": "code",
   "execution_count": 50,
   "metadata": {
    "scrolled": true
   },
   "outputs": [
    {
     "data": {
      "text/plain": [
       "True"
      ]
     },
     "execution_count": 50,
     "metadata": {},
     "output_type": "execute_result"
    }
   ],
   "source": [
    "lst.crs == outbreaks.crs"
   ]
  },
  {
   "cell_type": "code",
   "execution_count": 51,
   "metadata": {},
   "outputs": [
    {
     "data": {
      "text/plain": [
       "(3364371, 4)"
      ]
     },
     "execution_count": 51,
     "metadata": {},
     "output_type": "execute_result"
    }
   ],
   "source": [
    "lst.shape"
   ]
  },
  {
   "cell_type": "code",
   "execution_count": 52,
   "metadata": {},
   "outputs": [
    {
     "name": "stdout",
     "output_type": "stream",
     "text": [
      "<class 'geopandas.geodataframe.GeoDataFrame'>\n",
      "RangeIndex: 3364371 entries, 0 to 3364370\n",
      "Data columns (total 4 columns):\n",
      " #   Column    Dtype   \n",
      "---  ------    -----   \n",
      " 0   year      int64   \n",
      " 1   month     int64   \n",
      " 2   lst       float64 \n",
      " 3   geometry  geometry\n",
      "dtypes: float64(1), geometry(1), int64(2)\n",
      "memory usage: 102.7 MB\n"
     ]
    }
   ],
   "source": [
    "lst.info()"
   ]
  },
  {
   "cell_type": "code",
   "execution_count": 53,
   "metadata": {},
   "outputs": [
    {
     "data": {
      "text/html": [
       "<div>\n",
       "<style scoped>\n",
       "    .dataframe tbody tr th:only-of-type {\n",
       "        vertical-align: middle;\n",
       "    }\n",
       "\n",
       "    .dataframe tbody tr th {\n",
       "        vertical-align: top;\n",
       "    }\n",
       "\n",
       "    .dataframe thead th {\n",
       "        text-align: right;\n",
       "    }\n",
       "</style>\n",
       "<table border=\"1\" class=\"dataframe\">\n",
       "  <thead>\n",
       "    <tr style=\"text-align: right;\">\n",
       "      <th></th>\n",
       "      <th>year</th>\n",
       "      <th>month</th>\n",
       "      <th>lst</th>\n",
       "      <th>geometry</th>\n",
       "    </tr>\n",
       "  </thead>\n",
       "  <tbody>\n",
       "    <tr>\n",
       "      <th>0</th>\n",
       "      <td>2010</td>\n",
       "      <td>3</td>\n",
       "      <td>298.179993</td>\n",
       "      <td>POINT (6105450.505 1456856.677)</td>\n",
       "    </tr>\n",
       "    <tr>\n",
       "      <th>1</th>\n",
       "      <td>2010</td>\n",
       "      <td>4</td>\n",
       "      <td>263.160004</td>\n",
       "      <td>POINT (6105450.505 1456856.677)</td>\n",
       "    </tr>\n",
       "    <tr>\n",
       "      <th>2</th>\n",
       "      <td>2010</td>\n",
       "      <td>7</td>\n",
       "      <td>292.839996</td>\n",
       "      <td>POINT (6105450.505 1456856.677)</td>\n",
       "    </tr>\n",
       "    <tr>\n",
       "      <th>3</th>\n",
       "      <td>2010</td>\n",
       "      <td>8</td>\n",
       "      <td>281.899994</td>\n",
       "      <td>POINT (6105450.505 1456856.677)</td>\n",
       "    </tr>\n",
       "    <tr>\n",
       "      <th>4</th>\n",
       "      <td>2010</td>\n",
       "      <td>11</td>\n",
       "      <td>251.569992</td>\n",
       "      <td>POINT (6105450.505 1456856.677)</td>\n",
       "    </tr>\n",
       "  </tbody>\n",
       "</table>\n",
       "</div>"
      ],
      "text/plain": [
       "   year  month         lst                         geometry\n",
       "0  2010      3  298.179993  POINT (6105450.505 1456856.677)\n",
       "1  2010      4  263.160004  POINT (6105450.505 1456856.677)\n",
       "2  2010      7  292.839996  POINT (6105450.505 1456856.677)\n",
       "3  2010      8  281.899994  POINT (6105450.505 1456856.677)\n",
       "4  2010     11  251.569992  POINT (6105450.505 1456856.677)"
      ]
     },
     "execution_count": 53,
     "metadata": {},
     "output_type": "execute_result"
    }
   ],
   "source": [
    "lst.head()"
   ]
  },
  {
   "cell_type": "code",
   "execution_count": 54,
   "metadata": {},
   "outputs": [],
   "source": [
    "# create a dataframe to store the processed data\n",
    "lst_district_level = pd.DataFrame(columns=['district', 'year', 'month', 'lst', 'lst_1m_l', 'lst_c_1m_l', 'lst_d_1m_l', 'lst_2m_l', 'lst_c_2m_l', 'lst_d_2m_l'])"
   ]
  },
  {
   "cell_type": "code",
   "execution_count": 55,
   "metadata": {},
   "outputs": [
    {
     "name": "stdout",
     "output_type": "stream",
     "text": [
      "Processing 2010...\n",
      "Processing 2011...\n",
      "Processing 2012...\n",
      "Processing 2013...\n",
      "Processing 2014...\n",
      "Processing 2015...\n",
      "Processing 2016...\n",
      "Processing 2017...\n",
      "Processing 2018...\n",
      "CPU times: user 2h 10min 4s, sys: 53.5 s, total: 2h 10min 57s\n",
      "Wall time: 2h 11min\n"
     ]
    }
   ],
   "source": [
    "%%time\n",
    "\n",
    "# loop over the desired years, read the data, reproject it to the local crs, process the data and append it to the previously created dataframe\n",
    "for year in years:\n",
    "    print('Processing {}...'.format(year))\n",
    "    lst = gpd.read_file(os.path.join(path, 'monthly_lst_'+str(year)+'.shp'))\n",
    "    lst = lst.to_crs(epsg=7755)\n",
    "    lst_district_level_temp = process_ecv(outbreaks, lst, 'lst')\n",
    "    lst_district_level = lst_district_level.append(lst_district_level_temp)"
   ]
  },
  {
   "cell_type": "markdown",
   "metadata": {},
   "source": [
    "Check out the last file preprocessed to make sure the output is as desired."
   ]
  },
  {
   "cell_type": "code",
   "execution_count": 56,
   "metadata": {},
   "outputs": [
    {
     "data": {
      "text/plain": [
       "(15587, 10)"
      ]
     },
     "execution_count": 56,
     "metadata": {},
     "output_type": "execute_result"
    }
   ],
   "source": [
    "lst_district_level.shape"
   ]
  },
  {
   "cell_type": "code",
   "execution_count": 57,
   "metadata": {},
   "outputs": [
    {
     "name": "stdout",
     "output_type": "stream",
     "text": [
      "<class 'pandas.core.frame.DataFrame'>\n",
      "Int64Index: 15587 entries, 2 to 2093\n",
      "Data columns (total 10 columns):\n",
      " #   Column      Non-Null Count  Dtype  \n",
      "---  ------      --------------  -----  \n",
      " 0   district    15587 non-null  object \n",
      " 1   year        15587 non-null  object \n",
      " 2   month       15587 non-null  object \n",
      " 3   lst         15587 non-null  float64\n",
      " 4   lst_1m_l    15587 non-null  float64\n",
      " 5   lst_c_1m_l  15587 non-null  float64\n",
      " 6   lst_d_1m_l  15587 non-null  object \n",
      " 7   lst_2m_l    15587 non-null  float64\n",
      " 8   lst_c_2m_l  15587 non-null  float64\n",
      " 9   lst_d_2m_l  15587 non-null  object \n",
      "dtypes: float64(5), object(5)\n",
      "memory usage: 1.3+ MB\n"
     ]
    }
   ],
   "source": [
    "lst_district_level.info()"
   ]
  },
  {
   "cell_type": "code",
   "execution_count": 58,
   "metadata": {},
   "outputs": [
    {
     "data": {
      "text/html": [
       "<div>\n",
       "<style scoped>\n",
       "    .dataframe tbody tr th:only-of-type {\n",
       "        vertical-align: middle;\n",
       "    }\n",
       "\n",
       "    .dataframe tbody tr th {\n",
       "        vertical-align: top;\n",
       "    }\n",
       "\n",
       "    .dataframe thead th {\n",
       "        text-align: right;\n",
       "    }\n",
       "</style>\n",
       "<table border=\"1\" class=\"dataframe\">\n",
       "  <thead>\n",
       "    <tr style=\"text-align: right;\">\n",
       "      <th></th>\n",
       "      <th>district</th>\n",
       "      <th>year</th>\n",
       "      <th>month</th>\n",
       "      <th>lst</th>\n",
       "      <th>lst_1m_l</th>\n",
       "      <th>lst_c_1m_l</th>\n",
       "      <th>lst_d_1m_l</th>\n",
       "      <th>lst_2m_l</th>\n",
       "      <th>lst_c_2m_l</th>\n",
       "      <th>lst_d_2m_l</th>\n",
       "    </tr>\n",
       "  </thead>\n",
       "  <tbody>\n",
       "    <tr>\n",
       "      <th>2</th>\n",
       "      <td>ahmadabad</td>\n",
       "      <td>2010</td>\n",
       "      <td>3</td>\n",
       "      <td>325.963631</td>\n",
       "      <td>318.111811</td>\n",
       "      <td>2.468258</td>\n",
       "      <td>1</td>\n",
       "      <td>313.017665</td>\n",
       "      <td>4.135858</td>\n",
       "      <td>1</td>\n",
       "    </tr>\n",
       "    <tr>\n",
       "      <th>3</th>\n",
       "      <td>ahmadabad</td>\n",
       "      <td>2010</td>\n",
       "      <td>4</td>\n",
       "      <td>329.984802</td>\n",
       "      <td>325.963631</td>\n",
       "      <td>1.233626</td>\n",
       "      <td>1</td>\n",
       "      <td>318.111811</td>\n",
       "      <td>3.732333</td>\n",
       "      <td>1</td>\n",
       "    </tr>\n",
       "    <tr>\n",
       "      <th>4</th>\n",
       "      <td>ahmadabad</td>\n",
       "      <td>2010</td>\n",
       "      <td>5</td>\n",
       "      <td>334.093161</td>\n",
       "      <td>329.984802</td>\n",
       "      <td>1.245015</td>\n",
       "      <td>1</td>\n",
       "      <td>325.963631</td>\n",
       "      <td>2.493999</td>\n",
       "      <td>1</td>\n",
       "    </tr>\n",
       "    <tr>\n",
       "      <th>5</th>\n",
       "      <td>ahmadabad</td>\n",
       "      <td>2010</td>\n",
       "      <td>6</td>\n",
       "      <td>329.799811</td>\n",
       "      <td>334.093161</td>\n",
       "      <td>-1.285076</td>\n",
       "      <td>0</td>\n",
       "      <td>329.984802</td>\n",
       "      <td>-0.056061</td>\n",
       "      <td>0</td>\n",
       "    </tr>\n",
       "    <tr>\n",
       "      <th>6</th>\n",
       "      <td>ahmadabad</td>\n",
       "      <td>2010</td>\n",
       "      <td>7</td>\n",
       "      <td>275.639148</td>\n",
       "      <td>329.799811</td>\n",
       "      <td>-16.422284</td>\n",
       "      <td>0</td>\n",
       "      <td>334.093161</td>\n",
       "      <td>-17.496321</td>\n",
       "      <td>0</td>\n",
       "    </tr>\n",
       "  </tbody>\n",
       "</table>\n",
       "</div>"
      ],
      "text/plain": [
       "    district  year month         lst    lst_1m_l  lst_c_1m_l lst_d_1m_l  \\\n",
       "2  ahmadabad  2010     3  325.963631  318.111811    2.468258          1   \n",
       "3  ahmadabad  2010     4  329.984802  325.963631    1.233626          1   \n",
       "4  ahmadabad  2010     5  334.093161  329.984802    1.245015          1   \n",
       "5  ahmadabad  2010     6  329.799811  334.093161   -1.285076          0   \n",
       "6  ahmadabad  2010     7  275.639148  329.799811  -16.422284          0   \n",
       "\n",
       "     lst_2m_l  lst_c_2m_l lst_d_2m_l  \n",
       "2  313.017665    4.135858          1  \n",
       "3  318.111811    3.732333          1  \n",
       "4  325.963631    2.493999          1  \n",
       "5  329.984802   -0.056061          0  \n",
       "6  334.093161  -17.496321          0  "
      ]
     },
     "execution_count": 58,
     "metadata": {},
     "output_type": "execute_result"
    }
   ],
   "source": [
    "lst_district_level.head()"
   ]
  },
  {
   "cell_type": "code",
   "execution_count": 59,
   "metadata": {},
   "outputs": [
    {
     "data": {
      "text/plain": [
       "473"
      ]
     },
     "execution_count": 59,
     "metadata": {},
     "output_type": "execute_result"
    }
   ],
   "source": [
    "# free memory\n",
    "del [lst, lst_district_level_temp]\n",
    "gc.collect()"
   ]
  },
  {
   "cell_type": "markdown",
   "metadata": {},
   "source": [
    "## Merge features and target"
   ]
  },
  {
   "cell_type": "markdown",
   "metadata": {},
   "source": [
    "Next, we merge districts and ECV data."
   ]
  },
  {
   "cell_type": "code",
   "execution_count": 124,
   "metadata": {},
   "outputs": [],
   "source": [
    "path = '../data/cholera_outbreaks'"
   ]
  },
  {
   "cell_type": "code",
   "execution_count": 125,
   "metadata": {},
   "outputs": [],
   "source": [
    "file = 'monthly_cholera_outbreaks_per_district_2010_2018.shp'"
   ]
  },
  {
   "cell_type": "code",
   "execution_count": 126,
   "metadata": {
    "tags": []
   },
   "outputs": [
    {
     "data": {
      "text/plain": [
       "(178, 3)"
      ]
     },
     "execution_count": 126,
     "metadata": {},
     "output_type": "execute_result"
    }
   ],
   "source": [
    "# check the number of distinct districts and their original, unbuffered geometries\n",
    "distinct_districts = gpd.read_file(os.path.join(path, file))\n",
    "distinct_districts = distinct_districts[['state', 'district', 'geometry']].drop_duplicates()\n",
    "distinct_districts.shape"
   ]
  },
  {
   "cell_type": "code",
   "execution_count": 127,
   "metadata": {
    "tags": []
   },
   "outputs": [
    {
     "data": {
      "text/plain": [
       "(4590, 12)"
      ]
     },
     "execution_count": 127,
     "metadata": {},
     "output_type": "execute_result"
    }
   ],
   "source": [
    "# merge distinct districts and geometries with sea surface salinity\n",
    "train_test_sss = pd.merge(distinct_districts, sss_district_level, how='inner', on='district')\n",
    "train_test_sss.shape"
   ]
  },
  {
   "cell_type": "code",
   "execution_count": 128,
   "metadata": {},
   "outputs": [
    {
     "data": {
      "text/plain": [
       "(6015, 12)"
      ]
     },
     "execution_count": 128,
     "metadata": {},
     "output_type": "execute_result"
    }
   ],
   "source": [
    "# merge distinct districts and geometries with chlorophyll-a concentration\n",
    "train_test_chlora = pd.merge(distinct_districts, chlora_district_level, how='inner', on='district')\n",
    "train_test_chlora.shape"
   ]
  },
  {
   "cell_type": "code",
   "execution_count": 129,
   "metadata": {},
   "outputs": [
    {
     "data": {
      "text/plain": [
       "(15587, 12)"
      ]
     },
     "execution_count": 129,
     "metadata": {},
     "output_type": "execute_result"
    }
   ],
   "source": [
    "# merge distinct districts and geometries with land surface temperature\n",
    "train_test_lst = pd.merge(distinct_districts, lst_district_level, how='inner', on='district')\n",
    "train_test_lst.shape"
   ]
  },
  {
   "cell_type": "code",
   "execution_count": 131,
   "metadata": {
    "tags": []
   },
   "outputs": [],
   "source": [
    "# merge ecv data and outbreaks on district, year and month\n",
    "train_test = pd.merge(train_test_sss, train_test_chlora.drop(['state', 'geometry'], axis=1), how='inner', on=['district', 'year', 'month'])\n",
    "train_test = pd.merge(train_test, train_test_lst.drop(['state', 'geometry'], axis=1), how='inner', on=['district', 'year', 'month'])\n",
    "train_test = pd.merge(train_test, outbreaks[['district', 'year', 'month', 'outbreak']], how='left', on=['district', 'year', 'month']).reset_index(drop=True)"
   ]
  },
  {
   "cell_type": "code",
   "execution_count": 132,
   "metadata": {},
   "outputs": [
    {
     "data": {
      "text/plain": [
       "(4325, 27)"
      ]
     },
     "execution_count": 132,
     "metadata": {},
     "output_type": "execute_result"
    }
   ],
   "source": [
    "train_test.shape"
   ]
  },
  {
   "cell_type": "code",
   "execution_count": 133,
   "metadata": {},
   "outputs": [
    {
     "name": "stdout",
     "output_type": "stream",
     "text": [
      "<class 'geopandas.geodataframe.GeoDataFrame'>\n",
      "RangeIndex: 4325 entries, 0 to 4324\n",
      "Data columns (total 27 columns):\n",
      " #   Column         Non-Null Count  Dtype   \n",
      "---  ------         --------------  -----   \n",
      " 0   state          4325 non-null   object  \n",
      " 1   district       4325 non-null   object  \n",
      " 2   geometry       4325 non-null   geometry\n",
      " 3   year           4325 non-null   object  \n",
      " 4   month          4325 non-null   object  \n",
      " 5   sss            4325 non-null   float64 \n",
      " 6   sss_1m_l       4325 non-null   float64 \n",
      " 7   sss_c_1m_l     4325 non-null   float64 \n",
      " 8   sss_d_1m_l     4325 non-null   object  \n",
      " 9   sss_2m_l       4325 non-null   float64 \n",
      " 10  sss_c_2m_l     4325 non-null   float64 \n",
      " 11  sss_d_2m_l     4325 non-null   object  \n",
      " 12  chlora         4325 non-null   float64 \n",
      " 13  chlora_1m_l    4325 non-null   float64 \n",
      " 14  chlora_c_1m_l  4325 non-null   float64 \n",
      " 15  chlora_d_1m_l  4325 non-null   object  \n",
      " 16  chlora_2m_l    4325 non-null   float64 \n",
      " 17  chlora_c_2m_l  4325 non-null   float64 \n",
      " 18  chlora_d_2m_l  4325 non-null   object  \n",
      " 19  lst            4325 non-null   float64 \n",
      " 20  lst_1m_l       4325 non-null   float64 \n",
      " 21  lst_c_1m_l     4325 non-null   float64 \n",
      " 22  lst_d_1m_l     4325 non-null   object  \n",
      " 23  lst_2m_l       4325 non-null   float64 \n",
      " 24  lst_c_2m_l     4325 non-null   float64 \n",
      " 25  lst_d_2m_l     4325 non-null   object  \n",
      " 26  outbreak       109 non-null    float64 \n",
      "dtypes: float64(16), geometry(1), object(10)\n",
      "memory usage: 912.4+ KB\n"
     ]
    }
   ],
   "source": [
    "train_test.info()"
   ]
  },
  {
   "cell_type": "code",
   "execution_count": 134,
   "metadata": {},
   "outputs": [],
   "source": [
    "# relace missing values in the target with 0\n",
    "train_test['outbreak'] = train_test['outbreak'].fillna(0)"
   ]
  },
  {
   "cell_type": "code",
   "execution_count": 135,
   "metadata": {},
   "outputs": [
    {
     "data": {
      "text/plain": [
       "0.0    4216\n",
       "1.0     109\n",
       "Name: outbreak, dtype: int64"
      ]
     },
     "execution_count": 135,
     "metadata": {},
     "output_type": "execute_result"
    }
   ],
   "source": [
    "train_test['outbreak'].value_counts()"
   ]
  },
  {
   "cell_type": "code",
   "execution_count": 136,
   "metadata": {},
   "outputs": [
    {
     "data": {
      "text/html": [
       "<div>\n",
       "<style scoped>\n",
       "    .dataframe tbody tr th:only-of-type {\n",
       "        vertical-align: middle;\n",
       "    }\n",
       "\n",
       "    .dataframe tbody tr th {\n",
       "        vertical-align: top;\n",
       "    }\n",
       "\n",
       "    .dataframe thead th {\n",
       "        text-align: right;\n",
       "    }\n",
       "</style>\n",
       "<table border=\"1\" class=\"dataframe\">\n",
       "  <thead>\n",
       "    <tr style=\"text-align: right;\">\n",
       "      <th></th>\n",
       "      <th>state</th>\n",
       "      <th>district</th>\n",
       "      <th>geometry</th>\n",
       "      <th>year</th>\n",
       "      <th>month</th>\n",
       "      <th>sss</th>\n",
       "      <th>sss_1m_l</th>\n",
       "      <th>sss_c_1m_l</th>\n",
       "      <th>sss_d_1m_l</th>\n",
       "      <th>sss_2m_l</th>\n",
       "      <th>...</th>\n",
       "      <th>chlora_c_2m_l</th>\n",
       "      <th>chlora_d_2m_l</th>\n",
       "      <th>lst</th>\n",
       "      <th>lst_1m_l</th>\n",
       "      <th>lst_c_1m_l</th>\n",
       "      <th>lst_d_1m_l</th>\n",
       "      <th>lst_2m_l</th>\n",
       "      <th>lst_c_2m_l</th>\n",
       "      <th>lst_d_2m_l</th>\n",
       "      <th>outbreak</th>\n",
       "    </tr>\n",
       "  </thead>\n",
       "  <tbody>\n",
       "    <tr>\n",
       "      <th>0</th>\n",
       "      <td>karnataka</td>\n",
       "      <td>belgaum</td>\n",
       "      <td>POLYGON ((74.75089 15.49199, 74.74472 15.48939...</td>\n",
       "      <td>2010</td>\n",
       "      <td>3</td>\n",
       "      <td>34.027400</td>\n",
       "      <td>34.600696</td>\n",
       "      <td>-1.656890</td>\n",
       "      <td>0</td>\n",
       "      <td>35.335807</td>\n",
       "      <td>...</td>\n",
       "      <td>640.739850</td>\n",
       "      <td>1</td>\n",
       "      <td>326.305884</td>\n",
       "      <td>320.030061</td>\n",
       "      <td>1.961011</td>\n",
       "      <td>1</td>\n",
       "      <td>314.014733</td>\n",
       "      <td>3.914196</td>\n",
       "      <td>1</td>\n",
       "      <td>0.0</td>\n",
       "    </tr>\n",
       "    <tr>\n",
       "      <th>1</th>\n",
       "      <td>karnataka</td>\n",
       "      <td>belgaum</td>\n",
       "      <td>POLYGON ((74.75089 15.49199, 74.74472 15.48939...</td>\n",
       "      <td>2010</td>\n",
       "      <td>4</td>\n",
       "      <td>34.299124</td>\n",
       "      <td>34.027400</td>\n",
       "      <td>0.798544</td>\n",
       "      <td>0</td>\n",
       "      <td>34.600696</td>\n",
       "      <td>...</td>\n",
       "      <td>21.729825</td>\n",
       "      <td>1</td>\n",
       "      <td>330.424175</td>\n",
       "      <td>326.305884</td>\n",
       "      <td>1.262095</td>\n",
       "      <td>1</td>\n",
       "      <td>320.030061</td>\n",
       "      <td>3.247856</td>\n",
       "      <td>1</td>\n",
       "      <td>0.0</td>\n",
       "    </tr>\n",
       "    <tr>\n",
       "      <th>2</th>\n",
       "      <td>karnataka</td>\n",
       "      <td>belgaum</td>\n",
       "      <td>POLYGON ((74.75089 15.49199, 74.74472 15.48939...</td>\n",
       "      <td>2010</td>\n",
       "      <td>5</td>\n",
       "      <td>34.924089</td>\n",
       "      <td>34.299124</td>\n",
       "      <td>1.822104</td>\n",
       "      <td>1</td>\n",
       "      <td>34.027400</td>\n",
       "      <td>...</td>\n",
       "      <td>-2.970501</td>\n",
       "      <td>0</td>\n",
       "      <td>332.450231</td>\n",
       "      <td>330.424175</td>\n",
       "      <td>0.613168</td>\n",
       "      <td>0</td>\n",
       "      <td>326.305884</td>\n",
       "      <td>1.883002</td>\n",
       "      <td>1</td>\n",
       "      <td>0.0</td>\n",
       "    </tr>\n",
       "    <tr>\n",
       "      <th>3</th>\n",
       "      <td>karnataka</td>\n",
       "      <td>belgaum</td>\n",
       "      <td>POLYGON ((74.75089 15.49199, 74.74472 15.48939...</td>\n",
       "      <td>2010</td>\n",
       "      <td>6</td>\n",
       "      <td>35.246572</td>\n",
       "      <td>34.924089</td>\n",
       "      <td>0.923383</td>\n",
       "      <td>0</td>\n",
       "      <td>34.299124</td>\n",
       "      <td>...</td>\n",
       "      <td>-74.244754</td>\n",
       "      <td>0</td>\n",
       "      <td>313.549617</td>\n",
       "      <td>332.450231</td>\n",
       "      <td>-5.685246</td>\n",
       "      <td>0</td>\n",
       "      <td>330.424175</td>\n",
       "      <td>-5.106938</td>\n",
       "      <td>0</td>\n",
       "      <td>0.0</td>\n",
       "    </tr>\n",
       "    <tr>\n",
       "      <th>4</th>\n",
       "      <td>karnataka</td>\n",
       "      <td>belgaum</td>\n",
       "      <td>POLYGON ((74.75089 15.49199, 74.74472 15.48939...</td>\n",
       "      <td>2010</td>\n",
       "      <td>7</td>\n",
       "      <td>35.282390</td>\n",
       "      <td>35.246572</td>\n",
       "      <td>0.101619</td>\n",
       "      <td>0</td>\n",
       "      <td>34.924089</td>\n",
       "      <td>...</td>\n",
       "      <td>-157.276383</td>\n",
       "      <td>0</td>\n",
       "      <td>304.003108</td>\n",
       "      <td>313.549617</td>\n",
       "      <td>-3.044656</td>\n",
       "      <td>0</td>\n",
       "      <td>332.450231</td>\n",
       "      <td>-8.556807</td>\n",
       "      <td>0</td>\n",
       "      <td>0.0</td>\n",
       "    </tr>\n",
       "    <tr>\n",
       "      <th>...</th>\n",
       "      <td>...</td>\n",
       "      <td>...</td>\n",
       "      <td>...</td>\n",
       "      <td>...</td>\n",
       "      <td>...</td>\n",
       "      <td>...</td>\n",
       "      <td>...</td>\n",
       "      <td>...</td>\n",
       "      <td>...</td>\n",
       "      <td>...</td>\n",
       "      <td>...</td>\n",
       "      <td>...</td>\n",
       "      <td>...</td>\n",
       "      <td>...</td>\n",
       "      <td>...</td>\n",
       "      <td>...</td>\n",
       "      <td>...</td>\n",
       "      <td>...</td>\n",
       "      <td>...</td>\n",
       "      <td>...</td>\n",
       "      <td>...</td>\n",
       "    </tr>\n",
       "    <tr>\n",
       "      <th>4320</th>\n",
       "      <td>kerala</td>\n",
       "      <td>pathanamthitta</td>\n",
       "      <td>POLYGON ((76.64102 9.14179, 76.65238 9.14195, ...</td>\n",
       "      <td>2018</td>\n",
       "      <td>8</td>\n",
       "      <td>33.805684</td>\n",
       "      <td>34.235850</td>\n",
       "      <td>-1.256476</td>\n",
       "      <td>0</td>\n",
       "      <td>34.611369</td>\n",
       "      <td>...</td>\n",
       "      <td>-1751.727429</td>\n",
       "      <td>0</td>\n",
       "      <td>319.462127</td>\n",
       "      <td>316.543710</td>\n",
       "      <td>0.921963</td>\n",
       "      <td>0</td>\n",
       "      <td>309.711798</td>\n",
       "      <td>3.148194</td>\n",
       "      <td>1</td>\n",
       "      <td>0.0</td>\n",
       "    </tr>\n",
       "    <tr>\n",
       "      <th>4321</th>\n",
       "      <td>kerala</td>\n",
       "      <td>pathanamthitta</td>\n",
       "      <td>POLYGON ((76.64102 9.14179, 76.65238 9.14195, ...</td>\n",
       "      <td>2018</td>\n",
       "      <td>9</td>\n",
       "      <td>34.660524</td>\n",
       "      <td>33.805684</td>\n",
       "      <td>2.528685</td>\n",
       "      <td>1</td>\n",
       "      <td>34.235850</td>\n",
       "      <td>...</td>\n",
       "      <td>-568.016212</td>\n",
       "      <td>0</td>\n",
       "      <td>322.904377</td>\n",
       "      <td>319.462127</td>\n",
       "      <td>1.077514</td>\n",
       "      <td>1</td>\n",
       "      <td>316.543710</td>\n",
       "      <td>2.009412</td>\n",
       "      <td>1</td>\n",
       "      <td>0.0</td>\n",
       "    </tr>\n",
       "    <tr>\n",
       "      <th>4322</th>\n",
       "      <td>kerala</td>\n",
       "      <td>pathanamthitta</td>\n",
       "      <td>POLYGON ((76.64102 9.14179, 76.65238 9.14195, ...</td>\n",
       "      <td>2018</td>\n",
       "      <td>10</td>\n",
       "      <td>35.295586</td>\n",
       "      <td>34.660524</td>\n",
       "      <td>1.832235</td>\n",
       "      <td>1</td>\n",
       "      <td>33.805684</td>\n",
       "      <td>...</td>\n",
       "      <td>-154.907944</td>\n",
       "      <td>0</td>\n",
       "      <td>312.129742</td>\n",
       "      <td>322.904377</td>\n",
       "      <td>-3.336788</td>\n",
       "      <td>0</td>\n",
       "      <td>319.462127</td>\n",
       "      <td>-2.295228</td>\n",
       "      <td>0</td>\n",
       "      <td>0.0</td>\n",
       "    </tr>\n",
       "    <tr>\n",
       "      <th>4323</th>\n",
       "      <td>kerala</td>\n",
       "      <td>pathanamthitta</td>\n",
       "      <td>POLYGON ((76.64102 9.14179, 76.65238 9.14195, ...</td>\n",
       "      <td>2018</td>\n",
       "      <td>11</td>\n",
       "      <td>35.153257</td>\n",
       "      <td>35.295586</td>\n",
       "      <td>-0.403247</td>\n",
       "      <td>0</td>\n",
       "      <td>34.660524</td>\n",
       "      <td>...</td>\n",
       "      <td>-263.101181</td>\n",
       "      <td>0</td>\n",
       "      <td>308.569854</td>\n",
       "      <td>312.129742</td>\n",
       "      <td>-1.140516</td>\n",
       "      <td>0</td>\n",
       "      <td>322.904377</td>\n",
       "      <td>-4.439247</td>\n",
       "      <td>0</td>\n",
       "      <td>0.0</td>\n",
       "    </tr>\n",
       "    <tr>\n",
       "      <th>4324</th>\n",
       "      <td>kerala</td>\n",
       "      <td>pathanamthitta</td>\n",
       "      <td>POLYGON ((76.64102 9.14179, 76.65238 9.14195, ...</td>\n",
       "      <td>2018</td>\n",
       "      <td>12</td>\n",
       "      <td>34.485241</td>\n",
       "      <td>35.153257</td>\n",
       "      <td>-1.900297</td>\n",
       "      <td>0</td>\n",
       "      <td>35.295586</td>\n",
       "      <td>...</td>\n",
       "      <td>106.972940</td>\n",
       "      <td>1</td>\n",
       "      <td>308.834474</td>\n",
       "      <td>308.569854</td>\n",
       "      <td>0.085757</td>\n",
       "      <td>0</td>\n",
       "      <td>312.129742</td>\n",
       "      <td>-1.055737</td>\n",
       "      <td>0</td>\n",
       "      <td>0.0</td>\n",
       "    </tr>\n",
       "  </tbody>\n",
       "</table>\n",
       "<p>4325 rows × 27 columns</p>\n",
       "</div>"
      ],
      "text/plain": [
       "          state        district  \\\n",
       "0     karnataka         belgaum   \n",
       "1     karnataka         belgaum   \n",
       "2     karnataka         belgaum   \n",
       "3     karnataka         belgaum   \n",
       "4     karnataka         belgaum   \n",
       "...         ...             ...   \n",
       "4320     kerala  pathanamthitta   \n",
       "4321     kerala  pathanamthitta   \n",
       "4322     kerala  pathanamthitta   \n",
       "4323     kerala  pathanamthitta   \n",
       "4324     kerala  pathanamthitta   \n",
       "\n",
       "                                               geometry  year month  \\\n",
       "0     POLYGON ((74.75089 15.49199, 74.74472 15.48939...  2010     3   \n",
       "1     POLYGON ((74.75089 15.49199, 74.74472 15.48939...  2010     4   \n",
       "2     POLYGON ((74.75089 15.49199, 74.74472 15.48939...  2010     5   \n",
       "3     POLYGON ((74.75089 15.49199, 74.74472 15.48939...  2010     6   \n",
       "4     POLYGON ((74.75089 15.49199, 74.74472 15.48939...  2010     7   \n",
       "...                                                 ...   ...   ...   \n",
       "4320  POLYGON ((76.64102 9.14179, 76.65238 9.14195, ...  2018     8   \n",
       "4321  POLYGON ((76.64102 9.14179, 76.65238 9.14195, ...  2018     9   \n",
       "4322  POLYGON ((76.64102 9.14179, 76.65238 9.14195, ...  2018    10   \n",
       "4323  POLYGON ((76.64102 9.14179, 76.65238 9.14195, ...  2018    11   \n",
       "4324  POLYGON ((76.64102 9.14179, 76.65238 9.14195, ...  2018    12   \n",
       "\n",
       "            sss   sss_1m_l  sss_c_1m_l sss_d_1m_l   sss_2m_l  ...  \\\n",
       "0     34.027400  34.600696   -1.656890          0  35.335807  ...   \n",
       "1     34.299124  34.027400    0.798544          0  34.600696  ...   \n",
       "2     34.924089  34.299124    1.822104          1  34.027400  ...   \n",
       "3     35.246572  34.924089    0.923383          0  34.299124  ...   \n",
       "4     35.282390  35.246572    0.101619          0  34.924089  ...   \n",
       "...         ...        ...         ...        ...        ...  ...   \n",
       "4320  33.805684  34.235850   -1.256476          0  34.611369  ...   \n",
       "4321  34.660524  33.805684    2.528685          1  34.235850  ...   \n",
       "4322  35.295586  34.660524    1.832235          1  33.805684  ...   \n",
       "4323  35.153257  35.295586   -0.403247          0  34.660524  ...   \n",
       "4324  34.485241  35.153257   -1.900297          0  35.295586  ...   \n",
       "\n",
       "      chlora_c_2m_l chlora_d_2m_l         lst    lst_1m_l  lst_c_1m_l  \\\n",
       "0        640.739850             1  326.305884  320.030061    1.961011   \n",
       "1         21.729825             1  330.424175  326.305884    1.262095   \n",
       "2         -2.970501             0  332.450231  330.424175    0.613168   \n",
       "3        -74.244754             0  313.549617  332.450231   -5.685246   \n",
       "4       -157.276383             0  304.003108  313.549617   -3.044656   \n",
       "...             ...           ...         ...         ...         ...   \n",
       "4320   -1751.727429             0  319.462127  316.543710    0.921963   \n",
       "4321    -568.016212             0  322.904377  319.462127    1.077514   \n",
       "4322    -154.907944             0  312.129742  322.904377   -3.336788   \n",
       "4323    -263.101181             0  308.569854  312.129742   -1.140516   \n",
       "4324     106.972940             1  308.834474  308.569854    0.085757   \n",
       "\n",
       "     lst_d_1m_l    lst_2m_l  lst_c_2m_l lst_d_2m_l  outbreak  \n",
       "0             1  314.014733    3.914196          1       0.0  \n",
       "1             1  320.030061    3.247856          1       0.0  \n",
       "2             0  326.305884    1.883002          1       0.0  \n",
       "3             0  330.424175   -5.106938          0       0.0  \n",
       "4             0  332.450231   -8.556807          0       0.0  \n",
       "...         ...         ...         ...        ...       ...  \n",
       "4320          0  309.711798    3.148194          1       0.0  \n",
       "4321          1  316.543710    2.009412          1       0.0  \n",
       "4322          0  319.462127   -2.295228          0       0.0  \n",
       "4323          0  322.904377   -4.439247          0       0.0  \n",
       "4324          0  312.129742   -1.055737          0       0.0  \n",
       "\n",
       "[4325 rows x 27 columns]"
      ]
     },
     "execution_count": 136,
     "metadata": {},
     "output_type": "execute_result"
    }
   ],
   "source": [
    "train_test"
   ]
  },
  {
   "cell_type": "markdown",
   "metadata": {},
   "source": [
    "## Map district to location"
   ]
  },
  {
   "cell_type": "markdown",
   "metadata": {},
   "source": [
    "Next, we need to figure out which district is on the west and which is on the east coast of India. The following is a rough approach that should suffice for now. The southernmost point of mainland India is Cape Comorin. We check whether each district's centroid is east or west of Cape Comorin and thereby decide which coastal location to assign to each district."
   ]
  },
  {
   "cell_type": "code",
   "execution_count": 137,
   "metadata": {},
   "outputs": [],
   "source": [
    "# geocode Cape Comorin\n",
    "cape_comorin = geocode('Cape Comorin', provider='nominatim', user_agent='cholera_risk_modeling', timeout=4)"
   ]
  },
  {
   "cell_type": "code",
   "execution_count": 138,
   "metadata": {},
   "outputs": [
    {
     "data": {
      "text/plain": [
       "<Geographic 2D CRS: EPSG:4326>\n",
       "Name: WGS 84\n",
       "Axis Info [ellipsoidal]:\n",
       "- Lat[north]: Geodetic latitude (degree)\n",
       "- Lon[east]: Geodetic longitude (degree)\n",
       "Area of Use:\n",
       "- name: World.\n",
       "- bounds: (-180.0, -90.0, 180.0, 90.0)\n",
       "Datum: World Geodetic System 1984\n",
       "- Ellipsoid: WGS 84\n",
       "- Prime Meridian: Greenwich"
      ]
     },
     "execution_count": 138,
     "metadata": {},
     "output_type": "execute_result"
    }
   ],
   "source": [
    "cape_comorin.crs"
   ]
  },
  {
   "cell_type": "markdown",
   "metadata": {},
   "source": [
    "The CRS of Cape Comoring and our data need to match."
   ]
  },
  {
   "cell_type": "code",
   "execution_count": 139,
   "metadata": {},
   "outputs": [],
   "source": [
    "# reproject data to local crs\n",
    "cape_comorin = cape_comorin.to_crs(epsg=7755)\n",
    "train_test = train_test.to_crs(epsg=7755)"
   ]
  },
  {
   "cell_type": "code",
   "execution_count": 140,
   "metadata": {
    "scrolled": true
   },
   "outputs": [
    {
     "data": {
      "text/plain": [
       "True"
      ]
     },
     "execution_count": 140,
     "metadata": {},
     "output_type": "execute_result"
    }
   ],
   "source": [
    "cape_comorin.crs == train_test.crs"
   ]
  },
  {
   "cell_type": "code",
   "execution_count": 141,
   "metadata": {},
   "outputs": [
    {
     "data": {
      "text/html": [
       "<div>\n",
       "<style scoped>\n",
       "    .dataframe tbody tr th:only-of-type {\n",
       "        vertical-align: middle;\n",
       "    }\n",
       "\n",
       "    .dataframe tbody tr th {\n",
       "        vertical-align: top;\n",
       "    }\n",
       "\n",
       "    .dataframe thead th {\n",
       "        text-align: right;\n",
       "    }\n",
       "</style>\n",
       "<table border=\"1\" class=\"dataframe\">\n",
       "  <thead>\n",
       "    <tr style=\"text-align: right;\">\n",
       "      <th></th>\n",
       "      <th>geometry</th>\n",
       "      <th>address</th>\n",
       "    </tr>\n",
       "  </thead>\n",
       "  <tbody>\n",
       "    <tr>\n",
       "      <th>0</th>\n",
       "      <td>POINT (3725305.123 2252761.856)</td>\n",
       "      <td>Cape Comorin, Vavaturai, Agastheeswaram, Kanya...</td>\n",
       "    </tr>\n",
       "  </tbody>\n",
       "</table>\n",
       "</div>"
      ],
      "text/plain": [
       "                          geometry  \\\n",
       "0  POINT (3725305.123 2252761.856)   \n",
       "\n",
       "                                             address  \n",
       "0  Cape Comorin, Vavaturai, Agastheeswaram, Kanya...  "
      ]
     },
     "execution_count": 141,
     "metadata": {},
     "output_type": "execute_result"
    }
   ],
   "source": [
    "cape_comorin"
   ]
  },
  {
   "cell_type": "code",
   "execution_count": 142,
   "metadata": {},
   "outputs": [
    {
     "name": "stdout",
     "output_type": "stream",
     "text": [
      "POINT (3725305.123427642 2252761.855500367)\n",
      "3725305.1234276416\n",
      "2252761.8555003675\n"
     ]
    }
   ],
   "source": [
    "# check the coordinates of Cape Comorin\n",
    "split_point = cape_comorin.loc[0, 'geometry']\n",
    "print(split_point)\n",
    "print(split_point.x)\n",
    "print(split_point.y)"
   ]
  },
  {
   "cell_type": "code",
   "execution_count": 143,
   "metadata": {},
   "outputs": [],
   "source": [
    "# get district centroids\n",
    "train_test['centroid'] = train_test.centroid"
   ]
  },
  {
   "cell_type": "code",
   "execution_count": 144,
   "metadata": {},
   "outputs": [],
   "source": [
    "# check whether district centroids are west or east of Cape Comorin\n",
    "train_test['location'] = train_test.apply(lambda x: 'west' if x['centroid'].x < split_point.x else 'east', axis=1)"
   ]
  },
  {
   "cell_type": "code",
   "execution_count": 145,
   "metadata": {},
   "outputs": [
    {
     "data": {
      "text/html": [
       "<div>\n",
       "<style scoped>\n",
       "    .dataframe tbody tr th:only-of-type {\n",
       "        vertical-align: middle;\n",
       "    }\n",
       "\n",
       "    .dataframe tbody tr th {\n",
       "        vertical-align: top;\n",
       "    }\n",
       "\n",
       "    .dataframe thead th {\n",
       "        text-align: right;\n",
       "    }\n",
       "</style>\n",
       "<table border=\"1\" class=\"dataframe\">\n",
       "  <thead>\n",
       "    <tr style=\"text-align: right;\">\n",
       "      <th></th>\n",
       "      <th>state</th>\n",
       "      <th>district</th>\n",
       "      <th>geometry</th>\n",
       "      <th>year</th>\n",
       "      <th>month</th>\n",
       "      <th>sss</th>\n",
       "      <th>sss_1m_l</th>\n",
       "      <th>sss_c_1m_l</th>\n",
       "      <th>sss_d_1m_l</th>\n",
       "      <th>sss_2m_l</th>\n",
       "      <th>...</th>\n",
       "      <th>lst</th>\n",
       "      <th>lst_1m_l</th>\n",
       "      <th>lst_c_1m_l</th>\n",
       "      <th>lst_d_1m_l</th>\n",
       "      <th>lst_2m_l</th>\n",
       "      <th>lst_c_2m_l</th>\n",
       "      <th>lst_d_2m_l</th>\n",
       "      <th>outbreak</th>\n",
       "      <th>centroid</th>\n",
       "      <th>location</th>\n",
       "    </tr>\n",
       "  </thead>\n",
       "  <tbody>\n",
       "    <tr>\n",
       "      <th>0</th>\n",
       "      <td>karnataka</td>\n",
       "      <td>belgaum</td>\n",
       "      <td>POLYGON ((3441889.619 3083540.901, 3441223.031...</td>\n",
       "      <td>2010</td>\n",
       "      <td>3</td>\n",
       "      <td>34.027400</td>\n",
       "      <td>34.600696</td>\n",
       "      <td>-1.656890</td>\n",
       "      <td>0</td>\n",
       "      <td>35.335807</td>\n",
       "      <td>...</td>\n",
       "      <td>326.305884</td>\n",
       "      <td>320.030061</td>\n",
       "      <td>1.961011</td>\n",
       "      <td>1</td>\n",
       "      <td>314.014733</td>\n",
       "      <td>3.914196</td>\n",
       "      <td>1</td>\n",
       "      <td>0.0</td>\n",
       "      <td>POINT (3452531.253 3151629.624)</td>\n",
       "      <td>west</td>\n",
       "    </tr>\n",
       "    <tr>\n",
       "      <th>1</th>\n",
       "      <td>karnataka</td>\n",
       "      <td>belgaum</td>\n",
       "      <td>POLYGON ((3441889.619 3083540.901, 3441223.031...</td>\n",
       "      <td>2010</td>\n",
       "      <td>4</td>\n",
       "      <td>34.299124</td>\n",
       "      <td>34.027400</td>\n",
       "      <td>0.798544</td>\n",
       "      <td>0</td>\n",
       "      <td>34.600696</td>\n",
       "      <td>...</td>\n",
       "      <td>330.424175</td>\n",
       "      <td>326.305884</td>\n",
       "      <td>1.262095</td>\n",
       "      <td>1</td>\n",
       "      <td>320.030061</td>\n",
       "      <td>3.247856</td>\n",
       "      <td>1</td>\n",
       "      <td>0.0</td>\n",
       "      <td>POINT (3452531.253 3151629.624)</td>\n",
       "      <td>west</td>\n",
       "    </tr>\n",
       "    <tr>\n",
       "      <th>2</th>\n",
       "      <td>karnataka</td>\n",
       "      <td>belgaum</td>\n",
       "      <td>POLYGON ((3441889.619 3083540.901, 3441223.031...</td>\n",
       "      <td>2010</td>\n",
       "      <td>5</td>\n",
       "      <td>34.924089</td>\n",
       "      <td>34.299124</td>\n",
       "      <td>1.822104</td>\n",
       "      <td>1</td>\n",
       "      <td>34.027400</td>\n",
       "      <td>...</td>\n",
       "      <td>332.450231</td>\n",
       "      <td>330.424175</td>\n",
       "      <td>0.613168</td>\n",
       "      <td>0</td>\n",
       "      <td>326.305884</td>\n",
       "      <td>1.883002</td>\n",
       "      <td>1</td>\n",
       "      <td>0.0</td>\n",
       "      <td>POINT (3452531.253 3151629.624)</td>\n",
       "      <td>west</td>\n",
       "    </tr>\n",
       "    <tr>\n",
       "      <th>3</th>\n",
       "      <td>karnataka</td>\n",
       "      <td>belgaum</td>\n",
       "      <td>POLYGON ((3441889.619 3083540.901, 3441223.031...</td>\n",
       "      <td>2010</td>\n",
       "      <td>6</td>\n",
       "      <td>35.246572</td>\n",
       "      <td>34.924089</td>\n",
       "      <td>0.923383</td>\n",
       "      <td>0</td>\n",
       "      <td>34.299124</td>\n",
       "      <td>...</td>\n",
       "      <td>313.549617</td>\n",
       "      <td>332.450231</td>\n",
       "      <td>-5.685246</td>\n",
       "      <td>0</td>\n",
       "      <td>330.424175</td>\n",
       "      <td>-5.106938</td>\n",
       "      <td>0</td>\n",
       "      <td>0.0</td>\n",
       "      <td>POINT (3452531.253 3151629.624)</td>\n",
       "      <td>west</td>\n",
       "    </tr>\n",
       "    <tr>\n",
       "      <th>4</th>\n",
       "      <td>karnataka</td>\n",
       "      <td>belgaum</td>\n",
       "      <td>POLYGON ((3441889.619 3083540.901, 3441223.031...</td>\n",
       "      <td>2010</td>\n",
       "      <td>7</td>\n",
       "      <td>35.282390</td>\n",
       "      <td>35.246572</td>\n",
       "      <td>0.101619</td>\n",
       "      <td>0</td>\n",
       "      <td>34.924089</td>\n",
       "      <td>...</td>\n",
       "      <td>304.003108</td>\n",
       "      <td>313.549617</td>\n",
       "      <td>-3.044656</td>\n",
       "      <td>0</td>\n",
       "      <td>332.450231</td>\n",
       "      <td>-8.556807</td>\n",
       "      <td>0</td>\n",
       "      <td>0.0</td>\n",
       "      <td>POINT (3452531.253 3151629.624)</td>\n",
       "      <td>west</td>\n",
       "    </tr>\n",
       "  </tbody>\n",
       "</table>\n",
       "<p>5 rows × 29 columns</p>\n",
       "</div>"
      ],
      "text/plain": [
       "       state district                                           geometry  \\\n",
       "0  karnataka  belgaum  POLYGON ((3441889.619 3083540.901, 3441223.031...   \n",
       "1  karnataka  belgaum  POLYGON ((3441889.619 3083540.901, 3441223.031...   \n",
       "2  karnataka  belgaum  POLYGON ((3441889.619 3083540.901, 3441223.031...   \n",
       "3  karnataka  belgaum  POLYGON ((3441889.619 3083540.901, 3441223.031...   \n",
       "4  karnataka  belgaum  POLYGON ((3441889.619 3083540.901, 3441223.031...   \n",
       "\n",
       "   year month        sss   sss_1m_l  sss_c_1m_l sss_d_1m_l   sss_2m_l  ...  \\\n",
       "0  2010     3  34.027400  34.600696   -1.656890          0  35.335807  ...   \n",
       "1  2010     4  34.299124  34.027400    0.798544          0  34.600696  ...   \n",
       "2  2010     5  34.924089  34.299124    1.822104          1  34.027400  ...   \n",
       "3  2010     6  35.246572  34.924089    0.923383          0  34.299124  ...   \n",
       "4  2010     7  35.282390  35.246572    0.101619          0  34.924089  ...   \n",
       "\n",
       "          lst    lst_1m_l  lst_c_1m_l  lst_d_1m_l    lst_2m_l lst_c_2m_l  \\\n",
       "0  326.305884  320.030061    1.961011           1  314.014733   3.914196   \n",
       "1  330.424175  326.305884    1.262095           1  320.030061   3.247856   \n",
       "2  332.450231  330.424175    0.613168           0  326.305884   1.883002   \n",
       "3  313.549617  332.450231   -5.685246           0  330.424175  -5.106938   \n",
       "4  304.003108  313.549617   -3.044656           0  332.450231  -8.556807   \n",
       "\n",
       "   lst_d_2m_l  outbreak                         centroid  location  \n",
       "0           1       0.0  POINT (3452531.253 3151629.624)      west  \n",
       "1           1       0.0  POINT (3452531.253 3151629.624)      west  \n",
       "2           1       0.0  POINT (3452531.253 3151629.624)      west  \n",
       "3           0       0.0  POINT (3452531.253 3151629.624)      west  \n",
       "4           0       0.0  POINT (3452531.253 3151629.624)      west  \n",
       "\n",
       "[5 rows x 29 columns]"
      ]
     },
     "execution_count": 145,
     "metadata": {},
     "output_type": "execute_result"
    }
   ],
   "source": [
    "train_test.head()"
   ]
  },
  {
   "cell_type": "code",
   "execution_count": 146,
   "metadata": {},
   "outputs": [
    {
     "data": {
      "image/png": "[encoded data removed]",
      "text/plain": [
       "<Figure size 864x576 with 1 Axes>"
      ]
     },
     "metadata": {
      "needs_background": "light"
     },
     "output_type": "display_data"
    }
   ],
   "source": [
    "# visually check whether the assignment makes intuitive sense\n",
    "fig, ax = plt.subplots(figsize=(12,8))\n",
    "train_test[['geometry', 'location']].drop_duplicates().plot(ax=ax, column='location')\n",
    "cape_comorin.plot(ax=ax, color='red')\n",
    "plt.tight_layout()"
   ]
  },
  {
   "cell_type": "code",
   "execution_count": 147,
   "metadata": {},
   "outputs": [],
   "source": [
    "# drop centriod column because it is not needed anymore\n",
    "train_test = train_test.drop('centroid', axis=1)"
   ]
  },
  {
   "cell_type": "markdown",
   "metadata": {},
   "source": [
    "## Map month to season"
   ]
  },
  {
   "cell_type": "markdown",
   "metadata": {},
   "source": [
    "Next, we need to map the months to their respective season."
   ]
  },
  {
   "cell_type": "code",
   "execution_count": 148,
   "metadata": {
    "tags": []
   },
   "outputs": [],
   "source": [
    "# create dictionary with month to season mapping\n",
    "seasons = {1: 'winter',\n",
    "           2: 'winter',\n",
    "           3: 'pre_monsoon',\n",
    "           4: 'pre_monsoon',\n",
    "           5: 'pre_monsoon',\n",
    "           6: 'monsoon',\n",
    "           7: 'monsoon',\n",
    "           8: 'monsoon',\n",
    "           9: 'monsoon',\n",
    "           10: 'post_monsoon',\n",
    "           11: 'post_monsoon',\n",
    "           12: 'post_monsoon'}"
   ]
  },
  {
   "cell_type": "code",
   "execution_count": 149,
   "metadata": {
    "tags": []
   },
   "outputs": [],
   "source": [
    "# apply mapping\n",
    "train_test['season'] = train_test['month'].map(seasons)"
   ]
  },
  {
   "cell_type": "code",
   "execution_count": 150,
   "metadata": {
    "tags": []
   },
   "outputs": [
    {
     "data": {
      "text/html": [
       "<div>\n",
       "<style scoped>\n",
       "    .dataframe tbody tr th:only-of-type {\n",
       "        vertical-align: middle;\n",
       "    }\n",
       "\n",
       "    .dataframe tbody tr th {\n",
       "        vertical-align: top;\n",
       "    }\n",
       "\n",
       "    .dataframe thead th {\n",
       "        text-align: right;\n",
       "    }\n",
       "</style>\n",
       "<table border=\"1\" class=\"dataframe\">\n",
       "  <thead>\n",
       "    <tr style=\"text-align: right;\">\n",
       "      <th></th>\n",
       "      <th>state</th>\n",
       "      <th>district</th>\n",
       "      <th>geometry</th>\n",
       "      <th>year</th>\n",
       "      <th>month</th>\n",
       "      <th>sss</th>\n",
       "      <th>sss_1m_l</th>\n",
       "      <th>sss_c_1m_l</th>\n",
       "      <th>sss_d_1m_l</th>\n",
       "      <th>sss_2m_l</th>\n",
       "      <th>...</th>\n",
       "      <th>lst</th>\n",
       "      <th>lst_1m_l</th>\n",
       "      <th>lst_c_1m_l</th>\n",
       "      <th>lst_d_1m_l</th>\n",
       "      <th>lst_2m_l</th>\n",
       "      <th>lst_c_2m_l</th>\n",
       "      <th>lst_d_2m_l</th>\n",
       "      <th>outbreak</th>\n",
       "      <th>location</th>\n",
       "      <th>season</th>\n",
       "    </tr>\n",
       "  </thead>\n",
       "  <tbody>\n",
       "    <tr>\n",
       "      <th>0</th>\n",
       "      <td>karnataka</td>\n",
       "      <td>belgaum</td>\n",
       "      <td>POLYGON ((3441889.619 3083540.901, 3441223.031...</td>\n",
       "      <td>2010</td>\n",
       "      <td>3</td>\n",
       "      <td>34.027400</td>\n",
       "      <td>34.600696</td>\n",
       "      <td>-1.656890</td>\n",
       "      <td>0</td>\n",
       "      <td>35.335807</td>\n",
       "      <td>...</td>\n",
       "      <td>326.305884</td>\n",
       "      <td>320.030061</td>\n",
       "      <td>1.961011</td>\n",
       "      <td>1</td>\n",
       "      <td>314.014733</td>\n",
       "      <td>3.914196</td>\n",
       "      <td>1</td>\n",
       "      <td>0.0</td>\n",
       "      <td>west</td>\n",
       "      <td>pre_monsoon</td>\n",
       "    </tr>\n",
       "    <tr>\n",
       "      <th>1</th>\n",
       "      <td>karnataka</td>\n",
       "      <td>belgaum</td>\n",
       "      <td>POLYGON ((3441889.619 3083540.901, 3441223.031...</td>\n",
       "      <td>2010</td>\n",
       "      <td>4</td>\n",
       "      <td>34.299124</td>\n",
       "      <td>34.027400</td>\n",
       "      <td>0.798544</td>\n",
       "      <td>0</td>\n",
       "      <td>34.600696</td>\n",
       "      <td>...</td>\n",
       "      <td>330.424175</td>\n",
       "      <td>326.305884</td>\n",
       "      <td>1.262095</td>\n",
       "      <td>1</td>\n",
       "      <td>320.030061</td>\n",
       "      <td>3.247856</td>\n",
       "      <td>1</td>\n",
       "      <td>0.0</td>\n",
       "      <td>west</td>\n",
       "      <td>pre_monsoon</td>\n",
       "    </tr>\n",
       "    <tr>\n",
       "      <th>2</th>\n",
       "      <td>karnataka</td>\n",
       "      <td>belgaum</td>\n",
       "      <td>POLYGON ((3441889.619 3083540.901, 3441223.031...</td>\n",
       "      <td>2010</td>\n",
       "      <td>5</td>\n",
       "      <td>34.924089</td>\n",
       "      <td>34.299124</td>\n",
       "      <td>1.822104</td>\n",
       "      <td>1</td>\n",
       "      <td>34.027400</td>\n",
       "      <td>...</td>\n",
       "      <td>332.450231</td>\n",
       "      <td>330.424175</td>\n",
       "      <td>0.613168</td>\n",
       "      <td>0</td>\n",
       "      <td>326.305884</td>\n",
       "      <td>1.883002</td>\n",
       "      <td>1</td>\n",
       "      <td>0.0</td>\n",
       "      <td>west</td>\n",
       "      <td>pre_monsoon</td>\n",
       "    </tr>\n",
       "    <tr>\n",
       "      <th>3</th>\n",
       "      <td>karnataka</td>\n",
       "      <td>belgaum</td>\n",
       "      <td>POLYGON ((3441889.619 3083540.901, 3441223.031...</td>\n",
       "      <td>2010</td>\n",
       "      <td>6</td>\n",
       "      <td>35.246572</td>\n",
       "      <td>34.924089</td>\n",
       "      <td>0.923383</td>\n",
       "      <td>0</td>\n",
       "      <td>34.299124</td>\n",
       "      <td>...</td>\n",
       "      <td>313.549617</td>\n",
       "      <td>332.450231</td>\n",
       "      <td>-5.685246</td>\n",
       "      <td>0</td>\n",
       "      <td>330.424175</td>\n",
       "      <td>-5.106938</td>\n",
       "      <td>0</td>\n",
       "      <td>0.0</td>\n",
       "      <td>west</td>\n",
       "      <td>monsoon</td>\n",
       "    </tr>\n",
       "    <tr>\n",
       "      <th>4</th>\n",
       "      <td>karnataka</td>\n",
       "      <td>belgaum</td>\n",
       "      <td>POLYGON ((3441889.619 3083540.901, 3441223.031...</td>\n",
       "      <td>2010</td>\n",
       "      <td>7</td>\n",
       "      <td>35.282390</td>\n",
       "      <td>35.246572</td>\n",
       "      <td>0.101619</td>\n",
       "      <td>0</td>\n",
       "      <td>34.924089</td>\n",
       "      <td>...</td>\n",
       "      <td>304.003108</td>\n",
       "      <td>313.549617</td>\n",
       "      <td>-3.044656</td>\n",
       "      <td>0</td>\n",
       "      <td>332.450231</td>\n",
       "      <td>-8.556807</td>\n",
       "      <td>0</td>\n",
       "      <td>0.0</td>\n",
       "      <td>west</td>\n",
       "      <td>monsoon</td>\n",
       "    </tr>\n",
       "  </tbody>\n",
       "</table>\n",
       "<p>5 rows × 29 columns</p>\n",
       "</div>"
      ],
      "text/plain": [
       "       state district                                           geometry  \\\n",
       "0  karnataka  belgaum  POLYGON ((3441889.619 3083540.901, 3441223.031...   \n",
       "1  karnataka  belgaum  POLYGON ((3441889.619 3083540.901, 3441223.031...   \n",
       "2  karnataka  belgaum  POLYGON ((3441889.619 3083540.901, 3441223.031...   \n",
       "3  karnataka  belgaum  POLYGON ((3441889.619 3083540.901, 3441223.031...   \n",
       "4  karnataka  belgaum  POLYGON ((3441889.619 3083540.901, 3441223.031...   \n",
       "\n",
       "   year month        sss   sss_1m_l  sss_c_1m_l sss_d_1m_l   sss_2m_l  ...  \\\n",
       "0  2010     3  34.027400  34.600696   -1.656890          0  35.335807  ...   \n",
       "1  2010     4  34.299124  34.027400    0.798544          0  34.600696  ...   \n",
       "2  2010     5  34.924089  34.299124    1.822104          1  34.027400  ...   \n",
       "3  2010     6  35.246572  34.924089    0.923383          0  34.299124  ...   \n",
       "4  2010     7  35.282390  35.246572    0.101619          0  34.924089  ...   \n",
       "\n",
       "          lst    lst_1m_l  lst_c_1m_l  lst_d_1m_l    lst_2m_l lst_c_2m_l  \\\n",
       "0  326.305884  320.030061    1.961011           1  314.014733   3.914196   \n",
       "1  330.424175  326.305884    1.262095           1  320.030061   3.247856   \n",
       "2  332.450231  330.424175    0.613168           0  326.305884   1.883002   \n",
       "3  313.549617  332.450231   -5.685246           0  330.424175  -5.106938   \n",
       "4  304.003108  313.549617   -3.044656           0  332.450231  -8.556807   \n",
       "\n",
       "   lst_d_2m_l  outbreak location       season  \n",
       "0           1       0.0     west  pre_monsoon  \n",
       "1           1       0.0     west  pre_monsoon  \n",
       "2           1       0.0     west  pre_monsoon  \n",
       "3           0       0.0     west      monsoon  \n",
       "4           0       0.0     west      monsoon  \n",
       "\n",
       "[5 rows x 29 columns]"
      ]
     },
     "execution_count": 150,
     "metadata": {},
     "output_type": "execute_result"
    }
   ],
   "source": [
    "train_test.head()"
   ]
  },
  {
   "cell_type": "markdown",
   "metadata": {},
   "source": [
    "## One-hot encode categorical features"
   ]
  },
  {
   "cell_type": "markdown",
   "metadata": {},
   "source": [
    "We also need to one-hot encode the categorical features in our data."
   ]
  },
  {
   "cell_type": "code",
   "execution_count": 151,
   "metadata": {
    "tags": []
   },
   "outputs": [],
   "source": [
    "location_dummies = pd.get_dummies(train_test['location'])"
   ]
  },
  {
   "cell_type": "code",
   "execution_count": 152,
   "metadata": {
    "tags": []
   },
   "outputs": [],
   "source": [
    "train_test = pd.concat([train_test, location_dummies], axis=1).drop('location', axis=1)"
   ]
  },
  {
   "cell_type": "code",
   "execution_count": 153,
   "metadata": {
    "tags": []
   },
   "outputs": [],
   "source": [
    "season_dummies = pd.get_dummies(train_test['season'])"
   ]
  },
  {
   "cell_type": "code",
   "execution_count": 154,
   "metadata": {
    "tags": []
   },
   "outputs": [],
   "source": [
    "train_test = pd.concat([train_test, season_dummies], axis=1).drop('season', axis=1)"
   ]
  },
  {
   "cell_type": "code",
   "execution_count": 155,
   "metadata": {},
   "outputs": [
    {
     "data": {
      "text/html": [
       "<div>\n",
       "<style scoped>\n",
       "    .dataframe tbody tr th:only-of-type {\n",
       "        vertical-align: middle;\n",
       "    }\n",
       "\n",
       "    .dataframe tbody tr th {\n",
       "        vertical-align: top;\n",
       "    }\n",
       "\n",
       "    .dataframe thead th {\n",
       "        text-align: right;\n",
       "    }\n",
       "</style>\n",
       "<table border=\"1\" class=\"dataframe\">\n",
       "  <thead>\n",
       "    <tr style=\"text-align: right;\">\n",
       "      <th></th>\n",
       "      <th>state</th>\n",
       "      <th>district</th>\n",
       "      <th>geometry</th>\n",
       "      <th>year</th>\n",
       "      <th>month</th>\n",
       "      <th>sss</th>\n",
       "      <th>sss_1m_l</th>\n",
       "      <th>sss_c_1m_l</th>\n",
       "      <th>sss_d_1m_l</th>\n",
       "      <th>sss_2m_l</th>\n",
       "      <th>...</th>\n",
       "      <th>lst_d_1m_l</th>\n",
       "      <th>lst_2m_l</th>\n",
       "      <th>lst_c_2m_l</th>\n",
       "      <th>lst_d_2m_l</th>\n",
       "      <th>outbreak</th>\n",
       "      <th>east</th>\n",
       "      <th>west</th>\n",
       "      <th>monsoon</th>\n",
       "      <th>post_monsoon</th>\n",
       "      <th>pre_monsoon</th>\n",
       "    </tr>\n",
       "  </thead>\n",
       "  <tbody>\n",
       "    <tr>\n",
       "      <th>0</th>\n",
       "      <td>karnataka</td>\n",
       "      <td>belgaum</td>\n",
       "      <td>POLYGON ((3441889.619 3083540.901, 3441223.031...</td>\n",
       "      <td>2010</td>\n",
       "      <td>3</td>\n",
       "      <td>34.027400</td>\n",
       "      <td>34.600696</td>\n",
       "      <td>-1.656890</td>\n",
       "      <td>0</td>\n",
       "      <td>35.335807</td>\n",
       "      <td>...</td>\n",
       "      <td>1</td>\n",
       "      <td>314.014733</td>\n",
       "      <td>3.914196</td>\n",
       "      <td>1</td>\n",
       "      <td>0.0</td>\n",
       "      <td>0</td>\n",
       "      <td>1</td>\n",
       "      <td>0</td>\n",
       "      <td>0</td>\n",
       "      <td>1</td>\n",
       "    </tr>\n",
       "    <tr>\n",
       "      <th>1</th>\n",
       "      <td>karnataka</td>\n",
       "      <td>belgaum</td>\n",
       "      <td>POLYGON ((3441889.619 3083540.901, 3441223.031...</td>\n",
       "      <td>2010</td>\n",
       "      <td>4</td>\n",
       "      <td>34.299124</td>\n",
       "      <td>34.027400</td>\n",
       "      <td>0.798544</td>\n",
       "      <td>0</td>\n",
       "      <td>34.600696</td>\n",
       "      <td>...</td>\n",
       "      <td>1</td>\n",
       "      <td>320.030061</td>\n",
       "      <td>3.247856</td>\n",
       "      <td>1</td>\n",
       "      <td>0.0</td>\n",
       "      <td>0</td>\n",
       "      <td>1</td>\n",
       "      <td>0</td>\n",
       "      <td>0</td>\n",
       "      <td>1</td>\n",
       "    </tr>\n",
       "    <tr>\n",
       "      <th>2</th>\n",
       "      <td>karnataka</td>\n",
       "      <td>belgaum</td>\n",
       "      <td>POLYGON ((3441889.619 3083540.901, 3441223.031...</td>\n",
       "      <td>2010</td>\n",
       "      <td>5</td>\n",
       "      <td>34.924089</td>\n",
       "      <td>34.299124</td>\n",
       "      <td>1.822104</td>\n",
       "      <td>1</td>\n",
       "      <td>34.027400</td>\n",
       "      <td>...</td>\n",
       "      <td>0</td>\n",
       "      <td>326.305884</td>\n",
       "      <td>1.883002</td>\n",
       "      <td>1</td>\n",
       "      <td>0.0</td>\n",
       "      <td>0</td>\n",
       "      <td>1</td>\n",
       "      <td>0</td>\n",
       "      <td>0</td>\n",
       "      <td>1</td>\n",
       "    </tr>\n",
       "    <tr>\n",
       "      <th>3</th>\n",
       "      <td>karnataka</td>\n",
       "      <td>belgaum</td>\n",
       "      <td>POLYGON ((3441889.619 3083540.901, 3441223.031...</td>\n",
       "      <td>2010</td>\n",
       "      <td>6</td>\n",
       "      <td>35.246572</td>\n",
       "      <td>34.924089</td>\n",
       "      <td>0.923383</td>\n",
       "      <td>0</td>\n",
       "      <td>34.299124</td>\n",
       "      <td>...</td>\n",
       "      <td>0</td>\n",
       "      <td>330.424175</td>\n",
       "      <td>-5.106938</td>\n",
       "      <td>0</td>\n",
       "      <td>0.0</td>\n",
       "      <td>0</td>\n",
       "      <td>1</td>\n",
       "      <td>1</td>\n",
       "      <td>0</td>\n",
       "      <td>0</td>\n",
       "    </tr>\n",
       "    <tr>\n",
       "      <th>4</th>\n",
       "      <td>karnataka</td>\n",
       "      <td>belgaum</td>\n",
       "      <td>POLYGON ((3441889.619 3083540.901, 3441223.031...</td>\n",
       "      <td>2010</td>\n",
       "      <td>7</td>\n",
       "      <td>35.282390</td>\n",
       "      <td>35.246572</td>\n",
       "      <td>0.101619</td>\n",
       "      <td>0</td>\n",
       "      <td>34.924089</td>\n",
       "      <td>...</td>\n",
       "      <td>0</td>\n",
       "      <td>332.450231</td>\n",
       "      <td>-8.556807</td>\n",
       "      <td>0</td>\n",
       "      <td>0.0</td>\n",
       "      <td>0</td>\n",
       "      <td>1</td>\n",
       "      <td>1</td>\n",
       "      <td>0</td>\n",
       "      <td>0</td>\n",
       "    </tr>\n",
       "  </tbody>\n",
       "</table>\n",
       "<p>5 rows × 32 columns</p>\n",
       "</div>"
      ],
      "text/plain": [
       "       state district                                           geometry  \\\n",
       "0  karnataka  belgaum  POLYGON ((3441889.619 3083540.901, 3441223.031...   \n",
       "1  karnataka  belgaum  POLYGON ((3441889.619 3083540.901, 3441223.031...   \n",
       "2  karnataka  belgaum  POLYGON ((3441889.619 3083540.901, 3441223.031...   \n",
       "3  karnataka  belgaum  POLYGON ((3441889.619 3083540.901, 3441223.031...   \n",
       "4  karnataka  belgaum  POLYGON ((3441889.619 3083540.901, 3441223.031...   \n",
       "\n",
       "   year month        sss   sss_1m_l  sss_c_1m_l sss_d_1m_l   sss_2m_l  ...  \\\n",
       "0  2010     3  34.027400  34.600696   -1.656890          0  35.335807  ...   \n",
       "1  2010     4  34.299124  34.027400    0.798544          0  34.600696  ...   \n",
       "2  2010     5  34.924089  34.299124    1.822104          1  34.027400  ...   \n",
       "3  2010     6  35.246572  34.924089    0.923383          0  34.299124  ...   \n",
       "4  2010     7  35.282390  35.246572    0.101619          0  34.924089  ...   \n",
       "\n",
       "   lst_d_1m_l    lst_2m_l  lst_c_2m_l  lst_d_2m_l  outbreak east  west  \\\n",
       "0           1  314.014733    3.914196           1       0.0    0     1   \n",
       "1           1  320.030061    3.247856           1       0.0    0     1   \n",
       "2           0  326.305884    1.883002           1       0.0    0     1   \n",
       "3           0  330.424175   -5.106938           0       0.0    0     1   \n",
       "4           0  332.450231   -8.556807           0       0.0    0     1   \n",
       "\n",
       "   monsoon post_monsoon  pre_monsoon  \n",
       "0        0            0            1  \n",
       "1        0            0            1  \n",
       "2        0            0            1  \n",
       "3        1            0            0  \n",
       "4        1            0            0  \n",
       "\n",
       "[5 rows x 32 columns]"
      ]
     },
     "execution_count": 155,
     "metadata": {},
     "output_type": "execute_result"
    }
   ],
   "source": [
    "train_test.head()"
   ]
  },
  {
   "cell_type": "markdown",
   "metadata": {},
   "source": [
    "## Save final geodataframe"
   ]
  },
  {
   "cell_type": "markdown",
   "metadata": {},
   "source": [
    "Finally, we save our data in shapefile format."
   ]
  },
  {
   "cell_type": "code",
   "execution_count": 156,
   "metadata": {
    "tags": []
   },
   "outputs": [],
   "source": [
    "train_test.to_file('../data/train_test.shp')"
   ]
  }
 ],
 "metadata": {
  "kernelspec": {
   "display_name": "Python 3",
   "language": "python",
   "name": "python3"
  },
  "language_info": {
   "codemirror_mode": {
    "name": "ipython",
    "version": 3
   },
   "file_extension": ".py",
   "mimetype": "text/x-python",
   "name": "python",
   "nbconvert_exporter": "python",
   "pygments_lexer": "ipython3",
   "version": "3.9.1"
  }
 },
 "nbformat": 4,
 "nbformat_minor": 4
}
