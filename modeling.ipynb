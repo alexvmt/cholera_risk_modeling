{
 "cells": [
  {
   "cell_type": "markdown",
   "metadata": {},
   "source": [
    "# modeling"
   ]
  },
  {
   "cell_type": "code",
   "execution_count": 1,
   "metadata": {},
   "outputs": [],
   "source": [
    "import pandas as pd\n",
    "import geopandas as gpd"
   ]
  },
  {
   "cell_type": "markdown",
   "metadata": {},
   "source": [
    "## load data"
   ]
  },
  {
   "cell_type": "code",
   "execution_count": 2,
   "metadata": {},
   "outputs": [],
   "source": [
    "train_test = gpd.read_file('../data/train_test.shp')"
   ]
  },
  {
   "cell_type": "code",
   "execution_count": 3,
   "metadata": {},
   "outputs": [
    {
     "data": {
      "text/plain": [
       "(4325, 19)"
      ]
     },
     "execution_count": 3,
     "metadata": {},
     "output_type": "execute_result"
    }
   ],
   "source": [
    "train_test.shape"
   ]
  },
  {
   "cell_type": "code",
   "execution_count": 4,
   "metadata": {},
   "outputs": [
    {
     "name": "stdout",
     "output_type": "stream",
     "text": [
      "<class 'geopandas.geodataframe.GeoDataFrame'>\n",
      "RangeIndex: 4325 entries, 0 to 4324\n",
      "Data columns (total 19 columns):\n",
      " #   Column      Non-Null Count  Dtype   \n",
      "---  ------      --------------  -----   \n",
      " 0   district    4325 non-null   object  \n",
      " 1   year        4325 non-null   object  \n",
      " 2   month       4325 non-null   object  \n",
      " 3   sss         4325 non-null   float64 \n",
      " 4   sss_lag_1   4325 non-null   float64 \n",
      " 5   sss_lag_2   4325 non-null   float64 \n",
      " 6   chlor_a     4325 non-null   float64 \n",
      " 7   chlor_a_la  4325 non-null   float64 \n",
      " 8   chlor_a__1  4325 non-null   float64 \n",
      " 9   lst         4325 non-null   float64 \n",
      " 10  lst_lag_1   4325 non-null   float64 \n",
      " 11  lst_lag_2   4325 non-null   float64 \n",
      " 12  outbreak    4325 non-null   float64 \n",
      " 13  location_e  4325 non-null   int64   \n",
      " 14  location_w  4325 non-null   int64   \n",
      " 15  season_mon  4325 non-null   int64   \n",
      " 16  season_pos  4325 non-null   int64   \n",
      " 17  season_pre  4325 non-null   int64   \n",
      " 18  geometry    4325 non-null   geometry\n",
      "dtypes: float64(10), geometry(1), int64(5), object(3)\n",
      "memory usage: 642.1+ KB\n"
     ]
    }
   ],
   "source": [
    "train_test.info()"
   ]
  },
  {
   "cell_type": "code",
   "execution_count": 5,
   "metadata": {},
   "outputs": [
    {
     "data": {
      "text/html": [
       "<div>\n",
       "<style scoped>\n",
       "    .dataframe tbody tr th:only-of-type {\n",
       "        vertical-align: middle;\n",
       "    }\n",
       "\n",
       "    .dataframe tbody tr th {\n",
       "        vertical-align: top;\n",
       "    }\n",
       "\n",
       "    .dataframe thead th {\n",
       "        text-align: right;\n",
       "    }\n",
       "</style>\n",
       "<table border=\"1\" class=\"dataframe\">\n",
       "  <thead>\n",
       "    <tr style=\"text-align: right;\">\n",
       "      <th></th>\n",
       "      <th>district</th>\n",
       "      <th>year</th>\n",
       "      <th>month</th>\n",
       "      <th>sss</th>\n",
       "      <th>sss_lag_1</th>\n",
       "      <th>sss_lag_2</th>\n",
       "      <th>chlor_a</th>\n",
       "      <th>chlor_a_la</th>\n",
       "      <th>chlor_a__1</th>\n",
       "      <th>lst</th>\n",
       "      <th>lst_lag_1</th>\n",
       "      <th>lst_lag_2</th>\n",
       "      <th>outbreak</th>\n",
       "      <th>location_e</th>\n",
       "      <th>location_w</th>\n",
       "      <th>season_mon</th>\n",
       "      <th>season_pos</th>\n",
       "      <th>season_pre</th>\n",
       "      <th>geometry</th>\n",
       "    </tr>\n",
       "  </thead>\n",
       "  <tbody>\n",
       "    <tr>\n",
       "      <th>0</th>\n",
       "      <td>belgaum</td>\n",
       "      <td>2010</td>\n",
       "      <td>3</td>\n",
       "      <td>34.027400</td>\n",
       "      <td>34.600696</td>\n",
       "      <td>35.335807</td>\n",
       "      <td>-0.503310</td>\n",
       "      <td>-0.470824</td>\n",
       "      <td>-0.067947</td>\n",
       "      <td>326.305884</td>\n",
       "      <td>320.030061</td>\n",
       "      <td>314.014733</td>\n",
       "      <td>0.0</td>\n",
       "      <td>0</td>\n",
       "      <td>1</td>\n",
       "      <td>0</td>\n",
       "      <td>0</td>\n",
       "      <td>1</td>\n",
       "      <td>POLYGON ((3511024.973 2988369.571, 3508809.558...</td>\n",
       "    </tr>\n",
       "    <tr>\n",
       "      <th>1</th>\n",
       "      <td>belgaum</td>\n",
       "      <td>2010</td>\n",
       "      <td>4</td>\n",
       "      <td>34.299124</td>\n",
       "      <td>34.027400</td>\n",
       "      <td>34.600696</td>\n",
       "      <td>-0.573133</td>\n",
       "      <td>-0.503310</td>\n",
       "      <td>-0.470824</td>\n",
       "      <td>330.424175</td>\n",
       "      <td>326.305884</td>\n",
       "      <td>320.030061</td>\n",
       "      <td>0.0</td>\n",
       "      <td>0</td>\n",
       "      <td>1</td>\n",
       "      <td>0</td>\n",
       "      <td>0</td>\n",
       "      <td>1</td>\n",
       "      <td>POLYGON ((3511024.973 2988369.571, 3508809.558...</td>\n",
       "    </tr>\n",
       "    <tr>\n",
       "      <th>2</th>\n",
       "      <td>belgaum</td>\n",
       "      <td>2010</td>\n",
       "      <td>5</td>\n",
       "      <td>34.924089</td>\n",
       "      <td>34.299124</td>\n",
       "      <td>34.027400</td>\n",
       "      <td>-0.488359</td>\n",
       "      <td>-0.573133</td>\n",
       "      <td>-0.503310</td>\n",
       "      <td>332.450231</td>\n",
       "      <td>330.424175</td>\n",
       "      <td>326.305884</td>\n",
       "      <td>0.0</td>\n",
       "      <td>0</td>\n",
       "      <td>1</td>\n",
       "      <td>0</td>\n",
       "      <td>0</td>\n",
       "      <td>1</td>\n",
       "      <td>POLYGON ((3511024.973 2988369.571, 3508809.558...</td>\n",
       "    </tr>\n",
       "    <tr>\n",
       "      <th>3</th>\n",
       "      <td>belgaum</td>\n",
       "      <td>2010</td>\n",
       "      <td>6</td>\n",
       "      <td>35.246572</td>\n",
       "      <td>34.924089</td>\n",
       "      <td>34.299124</td>\n",
       "      <td>-0.147612</td>\n",
       "      <td>-0.488359</td>\n",
       "      <td>-0.573133</td>\n",
       "      <td>313.549617</td>\n",
       "      <td>332.450231</td>\n",
       "      <td>330.424175</td>\n",
       "      <td>0.0</td>\n",
       "      <td>0</td>\n",
       "      <td>1</td>\n",
       "      <td>1</td>\n",
       "      <td>0</td>\n",
       "      <td>0</td>\n",
       "      <td>POLYGON ((3511024.973 2988369.571, 3508809.558...</td>\n",
       "    </tr>\n",
       "    <tr>\n",
       "      <th>4</th>\n",
       "      <td>belgaum</td>\n",
       "      <td>2010</td>\n",
       "      <td>7</td>\n",
       "      <td>35.282390</td>\n",
       "      <td>35.246572</td>\n",
       "      <td>34.924089</td>\n",
       "      <td>0.279714</td>\n",
       "      <td>-0.147612</td>\n",
       "      <td>-0.488359</td>\n",
       "      <td>304.003108</td>\n",
       "      <td>313.549617</td>\n",
       "      <td>332.450231</td>\n",
       "      <td>0.0</td>\n",
       "      <td>0</td>\n",
       "      <td>1</td>\n",
       "      <td>1</td>\n",
       "      <td>0</td>\n",
       "      <td>0</td>\n",
       "      <td>POLYGON ((3511024.973 2988369.571, 3508809.558...</td>\n",
       "    </tr>\n",
       "  </tbody>\n",
       "</table>\n",
       "</div>"
      ],
      "text/plain": [
       "  district  year month        sss  sss_lag_1  sss_lag_2   chlor_a  chlor_a_la  \\\n",
       "0  belgaum  2010     3  34.027400  34.600696  35.335807 -0.503310   -0.470824   \n",
       "1  belgaum  2010     4  34.299124  34.027400  34.600696 -0.573133   -0.503310   \n",
       "2  belgaum  2010     5  34.924089  34.299124  34.027400 -0.488359   -0.573133   \n",
       "3  belgaum  2010     6  35.246572  34.924089  34.299124 -0.147612   -0.488359   \n",
       "4  belgaum  2010     7  35.282390  35.246572  34.924089  0.279714   -0.147612   \n",
       "\n",
       "   chlor_a__1         lst   lst_lag_1   lst_lag_2  outbreak  location_e  \\\n",
       "0   -0.067947  326.305884  320.030061  314.014733       0.0           0   \n",
       "1   -0.470824  330.424175  326.305884  320.030061       0.0           0   \n",
       "2   -0.503310  332.450231  330.424175  326.305884       0.0           0   \n",
       "3   -0.573133  313.549617  332.450231  330.424175       0.0           0   \n",
       "4   -0.488359  304.003108  313.549617  332.450231       0.0           0   \n",
       "\n",
       "   location_w  season_mon  season_pos  season_pre  \\\n",
       "0           1           0           0           1   \n",
       "1           1           0           0           1   \n",
       "2           1           0           0           1   \n",
       "3           1           1           0           0   \n",
       "4           1           1           0           0   \n",
       "\n",
       "                                            geometry  \n",
       "0  POLYGON ((3511024.973 2988369.571, 3508809.558...  \n",
       "1  POLYGON ((3511024.973 2988369.571, 3508809.558...  \n",
       "2  POLYGON ((3511024.973 2988369.571, 3508809.558...  \n",
       "3  POLYGON ((3511024.973 2988369.571, 3508809.558...  \n",
       "4  POLYGON ((3511024.973 2988369.571, 3508809.558...  "
      ]
     },
     "execution_count": 5,
     "metadata": {},
     "output_type": "execute_result"
    }
   ],
   "source": [
    "train_test.head()"
   ]
  },
  {
   "cell_type": "markdown",
   "metadata": {},
   "source": [
    "## train test split"
   ]
  },
  {
   "cell_type": "code",
   "execution_count": 6,
   "metadata": {},
   "outputs": [],
   "source": [
    "from sklearn.model_selection import train_test_split"
   ]
  },
  {
   "cell_type": "code",
   "execution_count": 7,
   "metadata": {},
   "outputs": [],
   "source": [
    "districts = train_test[['district']]"
   ]
  },
  {
   "cell_type": "code",
   "execution_count": 8,
   "metadata": {},
   "outputs": [
    {
     "data": {
      "text/plain": [
       "district    51\n",
       "dtype: int64"
      ]
     },
     "execution_count": 8,
     "metadata": {},
     "output_type": "execute_result"
    }
   ],
   "source": [
    "districts.nunique()"
   ]
  },
  {
   "cell_type": "code",
   "execution_count": 9,
   "metadata": {},
   "outputs": [],
   "source": [
    "X = train_test.drop(['district', 'outbreak', 'geometry'], axis=1)"
   ]
  },
  {
   "cell_type": "code",
   "execution_count": 10,
   "metadata": {},
   "outputs": [],
   "source": [
    "y = train_test['outbreak']"
   ]
  },
  {
   "cell_type": "code",
   "execution_count": 11,
   "metadata": {},
   "outputs": [
    {
     "data": {
      "text/plain": [
       "0.0    4216\n",
       "1.0     109\n",
       "Name: outbreak, dtype: int64"
      ]
     },
     "execution_count": 11,
     "metadata": {},
     "output_type": "execute_result"
    }
   ],
   "source": [
    "y.value_counts()"
   ]
  },
  {
   "cell_type": "code",
   "execution_count": 12,
   "metadata": {},
   "outputs": [],
   "source": [
    "X_train, X_test, y_train, y_test = train_test_split(X, y, test_size=0.3, random_state=42)"
   ]
  },
  {
   "cell_type": "markdown",
   "metadata": {},
   "source": [
    "## random forest"
   ]
  },
  {
   "cell_type": "code",
   "execution_count": 13,
   "metadata": {},
   "outputs": [],
   "source": [
    "from sklearn.ensemble import RandomForestClassifier"
   ]
  },
  {
   "cell_type": "code",
   "execution_count": 14,
   "metadata": {},
   "outputs": [],
   "source": [
    "rf = RandomForestClassifier(n_estimators=50, random_state=42)"
   ]
  },
  {
   "cell_type": "code",
   "execution_count": 15,
   "metadata": {},
   "outputs": [
    {
     "name": "stdout",
     "output_type": "stream",
     "text": [
      "CPU times: user 414 ms, sys: 977 µs, total: 415 ms\n",
      "Wall time: 416 ms\n"
     ]
    },
    {
     "data": {
      "text/plain": [
       "RandomForestClassifier(n_estimators=50, random_state=42)"
      ]
     },
     "execution_count": 15,
     "metadata": {},
     "output_type": "execute_result"
    }
   ],
   "source": [
    "%%time\n",
    "\n",
    "rf.fit(X_train, y_train)"
   ]
  },
  {
   "cell_type": "code",
   "execution_count": 16,
   "metadata": {},
   "outputs": [],
   "source": [
    "y_pred = rf.predict(X_test)"
   ]
  },
  {
   "cell_type": "markdown",
   "metadata": {},
   "source": [
    "## evaluation"
   ]
  },
  {
   "cell_type": "code",
   "execution_count": 17,
   "metadata": {},
   "outputs": [],
   "source": [
    "from sklearn.metrics import confusion_matrix, classification_report, roc_auc_score, roc_curve\n",
    "from matplotlib import pyplot"
   ]
  },
  {
   "cell_type": "code",
   "execution_count": 18,
   "metadata": {},
   "outputs": [
    {
     "name": "stdout",
     "output_type": "stream",
     "text": [
      "[[1263    1]\n",
      " [  34    0]]\n"
     ]
    }
   ],
   "source": [
    "print(confusion_matrix(y_test, y_pred))"
   ]
  },
  {
   "cell_type": "code",
   "execution_count": 19,
   "metadata": {},
   "outputs": [
    {
     "name": "stdout",
     "output_type": "stream",
     "text": [
      "              precision    recall  f1-score   support\n",
      "\n",
      "         0.0       0.97      1.00      0.99      1264\n",
      "         1.0       0.00      0.00      0.00        34\n",
      "\n",
      "    accuracy                           0.97      1298\n",
      "   macro avg       0.49      0.50      0.49      1298\n",
      "weighted avg       0.95      0.97      0.96      1298\n",
      "\n"
     ]
    }
   ],
   "source": [
    "print(classification_report(y_test, y_pred))"
   ]
  },
  {
   "cell_type": "code",
   "execution_count": 20,
   "metadata": {},
   "outputs": [],
   "source": [
    "y_pred_proba = rf.predict_proba(X_test)[:, 1]"
   ]
  },
  {
   "cell_type": "code",
   "execution_count": 21,
   "metadata": {},
   "outputs": [],
   "source": [
    "auc = roc_auc_score(y_test, y_pred_proba)"
   ]
  },
  {
   "cell_type": "code",
   "execution_count": 22,
   "metadata": {},
   "outputs": [
    {
     "data": {
      "text/plain": [
       "0.5437569806403574"
      ]
     },
     "execution_count": 22,
     "metadata": {},
     "output_type": "execute_result"
    }
   ],
   "source": [
    "auc"
   ]
  },
  {
   "cell_type": "code",
   "execution_count": 23,
   "metadata": {},
   "outputs": [
    {
     "data": {
      "image/png": "[encoded data removed]",
      "text/plain": [
       "<Figure size 432x288 with 1 Axes>"
      ]
     },
     "metadata": {
      "needs_background": "light"
     },
     "output_type": "display_data"
    }
   ],
   "source": [
    "baseline = [0 for _ in range(len(y_test))]\n",
    "baseline_auc = roc_auc_score(y_test, baseline)\n",
    "\n",
    "baseline_fpr, baseline_tpr, _ = roc_curve(y_test, baseline)\n",
    "rf_fpr, rf_tpr, _ = roc_curve(y_test, y_pred_proba)\n",
    "\n",
    "pyplot.plot(baseline_fpr, baseline_tpr, linestyle='--', label='Baseline')\n",
    "pyplot.plot(rf_fpr, rf_tpr, marker='.', label='Random Forest')\n",
    "\n",
    "pyplot.xlabel('False Positive Rate')\n",
    "pyplot.ylabel('True Positive Rate')\n",
    "\n",
    "pyplot.legend()\n",
    "\n",
    "pyplot.show()"
   ]
  },
  {
   "cell_type": "markdown",
   "metadata": {},
   "source": [
    "## SMOTE"
   ]
  },
  {
   "cell_type": "code",
   "execution_count": 24,
   "metadata": {},
   "outputs": [],
   "source": [
    "from imblearn.over_sampling import SMOTE\n",
    "from imblearn.under_sampling import RandomUnderSampler\n",
    "from imblearn.pipeline import Pipeline"
   ]
  },
  {
   "cell_type": "code",
   "execution_count": 25,
   "metadata": {},
   "outputs": [],
   "source": [
    "oversample = SMOTE(sampling_strategy=0.1)\n",
    "X_train, y_train = oversample.fit_resample(X_train, y_train)"
   ]
  },
  {
   "cell_type": "code",
   "execution_count": 26,
   "metadata": {},
   "outputs": [
    {
     "data": {
      "text/plain": [
       "(3247, 16)"
      ]
     },
     "execution_count": 26,
     "metadata": {},
     "output_type": "execute_result"
    }
   ],
   "source": [
    "X_train.shape"
   ]
  },
  {
   "cell_type": "code",
   "execution_count": 27,
   "metadata": {},
   "outputs": [
    {
     "data": {
      "text/plain": [
       "0.0    2952\n",
       "1.0     295\n",
       "Name: outbreak, dtype: int64"
      ]
     },
     "execution_count": 27,
     "metadata": {},
     "output_type": "execute_result"
    }
   ],
   "source": [
    "y_train.value_counts()"
   ]
  },
  {
   "cell_type": "code",
   "execution_count": 28,
   "metadata": {},
   "outputs": [],
   "source": [
    "rf = RandomForestClassifier(n_estimators=50, random_state=42)"
   ]
  },
  {
   "cell_type": "code",
   "execution_count": 29,
   "metadata": {},
   "outputs": [
    {
     "name": "stdout",
     "output_type": "stream",
     "text": [
      "CPU times: user 365 ms, sys: 137 µs, total: 365 ms\n",
      "Wall time: 363 ms\n"
     ]
    },
    {
     "data": {
      "text/plain": [
       "RandomForestClassifier(n_estimators=50, random_state=42)"
      ]
     },
     "execution_count": 29,
     "metadata": {},
     "output_type": "execute_result"
    }
   ],
   "source": [
    "%%time\n",
    "\n",
    "rf.fit(X_train, y_train)"
   ]
  },
  {
   "cell_type": "code",
   "execution_count": 30,
   "metadata": {},
   "outputs": [],
   "source": [
    "y_pred = rf.predict(X_test)"
   ]
  },
  {
   "cell_type": "code",
   "execution_count": 31,
   "metadata": {},
   "outputs": [
    {
     "name": "stdout",
     "output_type": "stream",
     "text": [
      "[[1261    3]\n",
      " [  34    0]]\n"
     ]
    }
   ],
   "source": [
    "print(confusion_matrix(y_test, y_pred))"
   ]
  },
  {
   "cell_type": "code",
   "execution_count": 32,
   "metadata": {},
   "outputs": [
    {
     "name": "stdout",
     "output_type": "stream",
     "text": [
      "              precision    recall  f1-score   support\n",
      "\n",
      "         0.0       0.97      1.00      0.99      1264\n",
      "         1.0       0.00      0.00      0.00        34\n",
      "\n",
      "    accuracy                           0.97      1298\n",
      "   macro avg       0.49      0.50      0.49      1298\n",
      "weighted avg       0.95      0.97      0.96      1298\n",
      "\n"
     ]
    }
   ],
   "source": [
    "print(classification_report(y_test, y_pred))"
   ]
  },
  {
   "cell_type": "code",
   "execution_count": 33,
   "metadata": {},
   "outputs": [],
   "source": [
    "y_pred_proba = rf.predict_proba(X_test)[:, 1]"
   ]
  },
  {
   "cell_type": "code",
   "execution_count": 34,
   "metadata": {},
   "outputs": [],
   "source": [
    "auc = roc_auc_score(y_test, y_pred_proba)"
   ]
  },
  {
   "cell_type": "code",
   "execution_count": 35,
   "metadata": {},
   "outputs": [
    {
     "data": {
      "text/plain": [
       "0.5741576693968727"
      ]
     },
     "execution_count": 35,
     "metadata": {},
     "output_type": "execute_result"
    }
   ],
   "source": [
    "auc"
   ]
  },
  {
   "cell_type": "code",
   "execution_count": 36,
   "metadata": {},
   "outputs": [
    {
     "data": {
      "image/png": "[encoded data removed]",
      "text/plain": [
       "<Figure size 432x288 with 1 Axes>"
      ]
     },
     "metadata": {
      "needs_background": "light"
     },
     "output_type": "display_data"
    }
   ],
   "source": [
    "baseline = [0 for _ in range(len(y_test))]\n",
    "baseline_auc = roc_auc_score(y_test, baseline)\n",
    "\n",
    "baseline_fpr, baseline_tpr, _ = roc_curve(y_test, baseline)\n",
    "rf_fpr, rf_tpr, _ = roc_curve(y_test, y_pred_proba)\n",
    "\n",
    "pyplot.plot(baseline_fpr, baseline_tpr, linestyle='--', label='Baseline')\n",
    "pyplot.plot(rf_fpr, rf_tpr, marker='.', label='Random Forest')\n",
    "\n",
    "pyplot.xlabel('False Positive Rate')\n",
    "pyplot.ylabel('True Positive Rate')\n",
    "\n",
    "pyplot.legend()\n",
    "\n",
    "pyplot.show()"
   ]
  },
  {
   "cell_type": "markdown",
   "metadata": {},
   "source": [
    "## cross validation"
   ]
  },
  {
   "cell_type": "markdown",
   "metadata": {},
   "source": [
    "## hyperparameter tuning"
   ]
  }
 ],
 "metadata": {
  "kernelspec": {
   "display_name": "Python 3",
   "language": "python",
   "name": "python3"
  },
  "language_info": {
   "codemirror_mode": {
    "name": "ipython",
    "version": 3
   },
   "file_extension": ".py",
   "mimetype": "text/x-python",
   "name": "python",
   "nbconvert_exporter": "python",
   "pygments_lexer": "ipython3",
   "version": "3.9.1"
  }
 },
 "nbformat": 4,
 "nbformat_minor": 4
}
