{
 "cells": [
  {
   "cell_type": "markdown",
   "metadata": {},
   "source": [
    "# modeling"
   ]
  },
  {
   "cell_type": "code",
   "execution_count": 1,
   "metadata": {},
   "outputs": [],
   "source": [
    "import pandas as pd\n",
    "import geopandas as gpd"
   ]
  },
  {
   "cell_type": "markdown",
   "metadata": {},
   "source": [
    "## load data"
   ]
  },
  {
   "cell_type": "code",
   "execution_count": 2,
   "metadata": {},
   "outputs": [],
   "source": [
    "train_test = gpd.read_file('../data/train_test.shp')"
   ]
  },
  {
   "cell_type": "code",
   "execution_count": 3,
   "metadata": {},
   "outputs": [
    {
     "data": {
      "text/plain": [
       "(4325, 32)"
      ]
     },
     "execution_count": 3,
     "metadata": {},
     "output_type": "execute_result"
    }
   ],
   "source": [
    "train_test.shape"
   ]
  },
  {
   "cell_type": "code",
   "execution_count": 4,
   "metadata": {},
   "outputs": [
    {
     "name": "stdout",
     "output_type": "stream",
     "text": [
      "<class 'geopandas.geodataframe.GeoDataFrame'>\n",
      "RangeIndex: 4325 entries, 0 to 4324\n",
      "Data columns (total 32 columns):\n",
      " #   Column      Non-Null Count  Dtype   \n",
      "---  ------      --------------  -----   \n",
      " 0   state       4325 non-null   object  \n",
      " 1   district    4325 non-null   object  \n",
      " 2   year        4325 non-null   object  \n",
      " 3   month       4325 non-null   object  \n",
      " 4   sss         4325 non-null   float64 \n",
      " 5   sss_1m_l    4325 non-null   float64 \n",
      " 6   sss_c_1m_l  4325 non-null   float64 \n",
      " 7   sss_d_1m_l  4325 non-null   object  \n",
      " 8   sss_2m_l    4325 non-null   float64 \n",
      " 9   sss_c_2m_l  4325 non-null   float64 \n",
      " 10  sss_d_2m_l  4325 non-null   object  \n",
      " 11  chlora      4325 non-null   float64 \n",
      " 12  chlora_1m_  4325 non-null   float64 \n",
      " 13  chlora_c_1  4325 non-null   float64 \n",
      " 14  chlora_d_1  4325 non-null   object  \n",
      " 15  chlora_2m_  4325 non-null   float64 \n",
      " 16  chlora_c_2  4325 non-null   float64 \n",
      " 17  chlora_d_2  4325 non-null   object  \n",
      " 18  lst         4325 non-null   float64 \n",
      " 19  lst_1m_l    4325 non-null   float64 \n",
      " 20  lst_c_1m_l  4325 non-null   float64 \n",
      " 21  lst_d_1m_l  4325 non-null   object  \n",
      " 22  lst_2m_l    4325 non-null   float64 \n",
      " 23  lst_c_2m_l  4325 non-null   float64 \n",
      " 24  lst_d_2m_l  4325 non-null   object  \n",
      " 25  outbreak    4325 non-null   float64 \n",
      " 26  east        4325 non-null   int64   \n",
      " 27  west        4325 non-null   int64   \n",
      " 28  monsoon     4325 non-null   int64   \n",
      " 29  post_monso  4325 non-null   int64   \n",
      " 30  pre_monsoo  4325 non-null   int64   \n",
      " 31  geometry    4325 non-null   geometry\n",
      "dtypes: float64(16), geometry(1), int64(5), object(10)\n",
      "memory usage: 1.1+ MB\n"
     ]
    }
   ],
   "source": [
    "train_test.info()"
   ]
  },
  {
   "cell_type": "code",
   "execution_count": 5,
   "metadata": {},
   "outputs": [
    {
     "data": {
      "text/html": [
       "<div>\n",
       "<style scoped>\n",
       "    .dataframe tbody tr th:only-of-type {\n",
       "        vertical-align: middle;\n",
       "    }\n",
       "\n",
       "    .dataframe tbody tr th {\n",
       "        vertical-align: top;\n",
       "    }\n",
       "\n",
       "    .dataframe thead th {\n",
       "        text-align: right;\n",
       "    }\n",
       "</style>\n",
       "<table border=\"1\" class=\"dataframe\">\n",
       "  <thead>\n",
       "    <tr style=\"text-align: right;\">\n",
       "      <th></th>\n",
       "      <th>state</th>\n",
       "      <th>district</th>\n",
       "      <th>year</th>\n",
       "      <th>month</th>\n",
       "      <th>sss</th>\n",
       "      <th>sss_1m_l</th>\n",
       "      <th>sss_c_1m_l</th>\n",
       "      <th>sss_d_1m_l</th>\n",
       "      <th>sss_2m_l</th>\n",
       "      <th>sss_c_2m_l</th>\n",
       "      <th>...</th>\n",
       "      <th>lst_2m_l</th>\n",
       "      <th>lst_c_2m_l</th>\n",
       "      <th>lst_d_2m_l</th>\n",
       "      <th>outbreak</th>\n",
       "      <th>east</th>\n",
       "      <th>west</th>\n",
       "      <th>monsoon</th>\n",
       "      <th>post_monso</th>\n",
       "      <th>pre_monsoo</th>\n",
       "      <th>geometry</th>\n",
       "    </tr>\n",
       "  </thead>\n",
       "  <tbody>\n",
       "    <tr>\n",
       "      <th>0</th>\n",
       "      <td>karnataka</td>\n",
       "      <td>belgaum</td>\n",
       "      <td>2010</td>\n",
       "      <td>3</td>\n",
       "      <td>34.027400</td>\n",
       "      <td>34.600696</td>\n",
       "      <td>-1.656890</td>\n",
       "      <td>0</td>\n",
       "      <td>35.335807</td>\n",
       "      <td>-3.702779</td>\n",
       "      <td>...</td>\n",
       "      <td>314.014733</td>\n",
       "      <td>3.914196</td>\n",
       "      <td>1</td>\n",
       "      <td>0.0</td>\n",
       "      <td>0</td>\n",
       "      <td>1</td>\n",
       "      <td>0</td>\n",
       "      <td>0</td>\n",
       "      <td>1</td>\n",
       "      <td>POLYGON ((3441889.619 3083540.901, 3441223.031...</td>\n",
       "    </tr>\n",
       "    <tr>\n",
       "      <th>1</th>\n",
       "      <td>karnataka</td>\n",
       "      <td>belgaum</td>\n",
       "      <td>2010</td>\n",
       "      <td>4</td>\n",
       "      <td>34.299124</td>\n",
       "      <td>34.027400</td>\n",
       "      <td>0.798544</td>\n",
       "      <td>0</td>\n",
       "      <td>34.600696</td>\n",
       "      <td>-0.871577</td>\n",
       "      <td>...</td>\n",
       "      <td>320.030061</td>\n",
       "      <td>3.247856</td>\n",
       "      <td>1</td>\n",
       "      <td>0.0</td>\n",
       "      <td>0</td>\n",
       "      <td>1</td>\n",
       "      <td>0</td>\n",
       "      <td>0</td>\n",
       "      <td>1</td>\n",
       "      <td>POLYGON ((3441889.619 3083540.901, 3441223.031...</td>\n",
       "    </tr>\n",
       "    <tr>\n",
       "      <th>2</th>\n",
       "      <td>karnataka</td>\n",
       "      <td>belgaum</td>\n",
       "      <td>2010</td>\n",
       "      <td>5</td>\n",
       "      <td>34.924089</td>\n",
       "      <td>34.299124</td>\n",
       "      <td>1.822104</td>\n",
       "      <td>1</td>\n",
       "      <td>34.027400</td>\n",
       "      <td>2.635198</td>\n",
       "      <td>...</td>\n",
       "      <td>326.305884</td>\n",
       "      <td>1.883002</td>\n",
       "      <td>1</td>\n",
       "      <td>0.0</td>\n",
       "      <td>0</td>\n",
       "      <td>1</td>\n",
       "      <td>0</td>\n",
       "      <td>0</td>\n",
       "      <td>1</td>\n",
       "      <td>POLYGON ((3441889.619 3083540.901, 3441223.031...</td>\n",
       "    </tr>\n",
       "    <tr>\n",
       "      <th>3</th>\n",
       "      <td>karnataka</td>\n",
       "      <td>belgaum</td>\n",
       "      <td>2010</td>\n",
       "      <td>6</td>\n",
       "      <td>35.246572</td>\n",
       "      <td>34.924089</td>\n",
       "      <td>0.923383</td>\n",
       "      <td>0</td>\n",
       "      <td>34.299124</td>\n",
       "      <td>2.762312</td>\n",
       "      <td>...</td>\n",
       "      <td>330.424175</td>\n",
       "      <td>-5.106938</td>\n",
       "      <td>0</td>\n",
       "      <td>0.0</td>\n",
       "      <td>0</td>\n",
       "      <td>1</td>\n",
       "      <td>1</td>\n",
       "      <td>0</td>\n",
       "      <td>0</td>\n",
       "      <td>POLYGON ((3441889.619 3083540.901, 3441223.031...</td>\n",
       "    </tr>\n",
       "    <tr>\n",
       "      <th>4</th>\n",
       "      <td>karnataka</td>\n",
       "      <td>belgaum</td>\n",
       "      <td>2010</td>\n",
       "      <td>7</td>\n",
       "      <td>35.282390</td>\n",
       "      <td>35.246572</td>\n",
       "      <td>0.101619</td>\n",
       "      <td>0</td>\n",
       "      <td>34.924089</td>\n",
       "      <td>1.025940</td>\n",
       "      <td>...</td>\n",
       "      <td>332.450231</td>\n",
       "      <td>-8.556807</td>\n",
       "      <td>0</td>\n",
       "      <td>0.0</td>\n",
       "      <td>0</td>\n",
       "      <td>1</td>\n",
       "      <td>1</td>\n",
       "      <td>0</td>\n",
       "      <td>0</td>\n",
       "      <td>POLYGON ((3441889.619 3083540.901, 3441223.031...</td>\n",
       "    </tr>\n",
       "  </tbody>\n",
       "</table>\n",
       "<p>5 rows × 32 columns</p>\n",
       "</div>"
      ],
      "text/plain": [
       "       state district  year month        sss   sss_1m_l  sss_c_1m_l  \\\n",
       "0  karnataka  belgaum  2010     3  34.027400  34.600696   -1.656890   \n",
       "1  karnataka  belgaum  2010     4  34.299124  34.027400    0.798544   \n",
       "2  karnataka  belgaum  2010     5  34.924089  34.299124    1.822104   \n",
       "3  karnataka  belgaum  2010     6  35.246572  34.924089    0.923383   \n",
       "4  karnataka  belgaum  2010     7  35.282390  35.246572    0.101619   \n",
       "\n",
       "  sss_d_1m_l   sss_2m_l  sss_c_2m_l  ...    lst_2m_l  lst_c_2m_l  lst_d_2m_l  \\\n",
       "0          0  35.335807   -3.702779  ...  314.014733    3.914196           1   \n",
       "1          0  34.600696   -0.871577  ...  320.030061    3.247856           1   \n",
       "2          1  34.027400    2.635198  ...  326.305884    1.883002           1   \n",
       "3          0  34.299124    2.762312  ...  330.424175   -5.106938           0   \n",
       "4          0  34.924089    1.025940  ...  332.450231   -8.556807           0   \n",
       "\n",
       "   outbreak east  west  monsoon post_monso  pre_monsoo  \\\n",
       "0       0.0    0     1        0          0           1   \n",
       "1       0.0    0     1        0          0           1   \n",
       "2       0.0    0     1        0          0           1   \n",
       "3       0.0    0     1        1          0           0   \n",
       "4       0.0    0     1        1          0           0   \n",
       "\n",
       "                                            geometry  \n",
       "0  POLYGON ((3441889.619 3083540.901, 3441223.031...  \n",
       "1  POLYGON ((3441889.619 3083540.901, 3441223.031...  \n",
       "2  POLYGON ((3441889.619 3083540.901, 3441223.031...  \n",
       "3  POLYGON ((3441889.619 3083540.901, 3441223.031...  \n",
       "4  POLYGON ((3441889.619 3083540.901, 3441223.031...  \n",
       "\n",
       "[5 rows x 32 columns]"
      ]
     },
     "execution_count": 5,
     "metadata": {},
     "output_type": "execute_result"
    }
   ],
   "source": [
    "train_test.head()"
   ]
  },
  {
   "cell_type": "markdown",
   "metadata": {},
   "source": [
    "## train test split"
   ]
  },
  {
   "cell_type": "code",
   "execution_count": 6,
   "metadata": {},
   "outputs": [],
   "source": [
    "from sklearn.model_selection import train_test_split"
   ]
  },
  {
   "cell_type": "code",
   "execution_count": 7,
   "metadata": {},
   "outputs": [],
   "source": [
    "districts = train_test[['district']]"
   ]
  },
  {
   "cell_type": "code",
   "execution_count": 8,
   "metadata": {},
   "outputs": [
    {
     "data": {
      "text/plain": [
       "district    51\n",
       "dtype: int64"
      ]
     },
     "execution_count": 8,
     "metadata": {},
     "output_type": "execute_result"
    }
   ],
   "source": [
    "districts.nunique()"
   ]
  },
  {
   "cell_type": "code",
   "execution_count": 9,
   "metadata": {},
   "outputs": [],
   "source": [
    "X = train_test.drop(['state', 'district', 'year', 'month', 'outbreak', 'geometry'], axis=1)"
   ]
  },
  {
   "cell_type": "code",
   "execution_count": 10,
   "metadata": {},
   "outputs": [],
   "source": [
    "y = train_test['outbreak']"
   ]
  },
  {
   "cell_type": "code",
   "execution_count": 11,
   "metadata": {},
   "outputs": [
    {
     "data": {
      "text/plain": [
       "0.0    4216\n",
       "1.0     109\n",
       "Name: outbreak, dtype: int64"
      ]
     },
     "execution_count": 11,
     "metadata": {},
     "output_type": "execute_result"
    }
   ],
   "source": [
    "y.value_counts()"
   ]
  },
  {
   "cell_type": "code",
   "execution_count": 12,
   "metadata": {},
   "outputs": [],
   "source": [
    "X_train, X_test, y_train, y_test = train_test_split(X, y, test_size=0.3, random_state=42)"
   ]
  },
  {
   "cell_type": "markdown",
   "metadata": {},
   "source": [
    "## random forest"
   ]
  },
  {
   "cell_type": "code",
   "execution_count": 13,
   "metadata": {},
   "outputs": [],
   "source": [
    "from sklearn.ensemble import RandomForestClassifier"
   ]
  },
  {
   "cell_type": "code",
   "execution_count": 14,
   "metadata": {},
   "outputs": [],
   "source": [
    "rf = RandomForestClassifier(n_estimators=50, random_state=42)"
   ]
  },
  {
   "cell_type": "code",
   "execution_count": 15,
   "metadata": {},
   "outputs": [
    {
     "name": "stdout",
     "output_type": "stream",
     "text": [
      "CPU times: user 525 ms, sys: 109 µs, total: 525 ms\n",
      "Wall time: 528 ms\n"
     ]
    },
    {
     "data": {
      "text/plain": [
       "RandomForestClassifier(n_estimators=50, random_state=42)"
      ]
     },
     "execution_count": 15,
     "metadata": {},
     "output_type": "execute_result"
    }
   ],
   "source": [
    "%%time\n",
    "\n",
    "rf.fit(X_train, y_train)"
   ]
  },
  {
   "cell_type": "code",
   "execution_count": 16,
   "metadata": {},
   "outputs": [],
   "source": [
    "y_pred = rf.predict(X_test)"
   ]
  },
  {
   "cell_type": "markdown",
   "metadata": {},
   "source": [
    "## evaluation"
   ]
  },
  {
   "cell_type": "code",
   "execution_count": 17,
   "metadata": {},
   "outputs": [],
   "source": [
    "from sklearn.metrics import confusion_matrix, classification_report, roc_auc_score, roc_curve\n",
    "from matplotlib import pyplot"
   ]
  },
  {
   "cell_type": "code",
   "execution_count": 18,
   "metadata": {},
   "outputs": [
    {
     "name": "stdout",
     "output_type": "stream",
     "text": [
      "[[1263    1]\n",
      " [  34    0]]\n"
     ]
    }
   ],
   "source": [
    "print(confusion_matrix(y_test, y_pred))"
   ]
  },
  {
   "cell_type": "code",
   "execution_count": 19,
   "metadata": {},
   "outputs": [
    {
     "name": "stdout",
     "output_type": "stream",
     "text": [
      "              precision    recall  f1-score   support\n",
      "\n",
      "         0.0       0.97      1.00      0.99      1264\n",
      "         1.0       0.00      0.00      0.00        34\n",
      "\n",
      "    accuracy                           0.97      1298\n",
      "   macro avg       0.49      0.50      0.49      1298\n",
      "weighted avg       0.95      0.97      0.96      1298\n",
      "\n"
     ]
    }
   ],
   "source": [
    "print(classification_report(y_test, y_pred))"
   ]
  },
  {
   "cell_type": "code",
   "execution_count": 20,
   "metadata": {},
   "outputs": [],
   "source": [
    "y_pred_proba = rf.predict_proba(X_test)[:, 1]"
   ]
  },
  {
   "cell_type": "code",
   "execution_count": 21,
   "metadata": {},
   "outputs": [],
   "source": [
    "auc = roc_auc_score(y_test, y_pred_proba)"
   ]
  },
  {
   "cell_type": "code",
   "execution_count": 22,
   "metadata": {},
   "outputs": [
    {
     "data": {
      "text/plain": [
       "0.4472263588979895"
      ]
     },
     "execution_count": 22,
     "metadata": {},
     "output_type": "execute_result"
    }
   ],
   "source": [
    "auc"
   ]
  },
  {
   "cell_type": "code",
   "execution_count": 23,
   "metadata": {},
   "outputs": [
    {
     "data": {
      "image/png": "[encoded data removed]",
      "text/plain": [
       "<Figure size 432x288 with 1 Axes>"
      ]
     },
     "metadata": {
      "needs_background": "light"
     },
     "output_type": "display_data"
    }
   ],
   "source": [
    "baseline = [0 for _ in range(len(y_test))]\n",
    "baseline_auc = roc_auc_score(y_test, baseline)\n",
    "\n",
    "baseline_fpr, baseline_tpr, _ = roc_curve(y_test, baseline)\n",
    "rf_fpr, rf_tpr, _ = roc_curve(y_test, y_pred_proba)\n",
    "\n",
    "pyplot.plot(baseline_fpr, baseline_tpr, linestyle='--', label='Baseline')\n",
    "pyplot.plot(rf_fpr, rf_tpr, marker='.', label='Random Forest')\n",
    "\n",
    "pyplot.xlabel('False Positive Rate')\n",
    "pyplot.ylabel('True Positive Rate')\n",
    "\n",
    "pyplot.legend()\n",
    "\n",
    "pyplot.show()"
   ]
  },
  {
   "cell_type": "markdown",
   "metadata": {},
   "source": [
    "## SMOTE"
   ]
  },
  {
   "cell_type": "code",
   "execution_count": 24,
   "metadata": {},
   "outputs": [],
   "source": [
    "from imblearn.over_sampling import SMOTE\n",
    "from imblearn.under_sampling import RandomUnderSampler\n",
    "from imblearn.pipeline import Pipeline"
   ]
  },
  {
   "cell_type": "code",
   "execution_count": 25,
   "metadata": {},
   "outputs": [],
   "source": [
    "oversample = SMOTE(sampling_strategy=0.1)\n",
    "X_train, y_train = oversample.fit_resample(X_train, y_train)"
   ]
  },
  {
   "cell_type": "code",
   "execution_count": 26,
   "metadata": {},
   "outputs": [
    {
     "data": {
      "text/plain": [
       "(3247, 26)"
      ]
     },
     "execution_count": 26,
     "metadata": {},
     "output_type": "execute_result"
    }
   ],
   "source": [
    "X_train.shape"
   ]
  },
  {
   "cell_type": "code",
   "execution_count": 27,
   "metadata": {},
   "outputs": [
    {
     "data": {
      "text/plain": [
       "0.0    2952\n",
       "1.0     295\n",
       "Name: outbreak, dtype: int64"
      ]
     },
     "execution_count": 27,
     "metadata": {},
     "output_type": "execute_result"
    }
   ],
   "source": [
    "y_train.value_counts()"
   ]
  },
  {
   "cell_type": "code",
   "execution_count": 28,
   "metadata": {},
   "outputs": [],
   "source": [
    "rf = RandomForestClassifier(n_estimators=50, random_state=42)"
   ]
  },
  {
   "cell_type": "code",
   "execution_count": 29,
   "metadata": {},
   "outputs": [
    {
     "name": "stdout",
     "output_type": "stream",
     "text": [
      "CPU times: user 441 ms, sys: 3.69 ms, total: 445 ms\n",
      "Wall time: 444 ms\n"
     ]
    },
    {
     "data": {
      "text/plain": [
       "RandomForestClassifier(n_estimators=50, random_state=42)"
      ]
     },
     "execution_count": 29,
     "metadata": {},
     "output_type": "execute_result"
    }
   ],
   "source": [
    "%%time\n",
    "\n",
    "rf.fit(X_train, y_train)"
   ]
  },
  {
   "cell_type": "code",
   "execution_count": 30,
   "metadata": {},
   "outputs": [],
   "source": [
    "y_pred = rf.predict(X_test)"
   ]
  },
  {
   "cell_type": "code",
   "execution_count": 31,
   "metadata": {},
   "outputs": [
    {
     "name": "stdout",
     "output_type": "stream",
     "text": [
      "[[1263    1]\n",
      " [  34    0]]\n"
     ]
    }
   ],
   "source": [
    "print(confusion_matrix(y_test, y_pred))"
   ]
  },
  {
   "cell_type": "code",
   "execution_count": 32,
   "metadata": {},
   "outputs": [
    {
     "name": "stdout",
     "output_type": "stream",
     "text": [
      "              precision    recall  f1-score   support\n",
      "\n",
      "         0.0       0.97      1.00      0.99      1264\n",
      "         1.0       0.00      0.00      0.00        34\n",
      "\n",
      "    accuracy                           0.97      1298\n",
      "   macro avg       0.49      0.50      0.49      1298\n",
      "weighted avg       0.95      0.97      0.96      1298\n",
      "\n"
     ]
    }
   ],
   "source": [
    "print(classification_report(y_test, y_pred))"
   ]
  },
  {
   "cell_type": "code",
   "execution_count": 33,
   "metadata": {},
   "outputs": [],
   "source": [
    "y_pred_proba = rf.predict_proba(X_test)[:, 1]"
   ]
  },
  {
   "cell_type": "code",
   "execution_count": 34,
   "metadata": {},
   "outputs": [],
   "source": [
    "auc = roc_auc_score(y_test, y_pred_proba)"
   ]
  },
  {
   "cell_type": "code",
   "execution_count": 35,
   "metadata": {},
   "outputs": [
    {
     "data": {
      "text/plain": [
       "0.5570783693224126"
      ]
     },
     "execution_count": 35,
     "metadata": {},
     "output_type": "execute_result"
    }
   ],
   "source": [
    "auc"
   ]
  },
  {
   "cell_type": "code",
   "execution_count": 36,
   "metadata": {},
   "outputs": [
    {
     "data": {
      "image/png": "[encoded data removed]",
      "text/plain": [
       "<Figure size 432x288 with 1 Axes>"
      ]
     },
     "metadata": {
      "needs_background": "light"
     },
     "output_type": "display_data"
    }
   ],
   "source": [
    "baseline = [0 for _ in range(len(y_test))]\n",
    "baseline_auc = roc_auc_score(y_test, baseline)\n",
    "\n",
    "baseline_fpr, baseline_tpr, _ = roc_curve(y_test, baseline)\n",
    "rf_fpr, rf_tpr, _ = roc_curve(y_test, y_pred_proba)\n",
    "\n",
    "pyplot.plot(baseline_fpr, baseline_tpr, linestyle='--', label='Baseline')\n",
    "pyplot.plot(rf_fpr, rf_tpr, marker='.', label='Random Forest')\n",
    "\n",
    "pyplot.xlabel('False Positive Rate')\n",
    "pyplot.ylabel('True Positive Rate')\n",
    "\n",
    "pyplot.legend()\n",
    "\n",
    "pyplot.show()"
   ]
  }
 ],
 "metadata": {
  "kernelspec": {
   "display_name": "Python 3",
   "language": "python",
   "name": "python3"
  },
  "language_info": {
   "codemirror_mode": {
    "name": "ipython",
    "version": 3
   },
   "file_extension": ".py",
   "mimetype": "text/x-python",
   "name": "python",
   "nbconvert_exporter": "python",
   "pygments_lexer": "ipython3",
   "version": "3.9.1"
  }
 },
 "nbformat": 4,
 "nbformat_minor": 4
}
