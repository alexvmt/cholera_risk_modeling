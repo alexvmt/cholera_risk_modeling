{
 "cells": [
  {
   "cell_type": "markdown",
   "metadata": {},
   "source": [
    "# load pdfs and extract relevant text"
   ]
  },
  {
   "cell_type": "code",
   "execution_count": null,
   "metadata": {},
   "outputs": [],
   "source": [
    "import os\n",
    "import numpy as np\n",
    "import pandas as pd\n",
    "import PyPDF2\n",
    "import re"
   ]
  },
  {
   "cell_type": "code",
   "execution_count": null,
   "metadata": {},
   "outputs": [],
   "source": [
    "files_to_skip = ['52nd_wk_old.pdf',\n",
    "                 '11th_wk14_old.pdf']"
   ]
  },
  {
   "cell_type": "code",
   "execution_count": null,
   "metadata": {},
   "outputs": [],
   "source": [
    "years = ['2010',\n",
    "         '2011',\n",
    "         '2012',\n",
    "         '2013',\n",
    "         '2014',\n",
    "         '2015']"
   ]
  },
  {
   "cell_type": "code",
   "execution_count": null,
   "metadata": {},
   "outputs": [],
   "source": [
    "path = 'data/cholera_outbreaks/'"
   ]
  },
  {
   "cell_type": "code",
   "execution_count": null,
   "metadata": {
    "scrolled": true
   },
   "outputs": [],
   "source": [
    "%%time\n",
    "\n",
    "outbreaks_raw = []\n",
    "\n",
    "for year in years:\n",
    "    print('Processing year: {}...'.format(year))\n",
    "    (_, _, file_names) = next(os.walk(path+year))\n",
    "    file_names = np.setdiff1d(file_names, files_to_skip)\n",
    "    \n",
    "    for file in file_names:\n",
    "        print('Processing file: {}...'.format(file))\n",
    "        document = PyPDF2.PdfFileReader(path+year+'/'+file)\n",
    "        pages = document.getNumPages()\n",
    "        \n",
    "        for page in range(pages):\n",
    "            text = document.getPage(page).extractText()\n",
    "            text = re.sub('\\n', '', text)\n",
    "            text = text.split(' ')\n",
    "            text = [i for i in text if i != '']\n",
    "            text = [i.lower() for i in text]\n",
    "    \n",
    "            indices = [i for i, s in enumerate(text) if 'cholera' in s]\n",
    "        \n",
    "            if len(indices) > 0:\n",
    "                for index in indices:\n",
    "                    cholera_index = []\n",
    "                    cholera_index.append(index)\n",
    "                    index_list = np.arange(index-5,index).tolist() + cholera_index + np.arange(index+1,index+11).tolist()\n",
    "                    index_list = [i for i in index_list if i < len(text)]\n",
    "                    outbreak_info = [text[i] for i in index_list]\n",
    "                    outbreak_info.append(year+'/'+file)\n",
    "                    outbreaks_raw.append(outbreak_info)\n",
    "            else:\n",
    "                pass"
   ]
  },
  {
   "cell_type": "code",
   "execution_count": null,
   "metadata": {},
   "outputs": [],
   "source": [
    "outbreaks_raw = pd.DataFrame(outbreaks_raw)"
   ]
  },
  {
   "cell_type": "code",
   "execution_count": null,
   "metadata": {},
   "outputs": [],
   "source": [
    "outbreaks_raw.shape"
   ]
  },
  {
   "cell_type": "code",
   "execution_count": null,
   "metadata": {},
   "outputs": [],
   "source": [
    "outbreaks_raw.head()"
   ]
  },
  {
   "cell_type": "code",
   "execution_count": null,
   "metadata": {},
   "outputs": [],
   "source": [
    "column_names = []\n",
    "for i in range(outbreaks_raw.shape[1]):\n",
    "    column_names.append('col'+str(i))"
   ]
  },
  {
   "cell_type": "code",
   "execution_count": null,
   "metadata": {},
   "outputs": [],
   "source": [
    "outbreaks_raw.columns = column_names"
   ]
  },
  {
   "cell_type": "code",
   "execution_count": null,
   "metadata": {},
   "outputs": [],
   "source": [
    "outbreaks_raw.columns"
   ]
  },
  {
   "cell_type": "code",
   "execution_count": null,
   "metadata": {},
   "outputs": [],
   "source": [
    "outbreaks_raw.head()"
   ]
  },
  {
   "cell_type": "code",
   "execution_count": null,
   "metadata": {},
   "outputs": [],
   "source": [
    "outbreaks_raw = df.apply(lambda x: 'cholera' if 'cholera' in x else x)"
   ]
  },
  {
   "cell_type": "code",
   "execution_count": null,
   "metadata": {},
   "outputs": [],
   "source": [
    "for i in range(outbreaks_raw.shape[1]):\n",
    "    print('Column {} contains cholera: {}'.format(i, 'cholera' in outbreaks_raw.iloc[:,i].unique()))"
   ]
  },
  {
   "cell_type": "code",
   "execution_count": null,
   "metadata": {
    "scrolled": true
   },
   "outputs": [],
   "source": [
    "outbreaks_raw[outbreaks_raw.col1 == 'cholera']"
   ]
  },
  {
   "cell_type": "code",
   "execution_count": null,
   "metadata": {},
   "outputs": [],
   "source": [
    "outbreaks_raw[outbreaks_raw.col2 == 'cholera']"
   ]
  },
  {
   "cell_type": "code",
   "execution_count": null,
   "metadata": {},
   "outputs": [],
   "source": [
    "outbreaks_raw[outbreaks_raw.col6 == 'cholera']"
   ]
  },
  {
   "cell_type": "code",
   "execution_count": null,
   "metadata": {},
   "outputs": [],
   "source": [
    "outbreaks_raw[outbreaks_raw.col12 == 'cholera']"
   ]
  },
  {
   "cell_type": "code",
   "execution_count": null,
   "metadata": {},
   "outputs": [],
   "source": [
    "outbreaks_raw[outbreaks_raw.col14 == 'cholera']"
   ]
  },
  {
   "cell_type": "code",
   "execution_count": null,
   "metadata": {},
   "outputs": [],
   "source": [
    "outbreaks_raw[outbreaks_raw.col15 == 'cholera']"
   ]
  },
  {
   "cell_type": "code",
   "execution_count": null,
   "metadata": {},
   "outputs": [],
   "source": [
    "#pd.set_option('display.max_rows', None)\n",
    "#pd.set_option('display.max_columns', None)"
   ]
  },
  {
   "cell_type": "markdown",
   "metadata": {},
   "source": [
    "# clean cholera column"
   ]
  },
  {
   "cell_type": "code",
   "execution_count": null,
   "metadata": {},
   "outputs": [],
   "source": [
    "outbreaks_raw[outbreaks_raw.col5 == 'cholera'].shape"
   ]
  },
  {
   "cell_type": "code",
   "execution_count": null,
   "metadata": {},
   "outputs": [],
   "source": [
    "outbreaks_raw.col5.value_counts()"
   ]
  },
  {
   "cell_type": "code",
   "execution_count": null,
   "metadata": {},
   "outputs": [],
   "source": [
    "outbreaks_raw['col5_clean'] = outbreaks_raw.col5.apply(lambda x: 'cholera' if 'cholera' in x else x)"
   ]
  },
  {
   "cell_type": "code",
   "execution_count": null,
   "metadata": {},
   "outputs": [],
   "source": [
    "outbreaks_raw.col5_clean.unique()"
   ]
  },
  {
   "cell_type": "code",
   "execution_count": null,
   "metadata": {},
   "outputs": [],
   "source": [
    "outbreaks_raw[outbreaks_raw.col5_clean == 'cholera'].shape"
   ]
  },
  {
   "cell_type": "markdown",
   "metadata": {},
   "source": [
    "# filter outbreaks"
   ]
  },
  {
   "cell_type": "code",
   "execution_count": null,
   "metadata": {},
   "outputs": [],
   "source": [
    "outbreaks_raw['outbreak'] = outbreaks_raw.col6.apply(lambda x: 0 if re.search('[a-zA-Z]', x) else 1)"
   ]
  },
  {
   "cell_type": "code",
   "execution_count": null,
   "metadata": {},
   "outputs": [],
   "source": [
    "outbreaks = outbreaks_raw[outbreaks_raw.outbreak == 1].copy()"
   ]
  },
  {
   "cell_type": "code",
   "execution_count": null,
   "metadata": {},
   "outputs": [],
   "source": [
    "outbreaks.shape"
   ]
  },
  {
   "cell_type": "markdown",
   "metadata": {},
   "source": [
    "# extract start dates"
   ]
  },
  {
   "cell_type": "code",
   "execution_count": null,
   "metadata": {},
   "outputs": [],
   "source": [
    "outbreaks.columns"
   ]
  },
  {
   "cell_type": "code",
   "execution_count": null,
   "metadata": {},
   "outputs": [],
   "source": [
    "for col in outbreaks.columns[6:17]:\n",
    "    outbreaks[col+'_clean'] = outbreaks[col].apply(lambda x: None if (len(re.sub('[^0-9]', '', str(x))) < 6) | (len(re.sub('[^0-9]', '', str(x))) > 8) else re.sub('[^0-9]', '', str(x)))\n",
    "    outbreaks[col+'_clean'] = outbreaks[col+'_clean'].apply(lambda x: x if x is None else (x[:4] + '20' + x[4:] if len(x) == 6 else x))"
   ]
  },
  {
   "cell_type": "code",
   "execution_count": null,
   "metadata": {},
   "outputs": [],
   "source": [
    "outbreaks.columns"
   ]
  },
  {
   "cell_type": "code",
   "execution_count": null,
   "metadata": {},
   "outputs": [],
   "source": [
    "start_dates = []\n",
    "for i, row in outbreaks.iterrows():\n",
    "    dates = row[19:]\n",
    "    start_date = next((i for i in dates if i is not None), None)\n",
    "    start_dates.append(start_date)"
   ]
  },
  {
   "cell_type": "code",
   "execution_count": null,
   "metadata": {},
   "outputs": [],
   "source": [
    "outbreaks['start_date'] = start_dates"
   ]
  },
  {
   "cell_type": "code",
   "execution_count": null,
   "metadata": {},
   "outputs": [],
   "source": [
    "outbreaks.start_date.unique()"
   ]
  },
  {
   "cell_type": "markdown",
   "metadata": {},
   "source": [
    "# map outbreak month to season"
   ]
  },
  {
   "cell_type": "code",
   "execution_count": null,
   "metadata": {},
   "outputs": [],
   "source": [
    "outbreaks['outbreak_month'] = outbreaks.start_date.apply(lambda x: x[2:4])"
   ]
  },
  {
   "cell_type": "code",
   "execution_count": null,
   "metadata": {},
   "outputs": [],
   "source": [
    "outbreaks.head()"
   ]
  },
  {
   "cell_type": "code",
   "execution_count": null,
   "metadata": {},
   "outputs": [],
   "source": [
    "seasons = {'01': 'winter',\n",
    "           '02': 'winter',\n",
    "           '03': 'pre_monsoon',\n",
    "           '04': 'pre_monsoon',\n",
    "           '05': 'pre_monsoon',\n",
    "           '06': 'monsoon',\n",
    "           '07': 'monsoon',\n",
    "           '08': 'monsoon',\n",
    "           '09': 'monsoon',\n",
    "           '10': 'post_monsoon',\n",
    "           '11': 'post_monsoon',\n",
    "           '12': 'post_monsoon'}"
   ]
  },
  {
   "cell_type": "code",
   "execution_count": null,
   "metadata": {},
   "outputs": [],
   "source": [
    "outbreaks['season'] = outbreaks.outbreak_month.map(seasons)"
   ]
  },
  {
   "cell_type": "code",
   "execution_count": null,
   "metadata": {},
   "outputs": [],
   "source": [
    "outbreaks.head()"
   ]
  },
  {
   "cell_type": "markdown",
   "metadata": {},
   "source": [
    "# map states and districts"
   ]
  },
  {
   "cell_type": "code",
   "execution_count": 1,
   "metadata": {},
   "outputs": [],
   "source": [
    "import geopandas as gpd\n",
    "import requests\n",
    "import zipfile\n",
    "import io"
   ]
  },
  {
   "cell_type": "code",
   "execution_count": null,
   "metadata": {},
   "outputs": [],
   "source": [
    "import os"
   ]
  },
  {
   "cell_type": "code",
   "execution_count": 8,
   "metadata": {},
   "outputs": [
    {
     "data": {
      "text/plain": [
       "['extract_outbreaks_from_pdfs.ipynb',\n",
       " 'data',\n",
       " '.ipynb_checkpoints',\n",
       " 'download_cholera_outbreaks_pdfs.py',\n",
       " 'ijerph-17-09378-v2.pdf',\n",
       " 'download_cholera_outbreaks_pdfs.ipynb']"
      ]
     },
     "execution_count": 8,
     "metadata": {},
     "output_type": "execute_result"
    }
   ],
   "source": [
    "os.listdir()"
   ]
  },
  {
   "cell_type": "code",
   "execution_count": 9,
   "metadata": {},
   "outputs": [],
   "source": [
    "os.chdir('data')"
   ]
  },
  {
   "cell_type": "code",
   "execution_count": 10,
   "metadata": {},
   "outputs": [
    {
     "data": {
      "text/plain": [
       "['gadm36_IND_shp', 'gadm36_IND_shp.zip', 'cholera_outbreaks']"
      ]
     },
     "execution_count": 10,
     "metadata": {},
     "output_type": "execute_result"
    }
   ],
   "source": [
    "os.listdir()"
   ]
  },
  {
   "cell_type": "code",
   "execution_count": 11,
   "metadata": {},
   "outputs": [],
   "source": [
    "directory = 'gadm36_IND_shp/'"
   ]
  },
  {
   "cell_type": "code",
   "execution_count": 12,
   "metadata": {},
   "outputs": [],
   "source": [
    "file = 'gadm36_IND_2.shp'"
   ]
  },
  {
   "cell_type": "code",
   "execution_count": 14,
   "metadata": {},
   "outputs": [],
   "source": [
    "india = gpd.read_file(directory+file)"
   ]
  },
  {
   "cell_type": "code",
   "execution_count": 15,
   "metadata": {},
   "outputs": [
    {
     "name": "stdout",
     "output_type": "stream",
     "text": [
      "Shape of the dataframe: (666, 14)\n",
      "Projection of dataframe: {'init': 'epsg:4326'}\n"
     ]
    },
    {
     "data": {
      "text/html": [
       "<div>\n",
       "<style scoped>\n",
       "    .dataframe tbody tr th:only-of-type {\n",
       "        vertical-align: middle;\n",
       "    }\n",
       "\n",
       "    .dataframe tbody tr th {\n",
       "        vertical-align: top;\n",
       "    }\n",
       "\n",
       "    .dataframe thead th {\n",
       "        text-align: right;\n",
       "    }\n",
       "</style>\n",
       "<table border=\"1\" class=\"dataframe\">\n",
       "  <thead>\n",
       "    <tr style=\"text-align: right;\">\n",
       "      <th></th>\n",
       "      <th>GID_0</th>\n",
       "      <th>NAME_0</th>\n",
       "      <th>GID_1</th>\n",
       "      <th>NAME_1</th>\n",
       "      <th>NL_NAME_1</th>\n",
       "      <th>GID_2</th>\n",
       "      <th>NAME_2</th>\n",
       "      <th>VARNAME_2</th>\n",
       "      <th>NL_NAME_2</th>\n",
       "      <th>TYPE_2</th>\n",
       "      <th>ENGTYPE_2</th>\n",
       "      <th>CC_2</th>\n",
       "      <th>HASC_2</th>\n",
       "      <th>geometry</th>\n",
       "    </tr>\n",
       "  </thead>\n",
       "  <tbody>\n",
       "    <tr>\n",
       "      <th>661</th>\n",
       "      <td>IND</td>\n",
       "      <td>India</td>\n",
       "      <td>IND.36_1</td>\n",
       "      <td>West Bengal</td>\n",
       "      <td>None</td>\n",
       "      <td>IND.36.16_1</td>\n",
       "      <td>Pashchim Medinipur</td>\n",
       "      <td>Paschim Medinipur</td>\n",
       "      <td>None</td>\n",
       "      <td>District</td>\n",
       "      <td>District</td>\n",
       "      <td>None</td>\n",
       "      <td>IN.WB.WM</td>\n",
       "      <td>POLYGON ((87.22874 21.95608, 87.22562 21.95712...</td>\n",
       "    </tr>\n",
       "    <tr>\n",
       "      <th>662</th>\n",
       "      <td>IND</td>\n",
       "      <td>India</td>\n",
       "      <td>IND.36_1</td>\n",
       "      <td>West Bengal</td>\n",
       "      <td>None</td>\n",
       "      <td>IND.36.17_1</td>\n",
       "      <td>Purba Medinipur</td>\n",
       "      <td>Purba Medinipur</td>\n",
       "      <td>None</td>\n",
       "      <td>District</td>\n",
       "      <td>District</td>\n",
       "      <td>None</td>\n",
       "      <td>IN.WB.EM</td>\n",
       "      <td>MULTIPOLYGON (((87.98972 22.21750, 87.99028 22...</td>\n",
       "    </tr>\n",
       "    <tr>\n",
       "      <th>663</th>\n",
       "      <td>IND</td>\n",
       "      <td>India</td>\n",
       "      <td>IND.36_1</td>\n",
       "      <td>West Bengal</td>\n",
       "      <td>None</td>\n",
       "      <td>IND.36.18_1</td>\n",
       "      <td>Puruliya</td>\n",
       "      <td>None</td>\n",
       "      <td>None</td>\n",
       "      <td>District</td>\n",
       "      <td>District</td>\n",
       "      <td>None</td>\n",
       "      <td>IN.WB.PU</td>\n",
       "      <td>POLYGON ((85.88916 23.15176, 85.88641 23.15335...</td>\n",
       "    </tr>\n",
       "    <tr>\n",
       "      <th>664</th>\n",
       "      <td>IND</td>\n",
       "      <td>India</td>\n",
       "      <td>IND.36_1</td>\n",
       "      <td>West Bengal</td>\n",
       "      <td>None</td>\n",
       "      <td>IND.36.19_1</td>\n",
       "      <td>South 24 Parganas</td>\n",
       "      <td>None</td>\n",
       "      <td>None</td>\n",
       "      <td>District</td>\n",
       "      <td>District</td>\n",
       "      <td>None</td>\n",
       "      <td>IN.WB.PS</td>\n",
       "      <td>MULTIPOLYGON (((88.01861 21.57278, 88.01889 21...</td>\n",
       "    </tr>\n",
       "    <tr>\n",
       "      <th>665</th>\n",
       "      <td>IND</td>\n",
       "      <td>India</td>\n",
       "      <td>IND.36_1</td>\n",
       "      <td>West Bengal</td>\n",
       "      <td>None</td>\n",
       "      <td>IND.36.20_1</td>\n",
       "      <td>Uttar Dinajpur</td>\n",
       "      <td>None</td>\n",
       "      <td>None</td>\n",
       "      <td>District</td>\n",
       "      <td>District</td>\n",
       "      <td>None</td>\n",
       "      <td>IN.WB.UD</td>\n",
       "      <td>MULTIPOLYGON (((88.45434 25.66317, 88.45428 25...</td>\n",
       "    </tr>\n",
       "  </tbody>\n",
       "</table>\n",
       "</div>"
      ],
      "text/plain": [
       "    GID_0 NAME_0     GID_1       NAME_1 NL_NAME_1        GID_2  \\\n",
       "661   IND  India  IND.36_1  West Bengal      None  IND.36.16_1   \n",
       "662   IND  India  IND.36_1  West Bengal      None  IND.36.17_1   \n",
       "663   IND  India  IND.36_1  West Bengal      None  IND.36.18_1   \n",
       "664   IND  India  IND.36_1  West Bengal      None  IND.36.19_1   \n",
       "665   IND  India  IND.36_1  West Bengal      None  IND.36.20_1   \n",
       "\n",
       "                 NAME_2          VARNAME_2 NL_NAME_2    TYPE_2 ENGTYPE_2  \\\n",
       "661  Pashchim Medinipur  Paschim Medinipur      None  District  District   \n",
       "662     Purba Medinipur    Purba Medinipur      None  District  District   \n",
       "663            Puruliya               None      None  District  District   \n",
       "664   South 24 Parganas               None      None  District  District   \n",
       "665      Uttar Dinajpur               None      None  District  District   \n",
       "\n",
       "     CC_2    HASC_2                                           geometry  \n",
       "661  None  IN.WB.WM  POLYGON ((87.22874 21.95608, 87.22562 21.95712...  \n",
       "662  None  IN.WB.EM  MULTIPOLYGON (((87.98972 22.21750, 87.99028 22...  \n",
       "663  None  IN.WB.PU  POLYGON ((85.88916 23.15176, 85.88641 23.15335...  \n",
       "664  None  IN.WB.PS  MULTIPOLYGON (((88.01861 21.57278, 88.01889 21...  \n",
       "665  None  IN.WB.UD  MULTIPOLYGON (((88.45434 25.66317, 88.45428 25...  "
      ]
     },
     "execution_count": 15,
     "metadata": {},
     "output_type": "execute_result"
    }
   ],
   "source": [
    "print(\"Shape of the dataframe: {}\".format(india.shape))\n",
    "print(\"Projection of dataframe: {}\".format(india.crs))\n",
    "india.tail() #last 5 records in dataframe"
   ]
  },
  {
   "cell_type": "code",
   "execution_count": 16,
   "metadata": {},
   "outputs": [],
   "source": [
    "states_districts = india[['NAME_1', 'NAME_2']]"
   ]
  },
  {
   "cell_type": "code",
   "execution_count": 19,
   "metadata": {},
   "outputs": [],
   "source": [
    "states_districts.columns = ['State', 'District']"
   ]
  },
  {
   "cell_type": "code",
   "execution_count": 20,
   "metadata": {},
   "outputs": [
    {
     "data": {
      "text/plain": [
       "36"
      ]
     },
     "execution_count": 20,
     "metadata": {},
     "output_type": "execute_result"
    }
   ],
   "source": [
    "states_districts.State.nunique()"
   ]
  },
  {
   "cell_type": "code",
   "execution_count": 21,
   "metadata": {},
   "outputs": [
    {
     "data": {
      "text/plain": [
       "659"
      ]
     },
     "execution_count": 21,
     "metadata": {},
     "output_type": "execute_result"
    }
   ],
   "source": [
    "states_districts.District.nunique()"
   ]
  },
  {
   "cell_type": "code",
   "execution_count": 18,
   "metadata": {},
   "outputs": [
    {
     "data": {
      "text/html": [
       "<div>\n",
       "<style scoped>\n",
       "    .dataframe tbody tr th:only-of-type {\n",
       "        vertical-align: middle;\n",
       "    }\n",
       "\n",
       "    .dataframe tbody tr th {\n",
       "        vertical-align: top;\n",
       "    }\n",
       "\n",
       "    .dataframe thead th {\n",
       "        text-align: right;\n",
       "    }\n",
       "</style>\n",
       "<table border=\"1\" class=\"dataframe\">\n",
       "  <thead>\n",
       "    <tr style=\"text-align: right;\">\n",
       "      <th></th>\n",
       "      <th>NAME_1</th>\n",
       "      <th>NAME_2</th>\n",
       "    </tr>\n",
       "  </thead>\n",
       "  <tbody>\n",
       "    <tr>\n",
       "      <th>0</th>\n",
       "      <td>Andaman and Nicobar</td>\n",
       "      <td>Nicobar Islands</td>\n",
       "    </tr>\n",
       "    <tr>\n",
       "      <th>1</th>\n",
       "      <td>Andaman and Nicobar</td>\n",
       "      <td>North and Middle Andaman</td>\n",
       "    </tr>\n",
       "    <tr>\n",
       "      <th>2</th>\n",
       "      <td>Andaman and Nicobar</td>\n",
       "      <td>South Andaman</td>\n",
       "    </tr>\n",
       "    <tr>\n",
       "      <th>3</th>\n",
       "      <td>Andhra Pradesh</td>\n",
       "      <td>Anantapur</td>\n",
       "    </tr>\n",
       "    <tr>\n",
       "      <th>4</th>\n",
       "      <td>Andhra Pradesh</td>\n",
       "      <td>Chittoor</td>\n",
       "    </tr>\n",
       "    <tr>\n",
       "      <th>...</th>\n",
       "      <td>...</td>\n",
       "      <td>...</td>\n",
       "    </tr>\n",
       "    <tr>\n",
       "      <th>661</th>\n",
       "      <td>West Bengal</td>\n",
       "      <td>Pashchim Medinipur</td>\n",
       "    </tr>\n",
       "    <tr>\n",
       "      <th>662</th>\n",
       "      <td>West Bengal</td>\n",
       "      <td>Purba Medinipur</td>\n",
       "    </tr>\n",
       "    <tr>\n",
       "      <th>663</th>\n",
       "      <td>West Bengal</td>\n",
       "      <td>Puruliya</td>\n",
       "    </tr>\n",
       "    <tr>\n",
       "      <th>664</th>\n",
       "      <td>West Bengal</td>\n",
       "      <td>South 24 Parganas</td>\n",
       "    </tr>\n",
       "    <tr>\n",
       "      <th>665</th>\n",
       "      <td>West Bengal</td>\n",
       "      <td>Uttar Dinajpur</td>\n",
       "    </tr>\n",
       "  </tbody>\n",
       "</table>\n",
       "<p>666 rows × 2 columns</p>\n",
       "</div>"
      ],
      "text/plain": [
       "                  NAME_1                    NAME_2\n",
       "0    Andaman and Nicobar           Nicobar Islands\n",
       "1    Andaman and Nicobar  North and Middle Andaman\n",
       "2    Andaman and Nicobar             South Andaman\n",
       "3         Andhra Pradesh                 Anantapur\n",
       "4         Andhra Pradesh                  Chittoor\n",
       "..                   ...                       ...\n",
       "661          West Bengal        Pashchim Medinipur\n",
       "662          West Bengal           Purba Medinipur\n",
       "663          West Bengal                  Puruliya\n",
       "664          West Bengal         South 24 Parganas\n",
       "665          West Bengal            Uttar Dinajpur\n",
       "\n",
       "[666 rows x 2 columns]"
      ]
     },
     "execution_count": 18,
     "metadata": {},
     "output_type": "execute_result"
    }
   ],
   "source": [
    "states_districts.drop_duplicates()"
   ]
  },
  {
   "cell_type": "code",
   "execution_count": 22,
   "metadata": {},
   "outputs": [
    {
     "data": {
      "text/plain": [
       "Uttar Pradesh             75\n",
       "Madhya Pradesh            51\n",
       "Bihar                     38\n",
       "Maharashtra               36\n",
       "Gujarat                   33\n",
       "Rajasthan                 33\n",
       "Tamil Nadu                32\n",
       "Odisha                    30\n",
       "Karnataka                 30\n",
       "Assam                     27\n",
       "Chhattisgarh              27\n",
       "Jharkhand                 24\n",
       "Jammu and Kashmir         22\n",
       "Punjab                    22\n",
       "Haryana                   21\n",
       "West Bengal               20\n",
       "Arunachal Pradesh         18\n",
       "Kerala                    14\n",
       "Uttarakhand               13\n",
       "Andhra Pradesh            13\n",
       "Himachal Pradesh          12\n",
       "Nagaland                  11\n",
       "Telangana                 10\n",
       "Meghalaya                 10\n",
       "Manipur                    9\n",
       "Mizoram                    8\n",
       "Tripura                    8\n",
       "Sikkim                     4\n",
       "Puducherry                 4\n",
       "Andaman and Nicobar        3\n",
       "Goa                        2\n",
       "Daman and Diu              2\n",
       "NCT of Delhi               1\n",
       "Dadra and Nagar Haveli     1\n",
       "Chandigarh                 1\n",
       "Lakshadweep                1\n",
       "Name: State, dtype: int64"
      ]
     },
     "execution_count": 22,
     "metadata": {},
     "output_type": "execute_result"
    }
   ],
   "source": [
    "states_districts.State.value_counts()"
   ]
  },
  {
   "cell_type": "code",
   "execution_count": 23,
   "metadata": {},
   "outputs": [
    {
     "data": {
      "text/plain": [
       "Balrampur       2\n",
       "Pratapgarh      2\n",
       "Raigarh         2\n",
       "Aurangabad      2\n",
       "Hamirpur        2\n",
       "               ..\n",
       "Yadgir          1\n",
       "West Tripura    1\n",
       "Kishanganj      1\n",
       "Tapi            1\n",
       "Pilibhit        1\n",
       "Name: District, Length: 659, dtype: int64"
      ]
     },
     "execution_count": 23,
     "metadata": {},
     "output_type": "execute_result"
    }
   ],
   "source": [
    "states_districts.District.value_counts()"
   ]
  },
  {
   "cell_type": "code",
   "execution_count": 25,
   "metadata": {},
   "outputs": [
    {
     "data": {
      "text/html": [
       "<div>\n",
       "<style scoped>\n",
       "    .dataframe tbody tr th:only-of-type {\n",
       "        vertical-align: middle;\n",
       "    }\n",
       "\n",
       "    .dataframe tbody tr th {\n",
       "        vertical-align: top;\n",
       "    }\n",
       "\n",
       "    .dataframe thead th {\n",
       "        text-align: right;\n",
       "    }\n",
       "</style>\n",
       "<table border=\"1\" class=\"dataframe\">\n",
       "  <thead>\n",
       "    <tr style=\"text-align: right;\">\n",
       "      <th></th>\n",
       "      <th>State</th>\n",
       "      <th>District</th>\n",
       "    </tr>\n",
       "  </thead>\n",
       "  <tbody>\n",
       "    <tr>\n",
       "      <th>102</th>\n",
       "      <td>Chhattisgarh</td>\n",
       "      <td>Balrampur</td>\n",
       "    </tr>\n",
       "    <tr>\n",
       "      <th>569</th>\n",
       "      <td>Uttar Pradesh</td>\n",
       "      <td>Balrampur</td>\n",
       "    </tr>\n",
       "  </tbody>\n",
       "</table>\n",
       "</div>"
      ],
      "text/plain": [
       "             State   District\n",
       "102   Chhattisgarh  Balrampur\n",
       "569  Uttar Pradesh  Balrampur"
      ]
     },
     "execution_count": 25,
     "metadata": {},
     "output_type": "execute_result"
    }
   ],
   "source": [
    "states_districts[states_districts.District == 'Balrampur']"
   ]
  },
  {
   "cell_type": "code",
   "execution_count": null,
   "metadata": {},
   "outputs": [],
   "source": [
    "# map states and districts (concat col0 - col4, remove non-state and -district strings)\n",
    "# aggregate outbreaks by district and month"
   ]
  }
 ],
 "metadata": {
  "kernelspec": {
   "display_name": "Python 3",
   "language": "python",
   "name": "python3"
  },
  "language_info": {
   "codemirror_mode": {
    "name": "ipython",
    "version": 3
   },
   "file_extension": ".py",
   "mimetype": "text/x-python",
   "name": "python",
   "nbconvert_exporter": "python",
   "pygments_lexer": "ipython3",
   "version": "3.7.6"
  }
 },
 "nbformat": 4,
 "nbformat_minor": 4
}
