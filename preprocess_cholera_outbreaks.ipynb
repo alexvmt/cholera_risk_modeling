{
 "cells": [
  {
   "cell_type": "markdown",
   "metadata": {},
   "source": [
    "# preprocess cholera outbreaks"
   ]
  },
  {
   "cell_type": "code",
   "execution_count": null,
   "metadata": {
    "execution": {
     "iopub.execute_input": "2021-02-15T20:50:03.327418Z",
     "iopub.status.busy": "2021-02-15T20:50:03.325797Z",
     "iopub.status.idle": "2021-02-15T20:50:03.893446Z",
     "shell.execute_reply": "2021-02-15T20:50:03.894092Z"
    }
   },
   "outputs": [],
   "source": [
    "import os\n",
    "import numpy as np\n",
    "import pandas as pd\n",
    "import PyPDF2\n",
    "import re\n",
    "import geopandas as gpd\n",
    "import requests\n",
    "import zipfile\n",
    "import io"
   ]
  },
  {
   "cell_type": "markdown",
   "metadata": {},
   "source": [
    "## download cholera outbreaks data"
   ]
  },
  {
   "cell_type": "code",
   "execution_count": null,
   "metadata": {
    "execution": {
     "iopub.execute_input": "2021-02-15T20:50:03.900200Z",
     "iopub.status.busy": "2021-02-15T20:50:03.899442Z",
     "iopub.status.idle": "2021-02-15T21:02:01.098067Z",
     "shell.execute_reply": "2021-02-15T21:02:01.095806Z"
    }
   },
   "outputs": [],
   "source": [
    "!python download_cholera_outbreaks_data.py"
   ]
  },
  {
   "cell_type": "markdown",
   "metadata": {},
   "source": [
    "## load pdfs and extract relevant parts"
   ]
  },
  {
   "cell_type": "code",
   "execution_count": null,
   "metadata": {
    "execution": {
     "iopub.execute_input": "2021-02-15T21:02:01.109659Z",
     "iopub.status.busy": "2021-02-15T21:02:01.108784Z",
     "iopub.status.idle": "2021-02-15T21:02:01.113109Z",
     "shell.execute_reply": "2021-02-15T21:02:01.111712Z"
    }
   },
   "outputs": [],
   "source": [
    "files_to_skip = ['52nd_wk_old.pdf',\n",
    "                 '11th_wk14_old.pdf']"
   ]
  },
  {
   "cell_type": "code",
   "execution_count": null,
   "metadata": {
    "execution": {
     "iopub.execute_input": "2021-02-15T21:02:01.121608Z",
     "iopub.status.busy": "2021-02-15T21:02:01.120118Z",
     "iopub.status.idle": "2021-02-15T21:02:01.124233Z",
     "shell.execute_reply": "2021-02-15T21:02:01.123292Z"
    }
   },
   "outputs": [],
   "source": [
    "years = ['2010',\n",
    "         '2011',\n",
    "         '2012',\n",
    "         '2013',\n",
    "         '2014',\n",
    "         '2015']"
   ]
  },
  {
   "cell_type": "code",
   "execution_count": null,
   "metadata": {
    "execution": {
     "iopub.execute_input": "2021-02-15T21:02:01.130188Z",
     "iopub.status.busy": "2021-02-15T21:02:01.129191Z",
     "iopub.status.idle": "2021-02-15T21:02:01.132085Z",
     "shell.execute_reply": "2021-02-15T21:02:01.132847Z"
    }
   },
   "outputs": [],
   "source": [
    "path = '../data/cholera_outbreaks/'"
   ]
  },
  {
   "cell_type": "code",
   "execution_count": null,
   "metadata": {
    "execution": {
     "iopub.execute_input": "2021-02-15T21:02:01.146882Z",
     "iopub.status.busy": "2021-02-15T21:02:01.145676Z",
     "iopub.status.idle": "2021-02-15T21:07:00.512602Z",
     "shell.execute_reply": "2021-02-15T21:07:00.513745Z"
    },
    "scrolled": true
   },
   "outputs": [],
   "source": [
    "%%time\n",
    "\n",
    "outbreaks_raw = []\n",
    "\n",
    "for year in years:\n",
    "    print('Processing year: {}...'.format(year))\n",
    "    (_, _, file_names) = next(os.walk(path+year))\n",
    "    file_names = np.setdiff1d(file_names, files_to_skip) # drop files to skip from file names\n",
    "    \n",
    "    for file in file_names:\n",
    "        print('Processing file: {}...'.format(file))\n",
    "        document = PyPDF2.PdfFileReader(path+year+'/'+file)\n",
    "        pages = document.getNumPages()\n",
    "        \n",
    "        for page in range(pages):\n",
    "            text = document.getPage(page).extractText()\n",
    "            text = text.replace('\\n', '') # remove line breaks\n",
    "            text = text.split(' ') # split on space\n",
    "            text = [i for i in text if i != ''] # remove empty items\n",
    "            text = [i.lower() for i in text] # lower case all items\n",
    "    \n",
    "            indices = [i for i, s in enumerate(text) if 'cholera' in s] # get indices where cholera is mentioned\n",
    "        \n",
    "            if len(indices) > 0:\n",
    "                for index in indices:\n",
    "                    cholera_index = []\n",
    "                    cholera_index.append(index)\n",
    "                    index_list = np.arange(index-3,index).tolist() + cholera_index + np.arange(index+1,index+5).tolist()\n",
    "                    index_list = [i for i in index_list if i < len(text)] # get items that are up to 3 indices before and up to 5 indices after cholera is mentioned\n",
    "                    outbreak_info = [text[i] for i in index_list]\n",
    "                    while len(outbreak_info) < 9:\n",
    "                        outbreak_info.append(None)\n",
    "                    outbreak_info.append(year+'/'+file)\n",
    "                    outbreaks_raw.append(outbreak_info)\n",
    "            else:\n",
    "                pass"
   ]
  },
  {
   "cell_type": "code",
   "execution_count": null,
   "metadata": {
    "execution": {
     "iopub.execute_input": "2021-02-15T21:07:00.519415Z",
     "iopub.status.busy": "2021-02-15T21:07:00.518251Z",
     "iopub.status.idle": "2021-02-15T21:07:00.530829Z",
     "shell.execute_reply": "2021-02-15T21:07:00.531690Z"
    }
   },
   "outputs": [],
   "source": [
    "outbreaks_raw = pd.DataFrame(outbreaks_raw)"
   ]
  },
  {
   "cell_type": "code",
   "execution_count": null,
   "metadata": {
    "execution": {
     "iopub.execute_input": "2021-02-15T21:07:00.546375Z",
     "iopub.status.busy": "2021-02-15T21:07:00.545542Z",
     "iopub.status.idle": "2021-02-15T21:07:00.548961Z",
     "shell.execute_reply": "2021-02-15T21:07:00.549572Z"
    }
   },
   "outputs": [],
   "source": [
    "outbreaks_raw.shape"
   ]
  },
  {
   "cell_type": "code",
   "execution_count": null,
   "metadata": {
    "execution": {
     "iopub.execute_input": "2021-02-15T21:07:00.555648Z",
     "iopub.status.busy": "2021-02-15T21:07:00.555016Z",
     "iopub.status.idle": "2021-02-15T21:07:00.558195Z",
     "shell.execute_reply": "2021-02-15T21:07:00.559105Z"
    }
   },
   "outputs": [],
   "source": [
    "pd.set_option('display.max_columns', None)"
   ]
  },
  {
   "cell_type": "code",
   "execution_count": null,
   "metadata": {
    "execution": {
     "iopub.execute_input": "2021-02-15T21:07:00.572569Z",
     "iopub.status.busy": "2021-02-15T21:07:00.571619Z",
     "iopub.status.idle": "2021-02-15T21:07:00.583836Z",
     "shell.execute_reply": "2021-02-15T21:07:00.584881Z"
    }
   },
   "outputs": [],
   "source": [
    "outbreaks_raw.head()"
   ]
  },
  {
   "cell_type": "code",
   "execution_count": null,
   "metadata": {
    "execution": {
     "iopub.execute_input": "2021-02-15T21:07:00.595412Z",
     "iopub.status.busy": "2021-02-15T21:07:00.593834Z",
     "iopub.status.idle": "2021-02-15T21:07:00.597140Z",
     "shell.execute_reply": "2021-02-15T21:07:00.598234Z"
    }
   },
   "outputs": [],
   "source": [
    "column_names = []\n",
    "\n",
    "for i in range(outbreaks_raw.shape[1]):\n",
    "    column_names.append('col'+str(i))\n",
    "\n",
    "outbreaks_raw.columns = column_names"
   ]
  },
  {
   "cell_type": "code",
   "execution_count": null,
   "metadata": {
    "execution": {
     "iopub.execute_input": "2021-02-15T21:07:00.633030Z",
     "iopub.status.busy": "2021-02-15T21:07:00.631753Z",
     "iopub.status.idle": "2021-02-15T21:07:00.638606Z",
     "shell.execute_reply": "2021-02-15T21:07:00.637447Z"
    }
   },
   "outputs": [],
   "source": [
    "outbreaks_raw.head()"
   ]
  },
  {
   "cell_type": "code",
   "execution_count": null,
   "metadata": {
    "execution": {
     "iopub.execute_input": "2021-02-15T21:07:00.652150Z",
     "iopub.status.busy": "2021-02-15T21:07:00.647767Z",
     "iopub.status.idle": "2021-02-15T21:07:00.657812Z",
     "shell.execute_reply": "2021-02-15T21:07:00.657152Z"
    }
   },
   "outputs": [],
   "source": [
    "for i in range(outbreaks_raw.shape[1]):\n",
    "    print('Column {} contains cholera: {}'.format(i, 'cholera' in outbreaks_raw.iloc[:,i].unique()))"
   ]
  },
  {
   "cell_type": "code",
   "execution_count": null,
   "metadata": {
    "execution": {
     "iopub.execute_input": "2021-02-15T21:07:00.673255Z",
     "iopub.status.busy": "2021-02-15T21:07:00.672301Z",
     "iopub.status.idle": "2021-02-15T21:07:00.675434Z",
     "shell.execute_reply": "2021-02-15T21:07:00.676084Z"
    },
    "scrolled": true
   },
   "outputs": [],
   "source": [
    "outbreaks_raw[outbreaks_raw.col0 == 'cholera']"
   ]
  },
  {
   "cell_type": "code",
   "execution_count": null,
   "metadata": {
    "execution": {
     "iopub.execute_input": "2021-02-15T21:07:00.682324Z",
     "iopub.status.busy": "2021-02-15T21:07:00.681642Z",
     "iopub.status.idle": "2021-02-15T21:07:00.704909Z",
     "shell.execute_reply": "2021-02-15T21:07:00.704254Z"
    }
   },
   "outputs": [],
   "source": [
    "outbreaks_raw[outbreaks_raw.col3 == 'cholera']"
   ]
  },
  {
   "cell_type": "code",
   "execution_count": null,
   "metadata": {
    "execution": {
     "iopub.execute_input": "2021-02-15T21:07:00.727207Z",
     "iopub.status.busy": "2021-02-15T21:07:00.725030Z",
     "iopub.status.idle": "2021-02-15T21:07:00.731324Z",
     "shell.execute_reply": "2021-02-15T21:07:00.732827Z"
    }
   },
   "outputs": [],
   "source": [
    "outbreaks_raw[outbreaks_raw.col4 == 'cholera']"
   ]
  },
  {
   "cell_type": "markdown",
   "metadata": {},
   "source": [
    "## clean main cholera column"
   ]
  },
  {
   "cell_type": "code",
   "execution_count": null,
   "metadata": {
    "execution": {
     "iopub.execute_input": "2021-02-15T21:07:00.745500Z",
     "iopub.status.busy": "2021-02-15T21:07:00.743979Z",
     "iopub.status.idle": "2021-02-15T21:07:00.749298Z",
     "shell.execute_reply": "2021-02-15T21:07:00.750135Z"
    }
   },
   "outputs": [],
   "source": [
    "outbreaks_raw.col3.value_counts()"
   ]
  },
  {
   "cell_type": "code",
   "execution_count": null,
   "metadata": {
    "execution": {
     "iopub.execute_input": "2021-02-15T21:07:00.758975Z",
     "iopub.status.busy": "2021-02-15T21:07:00.757909Z",
     "iopub.status.idle": "2021-02-15T21:07:00.760459Z",
     "shell.execute_reply": "2021-02-15T21:07:00.761394Z"
    }
   },
   "outputs": [],
   "source": [
    "outbreaks_raw['col3_clean'] = outbreaks_raw.col3.apply(lambda x: 'cholera' if 'cholera' in x else x)"
   ]
  },
  {
   "cell_type": "code",
   "execution_count": null,
   "metadata": {
    "execution": {
     "iopub.execute_input": "2021-02-15T21:07:00.769606Z",
     "iopub.status.busy": "2021-02-15T21:07:00.768765Z",
     "iopub.status.idle": "2021-02-15T21:07:00.774586Z",
     "shell.execute_reply": "2021-02-15T21:07:00.775270Z"
    }
   },
   "outputs": [],
   "source": [
    "outbreaks_raw.col3_clean.value_counts()"
   ]
  },
  {
   "cell_type": "markdown",
   "metadata": {},
   "source": [
    "## filter outbreaks"
   ]
  },
  {
   "cell_type": "code",
   "execution_count": null,
   "metadata": {
    "execution": {
     "iopub.execute_input": "2021-02-15T21:07:00.789192Z",
     "iopub.status.busy": "2021-02-15T21:07:00.787701Z",
     "iopub.status.idle": "2021-02-15T21:07:00.790931Z",
     "shell.execute_reply": "2021-02-15T21:07:00.791563Z"
    }
   },
   "outputs": [],
   "source": [
    "# next to where a cholera outbreak is mentioned there should be a number indicating the cases\n",
    "outbreaks_raw['outbreak'] = outbreaks_raw.col4.apply(lambda x: 0 if re.search('[a-zA-Z]', str(x)) else 1)"
   ]
  },
  {
   "cell_type": "code",
   "execution_count": null,
   "metadata": {
    "execution": {
     "iopub.execute_input": "2021-02-15T21:07:00.797451Z",
     "iopub.status.busy": "2021-02-15T21:07:00.796256Z",
     "iopub.status.idle": "2021-02-15T21:07:00.820128Z",
     "shell.execute_reply": "2021-02-15T21:07:00.819403Z"
    }
   },
   "outputs": [],
   "source": [
    "outbreaks = outbreaks_raw[outbreaks_raw.outbreak == 1].copy().reset_index(drop=True)"
   ]
  },
  {
   "cell_type": "code",
   "execution_count": null,
   "metadata": {
    "execution": {
     "iopub.execute_input": "2021-02-15T21:07:00.826145Z",
     "iopub.status.busy": "2021-02-15T21:07:00.824734Z",
     "iopub.status.idle": "2021-02-15T21:07:00.828552Z",
     "shell.execute_reply": "2021-02-15T21:07:00.829215Z"
    }
   },
   "outputs": [],
   "source": [
    "outbreaks.shape"
   ]
  },
  {
   "cell_type": "code",
   "execution_count": null,
   "metadata": {
    "execution": {
     "iopub.execute_input": "2021-02-15T21:07:00.851474Z",
     "iopub.status.busy": "2021-02-15T21:07:00.849752Z",
     "iopub.status.idle": "2021-02-15T21:07:00.855189Z",
     "shell.execute_reply": "2021-02-15T21:07:00.854449Z"
    }
   },
   "outputs": [],
   "source": [
    "outbreaks.head()"
   ]
  },
  {
   "cell_type": "code",
   "execution_count": null,
   "metadata": {
    "execution": {
     "iopub.execute_input": "2021-02-15T21:07:00.874657Z",
     "iopub.status.busy": "2021-02-15T21:07:00.873155Z",
     "iopub.status.idle": "2021-02-15T21:07:00.877233Z",
     "shell.execute_reply": "2021-02-15T21:07:00.877998Z"
    }
   },
   "outputs": [],
   "source": [
    "outbreaks.tail()"
   ]
  },
  {
   "cell_type": "markdown",
   "metadata": {},
   "source": [
    "## extract and clean start dates"
   ]
  },
  {
   "cell_type": "code",
   "execution_count": null,
   "metadata": {
    "execution": {
     "iopub.execute_input": "2021-02-15T21:07:00.892466Z",
     "iopub.status.busy": "2021-02-15T21:07:00.891587Z",
     "iopub.status.idle": "2021-02-15T21:07:00.893902Z",
     "shell.execute_reply": "2021-02-15T21:07:00.894535Z"
    }
   },
   "outputs": [],
   "source": [
    "# next to where cholera outbreak cases are mentioned there should be a date\n",
    "for col in outbreaks.columns[5:8]:\n",
    "    outbreaks[col+'_clean'] = outbreaks[col].apply(lambda x: None if re.search('[a-zA-Z]', str(x)) is not None\n",
    "                                                   else (None if len(str(x)) < 4\n",
    "                                                         else x.replace('(', '').replace(')', '').replace('*', '')))"
   ]
  },
  {
   "cell_type": "code",
   "execution_count": null,
   "metadata": {
    "execution": {
     "iopub.execute_input": "2021-02-15T21:07:00.915604Z",
     "iopub.status.busy": "2021-02-15T21:07:00.914116Z",
     "iopub.status.idle": "2021-02-15T21:07:00.919245Z",
     "shell.execute_reply": "2021-02-15T21:07:00.918584Z"
    }
   },
   "outputs": [],
   "source": [
    "outbreaks.head()"
   ]
  },
  {
   "cell_type": "code",
   "execution_count": null,
   "metadata": {
    "execution": {
     "iopub.execute_input": "2021-02-15T21:07:00.995853Z",
     "iopub.status.busy": "2021-02-15T21:07:00.960260Z",
     "iopub.status.idle": "2021-02-15T21:07:01.001703Z",
     "shell.execute_reply": "2021-02-15T21:07:01.000662Z"
    }
   },
   "outputs": [],
   "source": [
    "start_dates = []\n",
    "\n",
    "for i, row in outbreaks.iterrows():\n",
    "    dates = row[12:]\n",
    "    start_date = next((i for i in dates if i is not None), None)\n",
    "    start_dates.append(start_date)"
   ]
  },
  {
   "cell_type": "code",
   "execution_count": null,
   "metadata": {
    "execution": {
     "iopub.execute_input": "2021-02-15T21:07:01.008248Z",
     "iopub.status.busy": "2021-02-15T21:07:01.007061Z",
     "iopub.status.idle": "2021-02-15T21:07:01.010838Z",
     "shell.execute_reply": "2021-02-15T21:07:01.009827Z"
    }
   },
   "outputs": [],
   "source": [
    "outbreaks['start_date'] = start_dates"
   ]
  },
  {
   "cell_type": "code",
   "execution_count": null,
   "metadata": {
    "execution": {
     "iopub.execute_input": "2021-02-15T21:07:01.021935Z",
     "iopub.status.busy": "2021-02-15T21:07:01.020686Z",
     "iopub.status.idle": "2021-02-15T21:07:01.024974Z",
     "shell.execute_reply": "2021-02-15T21:07:01.026010Z"
    }
   },
   "outputs": [],
   "source": [
    "outbreaks.start_date.unique()"
   ]
  },
  {
   "cell_type": "code",
   "execution_count": null,
   "metadata": {
    "execution": {
     "iopub.execute_input": "2021-02-15T21:07:01.036950Z",
     "iopub.status.busy": "2021-02-15T21:07:01.035006Z",
     "iopub.status.idle": "2021-02-15T21:07:01.042075Z",
     "shell.execute_reply": "2021-02-15T21:07:01.041401Z"
    }
   },
   "outputs": [],
   "source": [
    "outbreaks = outbreaks[outbreaks.start_date.notnull()].copy().reset_index(drop=True)"
   ]
  },
  {
   "cell_type": "code",
   "execution_count": null,
   "metadata": {
    "execution": {
     "iopub.execute_input": "2021-02-15T21:07:01.050925Z",
     "iopub.status.busy": "2021-02-15T21:07:01.049867Z",
     "iopub.status.idle": "2021-02-15T21:07:01.052758Z",
     "shell.execute_reply": "2021-02-15T21:07:01.053697Z"
    }
   },
   "outputs": [],
   "source": [
    "outbreaks['start_date_year'] = outbreaks.start_date.apply(lambda x: x.split('.')[2] if '.' in x\n",
    "                                                          else (x.split('/')[2] if '/' in x\n",
    "                                                                else (x.split('-')[2] if '-' in x else x)))"
   ]
  },
  {
   "cell_type": "code",
   "execution_count": null,
   "metadata": {
    "execution": {
     "iopub.execute_input": "2021-02-15T21:07:01.062025Z",
     "iopub.status.busy": "2021-02-15T21:07:01.060932Z",
     "iopub.status.idle": "2021-02-15T21:07:01.063622Z",
     "shell.execute_reply": "2021-02-15T21:07:01.064345Z"
    }
   },
   "outputs": [],
   "source": [
    "outbreaks['start_date_year'] = outbreaks.start_date_year.str.pad(3, side='left',fillchar='0')\n",
    "outbreaks['start_date_year'] = outbreaks.start_date_year.str.pad(4, side='left',fillchar='2')"
   ]
  },
  {
   "cell_type": "code",
   "execution_count": null,
   "metadata": {
    "execution": {
     "iopub.execute_input": "2021-02-15T21:07:01.070638Z",
     "iopub.status.busy": "2021-02-15T21:07:01.069732Z",
     "iopub.status.idle": "2021-02-15T21:07:01.073351Z",
     "shell.execute_reply": "2021-02-15T21:07:01.074034Z"
    }
   },
   "outputs": [],
   "source": [
    "outbreaks['start_date_year'].unique()"
   ]
  },
  {
   "cell_type": "code",
   "execution_count": null,
   "metadata": {},
   "outputs": [],
   "source": [
    "outbreaks[outbreaks.start_date_year == '2019']"
   ]
  },
  {
   "cell_type": "code",
   "execution_count": null,
   "metadata": {},
   "outputs": [],
   "source": [
    "outbreaks.loc[outbreaks.start_date_year == '2019', 'start_date_year'] = '2015'"
   ]
  },
  {
   "cell_type": "code",
   "execution_count": null,
   "metadata": {
    "execution": {
     "iopub.execute_input": "2021-02-15T21:07:01.081523Z",
     "iopub.status.busy": "2021-02-15T21:07:01.080582Z",
     "iopub.status.idle": "2021-02-15T21:07:01.082943Z",
     "shell.execute_reply": "2021-02-15T21:07:01.083560Z"
    }
   },
   "outputs": [],
   "source": [
    "outbreaks['start_date_month'] = outbreaks.start_date.apply(lambda x: x.split('.')[1] if '.' in x\n",
    "                                                           else (x.split('/')[1] if '/' in x\n",
    "                                                                 else (x.split('-')[1] if '-' in x else x)))"
   ]
  },
  {
   "cell_type": "code",
   "execution_count": null,
   "metadata": {
    "execution": {
     "iopub.execute_input": "2021-02-15T21:07:01.090253Z",
     "iopub.status.busy": "2021-02-15T21:07:01.089586Z",
     "iopub.status.idle": "2021-02-15T21:07:01.092476Z",
     "shell.execute_reply": "2021-02-15T21:07:01.091815Z"
    }
   },
   "outputs": [],
   "source": [
    "outbreaks['start_date_month'] = outbreaks.start_date_month.str.pad(2, side='left',fillchar='0')"
   ]
  },
  {
   "cell_type": "code",
   "execution_count": null,
   "metadata": {
    "execution": {
     "iopub.execute_input": "2021-02-15T21:07:01.098427Z",
     "iopub.status.busy": "2021-02-15T21:07:01.097572Z",
     "iopub.status.idle": "2021-02-15T21:07:01.100617Z",
     "shell.execute_reply": "2021-02-15T21:07:01.101429Z"
    }
   },
   "outputs": [],
   "source": [
    "outbreaks['start_date_month'].unique()"
   ]
  },
  {
   "cell_type": "code",
   "execution_count": null,
   "metadata": {
    "execution": {
     "iopub.execute_input": "2021-02-15T21:07:01.106344Z",
     "iopub.status.busy": "2021-02-15T21:07:01.105541Z",
     "iopub.status.idle": "2021-02-15T21:07:01.108884Z",
     "shell.execute_reply": "2021-02-15T21:07:01.109570Z"
    }
   },
   "outputs": [],
   "source": [
    "outbreaks.shape"
   ]
  },
  {
   "cell_type": "code",
   "execution_count": null,
   "metadata": {
    "execution": {
     "iopub.execute_input": "2021-02-15T21:07:01.115460Z",
     "iopub.status.busy": "2021-02-15T21:07:01.114458Z",
     "iopub.status.idle": "2021-02-15T21:07:01.118140Z",
     "shell.execute_reply": "2021-02-15T21:07:01.118769Z"
    }
   },
   "outputs": [],
   "source": [
    "outbreaks = outbreaks[outbreaks.start_date_year.isin(years)].copy().reset_index(drop=True)"
   ]
  },
  {
   "cell_type": "code",
   "execution_count": null,
   "metadata": {
    "execution": {
     "iopub.execute_input": "2021-02-15T21:07:01.124224Z",
     "iopub.status.busy": "2021-02-15T21:07:01.123409Z",
     "iopub.status.idle": "2021-02-15T21:07:01.127037Z",
     "shell.execute_reply": "2021-02-15T21:07:01.126385Z"
    }
   },
   "outputs": [],
   "source": [
    "outbreaks.shape"
   ]
  },
  {
   "cell_type": "code",
   "execution_count": null,
   "metadata": {
    "execution": {
     "iopub.execute_input": "2021-02-15T21:07:01.153886Z",
     "iopub.status.busy": "2021-02-15T21:07:01.153246Z",
     "iopub.status.idle": "2021-02-15T21:07:01.158167Z",
     "shell.execute_reply": "2021-02-15T21:07:01.158801Z"
    }
   },
   "outputs": [],
   "source": [
    "outbreaks.head()"
   ]
  },
  {
   "cell_type": "code",
   "execution_count": null,
   "metadata": {
    "execution": {
     "iopub.execute_input": "2021-02-15T21:07:01.181825Z",
     "iopub.status.busy": "2021-02-15T21:07:01.180999Z",
     "iopub.status.idle": "2021-02-15T21:07:01.184612Z",
     "shell.execute_reply": "2021-02-15T21:07:01.185251Z"
    }
   },
   "outputs": [],
   "source": [
    "outbreaks.tail()"
   ]
  },
  {
   "cell_type": "markdown",
   "metadata": {},
   "source": [
    "## map start date month to season"
   ]
  },
  {
   "cell_type": "code",
   "execution_count": null,
   "metadata": {
    "execution": {
     "iopub.execute_input": "2021-02-15T21:07:01.191556Z",
     "iopub.status.busy": "2021-02-15T21:07:01.190839Z",
     "iopub.status.idle": "2021-02-15T21:07:01.193680Z",
     "shell.execute_reply": "2021-02-15T21:07:01.193009Z"
    }
   },
   "outputs": [],
   "source": [
    "seasons = {'01': 'winter',\n",
    "           '02': 'winter',\n",
    "           '03': 'pre_monsoon',\n",
    "           '04': 'pre_monsoon',\n",
    "           '05': 'pre_monsoon',\n",
    "           '06': 'monsoon',\n",
    "           '07': 'monsoon',\n",
    "           '08': 'monsoon',\n",
    "           '09': 'monsoon',\n",
    "           '10': 'post_monsoon',\n",
    "           '11': 'post_monsoon',\n",
    "           '12': 'post_monsoon'}"
   ]
  },
  {
   "cell_type": "code",
   "execution_count": null,
   "metadata": {
    "execution": {
     "iopub.execute_input": "2021-02-15T21:07:01.201196Z",
     "iopub.status.busy": "2021-02-15T21:07:01.200550Z",
     "iopub.status.idle": "2021-02-15T21:07:01.203341Z",
     "shell.execute_reply": "2021-02-15T21:07:01.202796Z"
    }
   },
   "outputs": [],
   "source": [
    "outbreaks['season'] = outbreaks.start_date_month.map(seasons)"
   ]
  },
  {
   "cell_type": "code",
   "execution_count": null,
   "metadata": {
    "execution": {
     "iopub.execute_input": "2021-02-15T21:07:01.228638Z",
     "iopub.status.busy": "2021-02-15T21:07:01.210274Z",
     "iopub.status.idle": "2021-02-15T21:07:01.259886Z",
     "shell.execute_reply": "2021-02-15T21:07:01.260401Z"
    }
   },
   "outputs": [],
   "source": [
    "outbreaks.head()"
   ]
  },
  {
   "cell_type": "code",
   "execution_count": null,
   "metadata": {
    "execution": {
     "iopub.execute_input": "2021-02-15T21:07:01.285974Z",
     "iopub.status.busy": "2021-02-15T21:07:01.264010Z",
     "iopub.status.idle": "2021-02-15T21:07:01.308685Z",
     "shell.execute_reply": "2021-02-15T21:07:01.309593Z"
    }
   },
   "outputs": [],
   "source": [
    "outbreaks.tail()"
   ]
  },
  {
   "cell_type": "markdown",
   "metadata": {},
   "source": [
    "## map states, districts and location (geometry)"
   ]
  },
  {
   "cell_type": "code",
   "execution_count": null,
   "metadata": {
    "execution": {
     "iopub.execute_input": "2021-02-15T21:07:01.315203Z",
     "iopub.status.busy": "2021-02-15T21:07:01.314563Z",
     "iopub.status.idle": "2021-02-15T21:07:35.208203Z",
     "shell.execute_reply": "2021-02-15T21:07:35.205976Z"
    }
   },
   "outputs": [],
   "source": [
    "!wget --mirror --continue --no-host-directories https://biogeo.ucdavis.edu/data/gadm3.6/shp/gadm36_IND_shp.zip --directory-prefix=../data/cholera_outbreaks"
   ]
  },
  {
   "cell_type": "code",
   "execution_count": null,
   "metadata": {
    "execution": {
     "iopub.execute_input": "2021-02-15T21:07:35.219209Z",
     "iopub.status.busy": "2021-02-15T21:07:35.218258Z",
     "iopub.status.idle": "2021-02-15T21:07:35.383995Z",
     "shell.execute_reply": "2021-02-15T21:07:35.384661Z"
    }
   },
   "outputs": [],
   "source": [
    "!mv ../data/cholera_outbreaks/data/gadm3.6/shp/* ../data/cholera_outbreaks"
   ]
  },
  {
   "cell_type": "code",
   "execution_count": null,
   "metadata": {
    "execution": {
     "iopub.execute_input": "2021-02-15T21:07:35.390185Z",
     "iopub.status.busy": "2021-02-15T21:07:35.389435Z",
     "iopub.status.idle": "2021-02-15T21:07:35.512798Z",
     "shell.execute_reply": "2021-02-15T21:07:35.514911Z"
    }
   },
   "outputs": [],
   "source": [
    "!rm -rf ../data/cholera_outbreaks/data"
   ]
  },
  {
   "cell_type": "code",
   "execution_count": null,
   "metadata": {
    "execution": {
     "iopub.execute_input": "2021-02-15T21:07:35.522859Z",
     "iopub.status.busy": "2021-02-15T21:07:35.521763Z",
     "iopub.status.idle": "2021-02-15T21:07:35.652464Z",
     "shell.execute_reply": "2021-02-15T21:07:35.654150Z"
    }
   },
   "outputs": [],
   "source": [
    "!unzip -d ../data/cholera_outbreaks gadm36_IND_shp.zip"
   ]
  },
  {
   "cell_type": "code",
   "execution_count": null,
   "metadata": {
    "execution": {
     "iopub.execute_input": "2021-02-15T21:07:35.662683Z",
     "iopub.status.busy": "2021-02-15T21:07:35.661313Z",
     "iopub.status.idle": "2021-02-15T21:07:35.665396Z",
     "shell.execute_reply": "2021-02-15T21:07:35.666326Z"
    }
   },
   "outputs": [],
   "source": [
    "path = '../data/cholera_outbreaks/gadm36_IND_shp/'"
   ]
  },
  {
   "cell_type": "code",
   "execution_count": null,
   "metadata": {
    "execution": {
     "iopub.execute_input": "2021-02-15T21:07:35.672050Z",
     "iopub.status.busy": "2021-02-15T21:07:35.671247Z",
     "iopub.status.idle": "2021-02-15T21:07:35.674025Z",
     "shell.execute_reply": "2021-02-15T21:07:35.674827Z"
    }
   },
   "outputs": [],
   "source": [
    "file = 'gadm36_IND_2.shp'"
   ]
  },
  {
   "cell_type": "code",
   "execution_count": null,
   "metadata": {
    "execution": {
     "iopub.execute_input": "2021-02-15T21:07:35.783101Z",
     "iopub.status.busy": "2021-02-15T21:07:35.759340Z",
     "iopub.status.idle": "2021-02-15T21:07:36.026993Z",
     "shell.execute_reply": "2021-02-15T21:07:36.027590Z"
    }
   },
   "outputs": [],
   "source": [
    "india = gpd.read_file(path+file)"
   ]
  },
  {
   "cell_type": "code",
   "execution_count": null,
   "metadata": {
    "execution": {
     "iopub.execute_input": "2021-02-15T21:07:36.032521Z",
     "iopub.status.busy": "2021-02-15T21:07:36.031591Z",
     "iopub.status.idle": "2021-02-15T21:07:36.035587Z",
     "shell.execute_reply": "2021-02-15T21:07:36.034947Z"
    }
   },
   "outputs": [],
   "source": [
    "india.shape"
   ]
  },
  {
   "cell_type": "code",
   "execution_count": null,
   "metadata": {},
   "outputs": [],
   "source": [
    "india.info()"
   ]
  },
  {
   "cell_type": "code",
   "execution_count": null,
   "metadata": {
    "execution": {
     "iopub.execute_input": "2021-02-15T21:07:36.050382Z",
     "iopub.status.busy": "2021-02-15T21:07:36.049227Z",
     "iopub.status.idle": "2021-02-15T21:07:36.411107Z",
     "shell.execute_reply": "2021-02-15T21:07:36.411734Z"
    }
   },
   "outputs": [],
   "source": [
    "india.head()"
   ]
  },
  {
   "cell_type": "code",
   "execution_count": null,
   "metadata": {
    "execution": {
     "iopub.execute_input": "2021-02-15T21:07:36.419390Z",
     "iopub.status.busy": "2021-02-15T21:07:36.418175Z",
     "iopub.status.idle": "2021-02-15T21:07:36.422008Z",
     "shell.execute_reply": "2021-02-15T21:07:36.422741Z"
    }
   },
   "outputs": [],
   "source": [
    "states_districts = india[['NAME_1', 'NAME_2', 'geometry']].copy()"
   ]
  },
  {
   "cell_type": "code",
   "execution_count": null,
   "metadata": {
    "execution": {
     "iopub.execute_input": "2021-02-15T21:07:36.428845Z",
     "iopub.status.busy": "2021-02-15T21:07:36.427684Z",
     "iopub.status.idle": "2021-02-15T21:07:36.430194Z",
     "shell.execute_reply": "2021-02-15T21:07:36.431070Z"
    }
   },
   "outputs": [],
   "source": [
    "states_districts.columns = ['state', 'district', 'geometry']"
   ]
  },
  {
   "cell_type": "code",
   "execution_count": null,
   "metadata": {
    "execution": {
     "iopub.execute_input": "2021-02-15T21:07:36.440485Z",
     "iopub.status.busy": "2021-02-15T21:07:36.439433Z",
     "iopub.status.idle": "2021-02-15T21:07:36.441782Z",
     "shell.execute_reply": "2021-02-15T21:07:36.442475Z"
    }
   },
   "outputs": [],
   "source": [
    "states_districts['state'] = states_districts['state'].str.lower()\n",
    "states_districts['district'] = states_districts['district'].str.lower()"
   ]
  },
  {
   "cell_type": "code",
   "execution_count": null,
   "metadata": {
    "execution": {
     "iopub.execute_input": "2021-02-15T21:07:36.448580Z",
     "iopub.status.busy": "2021-02-15T21:07:36.447464Z",
     "iopub.status.idle": "2021-02-15T21:07:36.450593Z",
     "shell.execute_reply": "2021-02-15T21:07:36.449876Z"
    },
    "scrolled": true
   },
   "outputs": [],
   "source": [
    "districts = states_districts.district.unique().tolist()"
   ]
  },
  {
   "cell_type": "code",
   "execution_count": null,
   "metadata": {
    "execution": {
     "iopub.execute_input": "2021-02-15T21:07:36.478092Z",
     "iopub.status.busy": "2021-02-15T21:07:36.476803Z",
     "iopub.status.idle": "2021-02-15T21:07:36.480502Z",
     "shell.execute_reply": "2021-02-15T21:07:36.481122Z"
    }
   },
   "outputs": [],
   "source": [
    "outbreaks.head()"
   ]
  },
  {
   "cell_type": "code",
   "execution_count": null,
   "metadata": {
    "execution": {
     "iopub.execute_input": "2021-02-15T21:07:36.494739Z",
     "iopub.status.busy": "2021-02-15T21:07:36.493447Z",
     "iopub.status.idle": "2021-02-15T21:07:36.497307Z",
     "shell.execute_reply": "2021-02-15T21:07:36.496282Z"
    }
   },
   "outputs": [],
   "source": [
    "for col in outbreaks.columns[0:3]:\n",
    "    outbreaks[col+'_clean'] = outbreaks[col].str.replace('\\W', '')\n",
    "    outbreaks[col+'_clean'] = outbreaks[col+'_clean'].apply(lambda x: None if len(x) < 3 else x)"
   ]
  },
  {
   "cell_type": "code",
   "execution_count": null,
   "metadata": {
    "execution": {
     "iopub.execute_input": "2021-02-15T21:07:36.518512Z",
     "iopub.status.busy": "2021-02-15T21:07:36.517412Z",
     "iopub.status.idle": "2021-02-15T21:07:36.562651Z",
     "shell.execute_reply": "2021-02-15T21:07:36.561178Z"
    }
   },
   "outputs": [],
   "source": [
    "# correct district names in col1_clean\n",
    "outbreaks.loc[outbreaks.col1_clean == 'mahabubnagar', 'col1_clean'] = 'mahbubnagar'\n",
    "outbreaks.loc[outbreaks.col1_clean == 'ahmedabad', 'col1_clean'] = 'ahmadabad'\n",
    "outbreaks.loc[outbreaks.col1_clean == 'howrah', 'col1_clean'] = 'haora'\n",
    "outbreaks.loc[outbreaks.col1_clean == 'hooghly', 'col1_clean'] = 'hugli'\n",
    "outbreaks.loc[outbreaks.col1_clean == 'hoogly', 'col1_clean'] = 'hugli'\n",
    "outbreaks.loc[outbreaks.col1_clean == 'villupuram', 'col1_clean'] = 'viluppuram'\n",
    "outbreaks.loc[outbreaks.col1_clean == 'haridwar', 'col1_clean'] = 'hardwar'\n",
    "outbreaks.loc[outbreaks.col1_clean == 'davangere', 'col1_clean'] = 'davanagere'\n",
    "outbreaks.loc[outbreaks.col1_clean == 'davengere', 'col1_clean'] = 'davanagere'\n",
    "outbreaks.loc[outbreaks.col1_clean == 'davangare', 'col1_clean'] = 'davanagere'\n",
    "outbreaks.loc[outbreaks.col1_clean == 'tiruchirapalli', 'col1_clean'] = 'tiruchirappalli'\n",
    "outbreaks.loc[outbreaks.col1_clean == 'darang', 'col1_clean'] = 'darrang'\n",
    "outbreaks.loc[outbreaks.col1_clean == 'virudhunager', 'col1_clean'] = 'virudunagar'\n",
    "outbreaks.loc[outbreaks.col1_clean == 'chikkaballapur', 'col1_clean'] = 'chikballapura'\n",
    "outbreaks.loc[outbreaks.col1_clean == 'gondia', 'col1_clean'] = 'gondiya'\n",
    "outbreaks.loc[outbreaks.col1_clean == 'purulia', 'col1_clean'] = 'puruliya'\n",
    "outbreaks.loc[outbreaks.col1_clean == 'kalaburagi', 'col1_clean'] = 'gulbarga'\n",
    "outbreaks.loc[outbreaks.col1_clean == 'kalburgi', 'col1_clean'] = 'gulbarga'\n",
    "outbreaks.loc[outbreaks.col1_clean == 'berhampur', 'col1_clean'] = 'ganjam'\n",
    "outbreaks.loc[outbreaks.col1_clean == 'sholapur', 'col1_clean'] = 'solapur'\n",
    "outbreaks.loc[outbreaks.col1_clean == 'raigad', 'col1_clean'] = 'raigarh'\n",
    "outbreaks.loc[outbreaks.col1_clean == 'panchmahal', 'col1_clean'] = 'panch mahals'\n",
    "outbreaks.loc[outbreaks.col1_clean == 'sibsagar', 'col1_clean'] = 'sivasagar'\n",
    "outbreaks.loc[outbreaks.col1_clean == 'sibsagar', 'col1_clean'] = 'kabeerdham'\n",
    "outbreaks.loc[outbreaks.col1_clean == 'banaskantha', 'col1_clean'] = 'banas kantha'\n",
    "outbreaks.loc[outbreaks.col1_clean == 'chamarajnagar', 'col1_clean'] = 'chamrajnagar'\n",
    "outbreaks.loc[outbreaks.col1_clean == 'khargaon', 'col1_clean'] = 'west nimar'\n",
    "outbreaks.loc[outbreaks.col1_clean == 'mysuru', 'col1_clean'] = 'mysore'\n",
    "outbreaks.loc[outbreaks.col1_clean == 'mohali', 'col1_clean'] = 'sahibzada ajit singh nagar'\n",
    "outbreaks.loc[outbreaks.col1_clean == 'delhi', 'col1_clean'] = 'west'\n",
    "outbreaks.loc[outbreaks.col1_clean == 'kawardha', 'col1_clean'] = 'kabeerdham'\n",
    "outbreaks.loc[outbreaks.col1_clean == 'chirtadurga', 'col1_clean'] = 'chitradurga'\n",
    "outbreaks.loc[outbreaks.col1_clean == 'budgam', 'col1_clean'] = 'badgam'\n",
    "outbreaks.loc[outbreaks.col1_clean == 'gulburga', 'col1_clean'] = 'gulbarga'\n",
    "outbreaks.loc[outbreaks.col1_clean == 'jangir', 'col1_clean'] = 'janjgir-champa'\n",
    "outbreaks.loc[outbreaks.col1_clean == 'kancheepuramsaidapet', 'col1_clean'] = 'kancheepuram'\n",
    "\n",
    "# correct district names in col2_clean\n",
    "outbreaks.loc[outbreaks.col2_clean == 'thiruvannamalai', 'col2_clean'] = 'tiruvannamalai'\n",
    "outbreaks.loc[outbreaks.col2_clean == 'raigad', 'col2_clean'] = 'raigarh'\n",
    "outbreaks.loc[outbreaks.col2_clean == 'davangere', 'col2_clean'] = 'davanagere'\n",
    "outbreaks.loc[outbreaks.col2_clean == 'sibsagar', 'col2_clean'] = 'sivasagar'\n",
    "outbreaks.loc[outbreaks.col2_clean == 'sabarkantha', 'col2_clean'] = 'sabar kantha'"
   ]
  },
  {
   "cell_type": "code",
   "execution_count": null,
   "metadata": {
    "execution": {
     "iopub.execute_input": "2021-02-15T21:07:36.593896Z",
     "iopub.status.busy": "2021-02-15T21:07:36.592149Z",
     "iopub.status.idle": "2021-02-15T21:07:36.597028Z",
     "shell.execute_reply": "2021-02-15T21:07:36.597645Z"
    }
   },
   "outputs": [],
   "source": [
    "outbreaks.head()"
   ]
  },
  {
   "cell_type": "code",
   "execution_count": null,
   "metadata": {
    "execution": {
     "iopub.execute_input": "2021-02-15T21:07:36.603902Z",
     "iopub.status.busy": "2021-02-15T21:07:36.602957Z",
     "iopub.status.idle": "2021-02-15T21:07:36.606614Z",
     "shell.execute_reply": "2021-02-15T21:07:36.607800Z"
    }
   },
   "outputs": [],
   "source": [
    "outbreaks.columns[18:]"
   ]
  },
  {
   "cell_type": "code",
   "execution_count": null,
   "metadata": {
    "execution": {
     "iopub.execute_input": "2021-02-15T21:07:36.689678Z",
     "iopub.status.busy": "2021-02-15T21:07:36.650039Z",
     "iopub.status.idle": "2021-02-15T21:07:36.752968Z",
     "shell.execute_reply": "2021-02-15T21:07:36.753563Z"
    }
   },
   "outputs": [],
   "source": [
    "for col in outbreaks.columns[18:]:\n",
    "    outbreaks[col+'_district'] = outbreaks[col].apply(lambda x: None if x is None else next((d for d in districts if x in str(d)), None))"
   ]
  },
  {
   "cell_type": "code",
   "execution_count": null,
   "metadata": {
    "execution": {
     "iopub.execute_input": "2021-02-15T21:07:36.783538Z",
     "iopub.status.busy": "2021-02-15T21:07:36.782573Z",
     "iopub.status.idle": "2021-02-15T21:07:36.786315Z",
     "shell.execute_reply": "2021-02-15T21:07:36.787428Z"
    }
   },
   "outputs": [],
   "source": [
    "outbreaks.head()"
   ]
  },
  {
   "cell_type": "code",
   "execution_count": null,
   "metadata": {
    "execution": {
     "iopub.execute_input": "2021-02-15T21:07:36.792637Z",
     "iopub.status.busy": "2021-02-15T21:07:36.791759Z",
     "iopub.status.idle": "2021-02-15T21:07:36.794372Z",
     "shell.execute_reply": "2021-02-15T21:07:36.795094Z"
    }
   },
   "outputs": [],
   "source": [
    "district_cols = [col for col in outbreaks.columns if 'district' in col]"
   ]
  },
  {
   "cell_type": "code",
   "execution_count": null,
   "metadata": {
    "execution": {
     "iopub.execute_input": "2021-02-15T21:07:36.801301Z",
     "iopub.status.busy": "2021-02-15T21:07:36.800543Z",
     "iopub.status.idle": "2021-02-15T21:07:37.043645Z",
     "shell.execute_reply": "2021-02-15T21:07:37.044163Z"
    }
   },
   "outputs": [],
   "source": [
    "outbreaks_districts = []\n",
    "\n",
    "for i, row in outbreaks.iterrows():\n",
    "    all_district_cols = row[district_cols]\n",
    "    district = next((i for i in all_district_cols if i is not None), None)\n",
    "    outbreaks_districts.append(district)"
   ]
  },
  {
   "cell_type": "code",
   "execution_count": null,
   "metadata": {
    "execution": {
     "iopub.execute_input": "2021-02-15T21:07:37.049513Z",
     "iopub.status.busy": "2021-02-15T21:07:37.048714Z",
     "iopub.status.idle": "2021-02-15T21:07:37.051157Z",
     "shell.execute_reply": "2021-02-15T21:07:37.051783Z"
    }
   },
   "outputs": [],
   "source": [
    "outbreaks['district'] = outbreaks_districts"
   ]
  },
  {
   "cell_type": "code",
   "execution_count": null,
   "metadata": {
    "execution": {
     "iopub.execute_input": "2021-02-15T21:07:37.093677Z",
     "iopub.status.busy": "2021-02-15T21:07:37.070022Z",
     "iopub.status.idle": "2021-02-15T21:07:37.095837Z",
     "shell.execute_reply": "2021-02-15T21:07:37.096464Z"
    }
   },
   "outputs": [],
   "source": [
    "# manually map missing districts\n",
    "outbreaks.loc[(outbreaks.col4 == '110') & (outbreaks.col6 == '25/10/13'), 'district'] = 'bankura'\n",
    "outbreaks.loc[(outbreaks.col4 == '50') & (outbreaks.col6 == '25/10/13') & (outbreaks.col7 == '28/10/13'), 'district'] = 'bankura'\n",
    "outbreaks.loc[(outbreaks.col4 == '23') & (outbreaks.col6 == '23/10/13') & (outbreaks.col7 == '23/10/13'), 'district'] = 'puruliya'\n",
    "outbreaks.loc[(outbreaks.col4 == '13') & (outbreaks.col6 == '31/07/13') & (outbreaks.col7 == '31/07/13'), 'district'] = 'puruliya'\n",
    "outbreaks.loc[(outbreaks.col4 == '33') & (outbreaks.col6 == '01/06/13') & (outbreaks.col7 == '08/06/13'), 'district'] = 'chitradurga'\n",
    "outbreaks.loc[(outbreaks.col4 == '88') & (outbreaks.col6 == '05/05/13'), 'district'] = 'sangli'\n",
    "outbreaks.loc[(outbreaks.col4 == '60') & (outbreaks.col6 == '01/05/13') & (outbreaks.col7 == '02/05/13'), 'district'] = 'puruliya'\n",
    "outbreaks.loc[(outbreaks.col4 == '36') & (outbreaks.col6 == '19/04/13'), 'district'] = 'davanagere'\n",
    "outbreaks.loc[(outbreaks.col4 == '161') & (outbreaks.col6 == '27/08/12'), 'district'] = 'nagpur'\n",
    "outbreaks.loc[(outbreaks.col4 == '73') & (outbreaks.col6 == '22/07/12') & (outbreaks.col7 == '23/07/12'), 'district'] = 'bankura'\n",
    "outbreaks.loc[(outbreaks.col4 == '19') & (outbreaks.col6 == '21/07/12') & (outbreaks.col7 == '21/07/12'), 'district'] = 'chikmagalur'\n",
    "outbreaks.loc[(outbreaks.col4 == '21') & (outbreaks.col6 == '06/07/12') & (outbreaks.col7 == '12/07/12'), 'district'] = 'birbhum'\n",
    "outbreaks.loc[(outbreaks.col4 == '59') & (outbreaks.col6 == '25/05/12') & (outbreaks.col7 == '25/05/12'), 'district'] = 'tumkur'\n",
    "outbreaks.loc[(outbreaks.col4 == '8') & (outbreaks.col6 == '03/05/12') & (outbreaks.col7 == '07/05/12'), 'district'] = 'wayanad'\n",
    "outbreaks.loc[(outbreaks.col4 == '26') & (outbreaks.col7 == '16.08.11'), 'district'] = 'birbhum'\n",
    "outbreaks.loc[(outbreaks.col4 == '86') & (outbreaks.col6 == '25/10/13') & (outbreaks.col7 == '28/10/13'), 'district'] = 'bankura'\n",
    "outbreaks.loc[(outbreaks.col4 == '25') & (outbreaks.col6 == '19/05/12'), 'district'] = 'mandya'\n",
    "outbreaks.loc[(outbreaks.col4 == '12') & (outbreaks.col6 == '13.03.12') & (outbreaks.col7 == '14.03.12'), 'district'] = 'mysore'"
   ]
  },
  {
   "cell_type": "code",
   "execution_count": null,
   "metadata": {
    "execution": {
     "iopub.execute_input": "2021-02-15T21:07:37.126705Z",
     "iopub.status.busy": "2021-02-15T21:07:37.125715Z",
     "iopub.status.idle": "2021-02-15T21:07:37.129648Z",
     "shell.execute_reply": "2021-02-15T21:07:37.130277Z"
    }
   },
   "outputs": [],
   "source": [
    "outbreaks.head()"
   ]
  },
  {
   "cell_type": "code",
   "execution_count": null,
   "metadata": {
    "execution": {
     "iopub.execute_input": "2021-02-15T21:07:37.162022Z",
     "iopub.status.busy": "2021-02-15T21:07:37.160931Z",
     "iopub.status.idle": "2021-02-15T21:07:37.165097Z",
     "shell.execute_reply": "2021-02-15T21:07:37.165729Z"
    }
   },
   "outputs": [],
   "source": [
    "outbreaks.tail()"
   ]
  },
  {
   "cell_type": "code",
   "execution_count": null,
   "metadata": {
    "execution": {
     "iopub.execute_input": "2021-02-15T21:07:37.171220Z",
     "iopub.status.busy": "2021-02-15T21:07:37.169921Z",
     "iopub.status.idle": "2021-02-15T21:07:37.174245Z",
     "shell.execute_reply": "2021-02-15T21:07:37.174944Z"
    }
   },
   "outputs": [],
   "source": [
    "outbreaks.shape"
   ]
  },
  {
   "cell_type": "code",
   "execution_count": null,
   "metadata": {
    "execution": {
     "iopub.execute_input": "2021-02-15T21:07:37.181267Z",
     "iopub.status.busy": "2021-02-15T21:07:37.180564Z",
     "iopub.status.idle": "2021-02-15T21:07:37.183312Z",
     "shell.execute_reply": "2021-02-15T21:07:37.183988Z"
    }
   },
   "outputs": [],
   "source": [
    "outbreaks = outbreaks[outbreaks.district.notnull()]"
   ]
  },
  {
   "cell_type": "code",
   "execution_count": null,
   "metadata": {
    "execution": {
     "iopub.execute_input": "2021-02-15T21:07:37.189496Z",
     "iopub.status.busy": "2021-02-15T21:07:37.188636Z",
     "iopub.status.idle": "2021-02-15T21:07:37.192683Z",
     "shell.execute_reply": "2021-02-15T21:07:37.193338Z"
    }
   },
   "outputs": [],
   "source": [
    "outbreaks.shape"
   ]
  },
  {
   "cell_type": "code",
   "execution_count": null,
   "metadata": {
    "execution": {
     "iopub.execute_input": "2021-02-15T21:07:37.202839Z",
     "iopub.status.busy": "2021-02-15T21:07:37.201994Z",
     "iopub.status.idle": "2021-02-15T21:07:37.212647Z",
     "shell.execute_reply": "2021-02-15T21:07:37.213358Z"
    }
   },
   "outputs": [],
   "source": [
    "outbreaks_mapped = pd.merge(states_districts, outbreaks, how='right', on='district')[['state', 'district', 'start_date_year', 'start_date_month', 'season', 'outbreak', 'geometry']].reset_index(drop=True)"
   ]
  },
  {
   "cell_type": "code",
   "execution_count": null,
   "metadata": {
    "execution": {
     "iopub.execute_input": "2021-02-15T21:07:37.218981Z",
     "iopub.status.busy": "2021-02-15T21:07:37.218075Z",
     "iopub.status.idle": "2021-02-15T21:07:37.223392Z",
     "shell.execute_reply": "2021-02-15T21:07:37.222350Z"
    }
   },
   "outputs": [],
   "source": [
    "outbreaks_mapped.shape"
   ]
  },
  {
   "cell_type": "code",
   "execution_count": null,
   "metadata": {
    "execution": {
     "iopub.execute_input": "2021-02-15T21:07:37.235249Z",
     "iopub.status.busy": "2021-02-15T21:07:37.234557Z",
     "iopub.status.idle": "2021-02-15T21:07:37.304952Z",
     "shell.execute_reply": "2021-02-15T21:07:37.305578Z"
    }
   },
   "outputs": [],
   "source": [
    "outbreaks_mapped"
   ]
  },
  {
   "cell_type": "code",
   "execution_count": null,
   "metadata": {
    "execution": {
     "iopub.execute_input": "2021-02-15T21:07:37.314255Z",
     "iopub.status.busy": "2021-02-15T21:07:37.312705Z",
     "iopub.status.idle": "2021-02-15T21:07:37.317478Z",
     "shell.execute_reply": "2021-02-15T21:07:37.318409Z"
    }
   },
   "outputs": [],
   "source": [
    "duplicate_districts = states_districts.district.value_counts()[states_districts.district.value_counts() > 1].index.tolist()"
   ]
  },
  {
   "cell_type": "code",
   "execution_count": null,
   "metadata": {
    "execution": {
     "iopub.execute_input": "2021-02-15T21:07:37.329057Z",
     "iopub.status.busy": "2021-02-15T21:07:37.328410Z",
     "iopub.status.idle": "2021-02-15T21:07:37.530140Z",
     "shell.execute_reply": "2021-02-15T21:07:37.530783Z"
    }
   },
   "outputs": [],
   "source": [
    "outbreaks_mapped[outbreaks_mapped.district.isin(duplicate_districts)].sort_values('district')"
   ]
  },
  {
   "cell_type": "code",
   "execution_count": null,
   "metadata": {
    "execution": {
     "iopub.execute_input": "2021-02-15T21:07:37.560389Z",
     "iopub.status.busy": "2021-02-15T21:07:37.559285Z",
     "iopub.status.idle": "2021-02-15T21:07:37.564427Z",
     "shell.execute_reply": "2021-02-15T21:07:37.565540Z"
    }
   },
   "outputs": [],
   "source": [
    "outbreaks[(outbreaks.district == 'bijapur') & (outbreaks.start_date_month == '07')] # karnataka"
   ]
  },
  {
   "cell_type": "code",
   "execution_count": null,
   "metadata": {
    "execution": {
     "iopub.execute_input": "2021-02-15T21:07:37.596947Z",
     "iopub.status.busy": "2021-02-15T21:07:37.596114Z",
     "iopub.status.idle": "2021-02-15T21:07:37.599679Z",
     "shell.execute_reply": "2021-02-15T21:07:37.600302Z"
    }
   },
   "outputs": [],
   "source": [
    "outbreaks[(outbreaks.district == 'bijapur') & (outbreaks.start_date_month == '08')] # karnataka"
   ]
  },
  {
   "cell_type": "code",
   "execution_count": null,
   "metadata": {
    "execution": {
     "iopub.execute_input": "2021-02-15T21:07:37.629768Z",
     "iopub.status.busy": "2021-02-15T21:07:37.628570Z",
     "iopub.status.idle": "2021-02-15T21:07:37.633082Z",
     "shell.execute_reply": "2021-02-15T21:07:37.632422Z"
    }
   },
   "outputs": [],
   "source": [
    "outbreaks[(outbreaks.district == 'raigarh') & (outbreaks.start_date_month == '07')] # maharashtra"
   ]
  },
  {
   "cell_type": "code",
   "execution_count": null,
   "metadata": {
    "execution": {
     "iopub.execute_input": "2021-02-15T21:07:37.660579Z",
     "iopub.status.busy": "2021-02-15T21:07:37.659196Z",
     "iopub.status.idle": "2021-02-15T21:07:37.662892Z",
     "shell.execute_reply": "2021-02-15T21:07:37.663518Z"
    }
   },
   "outputs": [],
   "source": [
    "outbreaks[(outbreaks.district == 'raigarh') & (outbreaks.start_date_month == '03')] # maharashtra"
   ]
  },
  {
   "cell_type": "code",
   "execution_count": null,
   "metadata": {
    "execution": {
     "iopub.execute_input": "2021-02-15T21:07:37.672056Z",
     "iopub.status.busy": "2021-02-15T21:07:37.671106Z",
     "iopub.status.idle": "2021-02-15T21:07:37.674094Z",
     "shell.execute_reply": "2021-02-15T21:07:37.673388Z"
    }
   },
   "outputs": [],
   "source": [
    "outbreaks_mapped.drop(outbreaks_mapped[(outbreaks_mapped.state == 'chhattisgarh') & (outbreaks_mapped.district.isin(['bijapur', 'raigarh']))].index, inplace=True)"
   ]
  },
  {
   "cell_type": "code",
   "execution_count": null,
   "metadata": {
    "execution": {
     "iopub.execute_input": "2021-02-15T21:07:37.679744Z",
     "iopub.status.busy": "2021-02-15T21:07:37.678611Z",
     "iopub.status.idle": "2021-02-15T21:07:37.682684Z",
     "shell.execute_reply": "2021-02-15T21:07:37.683689Z"
    }
   },
   "outputs": [],
   "source": [
    "outbreaks_mapped.shape"
   ]
  },
  {
   "cell_type": "code",
   "execution_count": null,
   "metadata": {
    "execution": {
     "iopub.execute_input": "2021-02-15T21:07:37.693239Z",
     "iopub.status.busy": "2021-02-15T21:07:37.691566Z",
     "iopub.status.idle": "2021-02-15T21:07:37.890642Z",
     "shell.execute_reply": "2021-02-15T21:07:37.891295Z"
    }
   },
   "outputs": [],
   "source": [
    "outbreaks_mapped.drop_duplicates().shape"
   ]
  },
  {
   "cell_type": "code",
   "execution_count": null,
   "metadata": {},
   "outputs": [],
   "source": [
    "outbreaks_mapped.drop_duplicates().reset_index(drop=True).to_file('../data/cholera_outbreaks/monthly_cholera_outbreaks_per_district_2010_2015.shp')"
   ]
  }
 ],
 "metadata": {
  "kernelspec": {
   "display_name": "Python 3",
   "language": "python",
   "name": "python3"
  },
  "language_info": {
   "codemirror_mode": {
    "name": "ipython",
    "version": 3
   },
   "file_extension": ".py",
   "mimetype": "text/x-python",
   "name": "python",
   "nbconvert_exporter": "python",
   "pygments_lexer": "ipython3",
   "version": "3.7.6"
  }
 },
 "nbformat": 4,
 "nbformat_minor": 4
}
